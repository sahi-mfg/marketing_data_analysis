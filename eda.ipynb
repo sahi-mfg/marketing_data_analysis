{
 "cells": [
  {
   "cell_type": "markdown",
   "metadata": {},
   "source": [
    "## Problématique\n",
    "\n",
    "Quels sont les segments de clients les plus rentables en\n",
    "fonction de leurs interactions avec des campagnes ?"
   ]
  },
  {
   "cell_type": "code",
   "execution_count": 1,
   "metadata": {},
   "outputs": [],
   "source": [
    "import pandas as pd # type: ignore\n",
    "import seaborn as sns  # type: ignore\n",
    "import plotly.express as px # type: ignore\n",
    "\n",
    "pd.set_option('display.max_columns', None)\n",
    "sns.set_style(\"ticks\")\n"
   ]
  },
  {
   "cell_type": "code",
   "execution_count": 2,
   "metadata": {},
   "outputs": [],
   "source": [
    "data = pd.read_csv(\"data/marketing_campaign.csv\", sep=\";\")"
   ]
  },
  {
   "cell_type": "markdown",
   "metadata": {},
   "source": [
    "## Examen initial des données"
   ]
  },
  {
   "cell_type": "code",
   "execution_count": 3,
   "metadata": {},
   "outputs": [
    {
     "name": "stdout",
     "output_type": "stream",
     "text": [
      "5 premières lignes du dataset\n"
     ]
    },
    {
     "data": {
      "text/html": [
       "<div>\n",
       "<style scoped>\n",
       "    .dataframe tbody tr th:only-of-type {\n",
       "        vertical-align: middle;\n",
       "    }\n",
       "\n",
       "    .dataframe tbody tr th {\n",
       "        vertical-align: top;\n",
       "    }\n",
       "\n",
       "    .dataframe thead th {\n",
       "        text-align: right;\n",
       "    }\n",
       "</style>\n",
       "<table border=\"1\" class=\"dataframe\">\n",
       "  <thead>\n",
       "    <tr style=\"text-align: right;\">\n",
       "      <th></th>\n",
       "      <th>ID</th>\n",
       "      <th>Year_Birth</th>\n",
       "      <th>Education</th>\n",
       "      <th>Marital_Status</th>\n",
       "      <th>Income</th>\n",
       "      <th>Kidhome</th>\n",
       "      <th>Teenhome</th>\n",
       "      <th>Dt_Customer</th>\n",
       "      <th>Recency</th>\n",
       "      <th>MntWines</th>\n",
       "      <th>MntFruits</th>\n",
       "      <th>MntMeatProducts</th>\n",
       "      <th>MntFishProducts</th>\n",
       "      <th>MntSweetProducts</th>\n",
       "      <th>MntGoldProds</th>\n",
       "      <th>NumDealsPurchases</th>\n",
       "      <th>NumWebPurchases</th>\n",
       "      <th>NumCatalogPurchases</th>\n",
       "      <th>NumStorePurchases</th>\n",
       "      <th>NumWebVisitsMonth</th>\n",
       "      <th>AcceptedCmp3</th>\n",
       "      <th>AcceptedCmp4</th>\n",
       "      <th>AcceptedCmp5</th>\n",
       "      <th>AcceptedCmp1</th>\n",
       "      <th>AcceptedCmp2</th>\n",
       "      <th>Complain</th>\n",
       "      <th>Z_CostContact</th>\n",
       "      <th>Z_Revenue</th>\n",
       "      <th>Response</th>\n",
       "    </tr>\n",
       "  </thead>\n",
       "  <tbody>\n",
       "    <tr>\n",
       "      <th>0</th>\n",
       "      <td>5524</td>\n",
       "      <td>1957</td>\n",
       "      <td>Graduation</td>\n",
       "      <td>Single</td>\n",
       "      <td>58138.0</td>\n",
       "      <td>0</td>\n",
       "      <td>0</td>\n",
       "      <td>2012-09-04</td>\n",
       "      <td>58</td>\n",
       "      <td>635</td>\n",
       "      <td>88</td>\n",
       "      <td>546</td>\n",
       "      <td>172</td>\n",
       "      <td>88</td>\n",
       "      <td>88</td>\n",
       "      <td>3</td>\n",
       "      <td>8</td>\n",
       "      <td>10</td>\n",
       "      <td>4</td>\n",
       "      <td>7</td>\n",
       "      <td>0</td>\n",
       "      <td>0</td>\n",
       "      <td>0</td>\n",
       "      <td>0</td>\n",
       "      <td>0</td>\n",
       "      <td>0</td>\n",
       "      <td>3</td>\n",
       "      <td>11</td>\n",
       "      <td>1</td>\n",
       "    </tr>\n",
       "    <tr>\n",
       "      <th>1</th>\n",
       "      <td>2174</td>\n",
       "      <td>1954</td>\n",
       "      <td>Graduation</td>\n",
       "      <td>Single</td>\n",
       "      <td>46344.0</td>\n",
       "      <td>1</td>\n",
       "      <td>1</td>\n",
       "      <td>2014-03-08</td>\n",
       "      <td>38</td>\n",
       "      <td>11</td>\n",
       "      <td>1</td>\n",
       "      <td>6</td>\n",
       "      <td>2</td>\n",
       "      <td>1</td>\n",
       "      <td>6</td>\n",
       "      <td>2</td>\n",
       "      <td>1</td>\n",
       "      <td>1</td>\n",
       "      <td>2</td>\n",
       "      <td>5</td>\n",
       "      <td>0</td>\n",
       "      <td>0</td>\n",
       "      <td>0</td>\n",
       "      <td>0</td>\n",
       "      <td>0</td>\n",
       "      <td>0</td>\n",
       "      <td>3</td>\n",
       "      <td>11</td>\n",
       "      <td>0</td>\n",
       "    </tr>\n",
       "    <tr>\n",
       "      <th>2</th>\n",
       "      <td>4141</td>\n",
       "      <td>1965</td>\n",
       "      <td>Graduation</td>\n",
       "      <td>Together</td>\n",
       "      <td>71613.0</td>\n",
       "      <td>0</td>\n",
       "      <td>0</td>\n",
       "      <td>2013-08-21</td>\n",
       "      <td>26</td>\n",
       "      <td>426</td>\n",
       "      <td>49</td>\n",
       "      <td>127</td>\n",
       "      <td>111</td>\n",
       "      <td>21</td>\n",
       "      <td>42</td>\n",
       "      <td>1</td>\n",
       "      <td>8</td>\n",
       "      <td>2</td>\n",
       "      <td>10</td>\n",
       "      <td>4</td>\n",
       "      <td>0</td>\n",
       "      <td>0</td>\n",
       "      <td>0</td>\n",
       "      <td>0</td>\n",
       "      <td>0</td>\n",
       "      <td>0</td>\n",
       "      <td>3</td>\n",
       "      <td>11</td>\n",
       "      <td>0</td>\n",
       "    </tr>\n",
       "    <tr>\n",
       "      <th>3</th>\n",
       "      <td>6182</td>\n",
       "      <td>1984</td>\n",
       "      <td>Graduation</td>\n",
       "      <td>Together</td>\n",
       "      <td>26646.0</td>\n",
       "      <td>1</td>\n",
       "      <td>0</td>\n",
       "      <td>2014-02-10</td>\n",
       "      <td>26</td>\n",
       "      <td>11</td>\n",
       "      <td>4</td>\n",
       "      <td>20</td>\n",
       "      <td>10</td>\n",
       "      <td>3</td>\n",
       "      <td>5</td>\n",
       "      <td>2</td>\n",
       "      <td>2</td>\n",
       "      <td>0</td>\n",
       "      <td>4</td>\n",
       "      <td>6</td>\n",
       "      <td>0</td>\n",
       "      <td>0</td>\n",
       "      <td>0</td>\n",
       "      <td>0</td>\n",
       "      <td>0</td>\n",
       "      <td>0</td>\n",
       "      <td>3</td>\n",
       "      <td>11</td>\n",
       "      <td>0</td>\n",
       "    </tr>\n",
       "    <tr>\n",
       "      <th>4</th>\n",
       "      <td>5324</td>\n",
       "      <td>1981</td>\n",
       "      <td>PhD</td>\n",
       "      <td>Married</td>\n",
       "      <td>58293.0</td>\n",
       "      <td>1</td>\n",
       "      <td>0</td>\n",
       "      <td>2014-01-19</td>\n",
       "      <td>94</td>\n",
       "      <td>173</td>\n",
       "      <td>43</td>\n",
       "      <td>118</td>\n",
       "      <td>46</td>\n",
       "      <td>27</td>\n",
       "      <td>15</td>\n",
       "      <td>5</td>\n",
       "      <td>5</td>\n",
       "      <td>3</td>\n",
       "      <td>6</td>\n",
       "      <td>5</td>\n",
       "      <td>0</td>\n",
       "      <td>0</td>\n",
       "      <td>0</td>\n",
       "      <td>0</td>\n",
       "      <td>0</td>\n",
       "      <td>0</td>\n",
       "      <td>3</td>\n",
       "      <td>11</td>\n",
       "      <td>0</td>\n",
       "    </tr>\n",
       "  </tbody>\n",
       "</table>\n",
       "</div>"
      ],
      "text/plain": [
       "     ID  Year_Birth   Education Marital_Status   Income  Kidhome  Teenhome  \\\n",
       "0  5524        1957  Graduation         Single  58138.0        0         0   \n",
       "1  2174        1954  Graduation         Single  46344.0        1         1   \n",
       "2  4141        1965  Graduation       Together  71613.0        0         0   \n",
       "3  6182        1984  Graduation       Together  26646.0        1         0   \n",
       "4  5324        1981         PhD        Married  58293.0        1         0   \n",
       "\n",
       "  Dt_Customer  Recency  MntWines  MntFruits  MntMeatProducts  MntFishProducts  \\\n",
       "0  2012-09-04       58       635         88              546              172   \n",
       "1  2014-03-08       38        11          1                6                2   \n",
       "2  2013-08-21       26       426         49              127              111   \n",
       "3  2014-02-10       26        11          4               20               10   \n",
       "4  2014-01-19       94       173         43              118               46   \n",
       "\n",
       "   MntSweetProducts  MntGoldProds  NumDealsPurchases  NumWebPurchases  \\\n",
       "0                88            88                  3                8   \n",
       "1                 1             6                  2                1   \n",
       "2                21            42                  1                8   \n",
       "3                 3             5                  2                2   \n",
       "4                27            15                  5                5   \n",
       "\n",
       "   NumCatalogPurchases  NumStorePurchases  NumWebVisitsMonth  AcceptedCmp3  \\\n",
       "0                   10                  4                  7             0   \n",
       "1                    1                  2                  5             0   \n",
       "2                    2                 10                  4             0   \n",
       "3                    0                  4                  6             0   \n",
       "4                    3                  6                  5             0   \n",
       "\n",
       "   AcceptedCmp4  AcceptedCmp5  AcceptedCmp1  AcceptedCmp2  Complain  \\\n",
       "0             0             0             0             0         0   \n",
       "1             0             0             0             0         0   \n",
       "2             0             0             0             0         0   \n",
       "3             0             0             0             0         0   \n",
       "4             0             0             0             0         0   \n",
       "\n",
       "   Z_CostContact  Z_Revenue  Response  \n",
       "0              3         11         1  \n",
       "1              3         11         0  \n",
       "2              3         11         0  \n",
       "3              3         11         0  \n",
       "4              3         11         0  "
      ]
     },
     "execution_count": 3,
     "metadata": {},
     "output_type": "execute_result"
    }
   ],
   "source": [
    "print(\"5 premières lignes du dataset\")\n",
    "data.head()"
   ]
  },
  {
   "cell_type": "code",
   "execution_count": 4,
   "metadata": {},
   "outputs": [
    {
     "name": "stdout",
     "output_type": "stream",
     "text": [
      "5 dernières lignes du dataset\n"
     ]
    },
    {
     "data": {
      "text/html": [
       "<div>\n",
       "<style scoped>\n",
       "    .dataframe tbody tr th:only-of-type {\n",
       "        vertical-align: middle;\n",
       "    }\n",
       "\n",
       "    .dataframe tbody tr th {\n",
       "        vertical-align: top;\n",
       "    }\n",
       "\n",
       "    .dataframe thead th {\n",
       "        text-align: right;\n",
       "    }\n",
       "</style>\n",
       "<table border=\"1\" class=\"dataframe\">\n",
       "  <thead>\n",
       "    <tr style=\"text-align: right;\">\n",
       "      <th></th>\n",
       "      <th>ID</th>\n",
       "      <th>Year_Birth</th>\n",
       "      <th>Education</th>\n",
       "      <th>Marital_Status</th>\n",
       "      <th>Income</th>\n",
       "      <th>Kidhome</th>\n",
       "      <th>Teenhome</th>\n",
       "      <th>Dt_Customer</th>\n",
       "      <th>Recency</th>\n",
       "      <th>MntWines</th>\n",
       "      <th>MntFruits</th>\n",
       "      <th>MntMeatProducts</th>\n",
       "      <th>MntFishProducts</th>\n",
       "      <th>MntSweetProducts</th>\n",
       "      <th>MntGoldProds</th>\n",
       "      <th>NumDealsPurchases</th>\n",
       "      <th>NumWebPurchases</th>\n",
       "      <th>NumCatalogPurchases</th>\n",
       "      <th>NumStorePurchases</th>\n",
       "      <th>NumWebVisitsMonth</th>\n",
       "      <th>AcceptedCmp3</th>\n",
       "      <th>AcceptedCmp4</th>\n",
       "      <th>AcceptedCmp5</th>\n",
       "      <th>AcceptedCmp1</th>\n",
       "      <th>AcceptedCmp2</th>\n",
       "      <th>Complain</th>\n",
       "      <th>Z_CostContact</th>\n",
       "      <th>Z_Revenue</th>\n",
       "      <th>Response</th>\n",
       "    </tr>\n",
       "  </thead>\n",
       "  <tbody>\n",
       "    <tr>\n",
       "      <th>2235</th>\n",
       "      <td>10870</td>\n",
       "      <td>1967</td>\n",
       "      <td>Graduation</td>\n",
       "      <td>Married</td>\n",
       "      <td>61223.0</td>\n",
       "      <td>0</td>\n",
       "      <td>1</td>\n",
       "      <td>2013-06-13</td>\n",
       "      <td>46</td>\n",
       "      <td>709</td>\n",
       "      <td>43</td>\n",
       "      <td>182</td>\n",
       "      <td>42</td>\n",
       "      <td>118</td>\n",
       "      <td>247</td>\n",
       "      <td>2</td>\n",
       "      <td>9</td>\n",
       "      <td>3</td>\n",
       "      <td>4</td>\n",
       "      <td>5</td>\n",
       "      <td>0</td>\n",
       "      <td>0</td>\n",
       "      <td>0</td>\n",
       "      <td>0</td>\n",
       "      <td>0</td>\n",
       "      <td>0</td>\n",
       "      <td>3</td>\n",
       "      <td>11</td>\n",
       "      <td>0</td>\n",
       "    </tr>\n",
       "    <tr>\n",
       "      <th>2236</th>\n",
       "      <td>4001</td>\n",
       "      <td>1946</td>\n",
       "      <td>PhD</td>\n",
       "      <td>Together</td>\n",
       "      <td>64014.0</td>\n",
       "      <td>2</td>\n",
       "      <td>1</td>\n",
       "      <td>2014-06-10</td>\n",
       "      <td>56</td>\n",
       "      <td>406</td>\n",
       "      <td>0</td>\n",
       "      <td>30</td>\n",
       "      <td>0</td>\n",
       "      <td>0</td>\n",
       "      <td>8</td>\n",
       "      <td>7</td>\n",
       "      <td>8</td>\n",
       "      <td>2</td>\n",
       "      <td>5</td>\n",
       "      <td>7</td>\n",
       "      <td>0</td>\n",
       "      <td>0</td>\n",
       "      <td>0</td>\n",
       "      <td>1</td>\n",
       "      <td>0</td>\n",
       "      <td>0</td>\n",
       "      <td>3</td>\n",
       "      <td>11</td>\n",
       "      <td>0</td>\n",
       "    </tr>\n",
       "    <tr>\n",
       "      <th>2237</th>\n",
       "      <td>7270</td>\n",
       "      <td>1981</td>\n",
       "      <td>Graduation</td>\n",
       "      <td>Divorced</td>\n",
       "      <td>56981.0</td>\n",
       "      <td>0</td>\n",
       "      <td>0</td>\n",
       "      <td>2014-01-25</td>\n",
       "      <td>91</td>\n",
       "      <td>908</td>\n",
       "      <td>48</td>\n",
       "      <td>217</td>\n",
       "      <td>32</td>\n",
       "      <td>12</td>\n",
       "      <td>24</td>\n",
       "      <td>1</td>\n",
       "      <td>2</td>\n",
       "      <td>3</td>\n",
       "      <td>13</td>\n",
       "      <td>6</td>\n",
       "      <td>0</td>\n",
       "      <td>1</td>\n",
       "      <td>0</td>\n",
       "      <td>0</td>\n",
       "      <td>0</td>\n",
       "      <td>0</td>\n",
       "      <td>3</td>\n",
       "      <td>11</td>\n",
       "      <td>0</td>\n",
       "    </tr>\n",
       "    <tr>\n",
       "      <th>2238</th>\n",
       "      <td>8235</td>\n",
       "      <td>1956</td>\n",
       "      <td>Master</td>\n",
       "      <td>Together</td>\n",
       "      <td>69245.0</td>\n",
       "      <td>0</td>\n",
       "      <td>1</td>\n",
       "      <td>2014-01-24</td>\n",
       "      <td>8</td>\n",
       "      <td>428</td>\n",
       "      <td>30</td>\n",
       "      <td>214</td>\n",
       "      <td>80</td>\n",
       "      <td>30</td>\n",
       "      <td>61</td>\n",
       "      <td>2</td>\n",
       "      <td>6</td>\n",
       "      <td>5</td>\n",
       "      <td>10</td>\n",
       "      <td>3</td>\n",
       "      <td>0</td>\n",
       "      <td>0</td>\n",
       "      <td>0</td>\n",
       "      <td>0</td>\n",
       "      <td>0</td>\n",
       "      <td>0</td>\n",
       "      <td>3</td>\n",
       "      <td>11</td>\n",
       "      <td>0</td>\n",
       "    </tr>\n",
       "    <tr>\n",
       "      <th>2239</th>\n",
       "      <td>9405</td>\n",
       "      <td>1954</td>\n",
       "      <td>PhD</td>\n",
       "      <td>Married</td>\n",
       "      <td>52869.0</td>\n",
       "      <td>1</td>\n",
       "      <td>1</td>\n",
       "      <td>2012-10-15</td>\n",
       "      <td>40</td>\n",
       "      <td>84</td>\n",
       "      <td>3</td>\n",
       "      <td>61</td>\n",
       "      <td>2</td>\n",
       "      <td>1</td>\n",
       "      <td>21</td>\n",
       "      <td>3</td>\n",
       "      <td>3</td>\n",
       "      <td>1</td>\n",
       "      <td>4</td>\n",
       "      <td>7</td>\n",
       "      <td>0</td>\n",
       "      <td>0</td>\n",
       "      <td>0</td>\n",
       "      <td>0</td>\n",
       "      <td>0</td>\n",
       "      <td>0</td>\n",
       "      <td>3</td>\n",
       "      <td>11</td>\n",
       "      <td>1</td>\n",
       "    </tr>\n",
       "  </tbody>\n",
       "</table>\n",
       "</div>"
      ],
      "text/plain": [
       "         ID  Year_Birth   Education Marital_Status   Income  Kidhome  \\\n",
       "2235  10870        1967  Graduation        Married  61223.0        0   \n",
       "2236   4001        1946         PhD       Together  64014.0        2   \n",
       "2237   7270        1981  Graduation       Divorced  56981.0        0   \n",
       "2238   8235        1956      Master       Together  69245.0        0   \n",
       "2239   9405        1954         PhD        Married  52869.0        1   \n",
       "\n",
       "      Teenhome Dt_Customer  Recency  MntWines  MntFruits  MntMeatProducts  \\\n",
       "2235         1  2013-06-13       46       709         43              182   \n",
       "2236         1  2014-06-10       56       406          0               30   \n",
       "2237         0  2014-01-25       91       908         48              217   \n",
       "2238         1  2014-01-24        8       428         30              214   \n",
       "2239         1  2012-10-15       40        84          3               61   \n",
       "\n",
       "      MntFishProducts  MntSweetProducts  MntGoldProds  NumDealsPurchases  \\\n",
       "2235               42               118           247                  2   \n",
       "2236                0                 0             8                  7   \n",
       "2237               32                12            24                  1   \n",
       "2238               80                30            61                  2   \n",
       "2239                2                 1            21                  3   \n",
       "\n",
       "      NumWebPurchases  NumCatalogPurchases  NumStorePurchases  \\\n",
       "2235                9                    3                  4   \n",
       "2236                8                    2                  5   \n",
       "2237                2                    3                 13   \n",
       "2238                6                    5                 10   \n",
       "2239                3                    1                  4   \n",
       "\n",
       "      NumWebVisitsMonth  AcceptedCmp3  AcceptedCmp4  AcceptedCmp5  \\\n",
       "2235                  5             0             0             0   \n",
       "2236                  7             0             0             0   \n",
       "2237                  6             0             1             0   \n",
       "2238                  3             0             0             0   \n",
       "2239                  7             0             0             0   \n",
       "\n",
       "      AcceptedCmp1  AcceptedCmp2  Complain  Z_CostContact  Z_Revenue  Response  \n",
       "2235             0             0         0              3         11         0  \n",
       "2236             1             0         0              3         11         0  \n",
       "2237             0             0         0              3         11         0  \n",
       "2238             0             0         0              3         11         0  \n",
       "2239             0             0         0              3         11         1  "
      ]
     },
     "execution_count": 4,
     "metadata": {},
     "output_type": "execute_result"
    }
   ],
   "source": [
    "print(\"5 dernières lignes du dataset\")\n",
    "data.tail()"
   ]
  },
  {
   "cell_type": "code",
   "execution_count": 5,
   "metadata": {},
   "outputs": [
    {
     "name": "stdout",
     "output_type": "stream",
     "text": [
      "Taille du dataset: (2240, 29)\n"
     ]
    }
   ],
   "source": [
    "print(f\"Taille du dataset: {data.shape}\")"
   ]
  },
  {
   "cell_type": "code",
   "execution_count": 6,
   "metadata": {},
   "outputs": [
    {
     "name": "stdout",
     "output_type": "stream",
     "text": [
      "Infos sur le dataset\n",
      "<class 'pandas.core.frame.DataFrame'>\n",
      "RangeIndex: 2240 entries, 0 to 2239\n",
      "Data columns (total 29 columns):\n",
      " #   Column               Non-Null Count  Dtype  \n",
      "---  ------               --------------  -----  \n",
      " 0   ID                   2240 non-null   int64  \n",
      " 1   Year_Birth           2240 non-null   int64  \n",
      " 2   Education            2240 non-null   object \n",
      " 3   Marital_Status       2240 non-null   object \n",
      " 4   Income               2216 non-null   float64\n",
      " 5   Kidhome              2240 non-null   int64  \n",
      " 6   Teenhome             2240 non-null   int64  \n",
      " 7   Dt_Customer          2240 non-null   object \n",
      " 8   Recency              2240 non-null   int64  \n",
      " 9   MntWines             2240 non-null   int64  \n",
      " 10  MntFruits            2240 non-null   int64  \n",
      " 11  MntMeatProducts      2240 non-null   int64  \n",
      " 12  MntFishProducts      2240 non-null   int64  \n",
      " 13  MntSweetProducts     2240 non-null   int64  \n",
      " 14  MntGoldProds         2240 non-null   int64  \n",
      " 15  NumDealsPurchases    2240 non-null   int64  \n",
      " 16  NumWebPurchases      2240 non-null   int64  \n",
      " 17  NumCatalogPurchases  2240 non-null   int64  \n",
      " 18  NumStorePurchases    2240 non-null   int64  \n",
      " 19  NumWebVisitsMonth    2240 non-null   int64  \n",
      " 20  AcceptedCmp3         2240 non-null   int64  \n",
      " 21  AcceptedCmp4         2240 non-null   int64  \n",
      " 22  AcceptedCmp5         2240 non-null   int64  \n",
      " 23  AcceptedCmp1         2240 non-null   int64  \n",
      " 24  AcceptedCmp2         2240 non-null   int64  \n",
      " 25  Complain             2240 non-null   int64  \n",
      " 26  Z_CostContact        2240 non-null   int64  \n",
      " 27  Z_Revenue            2240 non-null   int64  \n",
      " 28  Response             2240 non-null   int64  \n",
      "dtypes: float64(1), int64(25), object(3)\n",
      "memory usage: 507.6+ KB\n"
     ]
    }
   ],
   "source": [
    "print(\"Infos sur le dataset\")\n",
    "data.info()"
   ]
  },
  {
   "cell_type": "code",
   "execution_count": 7,
   "metadata": {},
   "outputs": [
    {
     "name": "stdout",
     "output_type": "stream",
     "text": [
      "Résumé statistique du dataset\n"
     ]
    },
    {
     "data": {
      "text/html": [
       "<div>\n",
       "<style scoped>\n",
       "    .dataframe tbody tr th:only-of-type {\n",
       "        vertical-align: middle;\n",
       "    }\n",
       "\n",
       "    .dataframe tbody tr th {\n",
       "        vertical-align: top;\n",
       "    }\n",
       "\n",
       "    .dataframe thead th {\n",
       "        text-align: right;\n",
       "    }\n",
       "</style>\n",
       "<table border=\"1\" class=\"dataframe\">\n",
       "  <thead>\n",
       "    <tr style=\"text-align: right;\">\n",
       "      <th></th>\n",
       "      <th>ID</th>\n",
       "      <th>Year_Birth</th>\n",
       "      <th>Income</th>\n",
       "      <th>Kidhome</th>\n",
       "      <th>Teenhome</th>\n",
       "      <th>Recency</th>\n",
       "      <th>MntWines</th>\n",
       "      <th>MntFruits</th>\n",
       "      <th>MntMeatProducts</th>\n",
       "      <th>MntFishProducts</th>\n",
       "      <th>MntSweetProducts</th>\n",
       "      <th>MntGoldProds</th>\n",
       "      <th>NumDealsPurchases</th>\n",
       "      <th>NumWebPurchases</th>\n",
       "      <th>NumCatalogPurchases</th>\n",
       "      <th>NumStorePurchases</th>\n",
       "      <th>NumWebVisitsMonth</th>\n",
       "      <th>AcceptedCmp3</th>\n",
       "      <th>AcceptedCmp4</th>\n",
       "      <th>AcceptedCmp5</th>\n",
       "      <th>AcceptedCmp1</th>\n",
       "      <th>AcceptedCmp2</th>\n",
       "      <th>Complain</th>\n",
       "      <th>Z_CostContact</th>\n",
       "      <th>Z_Revenue</th>\n",
       "      <th>Response</th>\n",
       "    </tr>\n",
       "  </thead>\n",
       "  <tbody>\n",
       "    <tr>\n",
       "      <th>count</th>\n",
       "      <td>2240.000000</td>\n",
       "      <td>2240.000000</td>\n",
       "      <td>2216.000000</td>\n",
       "      <td>2240.000000</td>\n",
       "      <td>2240.000000</td>\n",
       "      <td>2240.000000</td>\n",
       "      <td>2240.000000</td>\n",
       "      <td>2240.000000</td>\n",
       "      <td>2240.000000</td>\n",
       "      <td>2240.000000</td>\n",
       "      <td>2240.000000</td>\n",
       "      <td>2240.000000</td>\n",
       "      <td>2240.000000</td>\n",
       "      <td>2240.000000</td>\n",
       "      <td>2240.000000</td>\n",
       "      <td>2240.000000</td>\n",
       "      <td>2240.000000</td>\n",
       "      <td>2240.000000</td>\n",
       "      <td>2240.000000</td>\n",
       "      <td>2240.000000</td>\n",
       "      <td>2240.000000</td>\n",
       "      <td>2240.000000</td>\n",
       "      <td>2240.000000</td>\n",
       "      <td>2240.0</td>\n",
       "      <td>2240.0</td>\n",
       "      <td>2240.000000</td>\n",
       "    </tr>\n",
       "    <tr>\n",
       "      <th>mean</th>\n",
       "      <td>5592.159821</td>\n",
       "      <td>1968.805804</td>\n",
       "      <td>52247.251354</td>\n",
       "      <td>0.444196</td>\n",
       "      <td>0.506250</td>\n",
       "      <td>49.109375</td>\n",
       "      <td>303.935714</td>\n",
       "      <td>26.302232</td>\n",
       "      <td>166.950000</td>\n",
       "      <td>37.525446</td>\n",
       "      <td>27.062946</td>\n",
       "      <td>44.021875</td>\n",
       "      <td>2.325000</td>\n",
       "      <td>4.084821</td>\n",
       "      <td>2.662054</td>\n",
       "      <td>5.790179</td>\n",
       "      <td>5.316518</td>\n",
       "      <td>0.072768</td>\n",
       "      <td>0.074554</td>\n",
       "      <td>0.072768</td>\n",
       "      <td>0.064286</td>\n",
       "      <td>0.013393</td>\n",
       "      <td>0.009375</td>\n",
       "      <td>3.0</td>\n",
       "      <td>11.0</td>\n",
       "      <td>0.149107</td>\n",
       "    </tr>\n",
       "    <tr>\n",
       "      <th>std</th>\n",
       "      <td>3246.662198</td>\n",
       "      <td>11.984069</td>\n",
       "      <td>25173.076661</td>\n",
       "      <td>0.538398</td>\n",
       "      <td>0.544538</td>\n",
       "      <td>28.962453</td>\n",
       "      <td>336.597393</td>\n",
       "      <td>39.773434</td>\n",
       "      <td>225.715373</td>\n",
       "      <td>54.628979</td>\n",
       "      <td>41.280498</td>\n",
       "      <td>52.167439</td>\n",
       "      <td>1.932238</td>\n",
       "      <td>2.778714</td>\n",
       "      <td>2.923101</td>\n",
       "      <td>3.250958</td>\n",
       "      <td>2.426645</td>\n",
       "      <td>0.259813</td>\n",
       "      <td>0.262728</td>\n",
       "      <td>0.259813</td>\n",
       "      <td>0.245316</td>\n",
       "      <td>0.114976</td>\n",
       "      <td>0.096391</td>\n",
       "      <td>0.0</td>\n",
       "      <td>0.0</td>\n",
       "      <td>0.356274</td>\n",
       "    </tr>\n",
       "    <tr>\n",
       "      <th>min</th>\n",
       "      <td>0.000000</td>\n",
       "      <td>1893.000000</td>\n",
       "      <td>1730.000000</td>\n",
       "      <td>0.000000</td>\n",
       "      <td>0.000000</td>\n",
       "      <td>0.000000</td>\n",
       "      <td>0.000000</td>\n",
       "      <td>0.000000</td>\n",
       "      <td>0.000000</td>\n",
       "      <td>0.000000</td>\n",
       "      <td>0.000000</td>\n",
       "      <td>0.000000</td>\n",
       "      <td>0.000000</td>\n",
       "      <td>0.000000</td>\n",
       "      <td>0.000000</td>\n",
       "      <td>0.000000</td>\n",
       "      <td>0.000000</td>\n",
       "      <td>0.000000</td>\n",
       "      <td>0.000000</td>\n",
       "      <td>0.000000</td>\n",
       "      <td>0.000000</td>\n",
       "      <td>0.000000</td>\n",
       "      <td>0.000000</td>\n",
       "      <td>3.0</td>\n",
       "      <td>11.0</td>\n",
       "      <td>0.000000</td>\n",
       "    </tr>\n",
       "    <tr>\n",
       "      <th>25%</th>\n",
       "      <td>2828.250000</td>\n",
       "      <td>1959.000000</td>\n",
       "      <td>35303.000000</td>\n",
       "      <td>0.000000</td>\n",
       "      <td>0.000000</td>\n",
       "      <td>24.000000</td>\n",
       "      <td>23.750000</td>\n",
       "      <td>1.000000</td>\n",
       "      <td>16.000000</td>\n",
       "      <td>3.000000</td>\n",
       "      <td>1.000000</td>\n",
       "      <td>9.000000</td>\n",
       "      <td>1.000000</td>\n",
       "      <td>2.000000</td>\n",
       "      <td>0.000000</td>\n",
       "      <td>3.000000</td>\n",
       "      <td>3.000000</td>\n",
       "      <td>0.000000</td>\n",
       "      <td>0.000000</td>\n",
       "      <td>0.000000</td>\n",
       "      <td>0.000000</td>\n",
       "      <td>0.000000</td>\n",
       "      <td>0.000000</td>\n",
       "      <td>3.0</td>\n",
       "      <td>11.0</td>\n",
       "      <td>0.000000</td>\n",
       "    </tr>\n",
       "    <tr>\n",
       "      <th>50%</th>\n",
       "      <td>5458.500000</td>\n",
       "      <td>1970.000000</td>\n",
       "      <td>51381.500000</td>\n",
       "      <td>0.000000</td>\n",
       "      <td>0.000000</td>\n",
       "      <td>49.000000</td>\n",
       "      <td>173.500000</td>\n",
       "      <td>8.000000</td>\n",
       "      <td>67.000000</td>\n",
       "      <td>12.000000</td>\n",
       "      <td>8.000000</td>\n",
       "      <td>24.000000</td>\n",
       "      <td>2.000000</td>\n",
       "      <td>4.000000</td>\n",
       "      <td>2.000000</td>\n",
       "      <td>5.000000</td>\n",
       "      <td>6.000000</td>\n",
       "      <td>0.000000</td>\n",
       "      <td>0.000000</td>\n",
       "      <td>0.000000</td>\n",
       "      <td>0.000000</td>\n",
       "      <td>0.000000</td>\n",
       "      <td>0.000000</td>\n",
       "      <td>3.0</td>\n",
       "      <td>11.0</td>\n",
       "      <td>0.000000</td>\n",
       "    </tr>\n",
       "    <tr>\n",
       "      <th>75%</th>\n",
       "      <td>8427.750000</td>\n",
       "      <td>1977.000000</td>\n",
       "      <td>68522.000000</td>\n",
       "      <td>1.000000</td>\n",
       "      <td>1.000000</td>\n",
       "      <td>74.000000</td>\n",
       "      <td>504.250000</td>\n",
       "      <td>33.000000</td>\n",
       "      <td>232.000000</td>\n",
       "      <td>50.000000</td>\n",
       "      <td>33.000000</td>\n",
       "      <td>56.000000</td>\n",
       "      <td>3.000000</td>\n",
       "      <td>6.000000</td>\n",
       "      <td>4.000000</td>\n",
       "      <td>8.000000</td>\n",
       "      <td>7.000000</td>\n",
       "      <td>0.000000</td>\n",
       "      <td>0.000000</td>\n",
       "      <td>0.000000</td>\n",
       "      <td>0.000000</td>\n",
       "      <td>0.000000</td>\n",
       "      <td>0.000000</td>\n",
       "      <td>3.0</td>\n",
       "      <td>11.0</td>\n",
       "      <td>0.000000</td>\n",
       "    </tr>\n",
       "    <tr>\n",
       "      <th>max</th>\n",
       "      <td>11191.000000</td>\n",
       "      <td>1996.000000</td>\n",
       "      <td>666666.000000</td>\n",
       "      <td>2.000000</td>\n",
       "      <td>2.000000</td>\n",
       "      <td>99.000000</td>\n",
       "      <td>1493.000000</td>\n",
       "      <td>199.000000</td>\n",
       "      <td>1725.000000</td>\n",
       "      <td>259.000000</td>\n",
       "      <td>263.000000</td>\n",
       "      <td>362.000000</td>\n",
       "      <td>15.000000</td>\n",
       "      <td>27.000000</td>\n",
       "      <td>28.000000</td>\n",
       "      <td>13.000000</td>\n",
       "      <td>20.000000</td>\n",
       "      <td>1.000000</td>\n",
       "      <td>1.000000</td>\n",
       "      <td>1.000000</td>\n",
       "      <td>1.000000</td>\n",
       "      <td>1.000000</td>\n",
       "      <td>1.000000</td>\n",
       "      <td>3.0</td>\n",
       "      <td>11.0</td>\n",
       "      <td>1.000000</td>\n",
       "    </tr>\n",
       "  </tbody>\n",
       "</table>\n",
       "</div>"
      ],
      "text/plain": [
       "                 ID   Year_Birth         Income      Kidhome     Teenhome  \\\n",
       "count   2240.000000  2240.000000    2216.000000  2240.000000  2240.000000   \n",
       "mean    5592.159821  1968.805804   52247.251354     0.444196     0.506250   \n",
       "std     3246.662198    11.984069   25173.076661     0.538398     0.544538   \n",
       "min        0.000000  1893.000000    1730.000000     0.000000     0.000000   \n",
       "25%     2828.250000  1959.000000   35303.000000     0.000000     0.000000   \n",
       "50%     5458.500000  1970.000000   51381.500000     0.000000     0.000000   \n",
       "75%     8427.750000  1977.000000   68522.000000     1.000000     1.000000   \n",
       "max    11191.000000  1996.000000  666666.000000     2.000000     2.000000   \n",
       "\n",
       "           Recency     MntWines    MntFruits  MntMeatProducts  \\\n",
       "count  2240.000000  2240.000000  2240.000000      2240.000000   \n",
       "mean     49.109375   303.935714    26.302232       166.950000   \n",
       "std      28.962453   336.597393    39.773434       225.715373   \n",
       "min       0.000000     0.000000     0.000000         0.000000   \n",
       "25%      24.000000    23.750000     1.000000        16.000000   \n",
       "50%      49.000000   173.500000     8.000000        67.000000   \n",
       "75%      74.000000   504.250000    33.000000       232.000000   \n",
       "max      99.000000  1493.000000   199.000000      1725.000000   \n",
       "\n",
       "       MntFishProducts  MntSweetProducts  MntGoldProds  NumDealsPurchases  \\\n",
       "count      2240.000000       2240.000000   2240.000000        2240.000000   \n",
       "mean         37.525446         27.062946     44.021875           2.325000   \n",
       "std          54.628979         41.280498     52.167439           1.932238   \n",
       "min           0.000000          0.000000      0.000000           0.000000   \n",
       "25%           3.000000          1.000000      9.000000           1.000000   \n",
       "50%          12.000000          8.000000     24.000000           2.000000   \n",
       "75%          50.000000         33.000000     56.000000           3.000000   \n",
       "max         259.000000        263.000000    362.000000          15.000000   \n",
       "\n",
       "       NumWebPurchases  NumCatalogPurchases  NumStorePurchases  \\\n",
       "count      2240.000000          2240.000000        2240.000000   \n",
       "mean          4.084821             2.662054           5.790179   \n",
       "std           2.778714             2.923101           3.250958   \n",
       "min           0.000000             0.000000           0.000000   \n",
       "25%           2.000000             0.000000           3.000000   \n",
       "50%           4.000000             2.000000           5.000000   \n",
       "75%           6.000000             4.000000           8.000000   \n",
       "max          27.000000            28.000000          13.000000   \n",
       "\n",
       "       NumWebVisitsMonth  AcceptedCmp3  AcceptedCmp4  AcceptedCmp5  \\\n",
       "count        2240.000000   2240.000000   2240.000000   2240.000000   \n",
       "mean            5.316518      0.072768      0.074554      0.072768   \n",
       "std             2.426645      0.259813      0.262728      0.259813   \n",
       "min             0.000000      0.000000      0.000000      0.000000   \n",
       "25%             3.000000      0.000000      0.000000      0.000000   \n",
       "50%             6.000000      0.000000      0.000000      0.000000   \n",
       "75%             7.000000      0.000000      0.000000      0.000000   \n",
       "max            20.000000      1.000000      1.000000      1.000000   \n",
       "\n",
       "       AcceptedCmp1  AcceptedCmp2     Complain  Z_CostContact  Z_Revenue  \\\n",
       "count   2240.000000   2240.000000  2240.000000         2240.0     2240.0   \n",
       "mean       0.064286      0.013393     0.009375            3.0       11.0   \n",
       "std        0.245316      0.114976     0.096391            0.0        0.0   \n",
       "min        0.000000      0.000000     0.000000            3.0       11.0   \n",
       "25%        0.000000      0.000000     0.000000            3.0       11.0   \n",
       "50%        0.000000      0.000000     0.000000            3.0       11.0   \n",
       "75%        0.000000      0.000000     0.000000            3.0       11.0   \n",
       "max        1.000000      1.000000     1.000000            3.0       11.0   \n",
       "\n",
       "          Response  \n",
       "count  2240.000000  \n",
       "mean      0.149107  \n",
       "std       0.356274  \n",
       "min       0.000000  \n",
       "25%       0.000000  \n",
       "50%       0.000000  \n",
       "75%       0.000000  \n",
       "max       1.000000  "
      ]
     },
     "execution_count": 7,
     "metadata": {},
     "output_type": "execute_result"
    }
   ],
   "source": [
    "print(\"Résumé statistique du dataset\")\n",
    "data.describe()"
   ]
  },
  {
   "cell_type": "code",
   "execution_count": 8,
   "metadata": {},
   "outputs": [
    {
     "name": "stdout",
     "output_type": "stream",
     "text": [
      "types de données de chaque colonne\n"
     ]
    },
    {
     "data": {
      "text/plain": [
       "ID                       int64\n",
       "Year_Birth               int64\n",
       "Education               object\n",
       "Marital_Status          object\n",
       "Income                 float64\n",
       "Kidhome                  int64\n",
       "Teenhome                 int64\n",
       "Dt_Customer             object\n",
       "Recency                  int64\n",
       "MntWines                 int64\n",
       "MntFruits                int64\n",
       "MntMeatProducts          int64\n",
       "MntFishProducts          int64\n",
       "MntSweetProducts         int64\n",
       "MntGoldProds             int64\n",
       "NumDealsPurchases        int64\n",
       "NumWebPurchases          int64\n",
       "NumCatalogPurchases      int64\n",
       "NumStorePurchases        int64\n",
       "NumWebVisitsMonth        int64\n",
       "AcceptedCmp3             int64\n",
       "AcceptedCmp4             int64\n",
       "AcceptedCmp5             int64\n",
       "AcceptedCmp1             int64\n",
       "AcceptedCmp2             int64\n",
       "Complain                 int64\n",
       "Z_CostContact            int64\n",
       "Z_Revenue                int64\n",
       "Response                 int64\n",
       "dtype: object"
      ]
     },
     "execution_count": 8,
     "metadata": {},
     "output_type": "execute_result"
    }
   ],
   "source": [
    "print(\"types de données de chaque colonne\")\n",
    "data.dtypes"
   ]
  },
  {
   "cell_type": "code",
   "execution_count": 9,
   "metadata": {},
   "outputs": [
    {
     "name": "stdout",
     "output_type": "stream",
     "text": [
      "valeurs manquantes\n"
     ]
    },
    {
     "data": {
      "text/plain": [
       "ID                      0\n",
       "Year_Birth              0\n",
       "Education               0\n",
       "Marital_Status          0\n",
       "Income                 24\n",
       "Kidhome                 0\n",
       "Teenhome                0\n",
       "Dt_Customer             0\n",
       "Recency                 0\n",
       "MntWines                0\n",
       "MntFruits               0\n",
       "MntMeatProducts         0\n",
       "MntFishProducts         0\n",
       "MntSweetProducts        0\n",
       "MntGoldProds            0\n",
       "NumDealsPurchases       0\n",
       "NumWebPurchases         0\n",
       "NumCatalogPurchases     0\n",
       "NumStorePurchases       0\n",
       "NumWebVisitsMonth       0\n",
       "AcceptedCmp3            0\n",
       "AcceptedCmp4            0\n",
       "AcceptedCmp5            0\n",
       "AcceptedCmp1            0\n",
       "AcceptedCmp2            0\n",
       "Complain                0\n",
       "Z_CostContact           0\n",
       "Z_Revenue               0\n",
       "Response                0\n",
       "dtype: int64"
      ]
     },
     "execution_count": 9,
     "metadata": {},
     "output_type": "execute_result"
    }
   ],
   "source": [
    "print(\"valeurs manquantes\")\n",
    "data.isnull().sum()"
   ]
  },
  {
   "cell_type": "markdown",
   "metadata": {},
   "source": [
    "Les données manquantes ne sont présentes que pour une seule variable: la variable `Income`. Vu que il n'y a que cette variable qui est concernée avec seulement 24 valeurs manquantes, il nous semble que la suppression des lignes avec ces valeurs manquantes n'auront pas d'impact significatif. On décide donc de supprimer les lignes avec valeurs manquantes."
   ]
  },
  {
   "cell_type": "code",
   "execution_count": 10,
   "metadata": {},
   "outputs": [],
   "source": [
    "data = data.dropna()"
   ]
  },
  {
   "cell_type": "code",
   "execution_count": 11,
   "metadata": {},
   "outputs": [
    {
     "data": {
      "text/plain": [
       "np.int64(0)"
      ]
     },
     "execution_count": 11,
     "metadata": {},
     "output_type": "execute_result"
    }
   ],
   "source": [
    "data.duplicated().sum()"
   ]
  },
  {
   "cell_type": "markdown",
   "metadata": {},
   "source": [
    "### Détection d'outliers"
   ]
  },
  {
   "cell_type": "markdown",
   "metadata": {},
   "source": [
    "des outliers semblent emerger avec la variable income. Commençons notre analyse univariée par cette variable."
   ]
  },
  {
   "cell_type": "code",
   "execution_count": 12,
   "metadata": {},
   "outputs": [
    {
     "data": {
      "application/vnd.plotly.v1+json": {
       "config": {
        "plotlyServerURL": "https://plot.ly"
       },
       "data": [
        {
         "alignmentgroup": "True",
         "hovertemplate": "Income=%{y}<extra></extra>",
         "legendgroup": "",
         "marker": {
          "color": "#636efa"
         },
         "name": "",
         "notched": false,
         "offsetgroup": "",
         "orientation": "v",
         "showlegend": false,
         "type": "box",
         "x0": " ",
         "xaxis": "x",
         "y": [
          58138,
          46344,
          71613,
          26646,
          58293,
          62513,
          55635,
          33454,
          30351,
          5648,
          7500,
          63033,
          59354,
          17323,
          82800,
          41850,
          37760,
          76995,
          33812,
          37040,
          2447,
          58607,
          65324,
          40689,
          18589,
          53359,
          38360,
          84618,
          10979,
          38620,
          40548,
          46610,
          68657,
          49389,
          67353,
          23718,
          42429,
          48948,
          80011,
          20559,
          21994,
          7500,
          79941,
          7500,
          41728,
          72550,
          65486,
          79143,
          35790,
          82582,
          66373,
          82384,
          70287,
          27938,
          55954,
          75777,
          66653,
          61823,
          67680,
          70666,
          25721,
          32474,
          88194,
          69096,
          74854,
          66991,
          65031,
          60631,
          28332,
          40246,
          75251,
          75825,
          26326,
          56046,
          29760,
          26304,
          23559,
          38620,
          81361,
          29440,
          36138,
          50388,
          79593,
          54178,
          42394,
          23626,
          30096,
          47916,
          51813,
          78497,
          50150,
          47823,
          34554,
          85693,
          65846,
          87195,
          24594,
          49096,
          52413,
          38557,
          89058,
          77298,
          68126,
          57288,
          86037,
          43974,
          50785,
          90765,
          36550,
          30753,
          21918,
          56129,
          32557,
          19510,
          30992,
          101970,
          71488,
          79607,
          54348,
          77376,
          62998,
          61331,
          73448,
          41551,
          62981,
          9548,
          33762,
          35860,
          36921,
          92859,
          65104,
          86111,
          68352,
          41883,
          59809,
          23957,
          38547,
          35688,
          49605,
          59354,
          65747,
          46344,
          34176,
          61010,
          69372,
          49967,
          60199,
          55375,
          80317,
          30523,
          70356,
          23228,
          74165,
          157243,
          43482,
          62551,
          52332,
          66951,
          26091,
          33456,
          28718,
          50447,
          53537,
          52074,
          80427,
          83837,
          38853,
          38285,
          78497,
          51650,
          16248,
          66835,
          30477,
          28249,
          25271,
          32303,
          61286,
          74068,
          45759,
          24882,
          66973,
          36640,
          38872,
          51148,
          31353,
          69661,
          80067,
          86718,
          46854,
          69142,
          75922,
          63693,
          102160,
          40637,
          18890,
          29604,
          48721,
          44794,
          64497,
          46097,
          77972,
          44377,
          46014,
          70951,
          41443,
          52195,
          83790,
          44551,
          69508,
          45204,
          72460,
          77622,
          30732,
          63887,
          42011,
          51369,
          51537,
          79930,
          34320,
          37070,
          81975,
          38590,
          15033,
          62745,
          22212,
          23661,
          79761,
          7500,
          60182,
          73455,
          64961,
          22804,
          73687,
          61074,
          31686,
          80134,
          75027,
          67546,
          65176,
          31160,
          29938,
          102692,
          26490,
          75702,
          30899,
          63342,
          45989,
          18701,
          40737,
          15287,
          69674,
          44159,
          37717,
          43776,
          38179,
          80124,
          38097,
          72940,
          22070,
          69267,
          31788,
          61905,
          29315,
          33378,
          66313,
          60714,
          77882,
          69867,
          63841,
          24480,
          51369,
          37760,
          65640,
          44319,
          30631,
          75278,
          50898,
          79946,
          35416,
          32414,
          38361,
          82497,
          16626,
          29672,
          55951,
          35388,
          42386,
          68627,
          57912,
          35246,
          58821,
          46377,
          39747,
          23976,
          80950,
          27038,
          77457,
          64100,
          42670,
          12571,
          22574,
          70893,
          54198,
          28839,
          40321,
          66503,
          30833,
          64795,
          34421,
          47025,
          64325,
          40464,
          62187,
          14849,
          27255,
          54432,
          29999,
          24072,
          33996,
          66334,
          35178,
          22010,
          62204,
          75693,
          30675,
          83003,
          83532,
          68655,
          41411,
          55212,
          59292,
          27190,
          82623,
          44300,
          84835,
          30372,
          33181,
          71113,
          71952,
          69759,
          72099,
          60000,
          38643,
          50737,
          68462,
          65073,
          46681,
          78618,
          62187,
          28442,
          37717,
          51479,
          54803,
          79530,
          31615,
          72025,
          52614,
          35684,
          48178,
          29548,
          63810,
          38578,
          46098,
          22585,
          30279,
          66426,
          30822,
          33581,
          19986,
          27421,
          35688,
          36143,
          10245,
          43795,
          63381,
          38823,
          83664,
          90300,
          62499,
          74293,
          51012,
          70777,
          68682,
          43824,
          15345,
          23442,
          14515,
          31395,
          75276,
          42373,
          30507,
          55521,
          48006,
          27213,
          65808,
          30351,
          50437,
          23616,
          53858,
          66465,
          46923,
          75072,
          75865,
          19789,
          80134,
          91065,
          49505,
          37401,
          30096,
          18492,
          82584,
          93027,
          48686,
          92910,
          75433,
          10404,
          61314,
          84865,
          42387,
          67309,
          75236,
          30015,
          50943,
          67272,
          51529,
          32011,
          7500,
          28691,
          56223,
          18100,
          30279,
          20130,
          23295,
          42618,
          81246,
          24027,
          55707,
          57959,
          56796,
          36230,
          70829,
          65991,
          38988,
          89572,
          42207,
          50300,
          66664,
          60597,
          70165,
          50520,
          80124,
          33183,
          66582,
          75261,
          31880,
          53790,
          49269,
          61456,
          37406,
          56937,
          38415,
          20518,
          62503,
          41644,
          55842,
          62010,
          41124,
          38961,
          37760,
          32233,
          43057,
          83151,
          78825,
          65104,
          60093,
          14045,
          28457,
          78952,
          46310,
          76005,
          58308,
          55614,
          59432,
          55563,
          78642,
          67911,
          65275,
          27203,
          48330,
          24279,
          64355,
          50943,
          53653,
          65665,
          81217,
          34935,
          61250,
          39665,
          60152,
          48920,
          89120,
          44124,
          81169,
          36443,
          26095,
          71367,
          80184,
          30630,
          73454,
          42691,
          70503,
          25545,
          32880,
          77863,
          50353,
          61839,
          49154,
          47682,
          72679,
          57954,
          65316,
          28567,
          47352,
          44931,
          76982,
          57247,
          22944,
          25315,
          43638,
          42710,
          84169,
          54058,
          24683,
          85620,
          47850,
          19514,
          27159,
          39548,
          21474,
          60504,
          22419,
          81698,
          43462,
          54880,
          79908,
          15315,
          87771,
          33039,
          81741,
          71499,
          62466,
          48799,
          52157,
          66565,
          29298,
          47691,
          38200,
          44989,
          38443,
          38593,
          64413,
          36959,
          61996,
          51287,
          13260,
          47472,
          54603,
          45207,
          40689,
          47821,
          27450,
          39453,
          26850,
          79800,
          61794,
          53863,
          24221,
          39684,
          92163,
          69882,
          33178,
          59973,
          17459,
          23910,
          42169,
          26224,
          31089,
          30081,
          62807,
          72906,
          61467,
          49618,
          21888,
          42429,
          26150,
          30801,
          81168,
          26877,
          45006,
          18978,
          22574,
          48240,
          45837,
          35791,
          162397,
          54162,
          30522,
          54456,
          31632,
          72298,
          36975,
          72635,
          13624,
          84196,
          70971,
          34487,
          28769,
          69084,
          65488,
          62466,
          32218,
          83917,
          46102,
          84574,
          56181,
          63120,
          73691,
          63381,
          76140,
          62859,
          45906,
          77632,
          46463,
          105471,
          55282,
          78710,
          66886,
          98777,
          29103,
          67445,
          50616,
          49431,
          153924,
          61278,
          26490,
          73059,
          46734,
          56253,
          19986,
          58330,
          25965,
          14661,
          18690,
          45068,
          21063,
          29187,
          54690,
          59304,
          59247,
          66731,
          77353,
          52614,
          26751,
          81300,
          70337,
          36145,
          65295,
          68118,
          68743,
          41039,
          38946,
          65777,
          66476,
          86857,
          160803,
          77845,
          69476,
          50611,
          61209,
          42315,
          13084,
          47570,
          61923,
          34824,
          26518,
          45938,
          78468,
          78901,
          71427,
          71022,
          90247,
          41335,
          71952,
          35682,
          43185,
          66375,
          35178,
          25252,
          55250,
          33249,
          58398,
          50272,
          76618,
          87305,
          25851,
          58710,
          45160,
          74806,
          59111,
          18988,
          72190,
          7500,
          44794,
          80395,
          75012,
          56962,
          89891,
          35946,
          53593,
          66373,
          45072,
          89694,
          72025,
          67432,
          70545,
          17487,
          62882,
          64108,
          34941,
          48767,
          38702,
          82224,
          83844,
          17003,
          71163,
          33697,
          63564,
          83443,
          51518,
          58330,
          80952,
          75507,
          63855,
          62220,
          58512,
          40662,
          38829,
          35523,
          79146,
          78285,
          31626,
          75127,
          48726,
          74985,
          67430,
          46891,
          62058,
          72063,
          78939,
          42720,
          33622,
          6835,
          41452,
          40760,
          74250,
          51124,
          72258,
          71466,
          36283,
          20587,
          30467,
          31590,
          20425,
          17144,
          42564,
          43783,
          40780,
          62847,
          82017,
          16813,
          51267,
          46524,
          45183,
          70421,
          60161,
          73926,
          19329,
          61872,
          46984,
          34838,
          82716,
          48192,
          49681,
          56850,
          55267,
          59666,
          72504,
          26872,
          21359,
          73170,
          52750,
          91820,
          65968,
          30772,
          22507,
          65685,
          25804,
          76412,
          22063,
          57091,
          22419,
          87771,
          78353,
          93404,
          37859,
          80995,
          16529,
          55412,
          48789,
          56575,
          25130,
          35441,
          71391,
          49494,
          81702,
          45889,
          56628,
          34026,
          40049,
          34176,
          19419,
          82504,
          81205,
          61618,
          55284,
          49980,
          15072,
          49166,
          65324,
          82347,
          30843,
          46374,
          60474,
          38576,
          55357,
          37758,
          85710,
          23228,
          44602,
          7500,
          38683,
          49514,
          57906,
          43456,
          19485,
          53172,
          30545,
          70123,
          62450,
          21675,
          42395,
          61346,
          80812,
          42835,
          39922,
          86424,
          17117,
          24762,
          35797,
          36627,
          51111,
          86857,
          82072,
          46231,
          42243,
          51195,
          68092,
          31814,
          51390,
          76630,
          26868,
          48948,
          55260,
          64090,
          78331,
          37087,
          21846,
          81320,
          54137,
          66825,
          57100,
          58917,
          85072,
          86429,
          45684,
          47889,
          45921,
          78420,
          75114,
          52278,
          35641,
          95529,
          62820,
          73113,
          84169,
          42607,
          74637,
          46015,
          72354,
          39858,
          34469,
          83033,
          24401,
          77583,
          74116,
          74293,
          68397,
          79632,
          46107,
          64950,
          25443,
          75127,
          32892,
          71796,
          67536,
          55239,
          60554,
          64831,
          56067,
          82025,
          94384,
          14906,
          51563,
          57937,
          68274,
          39771,
          67893,
          27922,
          52190,
          44051,
          42767,
          46106,
          16927,
          59754,
          53700,
          59041,
          54237,
          70647,
          52597,
          41021,
          40233,
          50183,
          54753,
          92955,
          33471,
          34596,
          44010,
          84219,
          40706,
          15716,
          59052,
          80573,
          83715,
          82576,
          56962,
          35704,
          53103,
          46779,
          4861,
          33462,
          63693,
          80763,
          65352,
          82170,
          75759,
          79689,
          35340,
          85683,
          24884,
          42021,
          64449,
          64587,
          34824,
          75437,
          26091,
          52845,
          46086,
          78028,
          95169,
          56337,
          22434,
          36930,
          36130,
          65569,
          83844,
          19514,
          36736,
          77568,
          49187,
          30168,
          34053,
          38196,
          59412,
          70924,
          54165,
          32300,
          20180,
          34961,
          28440,
          64504,
          33564,
          17345,
          56320,
          28647,
          15038,
          32173,
          68316,
          74538,
          91700,
          68695,
          31056,
          79593,
          28071,
          37334,
          46423,
          37126,
          47703,
          61180,
          38998,
          8028,
          76081,
          34728,
          33168,
          33585,
          77037,
          35196,
          44529,
          70924,
          28764,
          69098,
          25959,
          27100,
          70596,
          42557,
          53312,
          72228,
          67605,
          62845,
          65196,
          42000,
          35860,
          65526,
          16860,
          83528,
          64176,
          22304,
          67023,
          32892,
          70713,
          59925,
          39722,
          46610,
          88347,
          87171,
          26907,
          50014,
          41014,
          66294,
          36715,
          79456,
          40479,
          75345,
          54233,
          24163,
          84460,
          43776,
          71691,
          85844,
          39190,
          71367,
          38578,
          57236,
          61825,
          79803,
          80910,
          27590,
          56775,
          83829,
          54210,
          38508,
          53187,
          30023,
          76045,
          50870,
          15315,
          65463,
          66480,
          76773,
          81698,
          54466,
          98777,
          16269,
          71819,
          33569,
          36262,
          22634,
          47025,
          70566,
          31605,
          52034,
          48526,
          46734,
          39552,
          86358,
          46931,
          16581,
          63998,
          67381,
          25930,
          42693,
          85606,
          72903,
          49669,
          36778,
          85696,
          10979,
          49678,
          56129,
          37155,
          21282,
          33419,
          63285,
          21255,
          42162,
          54450,
          57744,
          26576,
          57513,
          68142,
          7500,
          83145,
          54197,
          23091,
          46049,
          56715,
          79410,
          57304,
          44375,
          54450,
          59594,
          80685,
          40344,
          62710,
          48985,
          35322,
          77142,
          81657,
          14421,
          20130,
          74214,
          66726,
          23724,
          47353,
          33444,
          54386,
          28510,
          90638,
          48070,
          43140,
          54959,
          15056,
          26954,
          22327,
          44393,
          62000,
          31497,
          45894,
          78579,
          67369,
          58401,
          62307,
          43641,
          63841,
          46891,
          70091,
          78075,
          59184,
          54809,
          58113,
          51412,
          15287,
          66636,
          50965,
          84618,
          18351,
          40451,
          36317,
          42213,
          65748,
          77044,
          74918,
          56721,
          42160,
          61559,
          33629,
          68682,
          34377,
          8940,
          26228,
          77297,
          40211,
          33438,
          75032,
          61284,
          22518,
          54730,
          38452,
          44421,
          38197,
          41986,
          28427,
          37395,
          64722,
          55249,
          84906,
          28691,
          44213,
          25707,
          59062,
          76624,
          66000,
          27683,
          1730,
          7500,
          40521,
          20427,
          65106,
          69969,
          67433,
          77766,
          74716,
          68118,
          55158,
          62972,
          74190,
          39356,
          76653,
          35860,
          90687,
          73450,
          31454,
          47139,
          83829,
          53378,
          19656,
          45579,
          85485,
          55956,
          64191,
          38808,
          57183,
          23748,
          66303,
          37368,
          40800,
          71847,
          46149,
          78687,
          49118,
          37633,
          39767,
          26997,
          33986,
          57091,
          46831,
          83151,
          52531,
          15759,
          22804,
          43050,
          42997,
          48918,
          60033,
          34043,
          57811,
          78569,
          7500,
          157733,
          94384,
          23148,
          44267,
          71626,
          60894,
          50200,
          81051,
          65169,
          59868,
          65695,
          64857,
          45143,
          74805,
          59060,
          27238,
          47009,
          46094,
          40321,
          37235,
          81843,
          46692,
          77382,
          37774,
          18393,
          72828,
          24711,
          45503,
          6560,
          71604,
          27244,
          48752,
          71434,
          90842,
          88097,
          51948,
          71853,
          35876,
          40049,
          39660,
          50127,
          43263,
          62845,
          18929,
          24367,
          33249,
          26887,
          50150,
          62061,
          85696,
          76542,
          70515,
          18227,
          69139,
          69109,
          69627,
          38136,
          62159,
          80695,
          33316,
          58554,
          17256,
          53034,
          52203,
          59601,
          75154,
          47025,
          37971,
          41335,
          67267,
          57338,
          50523,
          35791,
          50611,
          56242,
          48904,
          56243,
          21355,
          57420,
          46390,
          54342,
          20895,
          92344,
          26907,
          44964,
          75507,
          53761,
          22682,
          38887,
          41658,
          29791,
          63915,
          39996,
          26759,
          63841,
          51039,
          60544,
          65685,
          37716,
          36864,
          44511,
          36947,
          47352,
          67087,
          57045,
          36957,
          69389,
          80134,
          43142,
          80589,
          34412,
          57537,
          22634,
          51315,
          36026,
          24639,
          34578,
          65704,
          63810,
          54132,
          18690,
          28164,
          34596,
          43269,
          38741,
          31907,
          27100,
          31163,
          92533,
          34853,
          70844,
          31086,
          60544,
          20491,
          42523,
          39922,
          33402,
          36408,
          21645,
          78427,
          82657,
          51876,
          78041,
          52852,
          70038,
          69401,
          46053,
          77343,
          73892,
          40304,
          32727,
          68695,
          43300,
          26290,
          93790,
          38410,
          64866,
          57957,
          46015,
          16531,
          28072,
          49476,
          50725,
          83844,
          41145,
          67419,
          23162,
          34380,
          34704,
          94871,
          65148,
          39898,
          64857,
          59892,
          41020,
          57072,
          60474,
          62807,
          19414,
          19107,
          75484,
          70379,
          79419,
          64014,
          76998,
          49854,
          60585,
          42873,
          87679,
          57867,
          35765,
          65492,
          32952,
          53374,
          71706,
          68487,
          53253,
          31163,
          42014,
          54108,
          49667,
          63206,
          57136,
          46772,
          78931,
          53977,
          84219,
          46098,
          73538,
          79529,
          20981,
          51766,
          55759,
          33039,
          37787,
          27242,
          87188,
          69930,
          37697,
          37401,
          3502,
          58597,
          82032,
          28087,
          74004,
          19740,
          57036,
          53083,
          69283,
          46098,
          23331,
          23331,
          9255,
          67786,
          71969,
          59235,
          31928,
          74881,
          65819,
          51411,
          51983,
          42386,
          30390,
          30983,
          66033,
          37284,
          57530,
          76800,
          63943,
          76081,
          67445,
          37054,
          47175,
          31859,
          27215,
          70179,
          39922,
          49681,
          24645,
          79865,
          44322,
          47958,
          63972,
          75315,
          55517,
          75283,
          82800,
          38998,
          90638,
          27161,
          42014,
          38201,
          45203,
          81574,
          34935,
          60482,
          34633,
          78093,
          82460,
          45903,
          81361,
          35860,
          40442,
          61482,
          34968,
          75794,
          31497,
          74268,
          13724,
          45143,
          52569,
          48432,
          17144,
          36108,
          76445,
          36663,
          53843,
          90226,
          70638,
          44512,
          27116,
          54072,
          71855,
          51250,
          60432,
          65526,
          68655,
          12393,
          64509,
          33955,
          31353,
          55434,
          28359,
          57100,
          69139,
          52973,
          51717,
          18793,
          66664,
          50664,
          54414,
          54549,
          47111,
          41003,
          19444,
          36301,
          73059,
          42731,
          52854,
          22775,
          46681,
          59821,
          50002,
          69755,
          44078,
          30560,
          35924,
          64140,
          56386,
          24594,
          75774,
          39228,
          58494,
          58684,
          57136,
          56551,
          22448,
          82014,
          34213,
          157146,
          25358,
          35544,
          36634,
          62670,
          50334,
          72066,
          50729,
          34916,
          64892,
          43602,
          33996,
          41473,
          63246,
          36732,
          69084,
          77766,
          37929,
          86610,
          80141,
          72635,
          69016,
          20193,
          27573,
          15862,
          49544,
          33228,
          70440,
          38232,
          22554,
          23536,
          49413,
          42231,
          78789,
          56534,
          58350,
          81217,
          49090,
          61787,
          18169,
          24336,
          18222,
          62335,
          42033,
          86580,
          41437,
          73705,
          61064,
          38452,
          18358,
          55012,
          9722,
          38175,
          58656,
          52117,
          64813,
          54222,
          83512,
          77520,
          41154,
          80398,
          18746,
          35196,
          60230,
          22108,
          44392,
          55424,
          17688,
          92491,
          90273,
          82571,
          38513,
          16653,
          42586,
          23529,
          74881,
          71107,
          46910,
          18690,
          37244,
          82427,
          75342,
          70044,
          79146,
          77437,
          54984,
          42403,
          55761,
          37292,
          45576,
          70321,
          58086,
          81795,
          28389,
          66835,
          69901,
          80360,
          63342,
          44989,
          31859,
          51569,
          30372,
          16014,
          41120,
          39763,
          38725,
          77981,
          62905,
          13533,
          59481,
          72117,
          21955,
          67131,
          36802,
          71853,
          28249,
          47808,
          25509,
          51012,
          70596,
          85431,
          42664,
          42586,
          29760,
          28973,
          39435,
          65370,
          20194,
          42473,
          64590,
          71232,
          34600,
          46904,
          49094,
          36075,
          60839,
          77298,
          34026,
          48918,
          82122,
          37697,
          34074,
          28520,
          62535,
          36273,
          63404,
          75774,
          78416,
          75702,
          59385,
          37070,
          44689,
          53977,
          7144,
          18701,
          90369,
          63159,
          37758,
          46757,
          79734,
          63207,
          72071,
          21840,
          58582,
          72282,
          50387,
          32583,
          62568,
          44635,
          33316,
          63967,
          52513,
          25293,
          54111,
          78394,
          80739,
          22669,
          29236,
          44911,
          54693,
          48186,
          54809,
          41580,
          80336,
          47743,
          62972,
          57333,
          32313,
          84953,
          27071,
          68148,
          65735,
          86836,
          4023,
          30093,
          57705,
          25008,
          83257,
          22280,
          72159,
          64260,
          82733,
          74290,
          58217,
          21024,
          70116,
          54006,
          69063,
          11448,
          61825,
          70886,
          69109,
          60208,
          32889,
          34738,
          30538,
          82326,
          26642,
          69932,
          44503,
          60200,
          49638,
          23830,
          33051,
          72905,
          69702,
          70300,
          70643,
          30396,
          50616,
          62772,
          30298,
          52413,
          44155,
          86979,
          76532,
          42081,
          67546,
          88420,
          31158,
          61671,
          69719,
          49160,
          24882,
          90933,
          113734,
          59292,
          45759,
          22148,
          73395,
          29819,
          45688,
          62820,
          60491,
          33235,
          35701,
          31535,
          92556,
          67384,
          80573,
          77870,
          52278,
          57107,
          18929,
          36038,
          20180,
          34230,
          31878,
          70932,
          91249,
          77598,
          80982,
          22701,
          55212,
          70617,
          64849,
          62694,
          61917,
          67472,
          21059,
          29543,
          75903,
          34984,
          54998,
          54356,
          34242,
          25410,
          73356,
          28320,
          23763,
          72570,
          34529,
          70792,
          63211,
          83891,
          36065,
          39898,
          51141,
          56939,
          80872,
          72335,
          61798,
          76842,
          29478,
          46998,
          96843,
          56551,
          70053,
          71670,
          44359,
          40887,
          48877,
          74485,
          64474,
          77226,
          72643,
          85738,
          55686,
          39062,
          34600,
          40794,
          54690,
          4428,
          32632,
          38236,
          36781,
          31385,
          24570,
          25509,
          94642,
          58646,
          53201,
          21994,
          57113,
          51373,
          23477,
          58116,
          72968,
          39791,
          91712,
          94472,
          13672,
          96547,
          79205,
          56559,
          32644,
          67506,
          24206,
          28420,
          22979,
          33279,
          46423,
          30368,
          63684,
          41638,
          68805,
          65814,
          71964,
          39146,
          96876,
          34445,
          68281,
          37284,
          36790,
          27943,
          22263,
          30261,
          28587,
          43815,
          48195,
          77027,
          71322,
          32765,
          29672,
          23272,
          49912,
          7500,
          68117,
          67225,
          17649,
          55914,
          40059,
          60905,
          75330,
          60689,
          38680,
          61416,
          49767,
          83273,
          29009,
          45057,
          37150,
          43020,
          53154,
          65308,
          76467,
          81044,
          32871,
          55801,
          76320,
          36927,
          48794,
          23478,
          71128,
          70179,
          59462,
          38361,
          70038,
          42554,
          67445,
          67046,
          42192,
          77610,
          31761,
          34350,
          54591,
          71866,
          25293,
          42000,
          69520,
          64713,
          27889,
          22123,
          27803,
          51651,
          68487,
          56796,
          87000,
          79823,
          30828,
          34109,
          53367,
          22390,
          71322,
          79244,
          49912,
          48699,
          80144,
          54252,
          81929,
          76068,
          53204,
          67911,
          14796,
          78128,
          14188,
          20425,
          58646,
          72967,
          48150,
          82332,
          58275,
          44953,
          34587,
          43018,
          45736,
          66476,
          27733,
          69805,
          72217,
          25818,
          37509,
          25176,
          43586,
          53230,
          50116,
          84906,
          61286,
          82333,
          65220,
          33590,
          30992,
          72309,
          156924,
          16005,
          65487,
          58692,
          40590,
          20587,
          62637,
          29435,
          19346,
          35788,
          36997,
          23539,
          65333,
          78499,
          29732,
          41275,
          63516,
          42769,
          49572,
          69209,
          17148,
          40590,
          30560,
          32146,
          41713,
          34176,
          58482,
          59686,
          60896,
          62994,
          47320,
          74859,
          15253,
          31560,
          72071,
          91172,
          90000,
          41967,
          69263,
          65706,
          60934,
          71965,
          65210,
          79174,
          81380,
          48432,
          52914,
          38946,
          26067,
          44325,
          42523,
          26487,
          53233,
          67716,
          76234,
          84117,
          65487,
          25224,
          89616,
          40851,
          27469,
          82347,
          73803,
          8820,
          43322,
          55593,
          50501,
          37085,
          16185,
          57731,
          48432,
          73807,
          18929,
          35893,
          61014,
          32144,
          14918,
          45146,
          41769,
          88325,
          38054,
          80617,
          5305,
          36807,
          28427,
          82032,
          22775,
          40101,
          58025,
          75777,
          7500,
          33562,
          57642,
          58554,
          63777,
          57967,
          24434,
          11012,
          44802,
          26816,
          666666,
          34421,
          61223,
          64014,
          56981,
          69245,
          52869
         ],
         "y0": " ",
         "yaxis": "y"
        }
       ],
       "layout": {
        "boxmode": "group",
        "legend": {
         "tracegroupgap": 0
        },
        "margin": {
         "t": 60
        },
        "template": {
         "data": {
          "bar": [
           {
            "error_x": {
             "color": "#2a3f5f"
            },
            "error_y": {
             "color": "#2a3f5f"
            },
            "marker": {
             "line": {
              "color": "#E5ECF6",
              "width": 0.5
             },
             "pattern": {
              "fillmode": "overlay",
              "size": 10,
              "solidity": 0.2
             }
            },
            "type": "bar"
           }
          ],
          "barpolar": [
           {
            "marker": {
             "line": {
              "color": "#E5ECF6",
              "width": 0.5
             },
             "pattern": {
              "fillmode": "overlay",
              "size": 10,
              "solidity": 0.2
             }
            },
            "type": "barpolar"
           }
          ],
          "carpet": [
           {
            "aaxis": {
             "endlinecolor": "#2a3f5f",
             "gridcolor": "white",
             "linecolor": "white",
             "minorgridcolor": "white",
             "startlinecolor": "#2a3f5f"
            },
            "baxis": {
             "endlinecolor": "#2a3f5f",
             "gridcolor": "white",
             "linecolor": "white",
             "minorgridcolor": "white",
             "startlinecolor": "#2a3f5f"
            },
            "type": "carpet"
           }
          ],
          "choropleth": [
           {
            "colorbar": {
             "outlinewidth": 0,
             "ticks": ""
            },
            "type": "choropleth"
           }
          ],
          "contour": [
           {
            "colorbar": {
             "outlinewidth": 0,
             "ticks": ""
            },
            "colorscale": [
             [
              0,
              "#0d0887"
             ],
             [
              0.1111111111111111,
              "#46039f"
             ],
             [
              0.2222222222222222,
              "#7201a8"
             ],
             [
              0.3333333333333333,
              "#9c179e"
             ],
             [
              0.4444444444444444,
              "#bd3786"
             ],
             [
              0.5555555555555556,
              "#d8576b"
             ],
             [
              0.6666666666666666,
              "#ed7953"
             ],
             [
              0.7777777777777778,
              "#fb9f3a"
             ],
             [
              0.8888888888888888,
              "#fdca26"
             ],
             [
              1,
              "#f0f921"
             ]
            ],
            "type": "contour"
           }
          ],
          "contourcarpet": [
           {
            "colorbar": {
             "outlinewidth": 0,
             "ticks": ""
            },
            "type": "contourcarpet"
           }
          ],
          "heatmap": [
           {
            "colorbar": {
             "outlinewidth": 0,
             "ticks": ""
            },
            "colorscale": [
             [
              0,
              "#0d0887"
             ],
             [
              0.1111111111111111,
              "#46039f"
             ],
             [
              0.2222222222222222,
              "#7201a8"
             ],
             [
              0.3333333333333333,
              "#9c179e"
             ],
             [
              0.4444444444444444,
              "#bd3786"
             ],
             [
              0.5555555555555556,
              "#d8576b"
             ],
             [
              0.6666666666666666,
              "#ed7953"
             ],
             [
              0.7777777777777778,
              "#fb9f3a"
             ],
             [
              0.8888888888888888,
              "#fdca26"
             ],
             [
              1,
              "#f0f921"
             ]
            ],
            "type": "heatmap"
           }
          ],
          "heatmapgl": [
           {
            "colorbar": {
             "outlinewidth": 0,
             "ticks": ""
            },
            "colorscale": [
             [
              0,
              "#0d0887"
             ],
             [
              0.1111111111111111,
              "#46039f"
             ],
             [
              0.2222222222222222,
              "#7201a8"
             ],
             [
              0.3333333333333333,
              "#9c179e"
             ],
             [
              0.4444444444444444,
              "#bd3786"
             ],
             [
              0.5555555555555556,
              "#d8576b"
             ],
             [
              0.6666666666666666,
              "#ed7953"
             ],
             [
              0.7777777777777778,
              "#fb9f3a"
             ],
             [
              0.8888888888888888,
              "#fdca26"
             ],
             [
              1,
              "#f0f921"
             ]
            ],
            "type": "heatmapgl"
           }
          ],
          "histogram": [
           {
            "marker": {
             "pattern": {
              "fillmode": "overlay",
              "size": 10,
              "solidity": 0.2
             }
            },
            "type": "histogram"
           }
          ],
          "histogram2d": [
           {
            "colorbar": {
             "outlinewidth": 0,
             "ticks": ""
            },
            "colorscale": [
             [
              0,
              "#0d0887"
             ],
             [
              0.1111111111111111,
              "#46039f"
             ],
             [
              0.2222222222222222,
              "#7201a8"
             ],
             [
              0.3333333333333333,
              "#9c179e"
             ],
             [
              0.4444444444444444,
              "#bd3786"
             ],
             [
              0.5555555555555556,
              "#d8576b"
             ],
             [
              0.6666666666666666,
              "#ed7953"
             ],
             [
              0.7777777777777778,
              "#fb9f3a"
             ],
             [
              0.8888888888888888,
              "#fdca26"
             ],
             [
              1,
              "#f0f921"
             ]
            ],
            "type": "histogram2d"
           }
          ],
          "histogram2dcontour": [
           {
            "colorbar": {
             "outlinewidth": 0,
             "ticks": ""
            },
            "colorscale": [
             [
              0,
              "#0d0887"
             ],
             [
              0.1111111111111111,
              "#46039f"
             ],
             [
              0.2222222222222222,
              "#7201a8"
             ],
             [
              0.3333333333333333,
              "#9c179e"
             ],
             [
              0.4444444444444444,
              "#bd3786"
             ],
             [
              0.5555555555555556,
              "#d8576b"
             ],
             [
              0.6666666666666666,
              "#ed7953"
             ],
             [
              0.7777777777777778,
              "#fb9f3a"
             ],
             [
              0.8888888888888888,
              "#fdca26"
             ],
             [
              1,
              "#f0f921"
             ]
            ],
            "type": "histogram2dcontour"
           }
          ],
          "mesh3d": [
           {
            "colorbar": {
             "outlinewidth": 0,
             "ticks": ""
            },
            "type": "mesh3d"
           }
          ],
          "parcoords": [
           {
            "line": {
             "colorbar": {
              "outlinewidth": 0,
              "ticks": ""
             }
            },
            "type": "parcoords"
           }
          ],
          "pie": [
           {
            "automargin": true,
            "type": "pie"
           }
          ],
          "scatter": [
           {
            "fillpattern": {
             "fillmode": "overlay",
             "size": 10,
             "solidity": 0.2
            },
            "type": "scatter"
           }
          ],
          "scatter3d": [
           {
            "line": {
             "colorbar": {
              "outlinewidth": 0,
              "ticks": ""
             }
            },
            "marker": {
             "colorbar": {
              "outlinewidth": 0,
              "ticks": ""
             }
            },
            "type": "scatter3d"
           }
          ],
          "scattercarpet": [
           {
            "marker": {
             "colorbar": {
              "outlinewidth": 0,
              "ticks": ""
             }
            },
            "type": "scattercarpet"
           }
          ],
          "scattergeo": [
           {
            "marker": {
             "colorbar": {
              "outlinewidth": 0,
              "ticks": ""
             }
            },
            "type": "scattergeo"
           }
          ],
          "scattergl": [
           {
            "marker": {
             "colorbar": {
              "outlinewidth": 0,
              "ticks": ""
             }
            },
            "type": "scattergl"
           }
          ],
          "scattermapbox": [
           {
            "marker": {
             "colorbar": {
              "outlinewidth": 0,
              "ticks": ""
             }
            },
            "type": "scattermapbox"
           }
          ],
          "scatterpolar": [
           {
            "marker": {
             "colorbar": {
              "outlinewidth": 0,
              "ticks": ""
             }
            },
            "type": "scatterpolar"
           }
          ],
          "scatterpolargl": [
           {
            "marker": {
             "colorbar": {
              "outlinewidth": 0,
              "ticks": ""
             }
            },
            "type": "scatterpolargl"
           }
          ],
          "scatterternary": [
           {
            "marker": {
             "colorbar": {
              "outlinewidth": 0,
              "ticks": ""
             }
            },
            "type": "scatterternary"
           }
          ],
          "surface": [
           {
            "colorbar": {
             "outlinewidth": 0,
             "ticks": ""
            },
            "colorscale": [
             [
              0,
              "#0d0887"
             ],
             [
              0.1111111111111111,
              "#46039f"
             ],
             [
              0.2222222222222222,
              "#7201a8"
             ],
             [
              0.3333333333333333,
              "#9c179e"
             ],
             [
              0.4444444444444444,
              "#bd3786"
             ],
             [
              0.5555555555555556,
              "#d8576b"
             ],
             [
              0.6666666666666666,
              "#ed7953"
             ],
             [
              0.7777777777777778,
              "#fb9f3a"
             ],
             [
              0.8888888888888888,
              "#fdca26"
             ],
             [
              1,
              "#f0f921"
             ]
            ],
            "type": "surface"
           }
          ],
          "table": [
           {
            "cells": {
             "fill": {
              "color": "#EBF0F8"
             },
             "line": {
              "color": "white"
             }
            },
            "header": {
             "fill": {
              "color": "#C8D4E3"
             },
             "line": {
              "color": "white"
             }
            },
            "type": "table"
           }
          ]
         },
         "layout": {
          "annotationdefaults": {
           "arrowcolor": "#2a3f5f",
           "arrowhead": 0,
           "arrowwidth": 1
          },
          "autotypenumbers": "strict",
          "coloraxis": {
           "colorbar": {
            "outlinewidth": 0,
            "ticks": ""
           }
          },
          "colorscale": {
           "diverging": [
            [
             0,
             "#8e0152"
            ],
            [
             0.1,
             "#c51b7d"
            ],
            [
             0.2,
             "#de77ae"
            ],
            [
             0.3,
             "#f1b6da"
            ],
            [
             0.4,
             "#fde0ef"
            ],
            [
             0.5,
             "#f7f7f7"
            ],
            [
             0.6,
             "#e6f5d0"
            ],
            [
             0.7,
             "#b8e186"
            ],
            [
             0.8,
             "#7fbc41"
            ],
            [
             0.9,
             "#4d9221"
            ],
            [
             1,
             "#276419"
            ]
           ],
           "sequential": [
            [
             0,
             "#0d0887"
            ],
            [
             0.1111111111111111,
             "#46039f"
            ],
            [
             0.2222222222222222,
             "#7201a8"
            ],
            [
             0.3333333333333333,
             "#9c179e"
            ],
            [
             0.4444444444444444,
             "#bd3786"
            ],
            [
             0.5555555555555556,
             "#d8576b"
            ],
            [
             0.6666666666666666,
             "#ed7953"
            ],
            [
             0.7777777777777778,
             "#fb9f3a"
            ],
            [
             0.8888888888888888,
             "#fdca26"
            ],
            [
             1,
             "#f0f921"
            ]
           ],
           "sequentialminus": [
            [
             0,
             "#0d0887"
            ],
            [
             0.1111111111111111,
             "#46039f"
            ],
            [
             0.2222222222222222,
             "#7201a8"
            ],
            [
             0.3333333333333333,
             "#9c179e"
            ],
            [
             0.4444444444444444,
             "#bd3786"
            ],
            [
             0.5555555555555556,
             "#d8576b"
            ],
            [
             0.6666666666666666,
             "#ed7953"
            ],
            [
             0.7777777777777778,
             "#fb9f3a"
            ],
            [
             0.8888888888888888,
             "#fdca26"
            ],
            [
             1,
             "#f0f921"
            ]
           ]
          },
          "colorway": [
           "#636efa",
           "#EF553B",
           "#00cc96",
           "#ab63fa",
           "#FFA15A",
           "#19d3f3",
           "#FF6692",
           "#B6E880",
           "#FF97FF",
           "#FECB52"
          ],
          "font": {
           "color": "#2a3f5f"
          },
          "geo": {
           "bgcolor": "white",
           "lakecolor": "white",
           "landcolor": "#E5ECF6",
           "showlakes": true,
           "showland": true,
           "subunitcolor": "white"
          },
          "hoverlabel": {
           "align": "left"
          },
          "hovermode": "closest",
          "mapbox": {
           "style": "light"
          },
          "paper_bgcolor": "white",
          "plot_bgcolor": "#E5ECF6",
          "polar": {
           "angularaxis": {
            "gridcolor": "white",
            "linecolor": "white",
            "ticks": ""
           },
           "bgcolor": "#E5ECF6",
           "radialaxis": {
            "gridcolor": "white",
            "linecolor": "white",
            "ticks": ""
           }
          },
          "scene": {
           "xaxis": {
            "backgroundcolor": "#E5ECF6",
            "gridcolor": "white",
            "gridwidth": 2,
            "linecolor": "white",
            "showbackground": true,
            "ticks": "",
            "zerolinecolor": "white"
           },
           "yaxis": {
            "backgroundcolor": "#E5ECF6",
            "gridcolor": "white",
            "gridwidth": 2,
            "linecolor": "white",
            "showbackground": true,
            "ticks": "",
            "zerolinecolor": "white"
           },
           "zaxis": {
            "backgroundcolor": "#E5ECF6",
            "gridcolor": "white",
            "gridwidth": 2,
            "linecolor": "white",
            "showbackground": true,
            "ticks": "",
            "zerolinecolor": "white"
           }
          },
          "shapedefaults": {
           "line": {
            "color": "#2a3f5f"
           }
          },
          "ternary": {
           "aaxis": {
            "gridcolor": "white",
            "linecolor": "white",
            "ticks": ""
           },
           "baxis": {
            "gridcolor": "white",
            "linecolor": "white",
            "ticks": ""
           },
           "bgcolor": "#E5ECF6",
           "caxis": {
            "gridcolor": "white",
            "linecolor": "white",
            "ticks": ""
           }
          },
          "title": {
           "x": 0.05
          },
          "xaxis": {
           "automargin": true,
           "gridcolor": "white",
           "linecolor": "white",
           "ticks": "",
           "title": {
            "standoff": 15
           },
           "zerolinecolor": "white",
           "zerolinewidth": 2
          },
          "yaxis": {
           "automargin": true,
           "gridcolor": "white",
           "linecolor": "white",
           "ticks": "",
           "title": {
            "standoff": 15
           },
           "zerolinecolor": "white",
           "zerolinewidth": 2
          }
         }
        },
        "xaxis": {
         "anchor": "y",
         "domain": [
          0,
          1
         ]
        },
        "yaxis": {
         "anchor": "x",
         "domain": [
          0,
          1
         ],
         "title": {
          "text": "Income"
         }
        }
       }
      }
     },
     "metadata": {},
     "output_type": "display_data"
    }
   ],
   "source": [
    "px.box(data, y=\"Income\")"
   ]
  },
  {
   "cell_type": "code",
   "execution_count": 13,
   "metadata": {},
   "outputs": [
    {
     "name": "stdout",
     "output_type": "stream",
     "text": [
      "Nombre d'outliers: 8\n"
     ]
    }
   ],
   "source": [
    "# Calcul des quantiles et de l'IQR (ecart interquartile)\n",
    "Q1 = data[\"Income\"].quantile(0.25)\n",
    "Q3 = data[\"Income\"].quantile(0.75)\n",
    "IQR = Q3 - Q1\n",
    "\n",
    "# Identifcation des outliers pour la variable Income \n",
    "outliers = data[ (data[\"Income\"] < (Q1 - 1.5 * IQR)) |  (data[\"Income\"] > (Q3 + 1.5 * IQR))]\n",
    "\n",
    "print(f\"Nombre d'outliers: {len(outliers)}\")\n"
   ]
  },
  {
   "cell_type": "code",
   "execution_count": 14,
   "metadata": {},
   "outputs": [],
   "source": [
    "# Suppression des outliers\n",
    "data = data[~((data[\"Income\"] < (Q1 - 1.5 * IQR)) |  (data[\"Income\"] > (Q3 + 1.5 * IQR)))]"
   ]
  },
  {
   "cell_type": "code",
   "execution_count": 15,
   "metadata": {},
   "outputs": [
    {
     "data": {
      "application/vnd.plotly.v1+json": {
       "config": {
        "plotlyServerURL": "https://plot.ly"
       },
       "data": [
        {
         "alignmentgroup": "True",
         "hovertemplate": "Income=%{y}<extra></extra>",
         "legendgroup": "",
         "marker": {
          "color": "#636efa"
         },
         "name": "",
         "notched": false,
         "offsetgroup": "",
         "orientation": "v",
         "showlegend": false,
         "type": "box",
         "x0": " ",
         "xaxis": "x",
         "y": [
          58138,
          46344,
          71613,
          26646,
          58293,
          62513,
          55635,
          33454,
          30351,
          5648,
          7500,
          63033,
          59354,
          17323,
          82800,
          41850,
          37760,
          76995,
          33812,
          37040,
          2447,
          58607,
          65324,
          40689,
          18589,
          53359,
          38360,
          84618,
          10979,
          38620,
          40548,
          46610,
          68657,
          49389,
          67353,
          23718,
          42429,
          48948,
          80011,
          20559,
          21994,
          7500,
          79941,
          7500,
          41728,
          72550,
          65486,
          79143,
          35790,
          82582,
          66373,
          82384,
          70287,
          27938,
          55954,
          75777,
          66653,
          61823,
          67680,
          70666,
          25721,
          32474,
          88194,
          69096,
          74854,
          66991,
          65031,
          60631,
          28332,
          40246,
          75251,
          75825,
          26326,
          56046,
          29760,
          26304,
          23559,
          38620,
          81361,
          29440,
          36138,
          50388,
          79593,
          54178,
          42394,
          23626,
          30096,
          47916,
          51813,
          78497,
          50150,
          47823,
          34554,
          85693,
          65846,
          87195,
          24594,
          49096,
          52413,
          38557,
          89058,
          77298,
          68126,
          57288,
          86037,
          43974,
          50785,
          90765,
          36550,
          30753,
          21918,
          56129,
          32557,
          19510,
          30992,
          101970,
          71488,
          79607,
          54348,
          77376,
          62998,
          61331,
          73448,
          41551,
          62981,
          9548,
          33762,
          35860,
          36921,
          92859,
          65104,
          86111,
          68352,
          41883,
          59809,
          23957,
          38547,
          35688,
          49605,
          59354,
          65747,
          46344,
          34176,
          61010,
          69372,
          49967,
          60199,
          55375,
          80317,
          30523,
          70356,
          23228,
          74165,
          43482,
          62551,
          52332,
          66951,
          26091,
          33456,
          28718,
          50447,
          53537,
          52074,
          80427,
          83837,
          38853,
          38285,
          78497,
          51650,
          16248,
          66835,
          30477,
          28249,
          25271,
          32303,
          61286,
          74068,
          45759,
          24882,
          66973,
          36640,
          38872,
          51148,
          31353,
          69661,
          80067,
          86718,
          46854,
          69142,
          75922,
          63693,
          102160,
          40637,
          18890,
          29604,
          48721,
          44794,
          64497,
          46097,
          77972,
          44377,
          46014,
          70951,
          41443,
          52195,
          83790,
          44551,
          69508,
          45204,
          72460,
          77622,
          30732,
          63887,
          42011,
          51369,
          51537,
          79930,
          34320,
          37070,
          81975,
          38590,
          15033,
          62745,
          22212,
          23661,
          79761,
          7500,
          60182,
          73455,
          64961,
          22804,
          73687,
          61074,
          31686,
          80134,
          75027,
          67546,
          65176,
          31160,
          29938,
          102692,
          26490,
          75702,
          30899,
          63342,
          45989,
          18701,
          40737,
          15287,
          69674,
          44159,
          37717,
          43776,
          38179,
          80124,
          38097,
          72940,
          22070,
          69267,
          31788,
          61905,
          29315,
          33378,
          66313,
          60714,
          77882,
          69867,
          63841,
          24480,
          51369,
          37760,
          65640,
          44319,
          30631,
          75278,
          50898,
          79946,
          35416,
          32414,
          38361,
          82497,
          16626,
          29672,
          55951,
          35388,
          42386,
          68627,
          57912,
          35246,
          58821,
          46377,
          39747,
          23976,
          80950,
          27038,
          77457,
          64100,
          42670,
          12571,
          22574,
          70893,
          54198,
          28839,
          40321,
          66503,
          30833,
          64795,
          34421,
          47025,
          64325,
          40464,
          62187,
          14849,
          27255,
          54432,
          29999,
          24072,
          33996,
          66334,
          35178,
          22010,
          62204,
          75693,
          30675,
          83003,
          83532,
          68655,
          41411,
          55212,
          59292,
          27190,
          82623,
          44300,
          84835,
          30372,
          33181,
          71113,
          71952,
          69759,
          72099,
          60000,
          38643,
          50737,
          68462,
          65073,
          46681,
          78618,
          62187,
          28442,
          37717,
          51479,
          54803,
          79530,
          31615,
          72025,
          52614,
          35684,
          48178,
          29548,
          63810,
          38578,
          46098,
          22585,
          30279,
          66426,
          30822,
          33581,
          19986,
          27421,
          35688,
          36143,
          10245,
          43795,
          63381,
          38823,
          83664,
          90300,
          62499,
          74293,
          51012,
          70777,
          68682,
          43824,
          15345,
          23442,
          14515,
          31395,
          75276,
          42373,
          30507,
          55521,
          48006,
          27213,
          65808,
          30351,
          50437,
          23616,
          53858,
          66465,
          46923,
          75072,
          75865,
          19789,
          80134,
          91065,
          49505,
          37401,
          30096,
          18492,
          82584,
          93027,
          48686,
          92910,
          75433,
          10404,
          61314,
          84865,
          42387,
          67309,
          75236,
          30015,
          50943,
          67272,
          51529,
          32011,
          7500,
          28691,
          56223,
          18100,
          30279,
          20130,
          23295,
          42618,
          81246,
          24027,
          55707,
          57959,
          56796,
          36230,
          70829,
          65991,
          38988,
          89572,
          42207,
          50300,
          66664,
          60597,
          70165,
          50520,
          80124,
          33183,
          66582,
          75261,
          31880,
          53790,
          49269,
          61456,
          37406,
          56937,
          38415,
          20518,
          62503,
          41644,
          55842,
          62010,
          41124,
          38961,
          37760,
          32233,
          43057,
          83151,
          78825,
          65104,
          60093,
          14045,
          28457,
          78952,
          46310,
          76005,
          58308,
          55614,
          59432,
          55563,
          78642,
          67911,
          65275,
          27203,
          48330,
          24279,
          64355,
          50943,
          53653,
          65665,
          81217,
          34935,
          61250,
          39665,
          60152,
          48920,
          89120,
          44124,
          81169,
          36443,
          26095,
          71367,
          80184,
          30630,
          73454,
          42691,
          70503,
          25545,
          32880,
          77863,
          50353,
          61839,
          49154,
          47682,
          72679,
          57954,
          65316,
          28567,
          47352,
          44931,
          76982,
          57247,
          22944,
          25315,
          43638,
          42710,
          84169,
          54058,
          24683,
          85620,
          47850,
          19514,
          27159,
          39548,
          21474,
          60504,
          22419,
          81698,
          43462,
          54880,
          79908,
          15315,
          87771,
          33039,
          81741,
          71499,
          62466,
          48799,
          52157,
          66565,
          29298,
          47691,
          38200,
          44989,
          38443,
          38593,
          64413,
          36959,
          61996,
          51287,
          13260,
          47472,
          54603,
          45207,
          40689,
          47821,
          27450,
          39453,
          26850,
          79800,
          61794,
          53863,
          24221,
          39684,
          92163,
          69882,
          33178,
          59973,
          17459,
          23910,
          42169,
          26224,
          31089,
          30081,
          62807,
          72906,
          61467,
          49618,
          21888,
          42429,
          26150,
          30801,
          81168,
          26877,
          45006,
          18978,
          22574,
          48240,
          45837,
          35791,
          54162,
          30522,
          54456,
          31632,
          72298,
          36975,
          72635,
          13624,
          84196,
          70971,
          34487,
          28769,
          69084,
          65488,
          62466,
          32218,
          83917,
          46102,
          84574,
          56181,
          63120,
          73691,
          63381,
          76140,
          62859,
          45906,
          77632,
          46463,
          105471,
          55282,
          78710,
          66886,
          98777,
          29103,
          67445,
          50616,
          49431,
          61278,
          26490,
          73059,
          46734,
          56253,
          19986,
          58330,
          25965,
          14661,
          18690,
          45068,
          21063,
          29187,
          54690,
          59304,
          59247,
          66731,
          77353,
          52614,
          26751,
          81300,
          70337,
          36145,
          65295,
          68118,
          68743,
          41039,
          38946,
          65777,
          66476,
          86857,
          77845,
          69476,
          50611,
          61209,
          42315,
          13084,
          47570,
          61923,
          34824,
          26518,
          45938,
          78468,
          78901,
          71427,
          71022,
          90247,
          41335,
          71952,
          35682,
          43185,
          66375,
          35178,
          25252,
          55250,
          33249,
          58398,
          50272,
          76618,
          87305,
          25851,
          58710,
          45160,
          74806,
          59111,
          18988,
          72190,
          7500,
          44794,
          80395,
          75012,
          56962,
          89891,
          35946,
          53593,
          66373,
          45072,
          89694,
          72025,
          67432,
          70545,
          17487,
          62882,
          64108,
          34941,
          48767,
          38702,
          82224,
          83844,
          17003,
          71163,
          33697,
          63564,
          83443,
          51518,
          58330,
          80952,
          75507,
          63855,
          62220,
          58512,
          40662,
          38829,
          35523,
          79146,
          78285,
          31626,
          75127,
          48726,
          74985,
          67430,
          46891,
          62058,
          72063,
          78939,
          42720,
          33622,
          6835,
          41452,
          40760,
          74250,
          51124,
          72258,
          71466,
          36283,
          20587,
          30467,
          31590,
          20425,
          17144,
          42564,
          43783,
          40780,
          62847,
          82017,
          16813,
          51267,
          46524,
          45183,
          70421,
          60161,
          73926,
          19329,
          61872,
          46984,
          34838,
          82716,
          48192,
          49681,
          56850,
          55267,
          59666,
          72504,
          26872,
          21359,
          73170,
          52750,
          91820,
          65968,
          30772,
          22507,
          65685,
          25804,
          76412,
          22063,
          57091,
          22419,
          87771,
          78353,
          93404,
          37859,
          80995,
          16529,
          55412,
          48789,
          56575,
          25130,
          35441,
          71391,
          49494,
          81702,
          45889,
          56628,
          34026,
          40049,
          34176,
          19419,
          82504,
          81205,
          61618,
          55284,
          49980,
          15072,
          49166,
          65324,
          82347,
          30843,
          46374,
          60474,
          38576,
          55357,
          37758,
          85710,
          23228,
          44602,
          7500,
          38683,
          49514,
          57906,
          43456,
          19485,
          53172,
          30545,
          70123,
          62450,
          21675,
          42395,
          61346,
          80812,
          42835,
          39922,
          86424,
          17117,
          24762,
          35797,
          36627,
          51111,
          86857,
          82072,
          46231,
          42243,
          51195,
          68092,
          31814,
          51390,
          76630,
          26868,
          48948,
          55260,
          64090,
          78331,
          37087,
          21846,
          81320,
          54137,
          66825,
          57100,
          58917,
          85072,
          86429,
          45684,
          47889,
          45921,
          78420,
          75114,
          52278,
          35641,
          95529,
          62820,
          73113,
          84169,
          42607,
          74637,
          46015,
          72354,
          39858,
          34469,
          83033,
          24401,
          77583,
          74116,
          74293,
          68397,
          79632,
          46107,
          64950,
          25443,
          75127,
          32892,
          71796,
          67536,
          55239,
          60554,
          64831,
          56067,
          82025,
          94384,
          14906,
          51563,
          57937,
          68274,
          39771,
          67893,
          27922,
          52190,
          44051,
          42767,
          46106,
          16927,
          59754,
          53700,
          59041,
          54237,
          70647,
          52597,
          41021,
          40233,
          50183,
          54753,
          92955,
          33471,
          34596,
          44010,
          84219,
          40706,
          15716,
          59052,
          80573,
          83715,
          82576,
          56962,
          35704,
          53103,
          46779,
          4861,
          33462,
          63693,
          80763,
          65352,
          82170,
          75759,
          79689,
          35340,
          85683,
          24884,
          42021,
          64449,
          64587,
          34824,
          75437,
          26091,
          52845,
          46086,
          78028,
          95169,
          56337,
          22434,
          36930,
          36130,
          65569,
          83844,
          19514,
          36736,
          77568,
          49187,
          30168,
          34053,
          38196,
          59412,
          70924,
          54165,
          32300,
          20180,
          34961,
          28440,
          64504,
          33564,
          17345,
          56320,
          28647,
          15038,
          32173,
          68316,
          74538,
          91700,
          68695,
          31056,
          79593,
          28071,
          37334,
          46423,
          37126,
          47703,
          61180,
          38998,
          8028,
          76081,
          34728,
          33168,
          33585,
          77037,
          35196,
          44529,
          70924,
          28764,
          69098,
          25959,
          27100,
          70596,
          42557,
          53312,
          72228,
          67605,
          62845,
          65196,
          42000,
          35860,
          65526,
          16860,
          83528,
          64176,
          22304,
          67023,
          32892,
          70713,
          59925,
          39722,
          46610,
          88347,
          87171,
          26907,
          50014,
          41014,
          66294,
          36715,
          79456,
          40479,
          75345,
          54233,
          24163,
          84460,
          43776,
          71691,
          85844,
          39190,
          71367,
          38578,
          57236,
          61825,
          79803,
          80910,
          27590,
          56775,
          83829,
          54210,
          38508,
          53187,
          30023,
          76045,
          50870,
          15315,
          65463,
          66480,
          76773,
          81698,
          54466,
          98777,
          16269,
          71819,
          33569,
          36262,
          22634,
          47025,
          70566,
          31605,
          52034,
          48526,
          46734,
          39552,
          86358,
          46931,
          16581,
          63998,
          67381,
          25930,
          42693,
          85606,
          72903,
          49669,
          36778,
          85696,
          10979,
          49678,
          56129,
          37155,
          21282,
          33419,
          63285,
          21255,
          42162,
          54450,
          57744,
          26576,
          57513,
          68142,
          7500,
          83145,
          54197,
          23091,
          46049,
          56715,
          79410,
          57304,
          44375,
          54450,
          59594,
          80685,
          40344,
          62710,
          48985,
          35322,
          77142,
          81657,
          14421,
          20130,
          74214,
          66726,
          23724,
          47353,
          33444,
          54386,
          28510,
          90638,
          48070,
          43140,
          54959,
          15056,
          26954,
          22327,
          44393,
          62000,
          31497,
          45894,
          78579,
          67369,
          58401,
          62307,
          43641,
          63841,
          46891,
          70091,
          78075,
          59184,
          54809,
          58113,
          51412,
          15287,
          66636,
          50965,
          84618,
          18351,
          40451,
          36317,
          42213,
          65748,
          77044,
          74918,
          56721,
          42160,
          61559,
          33629,
          68682,
          34377,
          8940,
          26228,
          77297,
          40211,
          33438,
          75032,
          61284,
          22518,
          54730,
          38452,
          44421,
          38197,
          41986,
          28427,
          37395,
          64722,
          55249,
          84906,
          28691,
          44213,
          25707,
          59062,
          76624,
          66000,
          27683,
          1730,
          7500,
          40521,
          20427,
          65106,
          69969,
          67433,
          77766,
          74716,
          68118,
          55158,
          62972,
          74190,
          39356,
          76653,
          35860,
          90687,
          73450,
          31454,
          47139,
          83829,
          53378,
          19656,
          45579,
          85485,
          55956,
          64191,
          38808,
          57183,
          23748,
          66303,
          37368,
          40800,
          71847,
          46149,
          78687,
          49118,
          37633,
          39767,
          26997,
          33986,
          57091,
          46831,
          83151,
          52531,
          15759,
          22804,
          43050,
          42997,
          48918,
          60033,
          34043,
          57811,
          78569,
          7500,
          94384,
          23148,
          44267,
          71626,
          60894,
          50200,
          81051,
          65169,
          59868,
          65695,
          64857,
          45143,
          74805,
          59060,
          27238,
          47009,
          46094,
          40321,
          37235,
          81843,
          46692,
          77382,
          37774,
          18393,
          72828,
          24711,
          45503,
          6560,
          71604,
          27244,
          48752,
          71434,
          90842,
          88097,
          51948,
          71853,
          35876,
          40049,
          39660,
          50127,
          43263,
          62845,
          18929,
          24367,
          33249,
          26887,
          50150,
          62061,
          85696,
          76542,
          70515,
          18227,
          69139,
          69109,
          69627,
          38136,
          62159,
          80695,
          33316,
          58554,
          17256,
          53034,
          52203,
          59601,
          75154,
          47025,
          37971,
          41335,
          67267,
          57338,
          50523,
          35791,
          50611,
          56242,
          48904,
          56243,
          21355,
          57420,
          46390,
          54342,
          20895,
          92344,
          26907,
          44964,
          75507,
          53761,
          22682,
          38887,
          41658,
          29791,
          63915,
          39996,
          26759,
          63841,
          51039,
          60544,
          65685,
          37716,
          36864,
          44511,
          36947,
          47352,
          67087,
          57045,
          36957,
          69389,
          80134,
          43142,
          80589,
          34412,
          57537,
          22634,
          51315,
          36026,
          24639,
          34578,
          65704,
          63810,
          54132,
          18690,
          28164,
          34596,
          43269,
          38741,
          31907,
          27100,
          31163,
          92533,
          34853,
          70844,
          31086,
          60544,
          20491,
          42523,
          39922,
          33402,
          36408,
          21645,
          78427,
          82657,
          51876,
          78041,
          52852,
          70038,
          69401,
          46053,
          77343,
          73892,
          40304,
          32727,
          68695,
          43300,
          26290,
          93790,
          38410,
          64866,
          57957,
          46015,
          16531,
          28072,
          49476,
          50725,
          83844,
          41145,
          67419,
          23162,
          34380,
          34704,
          94871,
          65148,
          39898,
          64857,
          59892,
          41020,
          57072,
          60474,
          62807,
          19414,
          19107,
          75484,
          70379,
          79419,
          64014,
          76998,
          49854,
          60585,
          42873,
          87679,
          57867,
          35765,
          65492,
          32952,
          53374,
          71706,
          68487,
          53253,
          31163,
          42014,
          54108,
          49667,
          63206,
          57136,
          46772,
          78931,
          53977,
          84219,
          46098,
          73538,
          79529,
          20981,
          51766,
          55759,
          33039,
          37787,
          27242,
          87188,
          69930,
          37697,
          37401,
          3502,
          58597,
          82032,
          28087,
          74004,
          19740,
          57036,
          53083,
          69283,
          46098,
          23331,
          23331,
          9255,
          67786,
          71969,
          59235,
          31928,
          74881,
          65819,
          51411,
          51983,
          42386,
          30390,
          30983,
          66033,
          37284,
          57530,
          76800,
          63943,
          76081,
          67445,
          37054,
          47175,
          31859,
          27215,
          70179,
          39922,
          49681,
          24645,
          79865,
          44322,
          47958,
          63972,
          75315,
          55517,
          75283,
          82800,
          38998,
          90638,
          27161,
          42014,
          38201,
          45203,
          81574,
          34935,
          60482,
          34633,
          78093,
          82460,
          45903,
          81361,
          35860,
          40442,
          61482,
          34968,
          75794,
          31497,
          74268,
          13724,
          45143,
          52569,
          48432,
          17144,
          36108,
          76445,
          36663,
          53843,
          90226,
          70638,
          44512,
          27116,
          54072,
          71855,
          51250,
          60432,
          65526,
          68655,
          12393,
          64509,
          33955,
          31353,
          55434,
          28359,
          57100,
          69139,
          52973,
          51717,
          18793,
          66664,
          50664,
          54414,
          54549,
          47111,
          41003,
          19444,
          36301,
          73059,
          42731,
          52854,
          22775,
          46681,
          59821,
          50002,
          69755,
          44078,
          30560,
          35924,
          64140,
          56386,
          24594,
          75774,
          39228,
          58494,
          58684,
          57136,
          56551,
          22448,
          82014,
          34213,
          25358,
          35544,
          36634,
          62670,
          50334,
          72066,
          50729,
          34916,
          64892,
          43602,
          33996,
          41473,
          63246,
          36732,
          69084,
          77766,
          37929,
          86610,
          80141,
          72635,
          69016,
          20193,
          27573,
          15862,
          49544,
          33228,
          70440,
          38232,
          22554,
          23536,
          49413,
          42231,
          78789,
          56534,
          58350,
          81217,
          49090,
          61787,
          18169,
          24336,
          18222,
          62335,
          42033,
          86580,
          41437,
          73705,
          61064,
          38452,
          18358,
          55012,
          9722,
          38175,
          58656,
          52117,
          64813,
          54222,
          83512,
          77520,
          41154,
          80398,
          18746,
          35196,
          60230,
          22108,
          44392,
          55424,
          17688,
          92491,
          90273,
          82571,
          38513,
          16653,
          42586,
          23529,
          74881,
          71107,
          46910,
          18690,
          37244,
          82427,
          75342,
          70044,
          79146,
          77437,
          54984,
          42403,
          55761,
          37292,
          45576,
          70321,
          58086,
          81795,
          28389,
          66835,
          69901,
          80360,
          63342,
          44989,
          31859,
          51569,
          30372,
          16014,
          41120,
          39763,
          38725,
          77981,
          62905,
          13533,
          59481,
          72117,
          21955,
          67131,
          36802,
          71853,
          28249,
          47808,
          25509,
          51012,
          70596,
          85431,
          42664,
          42586,
          29760,
          28973,
          39435,
          65370,
          20194,
          42473,
          64590,
          71232,
          34600,
          46904,
          49094,
          36075,
          60839,
          77298,
          34026,
          48918,
          82122,
          37697,
          34074,
          28520,
          62535,
          36273,
          63404,
          75774,
          78416,
          75702,
          59385,
          37070,
          44689,
          53977,
          7144,
          18701,
          90369,
          63159,
          37758,
          46757,
          79734,
          63207,
          72071,
          21840,
          58582,
          72282,
          50387,
          32583,
          62568,
          44635,
          33316,
          63967,
          52513,
          25293,
          54111,
          78394,
          80739,
          22669,
          29236,
          44911,
          54693,
          48186,
          54809,
          41580,
          80336,
          47743,
          62972,
          57333,
          32313,
          84953,
          27071,
          68148,
          65735,
          86836,
          4023,
          30093,
          57705,
          25008,
          83257,
          22280,
          72159,
          64260,
          82733,
          74290,
          58217,
          21024,
          70116,
          54006,
          69063,
          11448,
          61825,
          70886,
          69109,
          60208,
          32889,
          34738,
          30538,
          82326,
          26642,
          69932,
          44503,
          60200,
          49638,
          23830,
          33051,
          72905,
          69702,
          70300,
          70643,
          30396,
          50616,
          62772,
          30298,
          52413,
          44155,
          86979,
          76532,
          42081,
          67546,
          88420,
          31158,
          61671,
          69719,
          49160,
          24882,
          90933,
          113734,
          59292,
          45759,
          22148,
          73395,
          29819,
          45688,
          62820,
          60491,
          33235,
          35701,
          31535,
          92556,
          67384,
          80573,
          77870,
          52278,
          57107,
          18929,
          36038,
          20180,
          34230,
          31878,
          70932,
          91249,
          77598,
          80982,
          22701,
          55212,
          70617,
          64849,
          62694,
          61917,
          67472,
          21059,
          29543,
          75903,
          34984,
          54998,
          54356,
          34242,
          25410,
          73356,
          28320,
          23763,
          72570,
          34529,
          70792,
          63211,
          83891,
          36065,
          39898,
          51141,
          56939,
          80872,
          72335,
          61798,
          76842,
          29478,
          46998,
          96843,
          56551,
          70053,
          71670,
          44359,
          40887,
          48877,
          74485,
          64474,
          77226,
          72643,
          85738,
          55686,
          39062,
          34600,
          40794,
          54690,
          4428,
          32632,
          38236,
          36781,
          31385,
          24570,
          25509,
          94642,
          58646,
          53201,
          21994,
          57113,
          51373,
          23477,
          58116,
          72968,
          39791,
          91712,
          94472,
          13672,
          96547,
          79205,
          56559,
          32644,
          67506,
          24206,
          28420,
          22979,
          33279,
          46423,
          30368,
          63684,
          41638,
          68805,
          65814,
          71964,
          39146,
          96876,
          34445,
          68281,
          37284,
          36790,
          27943,
          22263,
          30261,
          28587,
          43815,
          48195,
          77027,
          71322,
          32765,
          29672,
          23272,
          49912,
          7500,
          68117,
          67225,
          17649,
          55914,
          40059,
          60905,
          75330,
          60689,
          38680,
          61416,
          49767,
          83273,
          29009,
          45057,
          37150,
          43020,
          53154,
          65308,
          76467,
          81044,
          32871,
          55801,
          76320,
          36927,
          48794,
          23478,
          71128,
          70179,
          59462,
          38361,
          70038,
          42554,
          67445,
          67046,
          42192,
          77610,
          31761,
          34350,
          54591,
          71866,
          25293,
          42000,
          69520,
          64713,
          27889,
          22123,
          27803,
          51651,
          68487,
          56796,
          87000,
          79823,
          30828,
          34109,
          53367,
          22390,
          71322,
          79244,
          49912,
          48699,
          80144,
          54252,
          81929,
          76068,
          53204,
          67911,
          14796,
          78128,
          14188,
          20425,
          58646,
          72967,
          48150,
          82332,
          58275,
          44953,
          34587,
          43018,
          45736,
          66476,
          27733,
          69805,
          72217,
          25818,
          37509,
          25176,
          43586,
          53230,
          50116,
          84906,
          61286,
          82333,
          65220,
          33590,
          30992,
          72309,
          16005,
          65487,
          58692,
          40590,
          20587,
          62637,
          29435,
          19346,
          35788,
          36997,
          23539,
          65333,
          78499,
          29732,
          41275,
          63516,
          42769,
          49572,
          69209,
          17148,
          40590,
          30560,
          32146,
          41713,
          34176,
          58482,
          59686,
          60896,
          62994,
          47320,
          74859,
          15253,
          31560,
          72071,
          91172,
          90000,
          41967,
          69263,
          65706,
          60934,
          71965,
          65210,
          79174,
          81380,
          48432,
          52914,
          38946,
          26067,
          44325,
          42523,
          26487,
          53233,
          67716,
          76234,
          84117,
          65487,
          25224,
          89616,
          40851,
          27469,
          82347,
          73803,
          8820,
          43322,
          55593,
          50501,
          37085,
          16185,
          57731,
          48432,
          73807,
          18929,
          35893,
          61014,
          32144,
          14918,
          45146,
          41769,
          88325,
          38054,
          80617,
          5305,
          36807,
          28427,
          82032,
          22775,
          40101,
          58025,
          75777,
          7500,
          33562,
          57642,
          58554,
          63777,
          57967,
          24434,
          11012,
          44802,
          26816,
          34421,
          61223,
          64014,
          56981,
          69245,
          52869
         ],
         "y0": " ",
         "yaxis": "y"
        }
       ],
       "layout": {
        "boxmode": "group",
        "legend": {
         "tracegroupgap": 0
        },
        "margin": {
         "t": 60
        },
        "template": {
         "data": {
          "bar": [
           {
            "error_x": {
             "color": "#2a3f5f"
            },
            "error_y": {
             "color": "#2a3f5f"
            },
            "marker": {
             "line": {
              "color": "#E5ECF6",
              "width": 0.5
             },
             "pattern": {
              "fillmode": "overlay",
              "size": 10,
              "solidity": 0.2
             }
            },
            "type": "bar"
           }
          ],
          "barpolar": [
           {
            "marker": {
             "line": {
              "color": "#E5ECF6",
              "width": 0.5
             },
             "pattern": {
              "fillmode": "overlay",
              "size": 10,
              "solidity": 0.2
             }
            },
            "type": "barpolar"
           }
          ],
          "carpet": [
           {
            "aaxis": {
             "endlinecolor": "#2a3f5f",
             "gridcolor": "white",
             "linecolor": "white",
             "minorgridcolor": "white",
             "startlinecolor": "#2a3f5f"
            },
            "baxis": {
             "endlinecolor": "#2a3f5f",
             "gridcolor": "white",
             "linecolor": "white",
             "minorgridcolor": "white",
             "startlinecolor": "#2a3f5f"
            },
            "type": "carpet"
           }
          ],
          "choropleth": [
           {
            "colorbar": {
             "outlinewidth": 0,
             "ticks": ""
            },
            "type": "choropleth"
           }
          ],
          "contour": [
           {
            "colorbar": {
             "outlinewidth": 0,
             "ticks": ""
            },
            "colorscale": [
             [
              0,
              "#0d0887"
             ],
             [
              0.1111111111111111,
              "#46039f"
             ],
             [
              0.2222222222222222,
              "#7201a8"
             ],
             [
              0.3333333333333333,
              "#9c179e"
             ],
             [
              0.4444444444444444,
              "#bd3786"
             ],
             [
              0.5555555555555556,
              "#d8576b"
             ],
             [
              0.6666666666666666,
              "#ed7953"
             ],
             [
              0.7777777777777778,
              "#fb9f3a"
             ],
             [
              0.8888888888888888,
              "#fdca26"
             ],
             [
              1,
              "#f0f921"
             ]
            ],
            "type": "contour"
           }
          ],
          "contourcarpet": [
           {
            "colorbar": {
             "outlinewidth": 0,
             "ticks": ""
            },
            "type": "contourcarpet"
           }
          ],
          "heatmap": [
           {
            "colorbar": {
             "outlinewidth": 0,
             "ticks": ""
            },
            "colorscale": [
             [
              0,
              "#0d0887"
             ],
             [
              0.1111111111111111,
              "#46039f"
             ],
             [
              0.2222222222222222,
              "#7201a8"
             ],
             [
              0.3333333333333333,
              "#9c179e"
             ],
             [
              0.4444444444444444,
              "#bd3786"
             ],
             [
              0.5555555555555556,
              "#d8576b"
             ],
             [
              0.6666666666666666,
              "#ed7953"
             ],
             [
              0.7777777777777778,
              "#fb9f3a"
             ],
             [
              0.8888888888888888,
              "#fdca26"
             ],
             [
              1,
              "#f0f921"
             ]
            ],
            "type": "heatmap"
           }
          ],
          "heatmapgl": [
           {
            "colorbar": {
             "outlinewidth": 0,
             "ticks": ""
            },
            "colorscale": [
             [
              0,
              "#0d0887"
             ],
             [
              0.1111111111111111,
              "#46039f"
             ],
             [
              0.2222222222222222,
              "#7201a8"
             ],
             [
              0.3333333333333333,
              "#9c179e"
             ],
             [
              0.4444444444444444,
              "#bd3786"
             ],
             [
              0.5555555555555556,
              "#d8576b"
             ],
             [
              0.6666666666666666,
              "#ed7953"
             ],
             [
              0.7777777777777778,
              "#fb9f3a"
             ],
             [
              0.8888888888888888,
              "#fdca26"
             ],
             [
              1,
              "#f0f921"
             ]
            ],
            "type": "heatmapgl"
           }
          ],
          "histogram": [
           {
            "marker": {
             "pattern": {
              "fillmode": "overlay",
              "size": 10,
              "solidity": 0.2
             }
            },
            "type": "histogram"
           }
          ],
          "histogram2d": [
           {
            "colorbar": {
             "outlinewidth": 0,
             "ticks": ""
            },
            "colorscale": [
             [
              0,
              "#0d0887"
             ],
             [
              0.1111111111111111,
              "#46039f"
             ],
             [
              0.2222222222222222,
              "#7201a8"
             ],
             [
              0.3333333333333333,
              "#9c179e"
             ],
             [
              0.4444444444444444,
              "#bd3786"
             ],
             [
              0.5555555555555556,
              "#d8576b"
             ],
             [
              0.6666666666666666,
              "#ed7953"
             ],
             [
              0.7777777777777778,
              "#fb9f3a"
             ],
             [
              0.8888888888888888,
              "#fdca26"
             ],
             [
              1,
              "#f0f921"
             ]
            ],
            "type": "histogram2d"
           }
          ],
          "histogram2dcontour": [
           {
            "colorbar": {
             "outlinewidth": 0,
             "ticks": ""
            },
            "colorscale": [
             [
              0,
              "#0d0887"
             ],
             [
              0.1111111111111111,
              "#46039f"
             ],
             [
              0.2222222222222222,
              "#7201a8"
             ],
             [
              0.3333333333333333,
              "#9c179e"
             ],
             [
              0.4444444444444444,
              "#bd3786"
             ],
             [
              0.5555555555555556,
              "#d8576b"
             ],
             [
              0.6666666666666666,
              "#ed7953"
             ],
             [
              0.7777777777777778,
              "#fb9f3a"
             ],
             [
              0.8888888888888888,
              "#fdca26"
             ],
             [
              1,
              "#f0f921"
             ]
            ],
            "type": "histogram2dcontour"
           }
          ],
          "mesh3d": [
           {
            "colorbar": {
             "outlinewidth": 0,
             "ticks": ""
            },
            "type": "mesh3d"
           }
          ],
          "parcoords": [
           {
            "line": {
             "colorbar": {
              "outlinewidth": 0,
              "ticks": ""
             }
            },
            "type": "parcoords"
           }
          ],
          "pie": [
           {
            "automargin": true,
            "type": "pie"
           }
          ],
          "scatter": [
           {
            "fillpattern": {
             "fillmode": "overlay",
             "size": 10,
             "solidity": 0.2
            },
            "type": "scatter"
           }
          ],
          "scatter3d": [
           {
            "line": {
             "colorbar": {
              "outlinewidth": 0,
              "ticks": ""
             }
            },
            "marker": {
             "colorbar": {
              "outlinewidth": 0,
              "ticks": ""
             }
            },
            "type": "scatter3d"
           }
          ],
          "scattercarpet": [
           {
            "marker": {
             "colorbar": {
              "outlinewidth": 0,
              "ticks": ""
             }
            },
            "type": "scattercarpet"
           }
          ],
          "scattergeo": [
           {
            "marker": {
             "colorbar": {
              "outlinewidth": 0,
              "ticks": ""
             }
            },
            "type": "scattergeo"
           }
          ],
          "scattergl": [
           {
            "marker": {
             "colorbar": {
              "outlinewidth": 0,
              "ticks": ""
             }
            },
            "type": "scattergl"
           }
          ],
          "scattermapbox": [
           {
            "marker": {
             "colorbar": {
              "outlinewidth": 0,
              "ticks": ""
             }
            },
            "type": "scattermapbox"
           }
          ],
          "scatterpolar": [
           {
            "marker": {
             "colorbar": {
              "outlinewidth": 0,
              "ticks": ""
             }
            },
            "type": "scatterpolar"
           }
          ],
          "scatterpolargl": [
           {
            "marker": {
             "colorbar": {
              "outlinewidth": 0,
              "ticks": ""
             }
            },
            "type": "scatterpolargl"
           }
          ],
          "scatterternary": [
           {
            "marker": {
             "colorbar": {
              "outlinewidth": 0,
              "ticks": ""
             }
            },
            "type": "scatterternary"
           }
          ],
          "surface": [
           {
            "colorbar": {
             "outlinewidth": 0,
             "ticks": ""
            },
            "colorscale": [
             [
              0,
              "#0d0887"
             ],
             [
              0.1111111111111111,
              "#46039f"
             ],
             [
              0.2222222222222222,
              "#7201a8"
             ],
             [
              0.3333333333333333,
              "#9c179e"
             ],
             [
              0.4444444444444444,
              "#bd3786"
             ],
             [
              0.5555555555555556,
              "#d8576b"
             ],
             [
              0.6666666666666666,
              "#ed7953"
             ],
             [
              0.7777777777777778,
              "#fb9f3a"
             ],
             [
              0.8888888888888888,
              "#fdca26"
             ],
             [
              1,
              "#f0f921"
             ]
            ],
            "type": "surface"
           }
          ],
          "table": [
           {
            "cells": {
             "fill": {
              "color": "#EBF0F8"
             },
             "line": {
              "color": "white"
             }
            },
            "header": {
             "fill": {
              "color": "#C8D4E3"
             },
             "line": {
              "color": "white"
             }
            },
            "type": "table"
           }
          ]
         },
         "layout": {
          "annotationdefaults": {
           "arrowcolor": "#2a3f5f",
           "arrowhead": 0,
           "arrowwidth": 1
          },
          "autotypenumbers": "strict",
          "coloraxis": {
           "colorbar": {
            "outlinewidth": 0,
            "ticks": ""
           }
          },
          "colorscale": {
           "diverging": [
            [
             0,
             "#8e0152"
            ],
            [
             0.1,
             "#c51b7d"
            ],
            [
             0.2,
             "#de77ae"
            ],
            [
             0.3,
             "#f1b6da"
            ],
            [
             0.4,
             "#fde0ef"
            ],
            [
             0.5,
             "#f7f7f7"
            ],
            [
             0.6,
             "#e6f5d0"
            ],
            [
             0.7,
             "#b8e186"
            ],
            [
             0.8,
             "#7fbc41"
            ],
            [
             0.9,
             "#4d9221"
            ],
            [
             1,
             "#276419"
            ]
           ],
           "sequential": [
            [
             0,
             "#0d0887"
            ],
            [
             0.1111111111111111,
             "#46039f"
            ],
            [
             0.2222222222222222,
             "#7201a8"
            ],
            [
             0.3333333333333333,
             "#9c179e"
            ],
            [
             0.4444444444444444,
             "#bd3786"
            ],
            [
             0.5555555555555556,
             "#d8576b"
            ],
            [
             0.6666666666666666,
             "#ed7953"
            ],
            [
             0.7777777777777778,
             "#fb9f3a"
            ],
            [
             0.8888888888888888,
             "#fdca26"
            ],
            [
             1,
             "#f0f921"
            ]
           ],
           "sequentialminus": [
            [
             0,
             "#0d0887"
            ],
            [
             0.1111111111111111,
             "#46039f"
            ],
            [
             0.2222222222222222,
             "#7201a8"
            ],
            [
             0.3333333333333333,
             "#9c179e"
            ],
            [
             0.4444444444444444,
             "#bd3786"
            ],
            [
             0.5555555555555556,
             "#d8576b"
            ],
            [
             0.6666666666666666,
             "#ed7953"
            ],
            [
             0.7777777777777778,
             "#fb9f3a"
            ],
            [
             0.8888888888888888,
             "#fdca26"
            ],
            [
             1,
             "#f0f921"
            ]
           ]
          },
          "colorway": [
           "#636efa",
           "#EF553B",
           "#00cc96",
           "#ab63fa",
           "#FFA15A",
           "#19d3f3",
           "#FF6692",
           "#B6E880",
           "#FF97FF",
           "#FECB52"
          ],
          "font": {
           "color": "#2a3f5f"
          },
          "geo": {
           "bgcolor": "white",
           "lakecolor": "white",
           "landcolor": "#E5ECF6",
           "showlakes": true,
           "showland": true,
           "subunitcolor": "white"
          },
          "hoverlabel": {
           "align": "left"
          },
          "hovermode": "closest",
          "mapbox": {
           "style": "light"
          },
          "paper_bgcolor": "white",
          "plot_bgcolor": "#E5ECF6",
          "polar": {
           "angularaxis": {
            "gridcolor": "white",
            "linecolor": "white",
            "ticks": ""
           },
           "bgcolor": "#E5ECF6",
           "radialaxis": {
            "gridcolor": "white",
            "linecolor": "white",
            "ticks": ""
           }
          },
          "scene": {
           "xaxis": {
            "backgroundcolor": "#E5ECF6",
            "gridcolor": "white",
            "gridwidth": 2,
            "linecolor": "white",
            "showbackground": true,
            "ticks": "",
            "zerolinecolor": "white"
           },
           "yaxis": {
            "backgroundcolor": "#E5ECF6",
            "gridcolor": "white",
            "gridwidth": 2,
            "linecolor": "white",
            "showbackground": true,
            "ticks": "",
            "zerolinecolor": "white"
           },
           "zaxis": {
            "backgroundcolor": "#E5ECF6",
            "gridcolor": "white",
            "gridwidth": 2,
            "linecolor": "white",
            "showbackground": true,
            "ticks": "",
            "zerolinecolor": "white"
           }
          },
          "shapedefaults": {
           "line": {
            "color": "#2a3f5f"
           }
          },
          "ternary": {
           "aaxis": {
            "gridcolor": "white",
            "linecolor": "white",
            "ticks": ""
           },
           "baxis": {
            "gridcolor": "white",
            "linecolor": "white",
            "ticks": ""
           },
           "bgcolor": "#E5ECF6",
           "caxis": {
            "gridcolor": "white",
            "linecolor": "white",
            "ticks": ""
           }
          },
          "title": {
           "x": 0.05
          },
          "xaxis": {
           "automargin": true,
           "gridcolor": "white",
           "linecolor": "white",
           "ticks": "",
           "title": {
            "standoff": 15
           },
           "zerolinecolor": "white",
           "zerolinewidth": 2
          },
          "yaxis": {
           "automargin": true,
           "gridcolor": "white",
           "linecolor": "white",
           "ticks": "",
           "title": {
            "standoff": 15
           },
           "zerolinecolor": "white",
           "zerolinewidth": 2
          }
         }
        },
        "xaxis": {
         "anchor": "y",
         "domain": [
          0,
          1
         ]
        },
        "yaxis": {
         "anchor": "x",
         "domain": [
          0,
          1
         ],
         "title": {
          "text": "Income"
         }
        }
       }
      }
     },
     "metadata": {},
     "output_type": "display_data"
    }
   ],
   "source": [
    "px.box(data, y=\"Income\")"
   ]
  },
  {
   "cell_type": "code",
   "execution_count": 16,
   "metadata": {},
   "outputs": [
    {
     "name": "stdout",
     "output_type": "stream",
     "text": [
      "Nouvelle taille du dataset: (2208, 29)\n"
     ]
    }
   ],
   "source": [
    "# Nouvelle taille du dataset\n",
    "print(f\"Nouvelle taille du dataset: {data.shape}\")"
   ]
  },
  {
   "cell_type": "markdown",
   "metadata": {},
   "source": [
    "### Travail sur les autres colonnes"
   ]
  },
  {
   "cell_type": "code",
   "execution_count": 17,
   "metadata": {},
   "outputs": [
    {
     "name": "stdout",
     "output_type": "stream",
     "text": [
      "Valeurs uniques pour la colonne Education: ['Graduation' 'PhD' 'Master' 'Basic' '2n Cycle']\n",
      "Valeurs uniques pour la colonne Marital_Status: ['Single' 'Together' 'Married' 'Divorced' 'Widow' 'Alone' 'Absurd' 'YOLO']\n"
     ]
    }
   ],
   "source": [
    "print(f\"Valeurs uniques pour la colonne Education: {data[\"Education\"].unique()}\")\n",
    "print(f\"Valeurs uniques pour la colonne Marital_Status: {data[\"Marital_Status\"].unique()}\")"
   ]
  },
  {
   "cell_type": "code",
   "execution_count": 18,
   "metadata": {},
   "outputs": [],
   "source": [
    "def education_level(education: str) -> str:\n",
    "    if education in [\"Graduation\", \"phD\", \"Master\"]:\n",
    "        return \"high\"\n",
    "    elif education in [\"Basic\"]:\n",
    "        return \"Middle\"\n",
    "    else:\n",
    "        return \"Low\"\n",
    "\n",
    "\n",
    "data[\"Education_level\"] = data[\"Education\"].apply(education_level)"
   ]
  },
  {
   "cell_type": "code",
   "execution_count": 19,
   "metadata": {},
   "outputs": [],
   "source": [
    "def living_status(marital_status: str) -> str:\n",
    "    if marital_status in [\"Alone\", \"Absurd\", \"YOLO\"]:\n",
    "        return \"Living Alone\"\n",
    "    else:\n",
    "        return \"Living with Others\"\n",
    "\n",
    "\n",
    "data[\"Living_Status\"] = data[\"Marital_Status\"].apply(living_status)\n"
   ]
  },
  {
   "cell_type": "code",
   "execution_count": 20,
   "metadata": {},
   "outputs": [],
   "source": [
    "data[\"age\"] = 2024 - data[\"Year_Birth\"]"
   ]
  },
  {
   "cell_type": "code",
   "execution_count": 21,
   "metadata": {},
   "outputs": [],
   "source": [
    "age_groups = [(23, 30), (31, 40), (41, 50), (51, 60), (61, 70), (71, 85)]\n",
    "\n",
    "\n",
    "def assign_age_group(age: int) -> str:\n",
    "    for age_range in age_groups:\n",
    "        if age_range[0] <= age <= age_range[1]:\n",
    "            return f\"{age_range[0]} - {age_range[1]}\"\n",
    "    return \"Unknown\"\n",
    "\n",
    "\n",
    "data[\"age_group\"] = data[\"age\"].apply(assign_age_group)\n"
   ]
  },
  {
   "cell_type": "code",
   "execution_count": 22,
   "metadata": {},
   "outputs": [],
   "source": [
    "data[\"accepted_campaigns\"] = data[\n",
    "    [\"AcceptedCmp1\", \"AcceptedCmp2\", \"AcceptedCmp3\", \"AcceptedCmp4\", \"AcceptedCmp5\"]\n",
    "].sum(axis=1)\n"
   ]
  },
  {
   "cell_type": "code",
   "execution_count": 23,
   "metadata": {},
   "outputs": [],
   "source": [
    "data[\"Is_Parent\"] = (data[\"Kidhome\"] + data[\"Teenhome\"] > 0).astype(int)"
   ]
  },
  {
   "cell_type": "code",
   "execution_count": 24,
   "metadata": {},
   "outputs": [],
   "source": [
    "data[\"Total_Amount_Spent\"] = data[\n",
    "    [\n",
    "        \"MntWines\",\n",
    "        \"MntFruits\",\n",
    "        \"MntMeatProducts\",\n",
    "        \"MntFishProducts\",\n",
    "        \"MntSweetProducts\",\n",
    "        \"MntGoldProds\",\n",
    "    ]\n",
    "].sum(axis=1)"
   ]
  },
  {
   "cell_type": "code",
   "execution_count": 25,
   "metadata": {},
   "outputs": [],
   "source": [
    "data[\"has_accepted_campaign\"] = data[\"accepted_campaigns\"] > 0"
   ]
  },
  {
   "cell_type": "code",
   "execution_count": 26,
   "metadata": {},
   "outputs": [],
   "source": [
    "def has_accepted_campaign(has_accepted_campaign: bool) -> str:\n",
    "    if has_accepted_campaign:\n",
    "        return \"Oui\"\n",
    "    else:\n",
    "        return \"Non\"\n",
    "    \n",
    "data[\"has_accepted_campaign\"] = data[\"has_accepted_campaign\"].apply(has_accepted_campaign)"
   ]
  },
  {
   "cell_type": "code",
   "execution_count": 27,
   "metadata": {},
   "outputs": [],
   "source": [
    "data.to_csv(\"data/marketing_campaign_cleaned.csv\", index=False)"
   ]
  },
  {
   "cell_type": "markdown",
   "metadata": {},
   "source": [
    "## Analyse exploratoire"
   ]
  },
  {
   "cell_type": "code",
   "execution_count": 28,
   "metadata": {},
   "outputs": [
    {
     "data": {
      "application/vnd.plotly.v1+json": {
       "config": {
        "plotlyServerURL": "https://plot.ly"
       },
       "data": [
        {
         "alignmentgroup": "True",
         "bingroup": "x",
         "hovertemplate": "Income=%{x}<br>count=%{y}<extra></extra>",
         "legendgroup": "",
         "marker": {
          "color": "#636efa",
          "pattern": {
           "shape": ""
          }
         },
         "name": "",
         "nbinsx": 50,
         "offsetgroup": "",
         "orientation": "v",
         "showlegend": false,
         "type": "histogram",
         "x": [
          58138,
          46344,
          71613,
          26646,
          58293,
          62513,
          55635,
          33454,
          30351,
          5648,
          7500,
          63033,
          59354,
          17323,
          82800,
          41850,
          37760,
          76995,
          33812,
          37040,
          2447,
          58607,
          65324,
          40689,
          18589,
          53359,
          38360,
          84618,
          10979,
          38620,
          40548,
          46610,
          68657,
          49389,
          67353,
          23718,
          42429,
          48948,
          80011,
          20559,
          21994,
          7500,
          79941,
          7500,
          41728,
          72550,
          65486,
          79143,
          35790,
          82582,
          66373,
          82384,
          70287,
          27938,
          55954,
          75777,
          66653,
          61823,
          67680,
          70666,
          25721,
          32474,
          88194,
          69096,
          74854,
          66991,
          65031,
          60631,
          28332,
          40246,
          75251,
          75825,
          26326,
          56046,
          29760,
          26304,
          23559,
          38620,
          81361,
          29440,
          36138,
          50388,
          79593,
          54178,
          42394,
          23626,
          30096,
          47916,
          51813,
          78497,
          50150,
          47823,
          34554,
          85693,
          65846,
          87195,
          24594,
          49096,
          52413,
          38557,
          89058,
          77298,
          68126,
          57288,
          86037,
          43974,
          50785,
          90765,
          36550,
          30753,
          21918,
          56129,
          32557,
          19510,
          30992,
          101970,
          71488,
          79607,
          54348,
          77376,
          62998,
          61331,
          73448,
          41551,
          62981,
          9548,
          33762,
          35860,
          36921,
          92859,
          65104,
          86111,
          68352,
          41883,
          59809,
          23957,
          38547,
          35688,
          49605,
          59354,
          65747,
          46344,
          34176,
          61010,
          69372,
          49967,
          60199,
          55375,
          80317,
          30523,
          70356,
          23228,
          74165,
          43482,
          62551,
          52332,
          66951,
          26091,
          33456,
          28718,
          50447,
          53537,
          52074,
          80427,
          83837,
          38853,
          38285,
          78497,
          51650,
          16248,
          66835,
          30477,
          28249,
          25271,
          32303,
          61286,
          74068,
          45759,
          24882,
          66973,
          36640,
          38872,
          51148,
          31353,
          69661,
          80067,
          86718,
          46854,
          69142,
          75922,
          63693,
          102160,
          40637,
          18890,
          29604,
          48721,
          44794,
          64497,
          46097,
          77972,
          44377,
          46014,
          70951,
          41443,
          52195,
          83790,
          44551,
          69508,
          45204,
          72460,
          77622,
          30732,
          63887,
          42011,
          51369,
          51537,
          79930,
          34320,
          37070,
          81975,
          38590,
          15033,
          62745,
          22212,
          23661,
          79761,
          7500,
          60182,
          73455,
          64961,
          22804,
          73687,
          61074,
          31686,
          80134,
          75027,
          67546,
          65176,
          31160,
          29938,
          102692,
          26490,
          75702,
          30899,
          63342,
          45989,
          18701,
          40737,
          15287,
          69674,
          44159,
          37717,
          43776,
          38179,
          80124,
          38097,
          72940,
          22070,
          69267,
          31788,
          61905,
          29315,
          33378,
          66313,
          60714,
          77882,
          69867,
          63841,
          24480,
          51369,
          37760,
          65640,
          44319,
          30631,
          75278,
          50898,
          79946,
          35416,
          32414,
          38361,
          82497,
          16626,
          29672,
          55951,
          35388,
          42386,
          68627,
          57912,
          35246,
          58821,
          46377,
          39747,
          23976,
          80950,
          27038,
          77457,
          64100,
          42670,
          12571,
          22574,
          70893,
          54198,
          28839,
          40321,
          66503,
          30833,
          64795,
          34421,
          47025,
          64325,
          40464,
          62187,
          14849,
          27255,
          54432,
          29999,
          24072,
          33996,
          66334,
          35178,
          22010,
          62204,
          75693,
          30675,
          83003,
          83532,
          68655,
          41411,
          55212,
          59292,
          27190,
          82623,
          44300,
          84835,
          30372,
          33181,
          71113,
          71952,
          69759,
          72099,
          60000,
          38643,
          50737,
          68462,
          65073,
          46681,
          78618,
          62187,
          28442,
          37717,
          51479,
          54803,
          79530,
          31615,
          72025,
          52614,
          35684,
          48178,
          29548,
          63810,
          38578,
          46098,
          22585,
          30279,
          66426,
          30822,
          33581,
          19986,
          27421,
          35688,
          36143,
          10245,
          43795,
          63381,
          38823,
          83664,
          90300,
          62499,
          74293,
          51012,
          70777,
          68682,
          43824,
          15345,
          23442,
          14515,
          31395,
          75276,
          42373,
          30507,
          55521,
          48006,
          27213,
          65808,
          30351,
          50437,
          23616,
          53858,
          66465,
          46923,
          75072,
          75865,
          19789,
          80134,
          91065,
          49505,
          37401,
          30096,
          18492,
          82584,
          93027,
          48686,
          92910,
          75433,
          10404,
          61314,
          84865,
          42387,
          67309,
          75236,
          30015,
          50943,
          67272,
          51529,
          32011,
          7500,
          28691,
          56223,
          18100,
          30279,
          20130,
          23295,
          42618,
          81246,
          24027,
          55707,
          57959,
          56796,
          36230,
          70829,
          65991,
          38988,
          89572,
          42207,
          50300,
          66664,
          60597,
          70165,
          50520,
          80124,
          33183,
          66582,
          75261,
          31880,
          53790,
          49269,
          61456,
          37406,
          56937,
          38415,
          20518,
          62503,
          41644,
          55842,
          62010,
          41124,
          38961,
          37760,
          32233,
          43057,
          83151,
          78825,
          65104,
          60093,
          14045,
          28457,
          78952,
          46310,
          76005,
          58308,
          55614,
          59432,
          55563,
          78642,
          67911,
          65275,
          27203,
          48330,
          24279,
          64355,
          50943,
          53653,
          65665,
          81217,
          34935,
          61250,
          39665,
          60152,
          48920,
          89120,
          44124,
          81169,
          36443,
          26095,
          71367,
          80184,
          30630,
          73454,
          42691,
          70503,
          25545,
          32880,
          77863,
          50353,
          61839,
          49154,
          47682,
          72679,
          57954,
          65316,
          28567,
          47352,
          44931,
          76982,
          57247,
          22944,
          25315,
          43638,
          42710,
          84169,
          54058,
          24683,
          85620,
          47850,
          19514,
          27159,
          39548,
          21474,
          60504,
          22419,
          81698,
          43462,
          54880,
          79908,
          15315,
          87771,
          33039,
          81741,
          71499,
          62466,
          48799,
          52157,
          66565,
          29298,
          47691,
          38200,
          44989,
          38443,
          38593,
          64413,
          36959,
          61996,
          51287,
          13260,
          47472,
          54603,
          45207,
          40689,
          47821,
          27450,
          39453,
          26850,
          79800,
          61794,
          53863,
          24221,
          39684,
          92163,
          69882,
          33178,
          59973,
          17459,
          23910,
          42169,
          26224,
          31089,
          30081,
          62807,
          72906,
          61467,
          49618,
          21888,
          42429,
          26150,
          30801,
          81168,
          26877,
          45006,
          18978,
          22574,
          48240,
          45837,
          35791,
          54162,
          30522,
          54456,
          31632,
          72298,
          36975,
          72635,
          13624,
          84196,
          70971,
          34487,
          28769,
          69084,
          65488,
          62466,
          32218,
          83917,
          46102,
          84574,
          56181,
          63120,
          73691,
          63381,
          76140,
          62859,
          45906,
          77632,
          46463,
          105471,
          55282,
          78710,
          66886,
          98777,
          29103,
          67445,
          50616,
          49431,
          61278,
          26490,
          73059,
          46734,
          56253,
          19986,
          58330,
          25965,
          14661,
          18690,
          45068,
          21063,
          29187,
          54690,
          59304,
          59247,
          66731,
          77353,
          52614,
          26751,
          81300,
          70337,
          36145,
          65295,
          68118,
          68743,
          41039,
          38946,
          65777,
          66476,
          86857,
          77845,
          69476,
          50611,
          61209,
          42315,
          13084,
          47570,
          61923,
          34824,
          26518,
          45938,
          78468,
          78901,
          71427,
          71022,
          90247,
          41335,
          71952,
          35682,
          43185,
          66375,
          35178,
          25252,
          55250,
          33249,
          58398,
          50272,
          76618,
          87305,
          25851,
          58710,
          45160,
          74806,
          59111,
          18988,
          72190,
          7500,
          44794,
          80395,
          75012,
          56962,
          89891,
          35946,
          53593,
          66373,
          45072,
          89694,
          72025,
          67432,
          70545,
          17487,
          62882,
          64108,
          34941,
          48767,
          38702,
          82224,
          83844,
          17003,
          71163,
          33697,
          63564,
          83443,
          51518,
          58330,
          80952,
          75507,
          63855,
          62220,
          58512,
          40662,
          38829,
          35523,
          79146,
          78285,
          31626,
          75127,
          48726,
          74985,
          67430,
          46891,
          62058,
          72063,
          78939,
          42720,
          33622,
          6835,
          41452,
          40760,
          74250,
          51124,
          72258,
          71466,
          36283,
          20587,
          30467,
          31590,
          20425,
          17144,
          42564,
          43783,
          40780,
          62847,
          82017,
          16813,
          51267,
          46524,
          45183,
          70421,
          60161,
          73926,
          19329,
          61872,
          46984,
          34838,
          82716,
          48192,
          49681,
          56850,
          55267,
          59666,
          72504,
          26872,
          21359,
          73170,
          52750,
          91820,
          65968,
          30772,
          22507,
          65685,
          25804,
          76412,
          22063,
          57091,
          22419,
          87771,
          78353,
          93404,
          37859,
          80995,
          16529,
          55412,
          48789,
          56575,
          25130,
          35441,
          71391,
          49494,
          81702,
          45889,
          56628,
          34026,
          40049,
          34176,
          19419,
          82504,
          81205,
          61618,
          55284,
          49980,
          15072,
          49166,
          65324,
          82347,
          30843,
          46374,
          60474,
          38576,
          55357,
          37758,
          85710,
          23228,
          44602,
          7500,
          38683,
          49514,
          57906,
          43456,
          19485,
          53172,
          30545,
          70123,
          62450,
          21675,
          42395,
          61346,
          80812,
          42835,
          39922,
          86424,
          17117,
          24762,
          35797,
          36627,
          51111,
          86857,
          82072,
          46231,
          42243,
          51195,
          68092,
          31814,
          51390,
          76630,
          26868,
          48948,
          55260,
          64090,
          78331,
          37087,
          21846,
          81320,
          54137,
          66825,
          57100,
          58917,
          85072,
          86429,
          45684,
          47889,
          45921,
          78420,
          75114,
          52278,
          35641,
          95529,
          62820,
          73113,
          84169,
          42607,
          74637,
          46015,
          72354,
          39858,
          34469,
          83033,
          24401,
          77583,
          74116,
          74293,
          68397,
          79632,
          46107,
          64950,
          25443,
          75127,
          32892,
          71796,
          67536,
          55239,
          60554,
          64831,
          56067,
          82025,
          94384,
          14906,
          51563,
          57937,
          68274,
          39771,
          67893,
          27922,
          52190,
          44051,
          42767,
          46106,
          16927,
          59754,
          53700,
          59041,
          54237,
          70647,
          52597,
          41021,
          40233,
          50183,
          54753,
          92955,
          33471,
          34596,
          44010,
          84219,
          40706,
          15716,
          59052,
          80573,
          83715,
          82576,
          56962,
          35704,
          53103,
          46779,
          4861,
          33462,
          63693,
          80763,
          65352,
          82170,
          75759,
          79689,
          35340,
          85683,
          24884,
          42021,
          64449,
          64587,
          34824,
          75437,
          26091,
          52845,
          46086,
          78028,
          95169,
          56337,
          22434,
          36930,
          36130,
          65569,
          83844,
          19514,
          36736,
          77568,
          49187,
          30168,
          34053,
          38196,
          59412,
          70924,
          54165,
          32300,
          20180,
          34961,
          28440,
          64504,
          33564,
          17345,
          56320,
          28647,
          15038,
          32173,
          68316,
          74538,
          91700,
          68695,
          31056,
          79593,
          28071,
          37334,
          46423,
          37126,
          47703,
          61180,
          38998,
          8028,
          76081,
          34728,
          33168,
          33585,
          77037,
          35196,
          44529,
          70924,
          28764,
          69098,
          25959,
          27100,
          70596,
          42557,
          53312,
          72228,
          67605,
          62845,
          65196,
          42000,
          35860,
          65526,
          16860,
          83528,
          64176,
          22304,
          67023,
          32892,
          70713,
          59925,
          39722,
          46610,
          88347,
          87171,
          26907,
          50014,
          41014,
          66294,
          36715,
          79456,
          40479,
          75345,
          54233,
          24163,
          84460,
          43776,
          71691,
          85844,
          39190,
          71367,
          38578,
          57236,
          61825,
          79803,
          80910,
          27590,
          56775,
          83829,
          54210,
          38508,
          53187,
          30023,
          76045,
          50870,
          15315,
          65463,
          66480,
          76773,
          81698,
          54466,
          98777,
          16269,
          71819,
          33569,
          36262,
          22634,
          47025,
          70566,
          31605,
          52034,
          48526,
          46734,
          39552,
          86358,
          46931,
          16581,
          63998,
          67381,
          25930,
          42693,
          85606,
          72903,
          49669,
          36778,
          85696,
          10979,
          49678,
          56129,
          37155,
          21282,
          33419,
          63285,
          21255,
          42162,
          54450,
          57744,
          26576,
          57513,
          68142,
          7500,
          83145,
          54197,
          23091,
          46049,
          56715,
          79410,
          57304,
          44375,
          54450,
          59594,
          80685,
          40344,
          62710,
          48985,
          35322,
          77142,
          81657,
          14421,
          20130,
          74214,
          66726,
          23724,
          47353,
          33444,
          54386,
          28510,
          90638,
          48070,
          43140,
          54959,
          15056,
          26954,
          22327,
          44393,
          62000,
          31497,
          45894,
          78579,
          67369,
          58401,
          62307,
          43641,
          63841,
          46891,
          70091,
          78075,
          59184,
          54809,
          58113,
          51412,
          15287,
          66636,
          50965,
          84618,
          18351,
          40451,
          36317,
          42213,
          65748,
          77044,
          74918,
          56721,
          42160,
          61559,
          33629,
          68682,
          34377,
          8940,
          26228,
          77297,
          40211,
          33438,
          75032,
          61284,
          22518,
          54730,
          38452,
          44421,
          38197,
          41986,
          28427,
          37395,
          64722,
          55249,
          84906,
          28691,
          44213,
          25707,
          59062,
          76624,
          66000,
          27683,
          1730,
          7500,
          40521,
          20427,
          65106,
          69969,
          67433,
          77766,
          74716,
          68118,
          55158,
          62972,
          74190,
          39356,
          76653,
          35860,
          90687,
          73450,
          31454,
          47139,
          83829,
          53378,
          19656,
          45579,
          85485,
          55956,
          64191,
          38808,
          57183,
          23748,
          66303,
          37368,
          40800,
          71847,
          46149,
          78687,
          49118,
          37633,
          39767,
          26997,
          33986,
          57091,
          46831,
          83151,
          52531,
          15759,
          22804,
          43050,
          42997,
          48918,
          60033,
          34043,
          57811,
          78569,
          7500,
          94384,
          23148,
          44267,
          71626,
          60894,
          50200,
          81051,
          65169,
          59868,
          65695,
          64857,
          45143,
          74805,
          59060,
          27238,
          47009,
          46094,
          40321,
          37235,
          81843,
          46692,
          77382,
          37774,
          18393,
          72828,
          24711,
          45503,
          6560,
          71604,
          27244,
          48752,
          71434,
          90842,
          88097,
          51948,
          71853,
          35876,
          40049,
          39660,
          50127,
          43263,
          62845,
          18929,
          24367,
          33249,
          26887,
          50150,
          62061,
          85696,
          76542,
          70515,
          18227,
          69139,
          69109,
          69627,
          38136,
          62159,
          80695,
          33316,
          58554,
          17256,
          53034,
          52203,
          59601,
          75154,
          47025,
          37971,
          41335,
          67267,
          57338,
          50523,
          35791,
          50611,
          56242,
          48904,
          56243,
          21355,
          57420,
          46390,
          54342,
          20895,
          92344,
          26907,
          44964,
          75507,
          53761,
          22682,
          38887,
          41658,
          29791,
          63915,
          39996,
          26759,
          63841,
          51039,
          60544,
          65685,
          37716,
          36864,
          44511,
          36947,
          47352,
          67087,
          57045,
          36957,
          69389,
          80134,
          43142,
          80589,
          34412,
          57537,
          22634,
          51315,
          36026,
          24639,
          34578,
          65704,
          63810,
          54132,
          18690,
          28164,
          34596,
          43269,
          38741,
          31907,
          27100,
          31163,
          92533,
          34853,
          70844,
          31086,
          60544,
          20491,
          42523,
          39922,
          33402,
          36408,
          21645,
          78427,
          82657,
          51876,
          78041,
          52852,
          70038,
          69401,
          46053,
          77343,
          73892,
          40304,
          32727,
          68695,
          43300,
          26290,
          93790,
          38410,
          64866,
          57957,
          46015,
          16531,
          28072,
          49476,
          50725,
          83844,
          41145,
          67419,
          23162,
          34380,
          34704,
          94871,
          65148,
          39898,
          64857,
          59892,
          41020,
          57072,
          60474,
          62807,
          19414,
          19107,
          75484,
          70379,
          79419,
          64014,
          76998,
          49854,
          60585,
          42873,
          87679,
          57867,
          35765,
          65492,
          32952,
          53374,
          71706,
          68487,
          53253,
          31163,
          42014,
          54108,
          49667,
          63206,
          57136,
          46772,
          78931,
          53977,
          84219,
          46098,
          73538,
          79529,
          20981,
          51766,
          55759,
          33039,
          37787,
          27242,
          87188,
          69930,
          37697,
          37401,
          3502,
          58597,
          82032,
          28087,
          74004,
          19740,
          57036,
          53083,
          69283,
          46098,
          23331,
          23331,
          9255,
          67786,
          71969,
          59235,
          31928,
          74881,
          65819,
          51411,
          51983,
          42386,
          30390,
          30983,
          66033,
          37284,
          57530,
          76800,
          63943,
          76081,
          67445,
          37054,
          47175,
          31859,
          27215,
          70179,
          39922,
          49681,
          24645,
          79865,
          44322,
          47958,
          63972,
          75315,
          55517,
          75283,
          82800,
          38998,
          90638,
          27161,
          42014,
          38201,
          45203,
          81574,
          34935,
          60482,
          34633,
          78093,
          82460,
          45903,
          81361,
          35860,
          40442,
          61482,
          34968,
          75794,
          31497,
          74268,
          13724,
          45143,
          52569,
          48432,
          17144,
          36108,
          76445,
          36663,
          53843,
          90226,
          70638,
          44512,
          27116,
          54072,
          71855,
          51250,
          60432,
          65526,
          68655,
          12393,
          64509,
          33955,
          31353,
          55434,
          28359,
          57100,
          69139,
          52973,
          51717,
          18793,
          66664,
          50664,
          54414,
          54549,
          47111,
          41003,
          19444,
          36301,
          73059,
          42731,
          52854,
          22775,
          46681,
          59821,
          50002,
          69755,
          44078,
          30560,
          35924,
          64140,
          56386,
          24594,
          75774,
          39228,
          58494,
          58684,
          57136,
          56551,
          22448,
          82014,
          34213,
          25358,
          35544,
          36634,
          62670,
          50334,
          72066,
          50729,
          34916,
          64892,
          43602,
          33996,
          41473,
          63246,
          36732,
          69084,
          77766,
          37929,
          86610,
          80141,
          72635,
          69016,
          20193,
          27573,
          15862,
          49544,
          33228,
          70440,
          38232,
          22554,
          23536,
          49413,
          42231,
          78789,
          56534,
          58350,
          81217,
          49090,
          61787,
          18169,
          24336,
          18222,
          62335,
          42033,
          86580,
          41437,
          73705,
          61064,
          38452,
          18358,
          55012,
          9722,
          38175,
          58656,
          52117,
          64813,
          54222,
          83512,
          77520,
          41154,
          80398,
          18746,
          35196,
          60230,
          22108,
          44392,
          55424,
          17688,
          92491,
          90273,
          82571,
          38513,
          16653,
          42586,
          23529,
          74881,
          71107,
          46910,
          18690,
          37244,
          82427,
          75342,
          70044,
          79146,
          77437,
          54984,
          42403,
          55761,
          37292,
          45576,
          70321,
          58086,
          81795,
          28389,
          66835,
          69901,
          80360,
          63342,
          44989,
          31859,
          51569,
          30372,
          16014,
          41120,
          39763,
          38725,
          77981,
          62905,
          13533,
          59481,
          72117,
          21955,
          67131,
          36802,
          71853,
          28249,
          47808,
          25509,
          51012,
          70596,
          85431,
          42664,
          42586,
          29760,
          28973,
          39435,
          65370,
          20194,
          42473,
          64590,
          71232,
          34600,
          46904,
          49094,
          36075,
          60839,
          77298,
          34026,
          48918,
          82122,
          37697,
          34074,
          28520,
          62535,
          36273,
          63404,
          75774,
          78416,
          75702,
          59385,
          37070,
          44689,
          53977,
          7144,
          18701,
          90369,
          63159,
          37758,
          46757,
          79734,
          63207,
          72071,
          21840,
          58582,
          72282,
          50387,
          32583,
          62568,
          44635,
          33316,
          63967,
          52513,
          25293,
          54111,
          78394,
          80739,
          22669,
          29236,
          44911,
          54693,
          48186,
          54809,
          41580,
          80336,
          47743,
          62972,
          57333,
          32313,
          84953,
          27071,
          68148,
          65735,
          86836,
          4023,
          30093,
          57705,
          25008,
          83257,
          22280,
          72159,
          64260,
          82733,
          74290,
          58217,
          21024,
          70116,
          54006,
          69063,
          11448,
          61825,
          70886,
          69109,
          60208,
          32889,
          34738,
          30538,
          82326,
          26642,
          69932,
          44503,
          60200,
          49638,
          23830,
          33051,
          72905,
          69702,
          70300,
          70643,
          30396,
          50616,
          62772,
          30298,
          52413,
          44155,
          86979,
          76532,
          42081,
          67546,
          88420,
          31158,
          61671,
          69719,
          49160,
          24882,
          90933,
          113734,
          59292,
          45759,
          22148,
          73395,
          29819,
          45688,
          62820,
          60491,
          33235,
          35701,
          31535,
          92556,
          67384,
          80573,
          77870,
          52278,
          57107,
          18929,
          36038,
          20180,
          34230,
          31878,
          70932,
          91249,
          77598,
          80982,
          22701,
          55212,
          70617,
          64849,
          62694,
          61917,
          67472,
          21059,
          29543,
          75903,
          34984,
          54998,
          54356,
          34242,
          25410,
          73356,
          28320,
          23763,
          72570,
          34529,
          70792,
          63211,
          83891,
          36065,
          39898,
          51141,
          56939,
          80872,
          72335,
          61798,
          76842,
          29478,
          46998,
          96843,
          56551,
          70053,
          71670,
          44359,
          40887,
          48877,
          74485,
          64474,
          77226,
          72643,
          85738,
          55686,
          39062,
          34600,
          40794,
          54690,
          4428,
          32632,
          38236,
          36781,
          31385,
          24570,
          25509,
          94642,
          58646,
          53201,
          21994,
          57113,
          51373,
          23477,
          58116,
          72968,
          39791,
          91712,
          94472,
          13672,
          96547,
          79205,
          56559,
          32644,
          67506,
          24206,
          28420,
          22979,
          33279,
          46423,
          30368,
          63684,
          41638,
          68805,
          65814,
          71964,
          39146,
          96876,
          34445,
          68281,
          37284,
          36790,
          27943,
          22263,
          30261,
          28587,
          43815,
          48195,
          77027,
          71322,
          32765,
          29672,
          23272,
          49912,
          7500,
          68117,
          67225,
          17649,
          55914,
          40059,
          60905,
          75330,
          60689,
          38680,
          61416,
          49767,
          83273,
          29009,
          45057,
          37150,
          43020,
          53154,
          65308,
          76467,
          81044,
          32871,
          55801,
          76320,
          36927,
          48794,
          23478,
          71128,
          70179,
          59462,
          38361,
          70038,
          42554,
          67445,
          67046,
          42192,
          77610,
          31761,
          34350,
          54591,
          71866,
          25293,
          42000,
          69520,
          64713,
          27889,
          22123,
          27803,
          51651,
          68487,
          56796,
          87000,
          79823,
          30828,
          34109,
          53367,
          22390,
          71322,
          79244,
          49912,
          48699,
          80144,
          54252,
          81929,
          76068,
          53204,
          67911,
          14796,
          78128,
          14188,
          20425,
          58646,
          72967,
          48150,
          82332,
          58275,
          44953,
          34587,
          43018,
          45736,
          66476,
          27733,
          69805,
          72217,
          25818,
          37509,
          25176,
          43586,
          53230,
          50116,
          84906,
          61286,
          82333,
          65220,
          33590,
          30992,
          72309,
          16005,
          65487,
          58692,
          40590,
          20587,
          62637,
          29435,
          19346,
          35788,
          36997,
          23539,
          65333,
          78499,
          29732,
          41275,
          63516,
          42769,
          49572,
          69209,
          17148,
          40590,
          30560,
          32146,
          41713,
          34176,
          58482,
          59686,
          60896,
          62994,
          47320,
          74859,
          15253,
          31560,
          72071,
          91172,
          90000,
          41967,
          69263,
          65706,
          60934,
          71965,
          65210,
          79174,
          81380,
          48432,
          52914,
          38946,
          26067,
          44325,
          42523,
          26487,
          53233,
          67716,
          76234,
          84117,
          65487,
          25224,
          89616,
          40851,
          27469,
          82347,
          73803,
          8820,
          43322,
          55593,
          50501,
          37085,
          16185,
          57731,
          48432,
          73807,
          18929,
          35893,
          61014,
          32144,
          14918,
          45146,
          41769,
          88325,
          38054,
          80617,
          5305,
          36807,
          28427,
          82032,
          22775,
          40101,
          58025,
          75777,
          7500,
          33562,
          57642,
          58554,
          63777,
          57967,
          24434,
          11012,
          44802,
          26816,
          34421,
          61223,
          64014,
          56981,
          69245,
          52869
         ],
         "xaxis": "x",
         "yaxis": "y"
        }
       ],
       "layout": {
        "barmode": "relative",
        "legend": {
         "tracegroupgap": 0
        },
        "template": {
         "data": {
          "bar": [
           {
            "error_x": {
             "color": "#2a3f5f"
            },
            "error_y": {
             "color": "#2a3f5f"
            },
            "marker": {
             "line": {
              "color": "#E5ECF6",
              "width": 0.5
             },
             "pattern": {
              "fillmode": "overlay",
              "size": 10,
              "solidity": 0.2
             }
            },
            "type": "bar"
           }
          ],
          "barpolar": [
           {
            "marker": {
             "line": {
              "color": "#E5ECF6",
              "width": 0.5
             },
             "pattern": {
              "fillmode": "overlay",
              "size": 10,
              "solidity": 0.2
             }
            },
            "type": "barpolar"
           }
          ],
          "carpet": [
           {
            "aaxis": {
             "endlinecolor": "#2a3f5f",
             "gridcolor": "white",
             "linecolor": "white",
             "minorgridcolor": "white",
             "startlinecolor": "#2a3f5f"
            },
            "baxis": {
             "endlinecolor": "#2a3f5f",
             "gridcolor": "white",
             "linecolor": "white",
             "minorgridcolor": "white",
             "startlinecolor": "#2a3f5f"
            },
            "type": "carpet"
           }
          ],
          "choropleth": [
           {
            "colorbar": {
             "outlinewidth": 0,
             "ticks": ""
            },
            "type": "choropleth"
           }
          ],
          "contour": [
           {
            "colorbar": {
             "outlinewidth": 0,
             "ticks": ""
            },
            "colorscale": [
             [
              0,
              "#0d0887"
             ],
             [
              0.1111111111111111,
              "#46039f"
             ],
             [
              0.2222222222222222,
              "#7201a8"
             ],
             [
              0.3333333333333333,
              "#9c179e"
             ],
             [
              0.4444444444444444,
              "#bd3786"
             ],
             [
              0.5555555555555556,
              "#d8576b"
             ],
             [
              0.6666666666666666,
              "#ed7953"
             ],
             [
              0.7777777777777778,
              "#fb9f3a"
             ],
             [
              0.8888888888888888,
              "#fdca26"
             ],
             [
              1,
              "#f0f921"
             ]
            ],
            "type": "contour"
           }
          ],
          "contourcarpet": [
           {
            "colorbar": {
             "outlinewidth": 0,
             "ticks": ""
            },
            "type": "contourcarpet"
           }
          ],
          "heatmap": [
           {
            "colorbar": {
             "outlinewidth": 0,
             "ticks": ""
            },
            "colorscale": [
             [
              0,
              "#0d0887"
             ],
             [
              0.1111111111111111,
              "#46039f"
             ],
             [
              0.2222222222222222,
              "#7201a8"
             ],
             [
              0.3333333333333333,
              "#9c179e"
             ],
             [
              0.4444444444444444,
              "#bd3786"
             ],
             [
              0.5555555555555556,
              "#d8576b"
             ],
             [
              0.6666666666666666,
              "#ed7953"
             ],
             [
              0.7777777777777778,
              "#fb9f3a"
             ],
             [
              0.8888888888888888,
              "#fdca26"
             ],
             [
              1,
              "#f0f921"
             ]
            ],
            "type": "heatmap"
           }
          ],
          "heatmapgl": [
           {
            "colorbar": {
             "outlinewidth": 0,
             "ticks": ""
            },
            "colorscale": [
             [
              0,
              "#0d0887"
             ],
             [
              0.1111111111111111,
              "#46039f"
             ],
             [
              0.2222222222222222,
              "#7201a8"
             ],
             [
              0.3333333333333333,
              "#9c179e"
             ],
             [
              0.4444444444444444,
              "#bd3786"
             ],
             [
              0.5555555555555556,
              "#d8576b"
             ],
             [
              0.6666666666666666,
              "#ed7953"
             ],
             [
              0.7777777777777778,
              "#fb9f3a"
             ],
             [
              0.8888888888888888,
              "#fdca26"
             ],
             [
              1,
              "#f0f921"
             ]
            ],
            "type": "heatmapgl"
           }
          ],
          "histogram": [
           {
            "marker": {
             "pattern": {
              "fillmode": "overlay",
              "size": 10,
              "solidity": 0.2
             }
            },
            "type": "histogram"
           }
          ],
          "histogram2d": [
           {
            "colorbar": {
             "outlinewidth": 0,
             "ticks": ""
            },
            "colorscale": [
             [
              0,
              "#0d0887"
             ],
             [
              0.1111111111111111,
              "#46039f"
             ],
             [
              0.2222222222222222,
              "#7201a8"
             ],
             [
              0.3333333333333333,
              "#9c179e"
             ],
             [
              0.4444444444444444,
              "#bd3786"
             ],
             [
              0.5555555555555556,
              "#d8576b"
             ],
             [
              0.6666666666666666,
              "#ed7953"
             ],
             [
              0.7777777777777778,
              "#fb9f3a"
             ],
             [
              0.8888888888888888,
              "#fdca26"
             ],
             [
              1,
              "#f0f921"
             ]
            ],
            "type": "histogram2d"
           }
          ],
          "histogram2dcontour": [
           {
            "colorbar": {
             "outlinewidth": 0,
             "ticks": ""
            },
            "colorscale": [
             [
              0,
              "#0d0887"
             ],
             [
              0.1111111111111111,
              "#46039f"
             ],
             [
              0.2222222222222222,
              "#7201a8"
             ],
             [
              0.3333333333333333,
              "#9c179e"
             ],
             [
              0.4444444444444444,
              "#bd3786"
             ],
             [
              0.5555555555555556,
              "#d8576b"
             ],
             [
              0.6666666666666666,
              "#ed7953"
             ],
             [
              0.7777777777777778,
              "#fb9f3a"
             ],
             [
              0.8888888888888888,
              "#fdca26"
             ],
             [
              1,
              "#f0f921"
             ]
            ],
            "type": "histogram2dcontour"
           }
          ],
          "mesh3d": [
           {
            "colorbar": {
             "outlinewidth": 0,
             "ticks": ""
            },
            "type": "mesh3d"
           }
          ],
          "parcoords": [
           {
            "line": {
             "colorbar": {
              "outlinewidth": 0,
              "ticks": ""
             }
            },
            "type": "parcoords"
           }
          ],
          "pie": [
           {
            "automargin": true,
            "type": "pie"
           }
          ],
          "scatter": [
           {
            "fillpattern": {
             "fillmode": "overlay",
             "size": 10,
             "solidity": 0.2
            },
            "type": "scatter"
           }
          ],
          "scatter3d": [
           {
            "line": {
             "colorbar": {
              "outlinewidth": 0,
              "ticks": ""
             }
            },
            "marker": {
             "colorbar": {
              "outlinewidth": 0,
              "ticks": ""
             }
            },
            "type": "scatter3d"
           }
          ],
          "scattercarpet": [
           {
            "marker": {
             "colorbar": {
              "outlinewidth": 0,
              "ticks": ""
             }
            },
            "type": "scattercarpet"
           }
          ],
          "scattergeo": [
           {
            "marker": {
             "colorbar": {
              "outlinewidth": 0,
              "ticks": ""
             }
            },
            "type": "scattergeo"
           }
          ],
          "scattergl": [
           {
            "marker": {
             "colorbar": {
              "outlinewidth": 0,
              "ticks": ""
             }
            },
            "type": "scattergl"
           }
          ],
          "scattermapbox": [
           {
            "marker": {
             "colorbar": {
              "outlinewidth": 0,
              "ticks": ""
             }
            },
            "type": "scattermapbox"
           }
          ],
          "scatterpolar": [
           {
            "marker": {
             "colorbar": {
              "outlinewidth": 0,
              "ticks": ""
             }
            },
            "type": "scatterpolar"
           }
          ],
          "scatterpolargl": [
           {
            "marker": {
             "colorbar": {
              "outlinewidth": 0,
              "ticks": ""
             }
            },
            "type": "scatterpolargl"
           }
          ],
          "scatterternary": [
           {
            "marker": {
             "colorbar": {
              "outlinewidth": 0,
              "ticks": ""
             }
            },
            "type": "scatterternary"
           }
          ],
          "surface": [
           {
            "colorbar": {
             "outlinewidth": 0,
             "ticks": ""
            },
            "colorscale": [
             [
              0,
              "#0d0887"
             ],
             [
              0.1111111111111111,
              "#46039f"
             ],
             [
              0.2222222222222222,
              "#7201a8"
             ],
             [
              0.3333333333333333,
              "#9c179e"
             ],
             [
              0.4444444444444444,
              "#bd3786"
             ],
             [
              0.5555555555555556,
              "#d8576b"
             ],
             [
              0.6666666666666666,
              "#ed7953"
             ],
             [
              0.7777777777777778,
              "#fb9f3a"
             ],
             [
              0.8888888888888888,
              "#fdca26"
             ],
             [
              1,
              "#f0f921"
             ]
            ],
            "type": "surface"
           }
          ],
          "table": [
           {
            "cells": {
             "fill": {
              "color": "#EBF0F8"
             },
             "line": {
              "color": "white"
             }
            },
            "header": {
             "fill": {
              "color": "#C8D4E3"
             },
             "line": {
              "color": "white"
             }
            },
            "type": "table"
           }
          ]
         },
         "layout": {
          "annotationdefaults": {
           "arrowcolor": "#2a3f5f",
           "arrowhead": 0,
           "arrowwidth": 1
          },
          "autotypenumbers": "strict",
          "coloraxis": {
           "colorbar": {
            "outlinewidth": 0,
            "ticks": ""
           }
          },
          "colorscale": {
           "diverging": [
            [
             0,
             "#8e0152"
            ],
            [
             0.1,
             "#c51b7d"
            ],
            [
             0.2,
             "#de77ae"
            ],
            [
             0.3,
             "#f1b6da"
            ],
            [
             0.4,
             "#fde0ef"
            ],
            [
             0.5,
             "#f7f7f7"
            ],
            [
             0.6,
             "#e6f5d0"
            ],
            [
             0.7,
             "#b8e186"
            ],
            [
             0.8,
             "#7fbc41"
            ],
            [
             0.9,
             "#4d9221"
            ],
            [
             1,
             "#276419"
            ]
           ],
           "sequential": [
            [
             0,
             "#0d0887"
            ],
            [
             0.1111111111111111,
             "#46039f"
            ],
            [
             0.2222222222222222,
             "#7201a8"
            ],
            [
             0.3333333333333333,
             "#9c179e"
            ],
            [
             0.4444444444444444,
             "#bd3786"
            ],
            [
             0.5555555555555556,
             "#d8576b"
            ],
            [
             0.6666666666666666,
             "#ed7953"
            ],
            [
             0.7777777777777778,
             "#fb9f3a"
            ],
            [
             0.8888888888888888,
             "#fdca26"
            ],
            [
             1,
             "#f0f921"
            ]
           ],
           "sequentialminus": [
            [
             0,
             "#0d0887"
            ],
            [
             0.1111111111111111,
             "#46039f"
            ],
            [
             0.2222222222222222,
             "#7201a8"
            ],
            [
             0.3333333333333333,
             "#9c179e"
            ],
            [
             0.4444444444444444,
             "#bd3786"
            ],
            [
             0.5555555555555556,
             "#d8576b"
            ],
            [
             0.6666666666666666,
             "#ed7953"
            ],
            [
             0.7777777777777778,
             "#fb9f3a"
            ],
            [
             0.8888888888888888,
             "#fdca26"
            ],
            [
             1,
             "#f0f921"
            ]
           ]
          },
          "colorway": [
           "#636efa",
           "#EF553B",
           "#00cc96",
           "#ab63fa",
           "#FFA15A",
           "#19d3f3",
           "#FF6692",
           "#B6E880",
           "#FF97FF",
           "#FECB52"
          ],
          "font": {
           "color": "#2a3f5f"
          },
          "geo": {
           "bgcolor": "white",
           "lakecolor": "white",
           "landcolor": "#E5ECF6",
           "showlakes": true,
           "showland": true,
           "subunitcolor": "white"
          },
          "hoverlabel": {
           "align": "left"
          },
          "hovermode": "closest",
          "mapbox": {
           "style": "light"
          },
          "paper_bgcolor": "white",
          "plot_bgcolor": "#E5ECF6",
          "polar": {
           "angularaxis": {
            "gridcolor": "white",
            "linecolor": "white",
            "ticks": ""
           },
           "bgcolor": "#E5ECF6",
           "radialaxis": {
            "gridcolor": "white",
            "linecolor": "white",
            "ticks": ""
           }
          },
          "scene": {
           "xaxis": {
            "backgroundcolor": "#E5ECF6",
            "gridcolor": "white",
            "gridwidth": 2,
            "linecolor": "white",
            "showbackground": true,
            "ticks": "",
            "zerolinecolor": "white"
           },
           "yaxis": {
            "backgroundcolor": "#E5ECF6",
            "gridcolor": "white",
            "gridwidth": 2,
            "linecolor": "white",
            "showbackground": true,
            "ticks": "",
            "zerolinecolor": "white"
           },
           "zaxis": {
            "backgroundcolor": "#E5ECF6",
            "gridcolor": "white",
            "gridwidth": 2,
            "linecolor": "white",
            "showbackground": true,
            "ticks": "",
            "zerolinecolor": "white"
           }
          },
          "shapedefaults": {
           "line": {
            "color": "#2a3f5f"
           }
          },
          "ternary": {
           "aaxis": {
            "gridcolor": "white",
            "linecolor": "white",
            "ticks": ""
           },
           "baxis": {
            "gridcolor": "white",
            "linecolor": "white",
            "ticks": ""
           },
           "bgcolor": "#E5ECF6",
           "caxis": {
            "gridcolor": "white",
            "linecolor": "white",
            "ticks": ""
           }
          },
          "title": {
           "x": 0.05
          },
          "xaxis": {
           "automargin": true,
           "gridcolor": "white",
           "linecolor": "white",
           "ticks": "",
           "title": {
            "standoff": 15
           },
           "zerolinecolor": "white",
           "zerolinewidth": 2
          },
          "yaxis": {
           "automargin": true,
           "gridcolor": "white",
           "linecolor": "white",
           "ticks": "",
           "title": {
            "standoff": 15
           },
           "zerolinecolor": "white",
           "zerolinewidth": 2
          }
         }
        },
        "title": {
         "text": "Distribution des revenus"
        },
        "xaxis": {
         "anchor": "y",
         "domain": [
          0,
          1
         ],
         "title": {
          "text": "Income"
         }
        },
        "yaxis": {
         "anchor": "x",
         "domain": [
          0,
          1
         ],
         "title": {
          "text": "count"
         }
        }
       }
      }
     },
     "metadata": {},
     "output_type": "display_data"
    }
   ],
   "source": [
    "income_dist =  px.histogram(data, x=\"Income\", nbins=50, title=\"Distribution des revenus\")\n",
    "income_dist.show()"
   ]
  },
  {
   "cell_type": "code",
   "execution_count": 29,
   "metadata": {},
   "outputs": [
    {
     "data": {
      "application/vnd.plotly.v1+json": {
       "config": {
        "plotlyServerURL": "https://plot.ly"
       },
       "data": [
        {
         "alignmentgroup": "True",
         "bingroup": "x",
         "hovertemplate": "age=%{x}<br>count=%{y}<extra></extra>",
         "legendgroup": "",
         "marker": {
          "color": "#636efa",
          "pattern": {
           "shape": ""
          }
         },
         "name": "",
         "nbinsx": 50,
         "offsetgroup": "",
         "orientation": "v",
         "showlegend": false,
         "type": "histogram",
         "x": [
          67,
          70,
          59,
          40,
          43,
          57,
          53,
          39,
          50,
          74,
          48,
          65,
          72,
          37,
          78,
          44,
          78,
          75,
          39,
          42,
          45,
          75,
          70,
          73,
          55,
          48,
          35,
          59,
          35,
          61,
          54,
          72,
          78,
          73,
          54,
          48,
          51,
          81,
          44,
          39,
          67,
          49,
          48,
          28,
          56,
          70,
          67,
          60,
          47,
          47,
          46,
          69,
          58,
          36,
          56,
          42,
          49,
          72,
          73,
          76,
          53,
          57,
          45,
          66,
          54,
          70,
          65,
          49,
          72,
          47,
          52,
          48,
          48,
          59,
          39,
          55,
          51,
          61,
          37,
          64,
          54,
          67,
          51,
          57,
          52,
          54,
          41,
          64,
          52,
          73,
          41,
          64,
          65,
          45,
          79,
          65,
          45,
          60,
          55,
          46,
          64,
          45,
          33,
          61,
          33,
          44,
          62,
          54,
          46,
          57,
          55,
          71,
          57,
          39,
          48,
          41,
          59,
          40,
          71,
          68,
          72,
          66,
          55,
          60,
          57,
          48,
          65,
          51,
          59,
          32,
          48,
          62,
          50,
          36,
          48,
          49,
          43,
          51,
          58,
          71,
          55,
          52,
          36,
          72,
          75,
          66,
          46,
          47,
          69,
          66,
          79,
          40,
          49,
          58,
          71,
          65,
          36,
          67,
          59,
          42,
          54,
          65,
          57,
          49,
          76,
          54,
          65,
          73,
          48,
          36,
          78,
          40,
          63,
          41,
          54,
          58,
          48,
          60,
          46,
          35,
          124,
          36,
          51,
          47,
          44,
          70,
          70,
          51,
          72,
          56,
          46,
          47,
          59,
          40,
          36,
          61,
          58,
          70,
          68,
          70,
          56,
          50,
          39,
          47,
          46,
          76,
          70,
          44,
          36,
          55,
          54,
          44,
          62,
          46,
          48,
          72,
          52,
          38,
          58,
          62,
          53,
          73,
          59,
          49,
          42,
          66,
          51,
          131,
          56,
          66,
          53,
          34,
          66,
          60,
          52,
          71,
          36,
          55,
          49,
          39,
          50,
          66,
          57,
          50,
          63,
          60,
          60,
          67,
          45,
          56,
          54,
          46,
          72,
          58,
          61,
          54,
          54,
          54,
          71,
          41,
          49,
          64,
          61,
          61,
          68,
          43,
          38,
          56,
          43,
          48,
          78,
          50,
          49,
          50,
          72,
          68,
          58,
          75,
          40,
          55,
          44,
          53,
          59,
          72,
          36,
          38,
          42,
          59,
          66,
          68,
          46,
          36,
          40,
          63,
          58,
          77,
          60,
          32,
          48,
          57,
          48,
          58,
          68,
          52,
          39,
          73,
          53,
          50,
          59,
          63,
          71,
          67,
          48,
          40,
          74,
          38,
          41,
          35,
          68,
          53,
          41,
          64,
          56,
          52,
          59,
          125,
          36,
          38,
          55,
          74,
          51,
          72,
          59,
          54,
          53,
          48,
          67,
          38,
          58,
          50,
          48,
          46,
          69,
          55,
          81,
          76,
          67,
          55,
          46,
          46,
          57,
          55,
          64,
          48,
          62,
          49,
          40,
          49,
          54,
          58,
          52,
          49,
          54,
          35,
          63,
          55,
          55,
          39,
          70,
          51,
          43,
          53,
          56,
          64,
          75,
          56,
          45,
          45,
          31,
          78,
          56,
          33,
          53,
          40,
          37,
          44,
          68,
          59,
          50,
          64,
          69,
          59,
          52,
          53,
          50,
          61,
          42,
          48,
          69,
          37,
          62,
          81,
          49,
          30,
          43,
          53,
          51,
          41,
          42,
          50,
          83,
          71,
          38,
          35,
          35,
          56,
          63,
          35,
          57,
          60,
          54,
          68,
          58,
          75,
          53,
          38,
          35,
          76,
          78,
          35,
          50,
          65,
          52,
          60,
          48,
          71,
          69,
          55,
          53,
          44,
          48,
          52,
          58,
          40,
          72,
          42,
          60,
          75,
          66,
          61,
          49,
          55,
          69,
          54,
          73,
          53,
          49,
          44,
          43,
          46,
          36,
          68,
          52,
          47,
          52,
          47,
          51,
          52,
          50,
          49,
          64,
          60,
          48,
          50,
          55,
          72,
          66,
          48,
          69,
          60,
          80,
          62,
          46,
          53,
          75,
          80,
          74,
          63,
          34,
          39,
          68,
          71,
          48,
          35,
          32,
          65,
          43,
          45,
          60,
          65,
          78,
          49,
          63,
          34,
          65,
          80,
          59,
          37,
          33,
          71,
          37,
          38,
          66,
          47,
          60,
          64,
          49,
          55,
          47,
          62,
          42,
          73,
          57,
          57,
          72,
          43,
          47,
          55,
          40,
          42,
          48,
          34,
          60,
          44,
          56,
          51,
          61,
          35,
          53,
          61,
          75,
          72,
          46,
          42,
          54,
          65,
          46,
          44,
          53,
          54,
          61,
          74,
          62,
          73,
          45,
          54,
          50,
          56,
          46,
          54,
          43,
          47,
          56,
          54,
          58,
          68,
          50,
          73,
          57,
          73,
          41,
          53,
          69,
          63,
          69,
          65,
          40,
          49,
          59,
          47,
          52,
          49,
          55,
          55,
          46,
          43,
          63,
          64,
          69,
          76,
          58,
          38,
          51,
          68,
          49,
          59,
          55,
          80,
          51,
          57,
          55,
          50,
          59,
          46,
          64,
          63,
          53,
          75,
          46,
          69,
          48,
          49,
          64,
          47,
          47,
          54,
          66,
          54,
          64,
          51,
          62,
          72,
          62,
          74,
          53,
          64,
          76,
          65,
          60,
          77,
          53,
          54,
          54,
          47,
          66,
          64,
          39,
          50,
          74,
          69,
          71,
          66,
          77,
          58,
          61,
          39,
          49,
          44,
          68,
          65,
          50,
          37,
          56,
          53,
          60,
          62,
          54,
          44,
          49,
          50,
          61,
          45,
          39,
          44,
          61,
          57,
          42,
          69,
          57,
          48,
          52,
          35,
          55,
          64,
          54,
          66,
          72,
          75,
          63,
          29,
          75,
          63,
          64,
          51,
          46,
          46,
          36,
          56,
          38,
          54,
          73,
          76,
          53,
          38,
          59,
          49,
          71,
          42,
          49,
          64,
          46,
          54,
          66,
          59,
          70,
          40,
          59,
          48,
          58,
          69,
          48,
          59,
          33,
          75,
          71,
          46,
          76,
          51,
          75,
          51,
          72,
          35,
          55,
          71,
          68,
          74,
          46,
          60,
          72,
          49,
          29,
          54,
          70,
          52,
          66,
          49,
          55,
          45,
          46,
          52,
          60,
          45,
          65,
          43,
          57,
          36,
          46,
          72,
          69,
          47,
          37,
          59,
          68,
          45,
          73,
          59,
          52,
          67,
          71,
          59,
          66,
          69,
          53,
          50,
          48,
          54,
          52,
          52,
          38,
          64,
          56,
          46,
          48,
          79,
          67,
          74,
          46,
          63,
          62,
          70,
          59,
          51,
          56,
          54,
          68,
          73,
          80,
          66,
          48,
          53,
          67,
          52,
          52,
          43,
          52,
          49,
          69,
          38,
          54,
          48,
          70,
          52,
          46,
          44,
          52,
          63,
          61,
          65,
          65,
          70,
          62,
          66,
          40,
          48,
          32,
          57,
          44,
          57,
          68,
          52,
          44,
          44,
          47,
          74,
          50,
          36,
          43,
          64,
          54,
          33,
          68,
          61,
          44,
          50,
          70,
          67,
          58,
          50,
          45,
          51,
          39,
          58,
          35,
          55,
          55,
          37,
          35,
          49,
          51,
          58,
          38,
          46,
          45,
          41,
          65,
          48,
          43,
          46,
          71,
          53,
          41,
          68,
          46,
          52,
          49,
          49,
          43,
          52,
          54,
          71,
          65,
          62,
          46,
          51,
          59,
          41,
          33,
          81,
          52,
          68,
          66,
          50,
          38,
          66,
          54,
          57,
          51,
          55,
          47,
          63,
          53,
          50,
          38,
          58,
          32,
          61,
          52,
          30,
          70,
          64,
          42,
          70,
          70,
          69,
          31,
          55,
          76,
          38,
          45,
          46,
          42,
          31,
          48,
          50,
          35,
          73,
          35,
          72,
          53,
          53,
          54,
          53,
          49,
          72,
          62,
          41,
          71,
          38,
          37,
          42,
          45,
          47,
          49,
          45,
          48,
          51,
          53,
          48,
          48,
          59,
          72,
          51,
          67,
          57,
          62,
          55,
          49,
          44,
          65,
          51,
          51,
          50,
          44,
          36,
          56,
          36,
          65,
          53,
          62,
          65,
          59,
          72,
          70,
          64,
          59,
          45,
          46,
          74,
          50,
          46,
          55,
          48,
          68,
          70,
          52,
          43,
          35,
          70,
          29,
          46,
          67,
          51,
          68,
          68,
          37,
          43,
          37,
          70,
          70,
          71,
          72,
          56,
          61,
          45,
          48,
          46,
          56,
          53,
          73,
          59,
          55,
          51,
          48,
          51,
          50,
          71,
          58,
          46,
          57,
          46,
          37,
          66,
          60,
          53,
          53,
          55,
          47,
          51,
          44,
          66,
          52,
          53,
          71,
          65,
          70,
          33,
          62,
          38,
          59,
          58,
          64,
          40,
          58,
          59,
          58,
          75,
          54,
          41,
          39,
          50,
          73,
          72,
          37,
          75,
          66,
          37,
          51,
          60,
          63,
          32,
          59,
          68,
          46,
          53,
          58,
          69,
          71,
          66,
          63,
          43,
          48,
          56,
          46,
          59,
          53,
          68,
          42,
          54,
          47,
          54,
          66,
          41,
          66,
          51,
          50,
          65,
          52,
          59,
          45,
          66,
          38,
          42,
          45,
          49,
          45,
          38,
          54,
          52,
          64,
          72,
          54,
          50,
          59,
          70,
          41,
          51,
          64,
          40,
          53,
          41,
          41,
          58,
          46,
          56,
          45,
          51,
          45,
          70,
          62,
          58,
          47,
          39,
          72,
          73,
          57,
          46,
          48,
          39,
          50,
          56,
          62,
          35,
          63,
          71,
          35,
          46,
          62,
          79,
          50,
          43,
          68,
          70,
          38,
          81,
          60,
          45,
          50,
          64,
          61,
          48,
          50,
          63,
          73,
          59,
          68,
          59,
          30,
          50,
          52,
          56,
          56,
          76,
          55,
          28,
          50,
          34,
          67,
          45,
          64,
          72,
          43,
          43,
          33,
          74,
          67,
          63,
          66,
          53,
          39,
          59,
          72,
          62,
          50,
          54,
          55,
          64,
          72,
          55,
          56,
          59,
          55,
          52,
          63,
          47,
          65,
          66,
          45,
          67,
          68,
          59,
          34,
          67,
          59,
          67,
          69,
          52,
          55,
          52,
          49,
          59,
          61,
          33,
          61,
          38,
          51,
          67,
          43,
          66,
          65,
          69,
          38,
          49,
          69,
          53,
          38,
          46,
          41,
          48,
          53,
          68,
          52,
          35,
          72,
          40,
          57,
          62,
          77,
          46,
          53,
          32,
          56,
          51,
          49,
          59,
          72,
          57,
          52,
          61,
          54,
          69,
          49,
          48,
          55,
          51,
          41,
          42,
          64,
          72,
          49,
          61,
          54,
          76,
          66,
          80,
          61,
          52,
          58,
          56,
          53,
          49,
          60,
          46,
          49,
          41,
          53,
          67,
          73,
          73,
          54,
          52,
          55,
          52,
          53,
          68,
          53,
          51,
          47,
          61,
          70,
          46,
          58,
          78,
          46,
          71,
          39,
          54,
          45,
          58,
          48,
          59,
          42,
          52,
          64,
          68,
          59,
          69,
          35,
          62,
          59,
          51,
          52,
          40,
          64,
          66,
          56,
          47,
          50,
          62,
          42,
          49,
          42,
          79,
          45,
          55,
          62,
          76,
          46,
          49,
          42,
          41,
          72,
          42,
          62,
          47,
          75,
          34,
          42,
          49,
          65,
          41,
          48,
          62,
          68,
          31,
          37,
          59,
          42,
          62,
          46,
          78,
          61,
          53,
          56,
          32,
          50,
          74,
          47,
          66,
          48,
          51,
          56,
          66,
          49,
          64,
          59,
          64,
          55,
          64,
          49,
          39,
          53,
          69,
          68,
          51,
          76,
          48,
          44,
          45,
          52,
          51,
          52,
          49,
          52,
          68,
          50,
          52,
          56,
          55,
          63,
          52,
          71,
          67,
          54,
          57,
          73,
          71,
          74,
          71,
          47,
          52,
          55,
          80,
          34,
          45,
          58,
          76,
          52,
          51,
          52,
          52,
          58,
          55,
          65,
          54,
          50,
          52,
          66,
          52,
          41,
          51,
          39,
          51,
          57,
          45,
          63,
          38,
          60,
          41,
          72,
          75,
          45,
          76,
          78,
          66,
          53,
          67,
          42,
          51,
          52,
          59,
          71,
          57,
          59,
          55,
          53,
          52,
          54,
          50,
          74,
          65,
          69,
          46,
          38,
          61,
          71,
          72,
          74,
          54,
          54,
          47,
          58,
          55,
          66,
          70,
          68,
          54,
          37,
          63,
          45,
          64,
          43,
          44,
          48,
          48,
          54,
          78,
          69,
          52,
          53,
          74,
          36,
          46,
          34,
          65,
          47,
          55,
          65,
          36,
          49,
          51,
          47,
          51,
          69,
          50,
          52,
          49,
          53,
          66,
          36,
          49,
          59,
          38,
          47,
          44,
          62,
          46,
          52,
          54,
          41,
          53,
          48,
          51,
          51,
          48,
          76,
          66,
          37,
          64,
          49,
          66,
          49,
          49,
          36,
          36,
          35,
          65,
          53,
          57,
          35,
          63,
          46,
          71,
          60,
          38,
          37,
          61,
          67,
          49,
          73,
          59,
          68,
          62,
          50,
          57,
          62,
          48,
          63,
          48,
          41,
          48,
          36,
          70,
          39,
          72,
          60,
          70,
          74,
          67,
          78,
          70,
          33,
          38,
          47,
          64,
          42,
          77,
          32,
          48,
          68,
          77,
          74,
          58,
          37,
          51,
          72,
          59,
          44,
          37,
          62,
          69,
          36,
          59,
          57,
          51,
          64,
          40,
          53,
          49,
          59,
          68,
          69,
          64,
          63,
          61,
          47,
          34,
          51,
          60,
          36,
          46,
          34,
          49,
          47,
          40,
          41,
          37,
          59,
          68,
          59,
          53,
          42,
          65,
          61,
          72,
          53,
          61,
          42,
          48,
          77,
          55,
          65,
          46,
          76,
          69,
          70,
          79,
          55,
          48,
          55,
          60,
          43,
          45,
          43,
          64,
          50,
          43,
          57,
          74,
          42,
          63,
          61,
          77,
          46,
          70,
          70,
          52,
          43,
          66,
          56,
          48,
          58,
          35,
          39,
          57,
          65,
          54,
          57,
          39,
          73,
          38,
          69,
          54,
          33,
          49,
          45,
          48,
          44,
          46,
          53,
          69,
          41,
          72,
          55,
          44,
          56,
          53,
          35,
          73,
          37,
          39,
          43,
          34,
          72,
          53,
          41,
          67,
          73,
          48,
          69,
          35,
          51,
          51,
          40,
          68,
          59,
          46,
          51,
          38,
          65,
          46,
          58,
          32,
          40,
          68,
          47,
          50,
          48,
          45,
          41,
          33,
          62,
          42,
          45,
          69,
          59,
          63,
          73,
          60,
          65,
          69,
          58,
          66,
          70,
          57,
          61,
          65,
          53,
          60,
          41,
          79,
          77,
          55,
          72,
          77,
          78,
          55,
          75,
          63,
          50,
          44,
          75,
          53,
          45,
          56,
          53,
          69,
          52,
          60,
          45,
          49,
          47,
          38,
          68,
          44,
          42,
          63,
          49,
          50,
          78,
          39,
          72,
          57,
          69,
          39,
          47,
          51,
          40,
          45,
          48,
          56,
          65,
          53,
          57,
          51,
          41,
          45,
          45,
          74,
          61,
          62,
          48,
          72,
          64,
          69,
          47,
          60,
          43,
          48,
          50,
          73,
          58,
          73,
          66,
          58,
          60,
          68,
          50,
          58,
          61,
          55,
          32,
          70,
          41,
          42,
          73,
          68,
          63,
          62,
          53,
          53,
          56,
          46,
          55,
          59,
          38,
          66,
          49,
          37,
          65,
          62,
          50,
          47,
          46,
          54,
          67,
          69,
          70,
          42,
          71,
          56,
          67,
          59,
          49,
          61,
          34,
          58,
          36,
          29,
          49,
          46,
          63,
          40,
          53,
          73,
          48,
          52,
          39,
          58,
          49,
          45,
          53,
          42,
          51,
          56,
          40,
          53,
          47,
          57,
          60,
          52,
          76,
          72,
          37,
          65,
          66,
          73,
          49,
          40,
          55,
          56,
          55,
          39,
          40,
          67,
          53,
          49,
          42,
          36,
          35,
          39,
          56,
          50,
          75,
          46,
          70,
          79,
          74,
          60,
          41,
          37,
          53,
          56,
          70,
          53,
          38,
          65,
          44,
          64,
          54,
          53,
          57,
          61,
          56,
          34,
          43,
          48,
          59,
          47,
          52,
          68,
          81,
          65,
          47,
          55,
          54,
          67,
          59,
          50,
          77,
          42,
          56,
          73,
          49,
          68,
          75,
          65,
          51,
          40,
          74,
          47,
          40,
          48,
          73,
          42,
          50,
          56,
          70,
          84,
          48,
          73,
          48,
          60,
          74,
          48,
          68,
          34,
          74,
          59,
          62,
          46,
          72,
          58,
          77,
          52,
          61,
          75,
          46,
          58,
          41,
          53,
          49,
          53,
          55,
          61,
          56,
          45,
          40,
          40,
          50,
          73,
          62,
          49,
          67,
          46,
          33,
          38,
          68,
          61,
          53,
          77,
          66,
          64,
          44,
          49,
          49,
          51,
          44,
          54,
          57,
          54,
          58,
          52,
          47,
          54,
          60,
          65,
          58,
          66,
          38,
          47,
          43,
          66,
          49,
          41,
          57,
          73,
          52,
          46,
          42,
          68,
          72,
          59,
          45,
          59,
          71,
          75,
          39,
          77,
          69,
          48,
          49,
          40,
          74,
          47,
          73,
          40,
          42,
          33,
          54,
          43,
          45,
          53,
          54,
          65,
          51,
          54,
          77,
          73,
          49,
          65,
          69,
          71,
          59,
          51,
          48,
          74,
          55,
          42,
          46,
          50,
          73,
          76,
          72,
          40,
          45,
          75,
          68,
          55,
          37,
          41,
          54,
          47,
          64,
          51,
          64,
          36,
          55,
          32,
          65,
          44,
          53,
          50,
          55,
          48,
          31,
          75,
          74,
          49,
          68,
          48,
          49,
          48,
          75,
          40,
          50,
          52,
          38,
          62,
          54,
          75,
          63,
          69,
          43,
          71,
          50,
          70,
          55,
          43,
          72,
          62,
          53,
          48,
          48,
          44,
          68,
          67,
          52,
          58,
          38,
          59,
          50,
          48,
          48,
          44,
          67,
          59,
          55,
          54,
          70,
          58,
          50,
          53,
          56,
          67,
          51,
          67,
          53,
          64,
          51,
          62,
          66,
          52,
          48,
          55,
          48,
          41,
          60,
          49,
          69,
          59,
          60,
          44,
          67,
          75,
          32,
          50,
          70,
          34,
          40,
          43,
          59,
          54,
          49,
          73,
          69,
          49,
          57,
          51,
          53,
          69,
          50,
          52,
          60,
          46,
          67,
          64,
          52,
          68,
          67,
          52,
          41,
          53,
          77,
          67,
          67,
          72,
          50,
          51,
          70,
          49,
          34,
          55,
          51,
          46,
          34,
          56,
          44,
          70,
          61,
          61,
          69,
          43,
          74,
          29,
          48,
          70,
          41,
          76,
          46,
          39,
          45,
          42,
          45,
          61,
          54,
          56,
          45,
          62,
          52,
          40,
          54,
          38,
          50,
          57,
          78,
          43,
          68,
          70
         ],
         "xaxis": "x",
         "yaxis": "y"
        }
       ],
       "layout": {
        "barmode": "relative",
        "legend": {
         "tracegroupgap": 0
        },
        "template": {
         "data": {
          "bar": [
           {
            "error_x": {
             "color": "#2a3f5f"
            },
            "error_y": {
             "color": "#2a3f5f"
            },
            "marker": {
             "line": {
              "color": "#E5ECF6",
              "width": 0.5
             },
             "pattern": {
              "fillmode": "overlay",
              "size": 10,
              "solidity": 0.2
             }
            },
            "type": "bar"
           }
          ],
          "barpolar": [
           {
            "marker": {
             "line": {
              "color": "#E5ECF6",
              "width": 0.5
             },
             "pattern": {
              "fillmode": "overlay",
              "size": 10,
              "solidity": 0.2
             }
            },
            "type": "barpolar"
           }
          ],
          "carpet": [
           {
            "aaxis": {
             "endlinecolor": "#2a3f5f",
             "gridcolor": "white",
             "linecolor": "white",
             "minorgridcolor": "white",
             "startlinecolor": "#2a3f5f"
            },
            "baxis": {
             "endlinecolor": "#2a3f5f",
             "gridcolor": "white",
             "linecolor": "white",
             "minorgridcolor": "white",
             "startlinecolor": "#2a3f5f"
            },
            "type": "carpet"
           }
          ],
          "choropleth": [
           {
            "colorbar": {
             "outlinewidth": 0,
             "ticks": ""
            },
            "type": "choropleth"
           }
          ],
          "contour": [
           {
            "colorbar": {
             "outlinewidth": 0,
             "ticks": ""
            },
            "colorscale": [
             [
              0,
              "#0d0887"
             ],
             [
              0.1111111111111111,
              "#46039f"
             ],
             [
              0.2222222222222222,
              "#7201a8"
             ],
             [
              0.3333333333333333,
              "#9c179e"
             ],
             [
              0.4444444444444444,
              "#bd3786"
             ],
             [
              0.5555555555555556,
              "#d8576b"
             ],
             [
              0.6666666666666666,
              "#ed7953"
             ],
             [
              0.7777777777777778,
              "#fb9f3a"
             ],
             [
              0.8888888888888888,
              "#fdca26"
             ],
             [
              1,
              "#f0f921"
             ]
            ],
            "type": "contour"
           }
          ],
          "contourcarpet": [
           {
            "colorbar": {
             "outlinewidth": 0,
             "ticks": ""
            },
            "type": "contourcarpet"
           }
          ],
          "heatmap": [
           {
            "colorbar": {
             "outlinewidth": 0,
             "ticks": ""
            },
            "colorscale": [
             [
              0,
              "#0d0887"
             ],
             [
              0.1111111111111111,
              "#46039f"
             ],
             [
              0.2222222222222222,
              "#7201a8"
             ],
             [
              0.3333333333333333,
              "#9c179e"
             ],
             [
              0.4444444444444444,
              "#bd3786"
             ],
             [
              0.5555555555555556,
              "#d8576b"
             ],
             [
              0.6666666666666666,
              "#ed7953"
             ],
             [
              0.7777777777777778,
              "#fb9f3a"
             ],
             [
              0.8888888888888888,
              "#fdca26"
             ],
             [
              1,
              "#f0f921"
             ]
            ],
            "type": "heatmap"
           }
          ],
          "heatmapgl": [
           {
            "colorbar": {
             "outlinewidth": 0,
             "ticks": ""
            },
            "colorscale": [
             [
              0,
              "#0d0887"
             ],
             [
              0.1111111111111111,
              "#46039f"
             ],
             [
              0.2222222222222222,
              "#7201a8"
             ],
             [
              0.3333333333333333,
              "#9c179e"
             ],
             [
              0.4444444444444444,
              "#bd3786"
             ],
             [
              0.5555555555555556,
              "#d8576b"
             ],
             [
              0.6666666666666666,
              "#ed7953"
             ],
             [
              0.7777777777777778,
              "#fb9f3a"
             ],
             [
              0.8888888888888888,
              "#fdca26"
             ],
             [
              1,
              "#f0f921"
             ]
            ],
            "type": "heatmapgl"
           }
          ],
          "histogram": [
           {
            "marker": {
             "pattern": {
              "fillmode": "overlay",
              "size": 10,
              "solidity": 0.2
             }
            },
            "type": "histogram"
           }
          ],
          "histogram2d": [
           {
            "colorbar": {
             "outlinewidth": 0,
             "ticks": ""
            },
            "colorscale": [
             [
              0,
              "#0d0887"
             ],
             [
              0.1111111111111111,
              "#46039f"
             ],
             [
              0.2222222222222222,
              "#7201a8"
             ],
             [
              0.3333333333333333,
              "#9c179e"
             ],
             [
              0.4444444444444444,
              "#bd3786"
             ],
             [
              0.5555555555555556,
              "#d8576b"
             ],
             [
              0.6666666666666666,
              "#ed7953"
             ],
             [
              0.7777777777777778,
              "#fb9f3a"
             ],
             [
              0.8888888888888888,
              "#fdca26"
             ],
             [
              1,
              "#f0f921"
             ]
            ],
            "type": "histogram2d"
           }
          ],
          "histogram2dcontour": [
           {
            "colorbar": {
             "outlinewidth": 0,
             "ticks": ""
            },
            "colorscale": [
             [
              0,
              "#0d0887"
             ],
             [
              0.1111111111111111,
              "#46039f"
             ],
             [
              0.2222222222222222,
              "#7201a8"
             ],
             [
              0.3333333333333333,
              "#9c179e"
             ],
             [
              0.4444444444444444,
              "#bd3786"
             ],
             [
              0.5555555555555556,
              "#d8576b"
             ],
             [
              0.6666666666666666,
              "#ed7953"
             ],
             [
              0.7777777777777778,
              "#fb9f3a"
             ],
             [
              0.8888888888888888,
              "#fdca26"
             ],
             [
              1,
              "#f0f921"
             ]
            ],
            "type": "histogram2dcontour"
           }
          ],
          "mesh3d": [
           {
            "colorbar": {
             "outlinewidth": 0,
             "ticks": ""
            },
            "type": "mesh3d"
           }
          ],
          "parcoords": [
           {
            "line": {
             "colorbar": {
              "outlinewidth": 0,
              "ticks": ""
             }
            },
            "type": "parcoords"
           }
          ],
          "pie": [
           {
            "automargin": true,
            "type": "pie"
           }
          ],
          "scatter": [
           {
            "fillpattern": {
             "fillmode": "overlay",
             "size": 10,
             "solidity": 0.2
            },
            "type": "scatter"
           }
          ],
          "scatter3d": [
           {
            "line": {
             "colorbar": {
              "outlinewidth": 0,
              "ticks": ""
             }
            },
            "marker": {
             "colorbar": {
              "outlinewidth": 0,
              "ticks": ""
             }
            },
            "type": "scatter3d"
           }
          ],
          "scattercarpet": [
           {
            "marker": {
             "colorbar": {
              "outlinewidth": 0,
              "ticks": ""
             }
            },
            "type": "scattercarpet"
           }
          ],
          "scattergeo": [
           {
            "marker": {
             "colorbar": {
              "outlinewidth": 0,
              "ticks": ""
             }
            },
            "type": "scattergeo"
           }
          ],
          "scattergl": [
           {
            "marker": {
             "colorbar": {
              "outlinewidth": 0,
              "ticks": ""
             }
            },
            "type": "scattergl"
           }
          ],
          "scattermapbox": [
           {
            "marker": {
             "colorbar": {
              "outlinewidth": 0,
              "ticks": ""
             }
            },
            "type": "scattermapbox"
           }
          ],
          "scatterpolar": [
           {
            "marker": {
             "colorbar": {
              "outlinewidth": 0,
              "ticks": ""
             }
            },
            "type": "scatterpolar"
           }
          ],
          "scatterpolargl": [
           {
            "marker": {
             "colorbar": {
              "outlinewidth": 0,
              "ticks": ""
             }
            },
            "type": "scatterpolargl"
           }
          ],
          "scatterternary": [
           {
            "marker": {
             "colorbar": {
              "outlinewidth": 0,
              "ticks": ""
             }
            },
            "type": "scatterternary"
           }
          ],
          "surface": [
           {
            "colorbar": {
             "outlinewidth": 0,
             "ticks": ""
            },
            "colorscale": [
             [
              0,
              "#0d0887"
             ],
             [
              0.1111111111111111,
              "#46039f"
             ],
             [
              0.2222222222222222,
              "#7201a8"
             ],
             [
              0.3333333333333333,
              "#9c179e"
             ],
             [
              0.4444444444444444,
              "#bd3786"
             ],
             [
              0.5555555555555556,
              "#d8576b"
             ],
             [
              0.6666666666666666,
              "#ed7953"
             ],
             [
              0.7777777777777778,
              "#fb9f3a"
             ],
             [
              0.8888888888888888,
              "#fdca26"
             ],
             [
              1,
              "#f0f921"
             ]
            ],
            "type": "surface"
           }
          ],
          "table": [
           {
            "cells": {
             "fill": {
              "color": "#EBF0F8"
             },
             "line": {
              "color": "white"
             }
            },
            "header": {
             "fill": {
              "color": "#C8D4E3"
             },
             "line": {
              "color": "white"
             }
            },
            "type": "table"
           }
          ]
         },
         "layout": {
          "annotationdefaults": {
           "arrowcolor": "#2a3f5f",
           "arrowhead": 0,
           "arrowwidth": 1
          },
          "autotypenumbers": "strict",
          "coloraxis": {
           "colorbar": {
            "outlinewidth": 0,
            "ticks": ""
           }
          },
          "colorscale": {
           "diverging": [
            [
             0,
             "#8e0152"
            ],
            [
             0.1,
             "#c51b7d"
            ],
            [
             0.2,
             "#de77ae"
            ],
            [
             0.3,
             "#f1b6da"
            ],
            [
             0.4,
             "#fde0ef"
            ],
            [
             0.5,
             "#f7f7f7"
            ],
            [
             0.6,
             "#e6f5d0"
            ],
            [
             0.7,
             "#b8e186"
            ],
            [
             0.8,
             "#7fbc41"
            ],
            [
             0.9,
             "#4d9221"
            ],
            [
             1,
             "#276419"
            ]
           ],
           "sequential": [
            [
             0,
             "#0d0887"
            ],
            [
             0.1111111111111111,
             "#46039f"
            ],
            [
             0.2222222222222222,
             "#7201a8"
            ],
            [
             0.3333333333333333,
             "#9c179e"
            ],
            [
             0.4444444444444444,
             "#bd3786"
            ],
            [
             0.5555555555555556,
             "#d8576b"
            ],
            [
             0.6666666666666666,
             "#ed7953"
            ],
            [
             0.7777777777777778,
             "#fb9f3a"
            ],
            [
             0.8888888888888888,
             "#fdca26"
            ],
            [
             1,
             "#f0f921"
            ]
           ],
           "sequentialminus": [
            [
             0,
             "#0d0887"
            ],
            [
             0.1111111111111111,
             "#46039f"
            ],
            [
             0.2222222222222222,
             "#7201a8"
            ],
            [
             0.3333333333333333,
             "#9c179e"
            ],
            [
             0.4444444444444444,
             "#bd3786"
            ],
            [
             0.5555555555555556,
             "#d8576b"
            ],
            [
             0.6666666666666666,
             "#ed7953"
            ],
            [
             0.7777777777777778,
             "#fb9f3a"
            ],
            [
             0.8888888888888888,
             "#fdca26"
            ],
            [
             1,
             "#f0f921"
            ]
           ]
          },
          "colorway": [
           "#636efa",
           "#EF553B",
           "#00cc96",
           "#ab63fa",
           "#FFA15A",
           "#19d3f3",
           "#FF6692",
           "#B6E880",
           "#FF97FF",
           "#FECB52"
          ],
          "font": {
           "color": "#2a3f5f"
          },
          "geo": {
           "bgcolor": "white",
           "lakecolor": "white",
           "landcolor": "#E5ECF6",
           "showlakes": true,
           "showland": true,
           "subunitcolor": "white"
          },
          "hoverlabel": {
           "align": "left"
          },
          "hovermode": "closest",
          "mapbox": {
           "style": "light"
          },
          "paper_bgcolor": "white",
          "plot_bgcolor": "#E5ECF6",
          "polar": {
           "angularaxis": {
            "gridcolor": "white",
            "linecolor": "white",
            "ticks": ""
           },
           "bgcolor": "#E5ECF6",
           "radialaxis": {
            "gridcolor": "white",
            "linecolor": "white",
            "ticks": ""
           }
          },
          "scene": {
           "xaxis": {
            "backgroundcolor": "#E5ECF6",
            "gridcolor": "white",
            "gridwidth": 2,
            "linecolor": "white",
            "showbackground": true,
            "ticks": "",
            "zerolinecolor": "white"
           },
           "yaxis": {
            "backgroundcolor": "#E5ECF6",
            "gridcolor": "white",
            "gridwidth": 2,
            "linecolor": "white",
            "showbackground": true,
            "ticks": "",
            "zerolinecolor": "white"
           },
           "zaxis": {
            "backgroundcolor": "#E5ECF6",
            "gridcolor": "white",
            "gridwidth": 2,
            "linecolor": "white",
            "showbackground": true,
            "ticks": "",
            "zerolinecolor": "white"
           }
          },
          "shapedefaults": {
           "line": {
            "color": "#2a3f5f"
           }
          },
          "ternary": {
           "aaxis": {
            "gridcolor": "white",
            "linecolor": "white",
            "ticks": ""
           },
           "baxis": {
            "gridcolor": "white",
            "linecolor": "white",
            "ticks": ""
           },
           "bgcolor": "#E5ECF6",
           "caxis": {
            "gridcolor": "white",
            "linecolor": "white",
            "ticks": ""
           }
          },
          "title": {
           "x": 0.05
          },
          "xaxis": {
           "automargin": true,
           "gridcolor": "white",
           "linecolor": "white",
           "ticks": "",
           "title": {
            "standoff": 15
           },
           "zerolinecolor": "white",
           "zerolinewidth": 2
          },
          "yaxis": {
           "automargin": true,
           "gridcolor": "white",
           "linecolor": "white",
           "ticks": "",
           "title": {
            "standoff": 15
           },
           "zerolinecolor": "white",
           "zerolinewidth": 2
          }
         }
        },
        "title": {
         "text": "Distribution des âges"
        },
        "xaxis": {
         "anchor": "y",
         "domain": [
          0,
          1
         ],
         "title": {
          "text": "age"
         }
        },
        "yaxis": {
         "anchor": "x",
         "domain": [
          0,
          1
         ],
         "title": {
          "text": "count"
         }
        }
       }
      }
     },
     "metadata": {},
     "output_type": "display_data"
    }
   ],
   "source": [
    "age_dist = px.histogram(data, x=\"age\", nbins=50, title=\"Distribution des âges\")\n",
    "age_dist.show()"
   ]
  },
  {
   "cell_type": "code",
   "execution_count": 30,
   "metadata": {},
   "outputs": [
    {
     "data": {
      "application/vnd.plotly.v1+json": {
       "config": {
        "plotlyServerURL": "https://plot.ly"
       },
       "data": [
        {
         "alignmentgroup": "True",
         "bingroup": "x",
         "hovertemplate": "age_group=%{x}<br>count=%{y}<extra></extra>",
         "legendgroup": "",
         "marker": {
          "color": "#636efa",
          "pattern": {
           "shape": ""
          }
         },
         "name": "",
         "offsetgroup": "",
         "orientation": "v",
         "showlegend": false,
         "type": "histogram",
         "x": [
          "61 - 70",
          "61 - 70",
          "51 - 60",
          "31 - 40",
          "41 - 50",
          "51 - 60",
          "51 - 60",
          "31 - 40",
          "41 - 50",
          "71 - 85",
          "41 - 50",
          "61 - 70",
          "71 - 85",
          "31 - 40",
          "71 - 85",
          "41 - 50",
          "71 - 85",
          "71 - 85",
          "31 - 40",
          "41 - 50",
          "41 - 50",
          "71 - 85",
          "61 - 70",
          "71 - 85",
          "51 - 60",
          "41 - 50",
          "31 - 40",
          "51 - 60",
          "31 - 40",
          "61 - 70",
          "51 - 60",
          "71 - 85",
          "71 - 85",
          "71 - 85",
          "51 - 60",
          "41 - 50",
          "51 - 60",
          "71 - 85",
          "41 - 50",
          "31 - 40",
          "61 - 70",
          "41 - 50",
          "41 - 50",
          "23 - 30",
          "51 - 60",
          "61 - 70",
          "61 - 70",
          "51 - 60",
          "41 - 50",
          "41 - 50",
          "41 - 50",
          "61 - 70",
          "51 - 60",
          "31 - 40",
          "51 - 60",
          "41 - 50",
          "41 - 50",
          "71 - 85",
          "71 - 85",
          "71 - 85",
          "51 - 60",
          "51 - 60",
          "41 - 50",
          "61 - 70",
          "51 - 60",
          "61 - 70",
          "61 - 70",
          "41 - 50",
          "71 - 85",
          "41 - 50",
          "51 - 60",
          "41 - 50",
          "41 - 50",
          "51 - 60",
          "31 - 40",
          "51 - 60",
          "51 - 60",
          "61 - 70",
          "31 - 40",
          "61 - 70",
          "51 - 60",
          "61 - 70",
          "51 - 60",
          "51 - 60",
          "51 - 60",
          "51 - 60",
          "41 - 50",
          "61 - 70",
          "51 - 60",
          "71 - 85",
          "41 - 50",
          "61 - 70",
          "61 - 70",
          "41 - 50",
          "71 - 85",
          "61 - 70",
          "41 - 50",
          "51 - 60",
          "51 - 60",
          "41 - 50",
          "61 - 70",
          "41 - 50",
          "31 - 40",
          "61 - 70",
          "31 - 40",
          "41 - 50",
          "61 - 70",
          "51 - 60",
          "41 - 50",
          "51 - 60",
          "51 - 60",
          "71 - 85",
          "51 - 60",
          "31 - 40",
          "41 - 50",
          "41 - 50",
          "51 - 60",
          "31 - 40",
          "71 - 85",
          "61 - 70",
          "71 - 85",
          "61 - 70",
          "51 - 60",
          "51 - 60",
          "51 - 60",
          "41 - 50",
          "61 - 70",
          "51 - 60",
          "51 - 60",
          "31 - 40",
          "41 - 50",
          "61 - 70",
          "41 - 50",
          "31 - 40",
          "41 - 50",
          "41 - 50",
          "41 - 50",
          "51 - 60",
          "51 - 60",
          "71 - 85",
          "51 - 60",
          "51 - 60",
          "31 - 40",
          "71 - 85",
          "71 - 85",
          "61 - 70",
          "41 - 50",
          "41 - 50",
          "61 - 70",
          "61 - 70",
          "71 - 85",
          "31 - 40",
          "41 - 50",
          "51 - 60",
          "71 - 85",
          "61 - 70",
          "31 - 40",
          "61 - 70",
          "51 - 60",
          "41 - 50",
          "51 - 60",
          "61 - 70",
          "51 - 60",
          "41 - 50",
          "71 - 85",
          "51 - 60",
          "61 - 70",
          "71 - 85",
          "41 - 50",
          "31 - 40",
          "71 - 85",
          "31 - 40",
          "61 - 70",
          "41 - 50",
          "51 - 60",
          "51 - 60",
          "41 - 50",
          "51 - 60",
          "41 - 50",
          "31 - 40",
          "Unknown",
          "31 - 40",
          "51 - 60",
          "41 - 50",
          "41 - 50",
          "61 - 70",
          "61 - 70",
          "51 - 60",
          "71 - 85",
          "51 - 60",
          "41 - 50",
          "41 - 50",
          "51 - 60",
          "31 - 40",
          "31 - 40",
          "61 - 70",
          "51 - 60",
          "61 - 70",
          "61 - 70",
          "61 - 70",
          "51 - 60",
          "41 - 50",
          "31 - 40",
          "41 - 50",
          "41 - 50",
          "71 - 85",
          "61 - 70",
          "41 - 50",
          "31 - 40",
          "51 - 60",
          "51 - 60",
          "41 - 50",
          "61 - 70",
          "41 - 50",
          "41 - 50",
          "71 - 85",
          "51 - 60",
          "31 - 40",
          "51 - 60",
          "61 - 70",
          "51 - 60",
          "71 - 85",
          "51 - 60",
          "41 - 50",
          "41 - 50",
          "61 - 70",
          "51 - 60",
          "Unknown",
          "51 - 60",
          "61 - 70",
          "51 - 60",
          "31 - 40",
          "61 - 70",
          "51 - 60",
          "51 - 60",
          "71 - 85",
          "31 - 40",
          "51 - 60",
          "41 - 50",
          "31 - 40",
          "41 - 50",
          "61 - 70",
          "51 - 60",
          "41 - 50",
          "61 - 70",
          "51 - 60",
          "51 - 60",
          "61 - 70",
          "41 - 50",
          "51 - 60",
          "51 - 60",
          "41 - 50",
          "71 - 85",
          "51 - 60",
          "61 - 70",
          "51 - 60",
          "51 - 60",
          "51 - 60",
          "71 - 85",
          "41 - 50",
          "41 - 50",
          "61 - 70",
          "61 - 70",
          "61 - 70",
          "61 - 70",
          "41 - 50",
          "31 - 40",
          "51 - 60",
          "41 - 50",
          "41 - 50",
          "71 - 85",
          "41 - 50",
          "41 - 50",
          "41 - 50",
          "71 - 85",
          "61 - 70",
          "51 - 60",
          "71 - 85",
          "31 - 40",
          "51 - 60",
          "41 - 50",
          "51 - 60",
          "51 - 60",
          "71 - 85",
          "31 - 40",
          "31 - 40",
          "41 - 50",
          "51 - 60",
          "61 - 70",
          "61 - 70",
          "41 - 50",
          "31 - 40",
          "31 - 40",
          "61 - 70",
          "51 - 60",
          "71 - 85",
          "51 - 60",
          "31 - 40",
          "41 - 50",
          "51 - 60",
          "41 - 50",
          "51 - 60",
          "61 - 70",
          "51 - 60",
          "31 - 40",
          "71 - 85",
          "51 - 60",
          "41 - 50",
          "51 - 60",
          "61 - 70",
          "71 - 85",
          "61 - 70",
          "41 - 50",
          "31 - 40",
          "71 - 85",
          "31 - 40",
          "41 - 50",
          "31 - 40",
          "61 - 70",
          "51 - 60",
          "41 - 50",
          "61 - 70",
          "51 - 60",
          "51 - 60",
          "51 - 60",
          "Unknown",
          "31 - 40",
          "31 - 40",
          "51 - 60",
          "71 - 85",
          "51 - 60",
          "71 - 85",
          "51 - 60",
          "51 - 60",
          "51 - 60",
          "41 - 50",
          "61 - 70",
          "31 - 40",
          "51 - 60",
          "41 - 50",
          "41 - 50",
          "41 - 50",
          "61 - 70",
          "51 - 60",
          "71 - 85",
          "71 - 85",
          "61 - 70",
          "51 - 60",
          "41 - 50",
          "41 - 50",
          "51 - 60",
          "51 - 60",
          "61 - 70",
          "41 - 50",
          "61 - 70",
          "41 - 50",
          "31 - 40",
          "41 - 50",
          "51 - 60",
          "51 - 60",
          "51 - 60",
          "41 - 50",
          "51 - 60",
          "31 - 40",
          "61 - 70",
          "51 - 60",
          "51 - 60",
          "31 - 40",
          "61 - 70",
          "51 - 60",
          "41 - 50",
          "51 - 60",
          "51 - 60",
          "61 - 70",
          "71 - 85",
          "51 - 60",
          "41 - 50",
          "41 - 50",
          "31 - 40",
          "71 - 85",
          "51 - 60",
          "31 - 40",
          "51 - 60",
          "31 - 40",
          "31 - 40",
          "41 - 50",
          "61 - 70",
          "51 - 60",
          "41 - 50",
          "61 - 70",
          "61 - 70",
          "51 - 60",
          "51 - 60",
          "51 - 60",
          "41 - 50",
          "61 - 70",
          "41 - 50",
          "41 - 50",
          "61 - 70",
          "31 - 40",
          "61 - 70",
          "71 - 85",
          "41 - 50",
          "23 - 30",
          "41 - 50",
          "51 - 60",
          "51 - 60",
          "41 - 50",
          "41 - 50",
          "41 - 50",
          "71 - 85",
          "71 - 85",
          "31 - 40",
          "31 - 40",
          "31 - 40",
          "51 - 60",
          "61 - 70",
          "31 - 40",
          "51 - 60",
          "51 - 60",
          "51 - 60",
          "61 - 70",
          "51 - 60",
          "71 - 85",
          "51 - 60",
          "31 - 40",
          "31 - 40",
          "71 - 85",
          "71 - 85",
          "31 - 40",
          "41 - 50",
          "61 - 70",
          "51 - 60",
          "51 - 60",
          "41 - 50",
          "71 - 85",
          "61 - 70",
          "51 - 60",
          "51 - 60",
          "41 - 50",
          "41 - 50",
          "51 - 60",
          "51 - 60",
          "31 - 40",
          "71 - 85",
          "41 - 50",
          "51 - 60",
          "71 - 85",
          "61 - 70",
          "61 - 70",
          "41 - 50",
          "51 - 60",
          "61 - 70",
          "51 - 60",
          "71 - 85",
          "51 - 60",
          "41 - 50",
          "41 - 50",
          "41 - 50",
          "41 - 50",
          "31 - 40",
          "61 - 70",
          "51 - 60",
          "41 - 50",
          "51 - 60",
          "41 - 50",
          "51 - 60",
          "51 - 60",
          "41 - 50",
          "41 - 50",
          "61 - 70",
          "51 - 60",
          "41 - 50",
          "41 - 50",
          "51 - 60",
          "71 - 85",
          "61 - 70",
          "41 - 50",
          "61 - 70",
          "51 - 60",
          "71 - 85",
          "61 - 70",
          "41 - 50",
          "51 - 60",
          "71 - 85",
          "71 - 85",
          "71 - 85",
          "61 - 70",
          "31 - 40",
          "31 - 40",
          "61 - 70",
          "71 - 85",
          "41 - 50",
          "31 - 40",
          "31 - 40",
          "61 - 70",
          "41 - 50",
          "41 - 50",
          "51 - 60",
          "61 - 70",
          "71 - 85",
          "41 - 50",
          "61 - 70",
          "31 - 40",
          "61 - 70",
          "71 - 85",
          "51 - 60",
          "31 - 40",
          "31 - 40",
          "71 - 85",
          "31 - 40",
          "31 - 40",
          "61 - 70",
          "41 - 50",
          "51 - 60",
          "61 - 70",
          "41 - 50",
          "51 - 60",
          "41 - 50",
          "61 - 70",
          "41 - 50",
          "71 - 85",
          "51 - 60",
          "51 - 60",
          "71 - 85",
          "41 - 50",
          "41 - 50",
          "51 - 60",
          "31 - 40",
          "41 - 50",
          "41 - 50",
          "31 - 40",
          "51 - 60",
          "41 - 50",
          "51 - 60",
          "51 - 60",
          "61 - 70",
          "31 - 40",
          "51 - 60",
          "61 - 70",
          "71 - 85",
          "71 - 85",
          "41 - 50",
          "41 - 50",
          "51 - 60",
          "61 - 70",
          "41 - 50",
          "41 - 50",
          "51 - 60",
          "51 - 60",
          "61 - 70",
          "71 - 85",
          "61 - 70",
          "71 - 85",
          "41 - 50",
          "51 - 60",
          "41 - 50",
          "51 - 60",
          "41 - 50",
          "51 - 60",
          "41 - 50",
          "41 - 50",
          "51 - 60",
          "51 - 60",
          "51 - 60",
          "61 - 70",
          "41 - 50",
          "71 - 85",
          "51 - 60",
          "71 - 85",
          "41 - 50",
          "51 - 60",
          "61 - 70",
          "61 - 70",
          "61 - 70",
          "61 - 70",
          "31 - 40",
          "41 - 50",
          "51 - 60",
          "41 - 50",
          "51 - 60",
          "41 - 50",
          "51 - 60",
          "51 - 60",
          "41 - 50",
          "41 - 50",
          "61 - 70",
          "61 - 70",
          "61 - 70",
          "71 - 85",
          "51 - 60",
          "31 - 40",
          "51 - 60",
          "61 - 70",
          "41 - 50",
          "51 - 60",
          "51 - 60",
          "71 - 85",
          "51 - 60",
          "51 - 60",
          "51 - 60",
          "41 - 50",
          "51 - 60",
          "41 - 50",
          "61 - 70",
          "61 - 70",
          "51 - 60",
          "71 - 85",
          "41 - 50",
          "61 - 70",
          "41 - 50",
          "41 - 50",
          "61 - 70",
          "41 - 50",
          "41 - 50",
          "51 - 60",
          "61 - 70",
          "51 - 60",
          "61 - 70",
          "51 - 60",
          "61 - 70",
          "71 - 85",
          "61 - 70",
          "71 - 85",
          "51 - 60",
          "61 - 70",
          "71 - 85",
          "61 - 70",
          "51 - 60",
          "71 - 85",
          "51 - 60",
          "51 - 60",
          "51 - 60",
          "41 - 50",
          "61 - 70",
          "61 - 70",
          "31 - 40",
          "41 - 50",
          "71 - 85",
          "61 - 70",
          "71 - 85",
          "61 - 70",
          "71 - 85",
          "51 - 60",
          "61 - 70",
          "31 - 40",
          "41 - 50",
          "41 - 50",
          "61 - 70",
          "61 - 70",
          "41 - 50",
          "31 - 40",
          "51 - 60",
          "51 - 60",
          "51 - 60",
          "61 - 70",
          "51 - 60",
          "41 - 50",
          "41 - 50",
          "41 - 50",
          "61 - 70",
          "41 - 50",
          "31 - 40",
          "41 - 50",
          "61 - 70",
          "51 - 60",
          "41 - 50",
          "61 - 70",
          "51 - 60",
          "41 - 50",
          "51 - 60",
          "31 - 40",
          "51 - 60",
          "61 - 70",
          "51 - 60",
          "61 - 70",
          "71 - 85",
          "71 - 85",
          "61 - 70",
          "23 - 30",
          "71 - 85",
          "61 - 70",
          "61 - 70",
          "51 - 60",
          "41 - 50",
          "41 - 50",
          "31 - 40",
          "51 - 60",
          "31 - 40",
          "51 - 60",
          "71 - 85",
          "71 - 85",
          "51 - 60",
          "31 - 40",
          "51 - 60",
          "41 - 50",
          "71 - 85",
          "41 - 50",
          "41 - 50",
          "61 - 70",
          "41 - 50",
          "51 - 60",
          "61 - 70",
          "51 - 60",
          "61 - 70",
          "31 - 40",
          "51 - 60",
          "41 - 50",
          "51 - 60",
          "61 - 70",
          "41 - 50",
          "51 - 60",
          "31 - 40",
          "71 - 85",
          "71 - 85",
          "41 - 50",
          "71 - 85",
          "51 - 60",
          "71 - 85",
          "51 - 60",
          "71 - 85",
          "31 - 40",
          "51 - 60",
          "71 - 85",
          "61 - 70",
          "71 - 85",
          "41 - 50",
          "51 - 60",
          "71 - 85",
          "41 - 50",
          "23 - 30",
          "51 - 60",
          "61 - 70",
          "51 - 60",
          "61 - 70",
          "41 - 50",
          "51 - 60",
          "41 - 50",
          "41 - 50",
          "51 - 60",
          "51 - 60",
          "41 - 50",
          "61 - 70",
          "41 - 50",
          "51 - 60",
          "31 - 40",
          "41 - 50",
          "71 - 85",
          "61 - 70",
          "41 - 50",
          "31 - 40",
          "51 - 60",
          "61 - 70",
          "41 - 50",
          "71 - 85",
          "51 - 60",
          "51 - 60",
          "61 - 70",
          "71 - 85",
          "51 - 60",
          "61 - 70",
          "61 - 70",
          "51 - 60",
          "41 - 50",
          "41 - 50",
          "51 - 60",
          "51 - 60",
          "51 - 60",
          "31 - 40",
          "61 - 70",
          "51 - 60",
          "41 - 50",
          "41 - 50",
          "71 - 85",
          "61 - 70",
          "71 - 85",
          "41 - 50",
          "61 - 70",
          "61 - 70",
          "61 - 70",
          "51 - 60",
          "51 - 60",
          "51 - 60",
          "51 - 60",
          "61 - 70",
          "71 - 85",
          "71 - 85",
          "61 - 70",
          "41 - 50",
          "51 - 60",
          "61 - 70",
          "51 - 60",
          "51 - 60",
          "41 - 50",
          "51 - 60",
          "41 - 50",
          "61 - 70",
          "31 - 40",
          "51 - 60",
          "41 - 50",
          "61 - 70",
          "51 - 60",
          "41 - 50",
          "41 - 50",
          "51 - 60",
          "61 - 70",
          "61 - 70",
          "61 - 70",
          "61 - 70",
          "61 - 70",
          "61 - 70",
          "61 - 70",
          "31 - 40",
          "41 - 50",
          "31 - 40",
          "51 - 60",
          "41 - 50",
          "51 - 60",
          "61 - 70",
          "51 - 60",
          "41 - 50",
          "41 - 50",
          "41 - 50",
          "71 - 85",
          "41 - 50",
          "31 - 40",
          "41 - 50",
          "61 - 70",
          "51 - 60",
          "31 - 40",
          "61 - 70",
          "61 - 70",
          "41 - 50",
          "41 - 50",
          "61 - 70",
          "61 - 70",
          "51 - 60",
          "41 - 50",
          "41 - 50",
          "51 - 60",
          "31 - 40",
          "51 - 60",
          "31 - 40",
          "51 - 60",
          "51 - 60",
          "31 - 40",
          "31 - 40",
          "41 - 50",
          "51 - 60",
          "51 - 60",
          "31 - 40",
          "41 - 50",
          "41 - 50",
          "41 - 50",
          "61 - 70",
          "41 - 50",
          "41 - 50",
          "41 - 50",
          "71 - 85",
          "51 - 60",
          "41 - 50",
          "61 - 70",
          "41 - 50",
          "51 - 60",
          "41 - 50",
          "41 - 50",
          "41 - 50",
          "51 - 60",
          "51 - 60",
          "71 - 85",
          "61 - 70",
          "61 - 70",
          "41 - 50",
          "51 - 60",
          "51 - 60",
          "41 - 50",
          "31 - 40",
          "71 - 85",
          "51 - 60",
          "61 - 70",
          "61 - 70",
          "41 - 50",
          "31 - 40",
          "61 - 70",
          "51 - 60",
          "51 - 60",
          "51 - 60",
          "51 - 60",
          "41 - 50",
          "61 - 70",
          "51 - 60",
          "41 - 50",
          "31 - 40",
          "51 - 60",
          "31 - 40",
          "61 - 70",
          "51 - 60",
          "23 - 30",
          "61 - 70",
          "61 - 70",
          "41 - 50",
          "61 - 70",
          "61 - 70",
          "61 - 70",
          "31 - 40",
          "51 - 60",
          "71 - 85",
          "31 - 40",
          "41 - 50",
          "41 - 50",
          "41 - 50",
          "31 - 40",
          "41 - 50",
          "41 - 50",
          "31 - 40",
          "71 - 85",
          "31 - 40",
          "71 - 85",
          "51 - 60",
          "51 - 60",
          "51 - 60",
          "51 - 60",
          "41 - 50",
          "71 - 85",
          "61 - 70",
          "41 - 50",
          "71 - 85",
          "31 - 40",
          "31 - 40",
          "41 - 50",
          "41 - 50",
          "41 - 50",
          "41 - 50",
          "41 - 50",
          "41 - 50",
          "51 - 60",
          "51 - 60",
          "41 - 50",
          "41 - 50",
          "51 - 60",
          "71 - 85",
          "51 - 60",
          "61 - 70",
          "51 - 60",
          "61 - 70",
          "51 - 60",
          "41 - 50",
          "41 - 50",
          "61 - 70",
          "51 - 60",
          "51 - 60",
          "41 - 50",
          "41 - 50",
          "31 - 40",
          "51 - 60",
          "31 - 40",
          "61 - 70",
          "51 - 60",
          "61 - 70",
          "61 - 70",
          "51 - 60",
          "71 - 85",
          "61 - 70",
          "61 - 70",
          "51 - 60",
          "41 - 50",
          "41 - 50",
          "71 - 85",
          "41 - 50",
          "41 - 50",
          "51 - 60",
          "41 - 50",
          "61 - 70",
          "61 - 70",
          "51 - 60",
          "41 - 50",
          "31 - 40",
          "61 - 70",
          "23 - 30",
          "41 - 50",
          "61 - 70",
          "51 - 60",
          "61 - 70",
          "61 - 70",
          "31 - 40",
          "41 - 50",
          "31 - 40",
          "61 - 70",
          "61 - 70",
          "71 - 85",
          "71 - 85",
          "51 - 60",
          "61 - 70",
          "41 - 50",
          "41 - 50",
          "41 - 50",
          "51 - 60",
          "51 - 60",
          "71 - 85",
          "51 - 60",
          "51 - 60",
          "51 - 60",
          "41 - 50",
          "51 - 60",
          "41 - 50",
          "71 - 85",
          "51 - 60",
          "41 - 50",
          "51 - 60",
          "41 - 50",
          "31 - 40",
          "61 - 70",
          "51 - 60",
          "51 - 60",
          "51 - 60",
          "51 - 60",
          "41 - 50",
          "51 - 60",
          "41 - 50",
          "61 - 70",
          "51 - 60",
          "51 - 60",
          "71 - 85",
          "61 - 70",
          "61 - 70",
          "31 - 40",
          "61 - 70",
          "31 - 40",
          "51 - 60",
          "51 - 60",
          "61 - 70",
          "31 - 40",
          "51 - 60",
          "51 - 60",
          "51 - 60",
          "71 - 85",
          "51 - 60",
          "41 - 50",
          "31 - 40",
          "41 - 50",
          "71 - 85",
          "71 - 85",
          "31 - 40",
          "71 - 85",
          "61 - 70",
          "31 - 40",
          "51 - 60",
          "51 - 60",
          "61 - 70",
          "31 - 40",
          "51 - 60",
          "61 - 70",
          "41 - 50",
          "51 - 60",
          "51 - 60",
          "61 - 70",
          "71 - 85",
          "61 - 70",
          "61 - 70",
          "41 - 50",
          "41 - 50",
          "51 - 60",
          "41 - 50",
          "51 - 60",
          "51 - 60",
          "61 - 70",
          "41 - 50",
          "51 - 60",
          "41 - 50",
          "51 - 60",
          "61 - 70",
          "41 - 50",
          "61 - 70",
          "51 - 60",
          "41 - 50",
          "61 - 70",
          "51 - 60",
          "51 - 60",
          "41 - 50",
          "61 - 70",
          "31 - 40",
          "41 - 50",
          "41 - 50",
          "41 - 50",
          "41 - 50",
          "31 - 40",
          "51 - 60",
          "51 - 60",
          "61 - 70",
          "71 - 85",
          "51 - 60",
          "41 - 50",
          "51 - 60",
          "61 - 70",
          "41 - 50",
          "51 - 60",
          "61 - 70",
          "31 - 40",
          "51 - 60",
          "41 - 50",
          "41 - 50",
          "51 - 60",
          "41 - 50",
          "51 - 60",
          "41 - 50",
          "51 - 60",
          "41 - 50",
          "61 - 70",
          "61 - 70",
          "51 - 60",
          "41 - 50",
          "31 - 40",
          "71 - 85",
          "71 - 85",
          "51 - 60",
          "41 - 50",
          "41 - 50",
          "31 - 40",
          "41 - 50",
          "51 - 60",
          "61 - 70",
          "31 - 40",
          "61 - 70",
          "71 - 85",
          "31 - 40",
          "41 - 50",
          "61 - 70",
          "71 - 85",
          "41 - 50",
          "41 - 50",
          "61 - 70",
          "61 - 70",
          "31 - 40",
          "71 - 85",
          "51 - 60",
          "41 - 50",
          "41 - 50",
          "61 - 70",
          "61 - 70",
          "41 - 50",
          "41 - 50",
          "61 - 70",
          "71 - 85",
          "51 - 60",
          "61 - 70",
          "51 - 60",
          "23 - 30",
          "41 - 50",
          "51 - 60",
          "51 - 60",
          "51 - 60",
          "71 - 85",
          "51 - 60",
          "23 - 30",
          "41 - 50",
          "31 - 40",
          "61 - 70",
          "41 - 50",
          "61 - 70",
          "71 - 85",
          "41 - 50",
          "41 - 50",
          "31 - 40",
          "71 - 85",
          "61 - 70",
          "61 - 70",
          "61 - 70",
          "51 - 60",
          "31 - 40",
          "51 - 60",
          "71 - 85",
          "61 - 70",
          "41 - 50",
          "51 - 60",
          "51 - 60",
          "61 - 70",
          "71 - 85",
          "51 - 60",
          "51 - 60",
          "51 - 60",
          "51 - 60",
          "51 - 60",
          "61 - 70",
          "41 - 50",
          "61 - 70",
          "61 - 70",
          "41 - 50",
          "61 - 70",
          "61 - 70",
          "51 - 60",
          "31 - 40",
          "61 - 70",
          "51 - 60",
          "61 - 70",
          "61 - 70",
          "51 - 60",
          "51 - 60",
          "51 - 60",
          "41 - 50",
          "51 - 60",
          "61 - 70",
          "31 - 40",
          "61 - 70",
          "31 - 40",
          "51 - 60",
          "61 - 70",
          "41 - 50",
          "61 - 70",
          "61 - 70",
          "61 - 70",
          "31 - 40",
          "41 - 50",
          "61 - 70",
          "51 - 60",
          "31 - 40",
          "41 - 50",
          "41 - 50",
          "41 - 50",
          "51 - 60",
          "61 - 70",
          "51 - 60",
          "31 - 40",
          "71 - 85",
          "31 - 40",
          "51 - 60",
          "61 - 70",
          "71 - 85",
          "41 - 50",
          "51 - 60",
          "31 - 40",
          "51 - 60",
          "51 - 60",
          "41 - 50",
          "51 - 60",
          "71 - 85",
          "51 - 60",
          "51 - 60",
          "61 - 70",
          "51 - 60",
          "61 - 70",
          "41 - 50",
          "41 - 50",
          "51 - 60",
          "51 - 60",
          "41 - 50",
          "41 - 50",
          "61 - 70",
          "71 - 85",
          "41 - 50",
          "61 - 70",
          "51 - 60",
          "71 - 85",
          "61 - 70",
          "71 - 85",
          "61 - 70",
          "51 - 60",
          "51 - 60",
          "51 - 60",
          "51 - 60",
          "41 - 50",
          "51 - 60",
          "41 - 50",
          "41 - 50",
          "41 - 50",
          "51 - 60",
          "61 - 70",
          "71 - 85",
          "71 - 85",
          "51 - 60",
          "51 - 60",
          "51 - 60",
          "51 - 60",
          "51 - 60",
          "61 - 70",
          "51 - 60",
          "51 - 60",
          "41 - 50",
          "61 - 70",
          "61 - 70",
          "41 - 50",
          "51 - 60",
          "71 - 85",
          "41 - 50",
          "71 - 85",
          "31 - 40",
          "51 - 60",
          "41 - 50",
          "51 - 60",
          "41 - 50",
          "51 - 60",
          "41 - 50",
          "51 - 60",
          "61 - 70",
          "61 - 70",
          "51 - 60",
          "61 - 70",
          "31 - 40",
          "61 - 70",
          "51 - 60",
          "51 - 60",
          "51 - 60",
          "31 - 40",
          "61 - 70",
          "61 - 70",
          "51 - 60",
          "41 - 50",
          "41 - 50",
          "61 - 70",
          "41 - 50",
          "41 - 50",
          "41 - 50",
          "71 - 85",
          "41 - 50",
          "51 - 60",
          "61 - 70",
          "71 - 85",
          "41 - 50",
          "41 - 50",
          "41 - 50",
          "41 - 50",
          "71 - 85",
          "41 - 50",
          "61 - 70",
          "41 - 50",
          "71 - 85",
          "31 - 40",
          "41 - 50",
          "41 - 50",
          "61 - 70",
          "41 - 50",
          "41 - 50",
          "61 - 70",
          "61 - 70",
          "31 - 40",
          "31 - 40",
          "51 - 60",
          "41 - 50",
          "61 - 70",
          "41 - 50",
          "71 - 85",
          "61 - 70",
          "51 - 60",
          "51 - 60",
          "31 - 40",
          "41 - 50",
          "71 - 85",
          "41 - 50",
          "61 - 70",
          "41 - 50",
          "51 - 60",
          "51 - 60",
          "61 - 70",
          "41 - 50",
          "61 - 70",
          "51 - 60",
          "61 - 70",
          "51 - 60",
          "61 - 70",
          "41 - 50",
          "31 - 40",
          "51 - 60",
          "61 - 70",
          "61 - 70",
          "51 - 60",
          "71 - 85",
          "41 - 50",
          "41 - 50",
          "41 - 50",
          "51 - 60",
          "51 - 60",
          "51 - 60",
          "41 - 50",
          "51 - 60",
          "61 - 70",
          "41 - 50",
          "51 - 60",
          "51 - 60",
          "51 - 60",
          "61 - 70",
          "51 - 60",
          "71 - 85",
          "61 - 70",
          "51 - 60",
          "51 - 60",
          "71 - 85",
          "71 - 85",
          "71 - 85",
          "71 - 85",
          "41 - 50",
          "51 - 60",
          "51 - 60",
          "71 - 85",
          "31 - 40",
          "41 - 50",
          "51 - 60",
          "71 - 85",
          "51 - 60",
          "51 - 60",
          "51 - 60",
          "51 - 60",
          "51 - 60",
          "51 - 60",
          "61 - 70",
          "51 - 60",
          "41 - 50",
          "51 - 60",
          "61 - 70",
          "51 - 60",
          "41 - 50",
          "51 - 60",
          "31 - 40",
          "51 - 60",
          "51 - 60",
          "41 - 50",
          "61 - 70",
          "31 - 40",
          "51 - 60",
          "41 - 50",
          "71 - 85",
          "71 - 85",
          "41 - 50",
          "71 - 85",
          "71 - 85",
          "61 - 70",
          "51 - 60",
          "61 - 70",
          "41 - 50",
          "51 - 60",
          "51 - 60",
          "51 - 60",
          "71 - 85",
          "51 - 60",
          "51 - 60",
          "51 - 60",
          "51 - 60",
          "51 - 60",
          "51 - 60",
          "41 - 50",
          "71 - 85",
          "61 - 70",
          "61 - 70",
          "41 - 50",
          "31 - 40",
          "61 - 70",
          "71 - 85",
          "71 - 85",
          "71 - 85",
          "51 - 60",
          "51 - 60",
          "41 - 50",
          "51 - 60",
          "51 - 60",
          "61 - 70",
          "61 - 70",
          "61 - 70",
          "51 - 60",
          "31 - 40",
          "61 - 70",
          "41 - 50",
          "61 - 70",
          "41 - 50",
          "41 - 50",
          "41 - 50",
          "41 - 50",
          "51 - 60",
          "71 - 85",
          "61 - 70",
          "51 - 60",
          "51 - 60",
          "71 - 85",
          "31 - 40",
          "41 - 50",
          "31 - 40",
          "61 - 70",
          "41 - 50",
          "51 - 60",
          "61 - 70",
          "31 - 40",
          "41 - 50",
          "51 - 60",
          "41 - 50",
          "51 - 60",
          "61 - 70",
          "41 - 50",
          "51 - 60",
          "41 - 50",
          "51 - 60",
          "61 - 70",
          "31 - 40",
          "41 - 50",
          "51 - 60",
          "31 - 40",
          "41 - 50",
          "41 - 50",
          "61 - 70",
          "41 - 50",
          "51 - 60",
          "51 - 60",
          "41 - 50",
          "51 - 60",
          "41 - 50",
          "51 - 60",
          "51 - 60",
          "41 - 50",
          "71 - 85",
          "61 - 70",
          "31 - 40",
          "61 - 70",
          "41 - 50",
          "61 - 70",
          "41 - 50",
          "41 - 50",
          "31 - 40",
          "31 - 40",
          "31 - 40",
          "61 - 70",
          "51 - 60",
          "51 - 60",
          "31 - 40",
          "61 - 70",
          "41 - 50",
          "71 - 85",
          "51 - 60",
          "31 - 40",
          "31 - 40",
          "61 - 70",
          "61 - 70",
          "41 - 50",
          "71 - 85",
          "51 - 60",
          "61 - 70",
          "61 - 70",
          "41 - 50",
          "51 - 60",
          "61 - 70",
          "41 - 50",
          "61 - 70",
          "41 - 50",
          "41 - 50",
          "41 - 50",
          "31 - 40",
          "61 - 70",
          "31 - 40",
          "71 - 85",
          "51 - 60",
          "61 - 70",
          "71 - 85",
          "61 - 70",
          "71 - 85",
          "61 - 70",
          "31 - 40",
          "31 - 40",
          "41 - 50",
          "61 - 70",
          "41 - 50",
          "71 - 85",
          "31 - 40",
          "41 - 50",
          "61 - 70",
          "71 - 85",
          "71 - 85",
          "51 - 60",
          "31 - 40",
          "51 - 60",
          "71 - 85",
          "51 - 60",
          "41 - 50",
          "31 - 40",
          "61 - 70",
          "61 - 70",
          "31 - 40",
          "51 - 60",
          "51 - 60",
          "51 - 60",
          "61 - 70",
          "31 - 40",
          "51 - 60",
          "41 - 50",
          "51 - 60",
          "61 - 70",
          "61 - 70",
          "61 - 70",
          "61 - 70",
          "61 - 70",
          "41 - 50",
          "31 - 40",
          "51 - 60",
          "51 - 60",
          "31 - 40",
          "41 - 50",
          "31 - 40",
          "41 - 50",
          "41 - 50",
          "31 - 40",
          "41 - 50",
          "31 - 40",
          "51 - 60",
          "61 - 70",
          "51 - 60",
          "51 - 60",
          "41 - 50",
          "61 - 70",
          "61 - 70",
          "71 - 85",
          "51 - 60",
          "61 - 70",
          "41 - 50",
          "41 - 50",
          "71 - 85",
          "51 - 60",
          "61 - 70",
          "41 - 50",
          "71 - 85",
          "61 - 70",
          "61 - 70",
          "71 - 85",
          "51 - 60",
          "41 - 50",
          "51 - 60",
          "51 - 60",
          "41 - 50",
          "41 - 50",
          "41 - 50",
          "61 - 70",
          "41 - 50",
          "41 - 50",
          "51 - 60",
          "71 - 85",
          "41 - 50",
          "61 - 70",
          "61 - 70",
          "71 - 85",
          "41 - 50",
          "61 - 70",
          "61 - 70",
          "51 - 60",
          "41 - 50",
          "61 - 70",
          "51 - 60",
          "41 - 50",
          "51 - 60",
          "31 - 40",
          "31 - 40",
          "51 - 60",
          "61 - 70",
          "51 - 60",
          "51 - 60",
          "31 - 40",
          "71 - 85",
          "31 - 40",
          "61 - 70",
          "51 - 60",
          "31 - 40",
          "41 - 50",
          "41 - 50",
          "41 - 50",
          "41 - 50",
          "41 - 50",
          "51 - 60",
          "61 - 70",
          "41 - 50",
          "71 - 85",
          "51 - 60",
          "41 - 50",
          "51 - 60",
          "51 - 60",
          "31 - 40",
          "71 - 85",
          "31 - 40",
          "31 - 40",
          "41 - 50",
          "31 - 40",
          "71 - 85",
          "51 - 60",
          "41 - 50",
          "61 - 70",
          "71 - 85",
          "41 - 50",
          "61 - 70",
          "31 - 40",
          "51 - 60",
          "51 - 60",
          "31 - 40",
          "61 - 70",
          "51 - 60",
          "41 - 50",
          "51 - 60",
          "31 - 40",
          "61 - 70",
          "41 - 50",
          "51 - 60",
          "31 - 40",
          "31 - 40",
          "61 - 70",
          "41 - 50",
          "41 - 50",
          "41 - 50",
          "41 - 50",
          "41 - 50",
          "31 - 40",
          "61 - 70",
          "41 - 50",
          "41 - 50",
          "61 - 70",
          "51 - 60",
          "61 - 70",
          "71 - 85",
          "51 - 60",
          "61 - 70",
          "61 - 70",
          "51 - 60",
          "61 - 70",
          "61 - 70",
          "51 - 60",
          "61 - 70",
          "61 - 70",
          "51 - 60",
          "51 - 60",
          "41 - 50",
          "71 - 85",
          "71 - 85",
          "51 - 60",
          "71 - 85",
          "71 - 85",
          "71 - 85",
          "51 - 60",
          "71 - 85",
          "61 - 70",
          "41 - 50",
          "41 - 50",
          "71 - 85",
          "51 - 60",
          "41 - 50",
          "51 - 60",
          "51 - 60",
          "61 - 70",
          "51 - 60",
          "51 - 60",
          "41 - 50",
          "41 - 50",
          "41 - 50",
          "31 - 40",
          "61 - 70",
          "41 - 50",
          "41 - 50",
          "61 - 70",
          "41 - 50",
          "41 - 50",
          "71 - 85",
          "31 - 40",
          "71 - 85",
          "51 - 60",
          "61 - 70",
          "31 - 40",
          "41 - 50",
          "51 - 60",
          "31 - 40",
          "41 - 50",
          "41 - 50",
          "51 - 60",
          "61 - 70",
          "51 - 60",
          "51 - 60",
          "51 - 60",
          "41 - 50",
          "41 - 50",
          "41 - 50",
          "71 - 85",
          "61 - 70",
          "61 - 70",
          "41 - 50",
          "71 - 85",
          "61 - 70",
          "61 - 70",
          "41 - 50",
          "51 - 60",
          "41 - 50",
          "41 - 50",
          "41 - 50",
          "71 - 85",
          "51 - 60",
          "71 - 85",
          "61 - 70",
          "51 - 60",
          "51 - 60",
          "61 - 70",
          "41 - 50",
          "51 - 60",
          "61 - 70",
          "51 - 60",
          "31 - 40",
          "61 - 70",
          "41 - 50",
          "41 - 50",
          "71 - 85",
          "61 - 70",
          "61 - 70",
          "61 - 70",
          "51 - 60",
          "51 - 60",
          "51 - 60",
          "41 - 50",
          "51 - 60",
          "51 - 60",
          "31 - 40",
          "61 - 70",
          "41 - 50",
          "31 - 40",
          "61 - 70",
          "61 - 70",
          "41 - 50",
          "41 - 50",
          "41 - 50",
          "51 - 60",
          "61 - 70",
          "61 - 70",
          "61 - 70",
          "41 - 50",
          "71 - 85",
          "51 - 60",
          "61 - 70",
          "51 - 60",
          "41 - 50",
          "61 - 70",
          "31 - 40",
          "51 - 60",
          "31 - 40",
          "23 - 30",
          "41 - 50",
          "41 - 50",
          "61 - 70",
          "31 - 40",
          "51 - 60",
          "71 - 85",
          "41 - 50",
          "51 - 60",
          "31 - 40",
          "51 - 60",
          "41 - 50",
          "41 - 50",
          "51 - 60",
          "41 - 50",
          "51 - 60",
          "51 - 60",
          "31 - 40",
          "51 - 60",
          "41 - 50",
          "51 - 60",
          "51 - 60",
          "51 - 60",
          "71 - 85",
          "71 - 85",
          "31 - 40",
          "61 - 70",
          "61 - 70",
          "71 - 85",
          "41 - 50",
          "31 - 40",
          "51 - 60",
          "51 - 60",
          "51 - 60",
          "31 - 40",
          "31 - 40",
          "61 - 70",
          "51 - 60",
          "41 - 50",
          "41 - 50",
          "31 - 40",
          "31 - 40",
          "31 - 40",
          "51 - 60",
          "41 - 50",
          "71 - 85",
          "41 - 50",
          "61 - 70",
          "71 - 85",
          "71 - 85",
          "51 - 60",
          "41 - 50",
          "31 - 40",
          "51 - 60",
          "51 - 60",
          "61 - 70",
          "51 - 60",
          "31 - 40",
          "61 - 70",
          "41 - 50",
          "61 - 70",
          "51 - 60",
          "51 - 60",
          "51 - 60",
          "61 - 70",
          "51 - 60",
          "31 - 40",
          "41 - 50",
          "41 - 50",
          "51 - 60",
          "41 - 50",
          "51 - 60",
          "61 - 70",
          "71 - 85",
          "61 - 70",
          "41 - 50",
          "51 - 60",
          "51 - 60",
          "61 - 70",
          "51 - 60",
          "41 - 50",
          "71 - 85",
          "41 - 50",
          "51 - 60",
          "71 - 85",
          "41 - 50",
          "61 - 70",
          "71 - 85",
          "61 - 70",
          "51 - 60",
          "31 - 40",
          "71 - 85",
          "41 - 50",
          "31 - 40",
          "41 - 50",
          "71 - 85",
          "41 - 50",
          "41 - 50",
          "51 - 60",
          "61 - 70",
          "71 - 85",
          "41 - 50",
          "71 - 85",
          "41 - 50",
          "51 - 60",
          "71 - 85",
          "41 - 50",
          "61 - 70",
          "31 - 40",
          "71 - 85",
          "51 - 60",
          "61 - 70",
          "41 - 50",
          "71 - 85",
          "51 - 60",
          "71 - 85",
          "51 - 60",
          "61 - 70",
          "71 - 85",
          "41 - 50",
          "51 - 60",
          "41 - 50",
          "51 - 60",
          "41 - 50",
          "51 - 60",
          "51 - 60",
          "61 - 70",
          "51 - 60",
          "41 - 50",
          "31 - 40",
          "31 - 40",
          "41 - 50",
          "71 - 85",
          "61 - 70",
          "41 - 50",
          "61 - 70",
          "41 - 50",
          "31 - 40",
          "31 - 40",
          "61 - 70",
          "61 - 70",
          "51 - 60",
          "71 - 85",
          "61 - 70",
          "61 - 70",
          "41 - 50",
          "41 - 50",
          "41 - 50",
          "51 - 60",
          "41 - 50",
          "51 - 60",
          "51 - 60",
          "51 - 60",
          "51 - 60",
          "51 - 60",
          "41 - 50",
          "51 - 60",
          "51 - 60",
          "61 - 70",
          "51 - 60",
          "61 - 70",
          "31 - 40",
          "41 - 50",
          "41 - 50",
          "61 - 70",
          "41 - 50",
          "41 - 50",
          "51 - 60",
          "71 - 85",
          "51 - 60",
          "41 - 50",
          "41 - 50",
          "61 - 70",
          "71 - 85",
          "51 - 60",
          "41 - 50",
          "51 - 60",
          "71 - 85",
          "71 - 85",
          "31 - 40",
          "71 - 85",
          "61 - 70",
          "41 - 50",
          "41 - 50",
          "31 - 40",
          "71 - 85",
          "41 - 50",
          "71 - 85",
          "31 - 40",
          "41 - 50",
          "31 - 40",
          "51 - 60",
          "41 - 50",
          "41 - 50",
          "51 - 60",
          "51 - 60",
          "61 - 70",
          "51 - 60",
          "51 - 60",
          "71 - 85",
          "71 - 85",
          "41 - 50",
          "61 - 70",
          "61 - 70",
          "71 - 85",
          "51 - 60",
          "51 - 60",
          "41 - 50",
          "71 - 85",
          "51 - 60",
          "41 - 50",
          "41 - 50",
          "41 - 50",
          "71 - 85",
          "71 - 85",
          "71 - 85",
          "31 - 40",
          "41 - 50",
          "71 - 85",
          "61 - 70",
          "51 - 60",
          "31 - 40",
          "41 - 50",
          "51 - 60",
          "41 - 50",
          "61 - 70",
          "51 - 60",
          "61 - 70",
          "31 - 40",
          "51 - 60",
          "31 - 40",
          "61 - 70",
          "41 - 50",
          "51 - 60",
          "41 - 50",
          "51 - 60",
          "41 - 50",
          "31 - 40",
          "71 - 85",
          "71 - 85",
          "41 - 50",
          "61 - 70",
          "41 - 50",
          "41 - 50",
          "41 - 50",
          "71 - 85",
          "31 - 40",
          "41 - 50",
          "51 - 60",
          "31 - 40",
          "61 - 70",
          "51 - 60",
          "71 - 85",
          "61 - 70",
          "61 - 70",
          "41 - 50",
          "71 - 85",
          "41 - 50",
          "61 - 70",
          "51 - 60",
          "41 - 50",
          "71 - 85",
          "61 - 70",
          "51 - 60",
          "41 - 50",
          "41 - 50",
          "41 - 50",
          "61 - 70",
          "61 - 70",
          "51 - 60",
          "51 - 60",
          "31 - 40",
          "51 - 60",
          "41 - 50",
          "41 - 50",
          "41 - 50",
          "41 - 50",
          "61 - 70",
          "51 - 60",
          "51 - 60",
          "51 - 60",
          "61 - 70",
          "51 - 60",
          "41 - 50",
          "51 - 60",
          "51 - 60",
          "61 - 70",
          "51 - 60",
          "61 - 70",
          "51 - 60",
          "61 - 70",
          "51 - 60",
          "61 - 70",
          "61 - 70",
          "51 - 60",
          "41 - 50",
          "51 - 60",
          "41 - 50",
          "41 - 50",
          "51 - 60",
          "41 - 50",
          "61 - 70",
          "51 - 60",
          "51 - 60",
          "41 - 50",
          "61 - 70",
          "71 - 85",
          "31 - 40",
          "41 - 50",
          "61 - 70",
          "31 - 40",
          "31 - 40",
          "41 - 50",
          "51 - 60",
          "51 - 60",
          "41 - 50",
          "71 - 85",
          "61 - 70",
          "41 - 50",
          "51 - 60",
          "51 - 60",
          "51 - 60",
          "61 - 70",
          "41 - 50",
          "51 - 60",
          "51 - 60",
          "41 - 50",
          "61 - 70",
          "61 - 70",
          "51 - 60",
          "61 - 70",
          "61 - 70",
          "51 - 60",
          "41 - 50",
          "51 - 60",
          "71 - 85",
          "61 - 70",
          "61 - 70",
          "71 - 85",
          "41 - 50",
          "51 - 60",
          "61 - 70",
          "41 - 50",
          "31 - 40",
          "51 - 60",
          "51 - 60",
          "41 - 50",
          "31 - 40",
          "51 - 60",
          "41 - 50",
          "61 - 70",
          "61 - 70",
          "61 - 70",
          "61 - 70",
          "41 - 50",
          "71 - 85",
          "23 - 30",
          "41 - 50",
          "61 - 70",
          "41 - 50",
          "71 - 85",
          "41 - 50",
          "31 - 40",
          "41 - 50",
          "41 - 50",
          "41 - 50",
          "61 - 70",
          "51 - 60",
          "51 - 60",
          "41 - 50",
          "61 - 70",
          "51 - 60",
          "31 - 40",
          "51 - 60",
          "31 - 40",
          "41 - 50",
          "51 - 60",
          "71 - 85",
          "41 - 50",
          "61 - 70",
          "61 - 70"
         ],
         "xaxis": "x",
         "yaxis": "y"
        }
       ],
       "layout": {
        "barmode": "relative",
        "legend": {
         "tracegroupgap": 0
        },
        "template": {
         "data": {
          "bar": [
           {
            "error_x": {
             "color": "#2a3f5f"
            },
            "error_y": {
             "color": "#2a3f5f"
            },
            "marker": {
             "line": {
              "color": "#E5ECF6",
              "width": 0.5
             },
             "pattern": {
              "fillmode": "overlay",
              "size": 10,
              "solidity": 0.2
             }
            },
            "type": "bar"
           }
          ],
          "barpolar": [
           {
            "marker": {
             "line": {
              "color": "#E5ECF6",
              "width": 0.5
             },
             "pattern": {
              "fillmode": "overlay",
              "size": 10,
              "solidity": 0.2
             }
            },
            "type": "barpolar"
           }
          ],
          "carpet": [
           {
            "aaxis": {
             "endlinecolor": "#2a3f5f",
             "gridcolor": "white",
             "linecolor": "white",
             "minorgridcolor": "white",
             "startlinecolor": "#2a3f5f"
            },
            "baxis": {
             "endlinecolor": "#2a3f5f",
             "gridcolor": "white",
             "linecolor": "white",
             "minorgridcolor": "white",
             "startlinecolor": "#2a3f5f"
            },
            "type": "carpet"
           }
          ],
          "choropleth": [
           {
            "colorbar": {
             "outlinewidth": 0,
             "ticks": ""
            },
            "type": "choropleth"
           }
          ],
          "contour": [
           {
            "colorbar": {
             "outlinewidth": 0,
             "ticks": ""
            },
            "colorscale": [
             [
              0,
              "#0d0887"
             ],
             [
              0.1111111111111111,
              "#46039f"
             ],
             [
              0.2222222222222222,
              "#7201a8"
             ],
             [
              0.3333333333333333,
              "#9c179e"
             ],
             [
              0.4444444444444444,
              "#bd3786"
             ],
             [
              0.5555555555555556,
              "#d8576b"
             ],
             [
              0.6666666666666666,
              "#ed7953"
             ],
             [
              0.7777777777777778,
              "#fb9f3a"
             ],
             [
              0.8888888888888888,
              "#fdca26"
             ],
             [
              1,
              "#f0f921"
             ]
            ],
            "type": "contour"
           }
          ],
          "contourcarpet": [
           {
            "colorbar": {
             "outlinewidth": 0,
             "ticks": ""
            },
            "type": "contourcarpet"
           }
          ],
          "heatmap": [
           {
            "colorbar": {
             "outlinewidth": 0,
             "ticks": ""
            },
            "colorscale": [
             [
              0,
              "#0d0887"
             ],
             [
              0.1111111111111111,
              "#46039f"
             ],
             [
              0.2222222222222222,
              "#7201a8"
             ],
             [
              0.3333333333333333,
              "#9c179e"
             ],
             [
              0.4444444444444444,
              "#bd3786"
             ],
             [
              0.5555555555555556,
              "#d8576b"
             ],
             [
              0.6666666666666666,
              "#ed7953"
             ],
             [
              0.7777777777777778,
              "#fb9f3a"
             ],
             [
              0.8888888888888888,
              "#fdca26"
             ],
             [
              1,
              "#f0f921"
             ]
            ],
            "type": "heatmap"
           }
          ],
          "heatmapgl": [
           {
            "colorbar": {
             "outlinewidth": 0,
             "ticks": ""
            },
            "colorscale": [
             [
              0,
              "#0d0887"
             ],
             [
              0.1111111111111111,
              "#46039f"
             ],
             [
              0.2222222222222222,
              "#7201a8"
             ],
             [
              0.3333333333333333,
              "#9c179e"
             ],
             [
              0.4444444444444444,
              "#bd3786"
             ],
             [
              0.5555555555555556,
              "#d8576b"
             ],
             [
              0.6666666666666666,
              "#ed7953"
             ],
             [
              0.7777777777777778,
              "#fb9f3a"
             ],
             [
              0.8888888888888888,
              "#fdca26"
             ],
             [
              1,
              "#f0f921"
             ]
            ],
            "type": "heatmapgl"
           }
          ],
          "histogram": [
           {
            "marker": {
             "pattern": {
              "fillmode": "overlay",
              "size": 10,
              "solidity": 0.2
             }
            },
            "type": "histogram"
           }
          ],
          "histogram2d": [
           {
            "colorbar": {
             "outlinewidth": 0,
             "ticks": ""
            },
            "colorscale": [
             [
              0,
              "#0d0887"
             ],
             [
              0.1111111111111111,
              "#46039f"
             ],
             [
              0.2222222222222222,
              "#7201a8"
             ],
             [
              0.3333333333333333,
              "#9c179e"
             ],
             [
              0.4444444444444444,
              "#bd3786"
             ],
             [
              0.5555555555555556,
              "#d8576b"
             ],
             [
              0.6666666666666666,
              "#ed7953"
             ],
             [
              0.7777777777777778,
              "#fb9f3a"
             ],
             [
              0.8888888888888888,
              "#fdca26"
             ],
             [
              1,
              "#f0f921"
             ]
            ],
            "type": "histogram2d"
           }
          ],
          "histogram2dcontour": [
           {
            "colorbar": {
             "outlinewidth": 0,
             "ticks": ""
            },
            "colorscale": [
             [
              0,
              "#0d0887"
             ],
             [
              0.1111111111111111,
              "#46039f"
             ],
             [
              0.2222222222222222,
              "#7201a8"
             ],
             [
              0.3333333333333333,
              "#9c179e"
             ],
             [
              0.4444444444444444,
              "#bd3786"
             ],
             [
              0.5555555555555556,
              "#d8576b"
             ],
             [
              0.6666666666666666,
              "#ed7953"
             ],
             [
              0.7777777777777778,
              "#fb9f3a"
             ],
             [
              0.8888888888888888,
              "#fdca26"
             ],
             [
              1,
              "#f0f921"
             ]
            ],
            "type": "histogram2dcontour"
           }
          ],
          "mesh3d": [
           {
            "colorbar": {
             "outlinewidth": 0,
             "ticks": ""
            },
            "type": "mesh3d"
           }
          ],
          "parcoords": [
           {
            "line": {
             "colorbar": {
              "outlinewidth": 0,
              "ticks": ""
             }
            },
            "type": "parcoords"
           }
          ],
          "pie": [
           {
            "automargin": true,
            "type": "pie"
           }
          ],
          "scatter": [
           {
            "fillpattern": {
             "fillmode": "overlay",
             "size": 10,
             "solidity": 0.2
            },
            "type": "scatter"
           }
          ],
          "scatter3d": [
           {
            "line": {
             "colorbar": {
              "outlinewidth": 0,
              "ticks": ""
             }
            },
            "marker": {
             "colorbar": {
              "outlinewidth": 0,
              "ticks": ""
             }
            },
            "type": "scatter3d"
           }
          ],
          "scattercarpet": [
           {
            "marker": {
             "colorbar": {
              "outlinewidth": 0,
              "ticks": ""
             }
            },
            "type": "scattercarpet"
           }
          ],
          "scattergeo": [
           {
            "marker": {
             "colorbar": {
              "outlinewidth": 0,
              "ticks": ""
             }
            },
            "type": "scattergeo"
           }
          ],
          "scattergl": [
           {
            "marker": {
             "colorbar": {
              "outlinewidth": 0,
              "ticks": ""
             }
            },
            "type": "scattergl"
           }
          ],
          "scattermapbox": [
           {
            "marker": {
             "colorbar": {
              "outlinewidth": 0,
              "ticks": ""
             }
            },
            "type": "scattermapbox"
           }
          ],
          "scatterpolar": [
           {
            "marker": {
             "colorbar": {
              "outlinewidth": 0,
              "ticks": ""
             }
            },
            "type": "scatterpolar"
           }
          ],
          "scatterpolargl": [
           {
            "marker": {
             "colorbar": {
              "outlinewidth": 0,
              "ticks": ""
             }
            },
            "type": "scatterpolargl"
           }
          ],
          "scatterternary": [
           {
            "marker": {
             "colorbar": {
              "outlinewidth": 0,
              "ticks": ""
             }
            },
            "type": "scatterternary"
           }
          ],
          "surface": [
           {
            "colorbar": {
             "outlinewidth": 0,
             "ticks": ""
            },
            "colorscale": [
             [
              0,
              "#0d0887"
             ],
             [
              0.1111111111111111,
              "#46039f"
             ],
             [
              0.2222222222222222,
              "#7201a8"
             ],
             [
              0.3333333333333333,
              "#9c179e"
             ],
             [
              0.4444444444444444,
              "#bd3786"
             ],
             [
              0.5555555555555556,
              "#d8576b"
             ],
             [
              0.6666666666666666,
              "#ed7953"
             ],
             [
              0.7777777777777778,
              "#fb9f3a"
             ],
             [
              0.8888888888888888,
              "#fdca26"
             ],
             [
              1,
              "#f0f921"
             ]
            ],
            "type": "surface"
           }
          ],
          "table": [
           {
            "cells": {
             "fill": {
              "color": "#EBF0F8"
             },
             "line": {
              "color": "white"
             }
            },
            "header": {
             "fill": {
              "color": "#C8D4E3"
             },
             "line": {
              "color": "white"
             }
            },
            "type": "table"
           }
          ]
         },
         "layout": {
          "annotationdefaults": {
           "arrowcolor": "#2a3f5f",
           "arrowhead": 0,
           "arrowwidth": 1
          },
          "autotypenumbers": "strict",
          "coloraxis": {
           "colorbar": {
            "outlinewidth": 0,
            "ticks": ""
           }
          },
          "colorscale": {
           "diverging": [
            [
             0,
             "#8e0152"
            ],
            [
             0.1,
             "#c51b7d"
            ],
            [
             0.2,
             "#de77ae"
            ],
            [
             0.3,
             "#f1b6da"
            ],
            [
             0.4,
             "#fde0ef"
            ],
            [
             0.5,
             "#f7f7f7"
            ],
            [
             0.6,
             "#e6f5d0"
            ],
            [
             0.7,
             "#b8e186"
            ],
            [
             0.8,
             "#7fbc41"
            ],
            [
             0.9,
             "#4d9221"
            ],
            [
             1,
             "#276419"
            ]
           ],
           "sequential": [
            [
             0,
             "#0d0887"
            ],
            [
             0.1111111111111111,
             "#46039f"
            ],
            [
             0.2222222222222222,
             "#7201a8"
            ],
            [
             0.3333333333333333,
             "#9c179e"
            ],
            [
             0.4444444444444444,
             "#bd3786"
            ],
            [
             0.5555555555555556,
             "#d8576b"
            ],
            [
             0.6666666666666666,
             "#ed7953"
            ],
            [
             0.7777777777777778,
             "#fb9f3a"
            ],
            [
             0.8888888888888888,
             "#fdca26"
            ],
            [
             1,
             "#f0f921"
            ]
           ],
           "sequentialminus": [
            [
             0,
             "#0d0887"
            ],
            [
             0.1111111111111111,
             "#46039f"
            ],
            [
             0.2222222222222222,
             "#7201a8"
            ],
            [
             0.3333333333333333,
             "#9c179e"
            ],
            [
             0.4444444444444444,
             "#bd3786"
            ],
            [
             0.5555555555555556,
             "#d8576b"
            ],
            [
             0.6666666666666666,
             "#ed7953"
            ],
            [
             0.7777777777777778,
             "#fb9f3a"
            ],
            [
             0.8888888888888888,
             "#fdca26"
            ],
            [
             1,
             "#f0f921"
            ]
           ]
          },
          "colorway": [
           "#636efa",
           "#EF553B",
           "#00cc96",
           "#ab63fa",
           "#FFA15A",
           "#19d3f3",
           "#FF6692",
           "#B6E880",
           "#FF97FF",
           "#FECB52"
          ],
          "font": {
           "color": "#2a3f5f"
          },
          "geo": {
           "bgcolor": "white",
           "lakecolor": "white",
           "landcolor": "#E5ECF6",
           "showlakes": true,
           "showland": true,
           "subunitcolor": "white"
          },
          "hoverlabel": {
           "align": "left"
          },
          "hovermode": "closest",
          "mapbox": {
           "style": "light"
          },
          "paper_bgcolor": "white",
          "plot_bgcolor": "#E5ECF6",
          "polar": {
           "angularaxis": {
            "gridcolor": "white",
            "linecolor": "white",
            "ticks": ""
           },
           "bgcolor": "#E5ECF6",
           "radialaxis": {
            "gridcolor": "white",
            "linecolor": "white",
            "ticks": ""
           }
          },
          "scene": {
           "xaxis": {
            "backgroundcolor": "#E5ECF6",
            "gridcolor": "white",
            "gridwidth": 2,
            "linecolor": "white",
            "showbackground": true,
            "ticks": "",
            "zerolinecolor": "white"
           },
           "yaxis": {
            "backgroundcolor": "#E5ECF6",
            "gridcolor": "white",
            "gridwidth": 2,
            "linecolor": "white",
            "showbackground": true,
            "ticks": "",
            "zerolinecolor": "white"
           },
           "zaxis": {
            "backgroundcolor": "#E5ECF6",
            "gridcolor": "white",
            "gridwidth": 2,
            "linecolor": "white",
            "showbackground": true,
            "ticks": "",
            "zerolinecolor": "white"
           }
          },
          "shapedefaults": {
           "line": {
            "color": "#2a3f5f"
           }
          },
          "ternary": {
           "aaxis": {
            "gridcolor": "white",
            "linecolor": "white",
            "ticks": ""
           },
           "baxis": {
            "gridcolor": "white",
            "linecolor": "white",
            "ticks": ""
           },
           "bgcolor": "#E5ECF6",
           "caxis": {
            "gridcolor": "white",
            "linecolor": "white",
            "ticks": ""
           }
          },
          "title": {
           "x": 0.05
          },
          "xaxis": {
           "automargin": true,
           "gridcolor": "white",
           "linecolor": "white",
           "ticks": "",
           "title": {
            "standoff": 15
           },
           "zerolinecolor": "white",
           "zerolinewidth": 2
          },
          "yaxis": {
           "automargin": true,
           "gridcolor": "white",
           "linecolor": "white",
           "ticks": "",
           "title": {
            "standoff": 15
           },
           "zerolinecolor": "white",
           "zerolinewidth": 2
          }
         }
        },
        "title": {
         "text": "Distribution des groupes d'âges"
        },
        "xaxis": {
         "anchor": "y",
         "domain": [
          0,
          1
         ],
         "title": {
          "text": "age_group"
         }
        },
        "yaxis": {
         "anchor": "x",
         "domain": [
          0,
          1
         ],
         "title": {
          "text": "count"
         }
        }
       }
      }
     },
     "metadata": {},
     "output_type": "display_data"
    }
   ],
   "source": [
    "age_groups_dist = px.histogram(data, x=\"age_group\", title=\"Distribution des groupes d'âges\")\n",
    "age_groups_dist.show()"
   ]
  },
  {
   "cell_type": "code",
   "execution_count": 31,
   "metadata": {},
   "outputs": [
    {
     "data": {
      "application/vnd.plotly.v1+json": {
       "config": {
        "plotlyServerURL": "https://plot.ly"
       },
       "data": [
        {
         "domain": {
          "x": [
           0,
           1
          ],
          "y": [
           0,
           1
          ]
         },
         "hovertemplate": "Marital_Status=%{label}<extra></extra>",
         "labels": [
          "Single",
          "Single",
          "Together",
          "Together",
          "Married",
          "Together",
          "Divorced",
          "Married",
          "Together",
          "Together",
          "Married",
          "Divorced",
          "Divorced",
          "Married",
          "Single",
          "Married",
          "Together",
          "Married",
          "Single",
          "Married",
          "Married",
          "Married",
          "Married",
          "Together",
          "Single",
          "Married",
          "Married",
          "Married",
          "Divorced",
          "Together",
          "Together",
          "Divorced",
          "Married",
          "Single",
          "Married",
          "Married",
          "Widow",
          "Divorced",
          "Married",
          "Married",
          "Together",
          "Married",
          "Single",
          "Married",
          "Together",
          "Married",
          "Widow",
          "Married",
          "Single",
          "Divorced",
          "Married",
          "Together",
          "Divorced",
          "Single",
          "Married",
          "Single",
          "Together",
          "Single",
          "Widow",
          "Together",
          "Married",
          "Together",
          "Single",
          "Together",
          "Together",
          "Married",
          "Married",
          "Married",
          "Married",
          "Divorced",
          "Married",
          "Single",
          "Together",
          "Together",
          "Single",
          "Married",
          "Married",
          "Together",
          "Divorced",
          "Married",
          "Married",
          "Single",
          "Married",
          "Together",
          "Single",
          "Married",
          "Married",
          "Widow",
          "Divorced",
          "Married",
          "Married",
          "Single",
          "Single",
          "Together",
          "Married",
          "Married",
          "Together",
          "Married",
          "Married",
          "Single",
          "Married",
          "Together",
          "Single",
          "Together",
          "Single",
          "Married",
          "Single",
          "Married",
          "Married",
          "Together",
          "Together",
          "Together",
          "Single",
          "Married",
          "Divorced",
          "Single",
          "Together",
          "Single",
          "Married",
          "Together",
          "Married",
          "Alone",
          "Married",
          "Married",
          "Together",
          "Divorced",
          "Married",
          "Alone",
          "Divorced",
          "Single",
          "Together",
          "Married",
          "Single",
          "Together",
          "Married",
          "Married",
          "Together",
          "Married",
          "Married",
          "Married",
          "Married",
          "Together",
          "Alone",
          "Together",
          "Together",
          "Single",
          "Single",
          "Together",
          "Single",
          "Single",
          "Married",
          "Married",
          "Divorced",
          "Together",
          "Divorced",
          "Divorced",
          "Single",
          "Together",
          "Together",
          "Married",
          "Married",
          "Together",
          "Single",
          "Married",
          "Married",
          "Married",
          "Together",
          "Married",
          "Married",
          "Married",
          "Married",
          "Married",
          "Married",
          "Married",
          "Single",
          "Married",
          "Married",
          "Married",
          "Together",
          "Together",
          "Divorced",
          "Married",
          "Married",
          "Married",
          "Married",
          "Married",
          "Married",
          "Single",
          "Divorced",
          "Single",
          "Divorced",
          "Together",
          "Single",
          "Single",
          "Together",
          "Divorced",
          "Married",
          "Divorced",
          "Together",
          "Together",
          "Married",
          "Together",
          "Married",
          "Married",
          "Single",
          "Married",
          "Widow",
          "Together",
          "Together",
          "Married",
          "Together",
          "Married",
          "Divorced",
          "Together",
          "Together",
          "Divorced",
          "Married",
          "Together",
          "Single",
          "Divorced",
          "Together",
          "Single",
          "Married",
          "Married",
          "Together",
          "Single",
          "Single",
          "Single",
          "Widow",
          "Together",
          "Single",
          "Married",
          "Married",
          "Married",
          "Married",
          "Married",
          "Married",
          "Together",
          "Single",
          "Single",
          "Divorced",
          "Together",
          "Together",
          "Single",
          "Together",
          "Single",
          "Single",
          "Single",
          "Divorced",
          "Divorced",
          "Married",
          "Married",
          "Together",
          "Married",
          "Married",
          "Married",
          "Married",
          "Together",
          "Single",
          "Single",
          "Together",
          "Married",
          "Divorced",
          "Together",
          "Single",
          "Together",
          "Single",
          "Divorced",
          "Married",
          "Together",
          "Together",
          "Together",
          "Married",
          "Married",
          "Together",
          "Together",
          "Widow",
          "Divorced",
          "Together",
          "Together",
          "Married",
          "Together",
          "Together",
          "Together",
          "Divorced",
          "Together",
          "Single",
          "Divorced",
          "Divorced",
          "Together",
          "Married",
          "Single",
          "Together",
          "Married",
          "Widow",
          "Single",
          "Married",
          "Together",
          "Divorced",
          "Married",
          "Single",
          "Married",
          "Together",
          "Married",
          "Single",
          "Married",
          "Married",
          "Married",
          "Divorced",
          "Divorced",
          "Single",
          "Married",
          "Divorced",
          "Married",
          "Married",
          "Single",
          "Single",
          "Single",
          "Married",
          "Married",
          "Together",
          "Divorced",
          "Divorced",
          "Married",
          "Together",
          "Together",
          "Single",
          "Divorced",
          "Married",
          "Together",
          "Together",
          "Divorced",
          "Married",
          "Divorced",
          "Widow",
          "Married",
          "Married",
          "Married",
          "Single",
          "Married",
          "Single",
          "Single",
          "Married",
          "Married",
          "Married",
          "Together",
          "Married",
          "Widow",
          "Married",
          "Married",
          "Married",
          "Single",
          "Married",
          "Divorced",
          "Together",
          "Single",
          "Married",
          "Married",
          "Single",
          "Single",
          "Single",
          "Single",
          "Single",
          "Single",
          "Together",
          "Single",
          "Married",
          "Married",
          "Widow",
          "Married",
          "Single",
          "Single",
          "Together",
          "Together",
          "Together",
          "Divorced",
          "Together",
          "Together",
          "Single",
          "Married",
          "Married",
          "Together",
          "Married",
          "Together",
          "Single",
          "Together",
          "Divorced",
          "Together",
          "Single",
          "Together",
          "Single",
          "Married",
          "Single",
          "Divorced",
          "Together",
          "Married",
          "Single",
          "Married",
          "Married",
          "Single",
          "Together",
          "Married",
          "Together",
          "Together",
          "Single",
          "Married",
          "Married",
          "Married",
          "Together",
          "Married",
          "Married",
          "Married",
          "Married",
          "Married",
          "Together",
          "Married",
          "Single",
          "Married",
          "Together",
          "Married",
          "Single",
          "Together",
          "Divorced",
          "Widow",
          "Married",
          "Married",
          "Married",
          "Married",
          "Married",
          "Single",
          "Married",
          "Divorced",
          "Divorced",
          "Single",
          "Married",
          "Married",
          "Single",
          "Married",
          "Single",
          "Married",
          "Married",
          "Married",
          "Single",
          "Married",
          "Married",
          "Together",
          "Married",
          "Widow",
          "Widow",
          "Married",
          "Married",
          "Single",
          "Together",
          "Widow",
          "Married",
          "Together",
          "Married",
          "Married",
          "Together",
          "Married",
          "Single",
          "Married",
          "Single",
          "Married",
          "Married",
          "Married",
          "Married",
          "Divorced",
          "Single",
          "Married",
          "Together",
          "Divorced",
          "Together",
          "Married",
          "Married",
          "Widow",
          "Together",
          "Divorced",
          "Together",
          "Single",
          "Divorced",
          "Divorced",
          "Divorced",
          "Together",
          "Together",
          "Married",
          "Together",
          "Together",
          "Married",
          "Married",
          "Together",
          "Widow",
          "Married",
          "Single",
          "Married",
          "Divorced",
          "Together",
          "Single",
          "Married",
          "Together",
          "Together",
          "Single",
          "Married",
          "Single",
          "Together",
          "Married",
          "Divorced",
          "Single",
          "Married",
          "Married",
          "Married",
          "Married",
          "Together",
          "Married",
          "Single",
          "Married",
          "Widow",
          "Single",
          "Together",
          "Married",
          "Single",
          "Together",
          "Together",
          "Divorced",
          "Together",
          "Single",
          "Together",
          "Widow",
          "Single",
          "Married",
          "Together",
          "Married",
          "Widow",
          "Married",
          "Married",
          "Married",
          "Single",
          "Single",
          "Single",
          "Married",
          "Married",
          "Together",
          "Single",
          "Married",
          "Married",
          "Together",
          "Married",
          "Single",
          "Together",
          "Married",
          "Divorced",
          "Together",
          "Single",
          "Together",
          "Single",
          "Together",
          "Married",
          "Married",
          "Single",
          "Together",
          "Married",
          "Married",
          "Married",
          "Married",
          "Together",
          "Together",
          "Married",
          "Together",
          "Together",
          "Married",
          "Together",
          "Together",
          "Widow",
          "Married",
          "Together",
          "Together",
          "Single",
          "Married",
          "Single",
          "Together",
          "Married",
          "Together",
          "Divorced",
          "Married",
          "Married",
          "Together",
          "Single",
          "Together",
          "Single",
          "Married",
          "Together",
          "Single",
          "Widow",
          "Divorced",
          "Married",
          "Married",
          "Single",
          "Widow",
          "Married",
          "Married",
          "Single",
          "Married",
          "Single",
          "Widow",
          "Married",
          "Married",
          "Single",
          "Widow",
          "Single",
          "Married",
          "Married",
          "Single",
          "Together",
          "Divorced",
          "Single",
          "Married",
          "Together",
          "Married",
          "Single",
          "Single",
          "Divorced",
          "Single",
          "Married",
          "Divorced",
          "Married",
          "Together",
          "Together",
          "Divorced",
          "Single",
          "Together",
          "Married",
          "Together",
          "Divorced",
          "Married",
          "Together",
          "Single",
          "Together",
          "Married",
          "Together",
          "Divorced",
          "Together",
          "Together",
          "Together",
          "Single",
          "Together",
          "Married",
          "Widow",
          "Married",
          "Together",
          "Married",
          "Together",
          "Single",
          "Married",
          "Married",
          "Married",
          "Single",
          "Widow",
          "Married",
          "Single",
          "Married",
          "Married",
          "Single",
          "Married",
          "Single",
          "Divorced",
          "Divorced",
          "Together",
          "Together",
          "Together",
          "Divorced",
          "Single",
          "Together",
          "Together",
          "Divorced",
          "Single",
          "Together",
          "Together",
          "Widow",
          "Married",
          "Single",
          "Single",
          "Single",
          "Together",
          "Divorced",
          "Married",
          "Divorced",
          "Single",
          "Divorced",
          "Married",
          "Divorced",
          "Divorced",
          "Together",
          "Married",
          "Married",
          "Single",
          "Single",
          "Together",
          "Together",
          "Married",
          "Divorced",
          "Together",
          "Divorced",
          "Single",
          "Married",
          "Married",
          "Married",
          "Married",
          "Married",
          "Married",
          "Married",
          "Divorced",
          "Married",
          "Together",
          "Divorced",
          "Together",
          "Married",
          "Divorced",
          "Divorced",
          "Married",
          "Married",
          "Together",
          "Married",
          "Together",
          "Single",
          "Together",
          "Single",
          "Together",
          "Married",
          "Together",
          "Married",
          "Single",
          "Single",
          "Married",
          "Together",
          "Together",
          "Widow",
          "Married",
          "Together",
          "Together",
          "Together",
          "Married",
          "Married",
          "Married",
          "Married",
          "Single",
          "Married",
          "Single",
          "Single",
          "Married",
          "Married",
          "Together",
          "Married",
          "Married",
          "Married",
          "Married",
          "Single",
          "Married",
          "Together",
          "Together",
          "Single",
          "Together",
          "Single",
          "Single",
          "Single",
          "Together",
          "Single",
          "Married",
          "Together",
          "Married",
          "Together",
          "Divorced",
          "Married",
          "Divorced",
          "Together",
          "Married",
          "Single",
          "Married",
          "Single",
          "Single",
          "Married",
          "Divorced",
          "Together",
          "Married",
          "Married",
          "Widow",
          "Married",
          "Single",
          "Married",
          "Married",
          "Married",
          "Married",
          "Married",
          "Single",
          "Married",
          "Single",
          "Single",
          "Married",
          "Together",
          "Together",
          "Married",
          "Single",
          "Married",
          "Married",
          "Single",
          "Married",
          "Single",
          "Married",
          "Together",
          "Divorced",
          "Married",
          "Divorced",
          "Widow",
          "Together",
          "Divorced",
          "Single",
          "Together",
          "Together",
          "Married",
          "Married",
          "Single",
          "Divorced",
          "Single",
          "Single",
          "Together",
          "Married",
          "Single",
          "Married",
          "Married",
          "Together",
          "Single",
          "Single",
          "Single",
          "Married",
          "Single",
          "Married",
          "Married",
          "Together",
          "Married",
          "Single",
          "Married",
          "Married",
          "Together",
          "Married",
          "Together",
          "Together",
          "Married",
          "Together",
          "Single",
          "Together",
          "Single",
          "Single",
          "Together",
          "Together",
          "Together",
          "Single",
          "Together",
          "Single",
          "Together",
          "Together",
          "Divorced",
          "Married",
          "Single",
          "Together",
          "Single",
          "Married",
          "Divorced",
          "Married",
          "Single",
          "Together",
          "Single",
          "Married",
          "Together",
          "Single",
          "Married",
          "Widow",
          "Married",
          "Single",
          "Divorced",
          "Single",
          "Together",
          "Divorced",
          "Married",
          "Divorced",
          "Married",
          "Divorced",
          "Together",
          "Together",
          "Together",
          "Single",
          "Single",
          "Widow",
          "Together",
          "Married",
          "Single",
          "Together",
          "Widow",
          "Married",
          "Single",
          "Married",
          "Together",
          "Married",
          "Single",
          "Single",
          "Together",
          "Single",
          "Single",
          "Married",
          "Together",
          "Together",
          "Married",
          "Single",
          "Single",
          "Married",
          "Together",
          "Single",
          "Single",
          "Married",
          "Single",
          "Together",
          "Together",
          "Married",
          "Single",
          "Divorced",
          "Single",
          "Together",
          "Divorced",
          "Together",
          "Single",
          "Married",
          "Married",
          "Divorced",
          "Together",
          "Divorced",
          "Together",
          "Together",
          "Divorced",
          "Single",
          "Together",
          "Married",
          "Married",
          "Single",
          "Married",
          "Divorced",
          "Divorced",
          "Single",
          "Together",
          "Married",
          "Married",
          "Together",
          "Married",
          "Married",
          "Married",
          "Together",
          "Married",
          "Together",
          "Married",
          "Divorced",
          "Together",
          "Married",
          "Together",
          "Married",
          "Married",
          "Together",
          "Widow",
          "Divorced",
          "Divorced",
          "Divorced",
          "Married",
          "Married",
          "Married",
          "Married",
          "Single",
          "Widow",
          "Divorced",
          "Married",
          "Together",
          "Single",
          "Divorced",
          "Single",
          "Together",
          "Together",
          "Married",
          "Divorced",
          "Widow",
          "Single",
          "Married",
          "Together",
          "Married",
          "Single",
          "Married",
          "Together",
          "Married",
          "Single",
          "Together",
          "Together",
          "Single",
          "Together",
          "Married",
          "Married",
          "Married",
          "Together",
          "Married",
          "Single",
          "Married",
          "Together",
          "Together",
          "Together",
          "Married",
          "Married",
          "Single",
          "Single",
          "Divorced",
          "Together",
          "Together",
          "Single",
          "Together",
          "Married",
          "Married",
          "Single",
          "Together",
          "Single",
          "Married",
          "Married",
          "Married",
          "Married",
          "Single",
          "Together",
          "Together",
          "Single",
          "Married",
          "Married",
          "Together",
          "Married",
          "Married",
          "Together",
          "Married",
          "Divorced",
          "Married",
          "Single",
          "Married",
          "Married",
          "Single",
          "Together",
          "Married",
          "Together",
          "Single",
          "Divorced",
          "Married",
          "Married",
          "Single",
          "Divorced",
          "Divorced",
          "Married",
          "Together",
          "Together",
          "Together",
          "Married",
          "Together",
          "Together",
          "Married",
          "Together",
          "Single",
          "Married",
          "Single",
          "Married",
          "Married",
          "Together",
          "Single",
          "Married",
          "Single",
          "Together",
          "Together",
          "Single",
          "Married",
          "Single",
          "Together",
          "Single",
          "Married",
          "Single",
          "Divorced",
          "Single",
          "Together",
          "Married",
          "Divorced",
          "Married",
          "Married",
          "Together",
          "Married",
          "Single",
          "Married",
          "Married",
          "Married",
          "Married",
          "Divorced",
          "Single",
          "Single",
          "Single",
          "Single",
          "Together",
          "Married",
          "Married",
          "Together",
          "Married",
          "Single",
          "Married",
          "Divorced",
          "Single",
          "Married",
          "Divorced",
          "Single",
          "Together",
          "Single",
          "Divorced",
          "Married",
          "Single",
          "Married",
          "Together",
          "Single",
          "Together",
          "Married",
          "Divorced",
          "Divorced",
          "Married",
          "Together",
          "Married",
          "Divorced",
          "Single",
          "Widow",
          "Together",
          "Together",
          "Together",
          "Married",
          "Single",
          "Widow",
          "Together",
          "Married",
          "Together",
          "Married",
          "Single",
          "Married",
          "Together",
          "Married",
          "Married",
          "Married",
          "Together",
          "Married",
          "Together",
          "Married",
          "Married",
          "Married",
          "Together",
          "Married",
          "Single",
          "Married",
          "Married",
          "Married",
          "Married",
          "Together",
          "Married",
          "Married",
          "Married",
          "Divorced",
          "Single",
          "Together",
          "Married",
          "Divorced",
          "Single",
          "Single",
          "Single",
          "Married",
          "Single",
          "Together",
          "Married",
          "Divorced",
          "Widow",
          "Divorced",
          "Single",
          "Married",
          "Divorced",
          "Married",
          "Married",
          "Married",
          "Widow",
          "Married",
          "Married",
          "Married",
          "Divorced",
          "Together",
          "Married",
          "Married",
          "Married",
          "Together",
          "Together",
          "Together",
          "Together",
          "Together",
          "Together",
          "Married",
          "Single",
          "Single",
          "Together",
          "Together",
          "Single",
          "Single",
          "Married",
          "Divorced",
          "Married",
          "Widow",
          "Married",
          "Single",
          "Married",
          "Married",
          "Married",
          "Divorced",
          "Together",
          "Divorced",
          "Together",
          "Together",
          "Married",
          "Together",
          "Together",
          "Married",
          "Single",
          "Single",
          "Married",
          "Single",
          "Together",
          "Together",
          "Divorced",
          "Single",
          "Together",
          "Together",
          "Married",
          "Married",
          "Married",
          "Married",
          "Married",
          "Divorced",
          "Married",
          "Married",
          "Married",
          "Married",
          "Together",
          "Divorced",
          "Divorced",
          "Together",
          "Married",
          "Single",
          "Divorced",
          "Married",
          "Together",
          "Married",
          "Single",
          "Married",
          "Single",
          "Single",
          "Married",
          "Divorced",
          "Married",
          "Married",
          "Married",
          "Divorced",
          "Married",
          "Together",
          "Divorced",
          "Married",
          "Together",
          "Married",
          "Divorced",
          "Married",
          "Married",
          "Married",
          "Married",
          "Married",
          "Single",
          "Married",
          "Single",
          "Single",
          "Together",
          "Together",
          "Together",
          "Married",
          "Single",
          "Together",
          "Married",
          "Divorced",
          "Married",
          "Together",
          "Together",
          "Married",
          "Married",
          "Together",
          "Married",
          "Single",
          "Together",
          "Together",
          "Married",
          "Single",
          "Together",
          "Married",
          "Married",
          "Together",
          "Married",
          "Together",
          "Together",
          "Single",
          "Married",
          "Married",
          "Married",
          "Married",
          "Single",
          "Together",
          "Married",
          "Married",
          "Married",
          "Single",
          "Married",
          "Married",
          "Together",
          "Married",
          "Widow",
          "Single",
          "Together",
          "Married",
          "Married",
          "Married",
          "Single",
          "Single",
          "Married",
          "Married",
          "Together",
          "Divorced",
          "Together",
          "Single",
          "Together",
          "Married",
          "Married",
          "Single",
          "Married",
          "Single",
          "Single",
          "Single",
          "Together",
          "Married",
          "Divorced",
          "Together",
          "Divorced",
          "Single",
          "Single",
          "Married",
          "Divorced",
          "Married",
          "Single",
          "Together",
          "Single",
          "Divorced",
          "Married",
          "Single",
          "Single",
          "Married",
          "Together",
          "Divorced",
          "Together",
          "Married",
          "Married",
          "Together",
          "Together",
          "Together",
          "Married",
          "Together",
          "Together",
          "Single",
          "Married",
          "Married",
          "Divorced",
          "Divorced",
          "Divorced",
          "Married",
          "Married",
          "Married",
          "Married",
          "Single",
          "Married",
          "Married",
          "Together",
          "Married",
          "Married",
          "Divorced",
          "Married",
          "Married",
          "Married",
          "Married",
          "Single",
          "Single",
          "Together",
          "Together",
          "Married",
          "Married",
          "Together",
          "Single",
          "Single",
          "Together",
          "Married",
          "Married",
          "Married",
          "Married",
          "Single",
          "Single",
          "Married",
          "Divorced",
          "Married",
          "Single",
          "Divorced",
          "Married",
          "Married",
          "Together",
          "Married",
          "Married",
          "Together",
          "Married",
          "Together",
          "Widow",
          "Together",
          "Married",
          "Married",
          "Married",
          "Together",
          "Together",
          "Together",
          "Married",
          "Single",
          "Single",
          "Together",
          "Together",
          "Divorced",
          "Together",
          "Single",
          "Married",
          "Widow",
          "Together",
          "Together",
          "Together",
          "Married",
          "Divorced",
          "Married",
          "Together",
          "Married",
          "Together",
          "Married",
          "Married",
          "Single",
          "Married",
          "Married",
          "Together",
          "Single",
          "Married",
          "Single",
          "Married",
          "Single",
          "Together",
          "Together",
          "Married",
          "Together",
          "Single",
          "Together",
          "Together",
          "Married",
          "Together",
          "Married",
          "Divorced",
          "Together",
          "Together",
          "Married",
          "Married",
          "Divorced",
          "Together",
          "Together",
          "Married",
          "Together",
          "Divorced",
          "Married",
          "Married",
          "Single",
          "Married",
          "Married",
          "Together",
          "Married",
          "Together",
          "Married",
          "Single",
          "Married",
          "Married",
          "Together",
          "Single",
          "Married",
          "Married",
          "Married",
          "Single",
          "Single",
          "Together",
          "Single",
          "Married",
          "Single",
          "Married",
          "Widow",
          "Together",
          "Single",
          "Together",
          "Married",
          "Together",
          "Married",
          "Single",
          "Married",
          "Single",
          "Single",
          "Widow",
          "Married",
          "Single",
          "Together",
          "Together",
          "Married",
          "Single",
          "Divorced",
          "Together",
          "Married",
          "Single",
          "Widow",
          "Married",
          "Divorced",
          "Married",
          "Married",
          "Together",
          "Married",
          "Married",
          "Together",
          "Divorced",
          "Divorced",
          "Divorced",
          "Married",
          "Married",
          "Married",
          "Divorced",
          "Married",
          "Single",
          "Single",
          "Together",
          "Married",
          "Married",
          "Single",
          "Married",
          "Single",
          "Married",
          "Married",
          "Together",
          "Together",
          "Together",
          "Married",
          "Single",
          "Together",
          "Together",
          "Divorced",
          "Together",
          "Divorced",
          "Divorced",
          "Together",
          "Married",
          "Married",
          "Married",
          "Together",
          "Married",
          "Together",
          "Together",
          "Single",
          "Single",
          "Together",
          "Single",
          "Married",
          "Married",
          "Married",
          "Married",
          "Divorced",
          "Together",
          "Married",
          "Married",
          "Married",
          "Single",
          "Married",
          "Married",
          "Single",
          "Married",
          "Single",
          "Single",
          "Married",
          "Married",
          "Together",
          "Single",
          "Married",
          "Married",
          "Together",
          "Married",
          "Together",
          "Single",
          "Together",
          "Married",
          "Widow",
          "Divorced",
          "Together",
          "Together",
          "Together",
          "Together",
          "Married",
          "Together",
          "Together",
          "Married",
          "Divorced",
          "Married",
          "Married",
          "Together",
          "Together",
          "Divorced",
          "Together",
          "Together",
          "Together",
          "Divorced",
          "Married",
          "Single",
          "Divorced",
          "Widow",
          "Married",
          "Single",
          "Widow",
          "Widow",
          "Single",
          "Together",
          "Married",
          "Together",
          "Single",
          "Single",
          "Together",
          "Divorced",
          "Single",
          "Single",
          "Single",
          "Married",
          "Married",
          "Married",
          "Married",
          "Single",
          "Together",
          "Married",
          "Married",
          "Married",
          "Together",
          "Married",
          "Single",
          "Married",
          "Married",
          "Together",
          "Together",
          "Married",
          "Married",
          "Married",
          "Married",
          "Divorced",
          "Together",
          "Single",
          "Single",
          "Single",
          "Divorced",
          "Married",
          "Single",
          "Married",
          "Divorced",
          "Together",
          "Married",
          "Divorced",
          "Widow",
          "Married",
          "Married",
          "Single",
          "Together",
          "Together",
          "Married",
          "Together",
          "Together",
          "Married",
          "Married",
          "Married",
          "Married",
          "Together",
          "Married",
          "Single",
          "Together",
          "Single",
          "Married",
          "Together",
          "Married",
          "Married",
          "Married",
          "Single",
          "Widow",
          "Single",
          "Single",
          "Together",
          "Single",
          "Together",
          "Married",
          "Together",
          "Married",
          "Divorced",
          "Together",
          "Single",
          "Divorced",
          "Single",
          "Married",
          "Married",
          "Married",
          "Together",
          "Together",
          "Single",
          "Together",
          "Divorced",
          "Married",
          "Together",
          "Married",
          "Divorced",
          "Married",
          "Together",
          "Married",
          "Single",
          "Widow",
          "Widow",
          "Single",
          "Married",
          "Single",
          "Married",
          "Married",
          "Married",
          "Divorced",
          "Together",
          "Married",
          "Married",
          "Married",
          "Single",
          "Together",
          "Married",
          "Married",
          "Divorced",
          "Married",
          "Single",
          "Together",
          "Married",
          "Together",
          "Single",
          "Married",
          "Together",
          "Married",
          "Single",
          "Single",
          "Married",
          "Together",
          "Together",
          "Single",
          "Married",
          "Together",
          "Together",
          "Together",
          "Together",
          "Single",
          "Together",
          "Single",
          "Together",
          "Married",
          "Single",
          "Single",
          "Together",
          "Together",
          "Together",
          "Together",
          "Together",
          "Single",
          "Married",
          "Together",
          "Single",
          "Single",
          "Married",
          "Single",
          "Together",
          "Single",
          "Married",
          "Together",
          "Divorced",
          "Together",
          "Together",
          "Single",
          "Married",
          "Together",
          "Together",
          "Divorced",
          "Single",
          "Married",
          "Together",
          "Married",
          "Widow",
          "Together",
          "Married",
          "Together",
          "Single",
          "Together",
          "Married",
          "Together",
          "Married",
          "Together",
          "Married",
          "Married",
          "Married",
          "Divorced",
          "Together",
          "Widow",
          "Divorced",
          "Together",
          "Together",
          "Married",
          "Married",
          "Married",
          "Married",
          "Single",
          "Single",
          "Together",
          "Married",
          "Together",
          "Single",
          "Divorced",
          "Single",
          "Together",
          "Married",
          "Together",
          "Married",
          "Divorced",
          "Single",
          "Married",
          "Married",
          "Widow",
          "Together",
          "Single",
          "Together",
          "Together",
          "Divorced",
          "Divorced",
          "Single",
          "Single",
          "Divorced",
          "Single",
          "Widow",
          "Married",
          "Together",
          "Divorced",
          "Married",
          "Married",
          "Divorced",
          "Single",
          "Single",
          "Single",
          "Married",
          "Divorced",
          "Together",
          "Married",
          "Married",
          "Together",
          "Married",
          "Divorced",
          "Single",
          "Divorced",
          "Together",
          "Single",
          "Single",
          "Together",
          "Married",
          "Single",
          "Married",
          "Divorced",
          "Married",
          "Married",
          "Married",
          "Together",
          "Married",
          "Married",
          "Together",
          "Single",
          "Together",
          "Married",
          "Widow",
          "Single",
          "Married",
          "Single",
          "Single",
          "Together",
          "Single",
          "Married",
          "Single",
          "Single",
          "Single",
          "Married",
          "Married",
          "Married",
          "Single",
          "Married",
          "Married",
          "Married",
          "Married",
          "Married",
          "Married",
          "Together",
          "Single",
          "Widow",
          "Married",
          "Married",
          "Married",
          "Together",
          "Single",
          "Married",
          "Married",
          "Widow",
          "Married",
          "Married",
          "Single",
          "Together",
          "Single",
          "Married",
          "Single",
          "Together",
          "Single",
          "Widow",
          "Together",
          "Single",
          "Single",
          "Widow",
          "Married",
          "Widow",
          "Married",
          "Single",
          "Divorced",
          "Together",
          "Together",
          "Together",
          "Widow",
          "Together",
          "Divorced",
          "Single",
          "Together",
          "Married",
          "Married",
          "Married",
          "Married",
          "Single",
          "Married",
          "Single",
          "Married",
          "Divorced",
          "Married",
          "Married",
          "Single",
          "Together",
          "Married",
          "Married",
          "Married",
          "Married",
          "Divorced",
          "Married",
          "Single",
          "Single",
          "Together",
          "Married",
          "Married",
          "Together",
          "Married",
          "Single",
          "Single",
          "Divorced",
          "Married",
          "Single",
          "Single",
          "Married",
          "Married",
          "Divorced",
          "Divorced",
          "Together",
          "Divorced",
          "Single",
          "Together",
          "Married",
          "Single",
          "Married",
          "Married",
          "Together",
          "Divorced",
          "Together",
          "Together",
          "Married",
          "Married",
          "Married",
          "Married",
          "Married",
          "Together",
          "Divorced",
          "Together",
          "Together",
          "Widow",
          "Married",
          "Married",
          "Together",
          "Married",
          "Together",
          "Married",
          "Single",
          "Married",
          "Together",
          "Single",
          "Single",
          "Married",
          "Married",
          "Married",
          "Single",
          "Married",
          "Married",
          "Single",
          "Married",
          "Married",
          "Single",
          "Widow",
          "Single",
          "Together",
          "Single",
          "Divorced",
          "Divorced",
          "Married",
          "Together",
          "Together",
          "Together",
          "Married",
          "Widow",
          "Married",
          "Married",
          "Married",
          "Together",
          "Together",
          "Married",
          "Married",
          "Single",
          "Married",
          "Divorced",
          "Married",
          "Widow",
          "Married",
          "Married",
          "Married",
          "Married",
          "Married",
          "Married",
          "Single",
          "Married",
          "Divorced",
          "Together",
          "Together",
          "Absurd",
          "Together",
          "Married",
          "Together",
          "Single",
          "Married",
          "Married",
          "Married",
          "Together",
          "Married",
          "Married",
          "Married",
          "Married",
          "Married",
          "Divorced",
          "Married",
          "Single",
          "Widow",
          "Together",
          "Together",
          "Together",
          "Married",
          "Together",
          "Married",
          "Together",
          "Single",
          "Divorced",
          "Together",
          "Together",
          "Married",
          "Married",
          "Together",
          "Together",
          "Married",
          "Married",
          "Together",
          "Together",
          "Divorced",
          "Single",
          "Married",
          "Absurd",
          "Married",
          "Widow",
          "Single",
          "Divorced",
          "Divorced",
          "Divorced",
          "Married",
          "Divorced",
          "Married",
          "Single",
          "Single",
          "Together",
          "Together",
          "Together",
          "Married",
          "Married",
          "Married",
          "Married",
          "Widow",
          "Together",
          "Married",
          "Divorced",
          "Together",
          "Married",
          "Single",
          "Married",
          "Together",
          "Together",
          "Widow",
          "Single",
          "Single",
          "Divorced",
          "Single",
          "Married",
          "Single",
          "Single",
          "Divorced",
          "Together",
          "Married",
          "Married",
          "Married",
          "Divorced",
          "YOLO",
          "Married",
          "Together",
          "Married",
          "Married",
          "Married",
          "Single",
          "Married",
          "Married",
          "Married",
          "Married",
          "Together",
          "Married",
          "Single",
          "Divorced",
          "Married",
          "Married",
          "Married",
          "Single",
          "Single",
          "Together",
          "Married",
          "Married",
          "Single",
          "Single",
          "YOLO",
          "Married",
          "Married",
          "Single",
          "Married",
          "Together",
          "Together",
          "Divorced",
          "Divorced",
          "Together",
          "Divorced",
          "Single",
          "Married",
          "Together",
          "Together",
          "Widow",
          "Together",
          "Together",
          "Married",
          "Single",
          "Together",
          "Married",
          "Single",
          "Together",
          "Married",
          "Single",
          "Married",
          "Single",
          "Single",
          "Single",
          "Married",
          "Married",
          "Together",
          "Divorced",
          "Together",
          "Married"
         ],
         "legendgroup": "",
         "name": "",
         "showlegend": true,
         "type": "pie"
        }
       ],
       "layout": {
        "legend": {
         "tracegroupgap": 0
        },
        "template": {
         "data": {
          "bar": [
           {
            "error_x": {
             "color": "#2a3f5f"
            },
            "error_y": {
             "color": "#2a3f5f"
            },
            "marker": {
             "line": {
              "color": "#E5ECF6",
              "width": 0.5
             },
             "pattern": {
              "fillmode": "overlay",
              "size": 10,
              "solidity": 0.2
             }
            },
            "type": "bar"
           }
          ],
          "barpolar": [
           {
            "marker": {
             "line": {
              "color": "#E5ECF6",
              "width": 0.5
             },
             "pattern": {
              "fillmode": "overlay",
              "size": 10,
              "solidity": 0.2
             }
            },
            "type": "barpolar"
           }
          ],
          "carpet": [
           {
            "aaxis": {
             "endlinecolor": "#2a3f5f",
             "gridcolor": "white",
             "linecolor": "white",
             "minorgridcolor": "white",
             "startlinecolor": "#2a3f5f"
            },
            "baxis": {
             "endlinecolor": "#2a3f5f",
             "gridcolor": "white",
             "linecolor": "white",
             "minorgridcolor": "white",
             "startlinecolor": "#2a3f5f"
            },
            "type": "carpet"
           }
          ],
          "choropleth": [
           {
            "colorbar": {
             "outlinewidth": 0,
             "ticks": ""
            },
            "type": "choropleth"
           }
          ],
          "contour": [
           {
            "colorbar": {
             "outlinewidth": 0,
             "ticks": ""
            },
            "colorscale": [
             [
              0,
              "#0d0887"
             ],
             [
              0.1111111111111111,
              "#46039f"
             ],
             [
              0.2222222222222222,
              "#7201a8"
             ],
             [
              0.3333333333333333,
              "#9c179e"
             ],
             [
              0.4444444444444444,
              "#bd3786"
             ],
             [
              0.5555555555555556,
              "#d8576b"
             ],
             [
              0.6666666666666666,
              "#ed7953"
             ],
             [
              0.7777777777777778,
              "#fb9f3a"
             ],
             [
              0.8888888888888888,
              "#fdca26"
             ],
             [
              1,
              "#f0f921"
             ]
            ],
            "type": "contour"
           }
          ],
          "contourcarpet": [
           {
            "colorbar": {
             "outlinewidth": 0,
             "ticks": ""
            },
            "type": "contourcarpet"
           }
          ],
          "heatmap": [
           {
            "colorbar": {
             "outlinewidth": 0,
             "ticks": ""
            },
            "colorscale": [
             [
              0,
              "#0d0887"
             ],
             [
              0.1111111111111111,
              "#46039f"
             ],
             [
              0.2222222222222222,
              "#7201a8"
             ],
             [
              0.3333333333333333,
              "#9c179e"
             ],
             [
              0.4444444444444444,
              "#bd3786"
             ],
             [
              0.5555555555555556,
              "#d8576b"
             ],
             [
              0.6666666666666666,
              "#ed7953"
             ],
             [
              0.7777777777777778,
              "#fb9f3a"
             ],
             [
              0.8888888888888888,
              "#fdca26"
             ],
             [
              1,
              "#f0f921"
             ]
            ],
            "type": "heatmap"
           }
          ],
          "heatmapgl": [
           {
            "colorbar": {
             "outlinewidth": 0,
             "ticks": ""
            },
            "colorscale": [
             [
              0,
              "#0d0887"
             ],
             [
              0.1111111111111111,
              "#46039f"
             ],
             [
              0.2222222222222222,
              "#7201a8"
             ],
             [
              0.3333333333333333,
              "#9c179e"
             ],
             [
              0.4444444444444444,
              "#bd3786"
             ],
             [
              0.5555555555555556,
              "#d8576b"
             ],
             [
              0.6666666666666666,
              "#ed7953"
             ],
             [
              0.7777777777777778,
              "#fb9f3a"
             ],
             [
              0.8888888888888888,
              "#fdca26"
             ],
             [
              1,
              "#f0f921"
             ]
            ],
            "type": "heatmapgl"
           }
          ],
          "histogram": [
           {
            "marker": {
             "pattern": {
              "fillmode": "overlay",
              "size": 10,
              "solidity": 0.2
             }
            },
            "type": "histogram"
           }
          ],
          "histogram2d": [
           {
            "colorbar": {
             "outlinewidth": 0,
             "ticks": ""
            },
            "colorscale": [
             [
              0,
              "#0d0887"
             ],
             [
              0.1111111111111111,
              "#46039f"
             ],
             [
              0.2222222222222222,
              "#7201a8"
             ],
             [
              0.3333333333333333,
              "#9c179e"
             ],
             [
              0.4444444444444444,
              "#bd3786"
             ],
             [
              0.5555555555555556,
              "#d8576b"
             ],
             [
              0.6666666666666666,
              "#ed7953"
             ],
             [
              0.7777777777777778,
              "#fb9f3a"
             ],
             [
              0.8888888888888888,
              "#fdca26"
             ],
             [
              1,
              "#f0f921"
             ]
            ],
            "type": "histogram2d"
           }
          ],
          "histogram2dcontour": [
           {
            "colorbar": {
             "outlinewidth": 0,
             "ticks": ""
            },
            "colorscale": [
             [
              0,
              "#0d0887"
             ],
             [
              0.1111111111111111,
              "#46039f"
             ],
             [
              0.2222222222222222,
              "#7201a8"
             ],
             [
              0.3333333333333333,
              "#9c179e"
             ],
             [
              0.4444444444444444,
              "#bd3786"
             ],
             [
              0.5555555555555556,
              "#d8576b"
             ],
             [
              0.6666666666666666,
              "#ed7953"
             ],
             [
              0.7777777777777778,
              "#fb9f3a"
             ],
             [
              0.8888888888888888,
              "#fdca26"
             ],
             [
              1,
              "#f0f921"
             ]
            ],
            "type": "histogram2dcontour"
           }
          ],
          "mesh3d": [
           {
            "colorbar": {
             "outlinewidth": 0,
             "ticks": ""
            },
            "type": "mesh3d"
           }
          ],
          "parcoords": [
           {
            "line": {
             "colorbar": {
              "outlinewidth": 0,
              "ticks": ""
             }
            },
            "type": "parcoords"
           }
          ],
          "pie": [
           {
            "automargin": true,
            "type": "pie"
           }
          ],
          "scatter": [
           {
            "fillpattern": {
             "fillmode": "overlay",
             "size": 10,
             "solidity": 0.2
            },
            "type": "scatter"
           }
          ],
          "scatter3d": [
           {
            "line": {
             "colorbar": {
              "outlinewidth": 0,
              "ticks": ""
             }
            },
            "marker": {
             "colorbar": {
              "outlinewidth": 0,
              "ticks": ""
             }
            },
            "type": "scatter3d"
           }
          ],
          "scattercarpet": [
           {
            "marker": {
             "colorbar": {
              "outlinewidth": 0,
              "ticks": ""
             }
            },
            "type": "scattercarpet"
           }
          ],
          "scattergeo": [
           {
            "marker": {
             "colorbar": {
              "outlinewidth": 0,
              "ticks": ""
             }
            },
            "type": "scattergeo"
           }
          ],
          "scattergl": [
           {
            "marker": {
             "colorbar": {
              "outlinewidth": 0,
              "ticks": ""
             }
            },
            "type": "scattergl"
           }
          ],
          "scattermapbox": [
           {
            "marker": {
             "colorbar": {
              "outlinewidth": 0,
              "ticks": ""
             }
            },
            "type": "scattermapbox"
           }
          ],
          "scatterpolar": [
           {
            "marker": {
             "colorbar": {
              "outlinewidth": 0,
              "ticks": ""
             }
            },
            "type": "scatterpolar"
           }
          ],
          "scatterpolargl": [
           {
            "marker": {
             "colorbar": {
              "outlinewidth": 0,
              "ticks": ""
             }
            },
            "type": "scatterpolargl"
           }
          ],
          "scatterternary": [
           {
            "marker": {
             "colorbar": {
              "outlinewidth": 0,
              "ticks": ""
             }
            },
            "type": "scatterternary"
           }
          ],
          "surface": [
           {
            "colorbar": {
             "outlinewidth": 0,
             "ticks": ""
            },
            "colorscale": [
             [
              0,
              "#0d0887"
             ],
             [
              0.1111111111111111,
              "#46039f"
             ],
             [
              0.2222222222222222,
              "#7201a8"
             ],
             [
              0.3333333333333333,
              "#9c179e"
             ],
             [
              0.4444444444444444,
              "#bd3786"
             ],
             [
              0.5555555555555556,
              "#d8576b"
             ],
             [
              0.6666666666666666,
              "#ed7953"
             ],
             [
              0.7777777777777778,
              "#fb9f3a"
             ],
             [
              0.8888888888888888,
              "#fdca26"
             ],
             [
              1,
              "#f0f921"
             ]
            ],
            "type": "surface"
           }
          ],
          "table": [
           {
            "cells": {
             "fill": {
              "color": "#EBF0F8"
             },
             "line": {
              "color": "white"
             }
            },
            "header": {
             "fill": {
              "color": "#C8D4E3"
             },
             "line": {
              "color": "white"
             }
            },
            "type": "table"
           }
          ]
         },
         "layout": {
          "annotationdefaults": {
           "arrowcolor": "#2a3f5f",
           "arrowhead": 0,
           "arrowwidth": 1
          },
          "autotypenumbers": "strict",
          "coloraxis": {
           "colorbar": {
            "outlinewidth": 0,
            "ticks": ""
           }
          },
          "colorscale": {
           "diverging": [
            [
             0,
             "#8e0152"
            ],
            [
             0.1,
             "#c51b7d"
            ],
            [
             0.2,
             "#de77ae"
            ],
            [
             0.3,
             "#f1b6da"
            ],
            [
             0.4,
             "#fde0ef"
            ],
            [
             0.5,
             "#f7f7f7"
            ],
            [
             0.6,
             "#e6f5d0"
            ],
            [
             0.7,
             "#b8e186"
            ],
            [
             0.8,
             "#7fbc41"
            ],
            [
             0.9,
             "#4d9221"
            ],
            [
             1,
             "#276419"
            ]
           ],
           "sequential": [
            [
             0,
             "#0d0887"
            ],
            [
             0.1111111111111111,
             "#46039f"
            ],
            [
             0.2222222222222222,
             "#7201a8"
            ],
            [
             0.3333333333333333,
             "#9c179e"
            ],
            [
             0.4444444444444444,
             "#bd3786"
            ],
            [
             0.5555555555555556,
             "#d8576b"
            ],
            [
             0.6666666666666666,
             "#ed7953"
            ],
            [
             0.7777777777777778,
             "#fb9f3a"
            ],
            [
             0.8888888888888888,
             "#fdca26"
            ],
            [
             1,
             "#f0f921"
            ]
           ],
           "sequentialminus": [
            [
             0,
             "#0d0887"
            ],
            [
             0.1111111111111111,
             "#46039f"
            ],
            [
             0.2222222222222222,
             "#7201a8"
            ],
            [
             0.3333333333333333,
             "#9c179e"
            ],
            [
             0.4444444444444444,
             "#bd3786"
            ],
            [
             0.5555555555555556,
             "#d8576b"
            ],
            [
             0.6666666666666666,
             "#ed7953"
            ],
            [
             0.7777777777777778,
             "#fb9f3a"
            ],
            [
             0.8888888888888888,
             "#fdca26"
            ],
            [
             1,
             "#f0f921"
            ]
           ]
          },
          "colorway": [
           "#636efa",
           "#EF553B",
           "#00cc96",
           "#ab63fa",
           "#FFA15A",
           "#19d3f3",
           "#FF6692",
           "#B6E880",
           "#FF97FF",
           "#FECB52"
          ],
          "font": {
           "color": "#2a3f5f"
          },
          "geo": {
           "bgcolor": "white",
           "lakecolor": "white",
           "landcolor": "#E5ECF6",
           "showlakes": true,
           "showland": true,
           "subunitcolor": "white"
          },
          "hoverlabel": {
           "align": "left"
          },
          "hovermode": "closest",
          "mapbox": {
           "style": "light"
          },
          "paper_bgcolor": "white",
          "plot_bgcolor": "#E5ECF6",
          "polar": {
           "angularaxis": {
            "gridcolor": "white",
            "linecolor": "white",
            "ticks": ""
           },
           "bgcolor": "#E5ECF6",
           "radialaxis": {
            "gridcolor": "white",
            "linecolor": "white",
            "ticks": ""
           }
          },
          "scene": {
           "xaxis": {
            "backgroundcolor": "#E5ECF6",
            "gridcolor": "white",
            "gridwidth": 2,
            "linecolor": "white",
            "showbackground": true,
            "ticks": "",
            "zerolinecolor": "white"
           },
           "yaxis": {
            "backgroundcolor": "#E5ECF6",
            "gridcolor": "white",
            "gridwidth": 2,
            "linecolor": "white",
            "showbackground": true,
            "ticks": "",
            "zerolinecolor": "white"
           },
           "zaxis": {
            "backgroundcolor": "#E5ECF6",
            "gridcolor": "white",
            "gridwidth": 2,
            "linecolor": "white",
            "showbackground": true,
            "ticks": "",
            "zerolinecolor": "white"
           }
          },
          "shapedefaults": {
           "line": {
            "color": "#2a3f5f"
           }
          },
          "ternary": {
           "aaxis": {
            "gridcolor": "white",
            "linecolor": "white",
            "ticks": ""
           },
           "baxis": {
            "gridcolor": "white",
            "linecolor": "white",
            "ticks": ""
           },
           "bgcolor": "#E5ECF6",
           "caxis": {
            "gridcolor": "white",
            "linecolor": "white",
            "ticks": ""
           }
          },
          "title": {
           "x": 0.05
          },
          "xaxis": {
           "automargin": true,
           "gridcolor": "white",
           "linecolor": "white",
           "ticks": "",
           "title": {
            "standoff": 15
           },
           "zerolinecolor": "white",
           "zerolinewidth": 2
          },
          "yaxis": {
           "automargin": true,
           "gridcolor": "white",
           "linecolor": "white",
           "ticks": "",
           "title": {
            "standoff": 15
           },
           "zerolinecolor": "white",
           "zerolinewidth": 2
          }
         }
        },
        "title": {
         "text": "Répartition des statuts matrimoniaux"
        }
       }
      }
     },
     "metadata": {},
     "output_type": "display_data"
    }
   ],
   "source": [
    "marital_status_dist = px.pie(data, names=\"Marital_Status\", title=\"Répartition des statuts matrimoniaux\")\n",
    "marital_status_dist.show()"
   ]
  },
  {
   "cell_type": "code",
   "execution_count": 32,
   "metadata": {},
   "outputs": [
    {
     "data": {
      "application/vnd.plotly.v1+json": {
       "config": {
        "plotlyServerURL": "https://plot.ly"
       },
       "data": [
        {
         "domain": {
          "x": [
           0,
           1
          ],
          "y": [
           0,
           1
          ]
         },
         "hovertemplate": "Education_level=%{label}<extra></extra>",
         "labels": [
          "high",
          "high",
          "high",
          "high",
          "Low",
          "high",
          "high",
          "Low",
          "Low",
          "Low",
          "Middle",
          "high",
          "high",
          "high",
          "Low",
          "high",
          "high",
          "high",
          "Low",
          "high",
          "high",
          "Low",
          "Low",
          "high",
          "high",
          "high",
          "high",
          "Low",
          "high",
          "high",
          "high",
          "Low",
          "high",
          "high",
          "Low",
          "Low",
          "high",
          "Low",
          "high",
          "high",
          "high",
          "high",
          "high",
          "Low",
          "high",
          "Low",
          "high",
          "high",
          "high",
          "high",
          "high",
          "high",
          "high",
          "high",
          "Low",
          "high",
          "high",
          "high",
          "Low",
          "high",
          "high",
          "high",
          "Low",
          "high",
          "high",
          "high",
          "high",
          "Low",
          "high",
          "high",
          "high",
          "high",
          "Low",
          "high",
          "high",
          "high",
          "Low",
          "high",
          "high",
          "high",
          "high",
          "high",
          "high",
          "high",
          "high",
          "Low",
          "high",
          "high",
          "high",
          "Low",
          "Low",
          "Low",
          "Low",
          "high",
          "Low",
          "high",
          "Middle",
          "high",
          "high",
          "high",
          "high",
          "high",
          "Low",
          "high",
          "high",
          "Low",
          "high",
          "high",
          "Low",
          "Low",
          "high",
          "high",
          "high",
          "high",
          "high",
          "high",
          "Low",
          "high",
          "high",
          "Low",
          "high",
          "high",
          "high",
          "Low",
          "Low",
          "Middle",
          "Low",
          "Low",
          "Low",
          "high",
          "high",
          "high",
          "Low",
          "high",
          "high",
          "high",
          "high",
          "Low",
          "high",
          "high",
          "high",
          "Low",
          "high",
          "Low",
          "high",
          "high",
          "high",
          "high",
          "high",
          "high",
          "Low",
          "high",
          "Low",
          "high",
          "high",
          "high",
          "high",
          "high",
          "high",
          "high",
          "high",
          "Low",
          "high",
          "Low",
          "Low",
          "Low",
          "high",
          "Low",
          "Low",
          "Low",
          "high",
          "high",
          "Middle",
          "high",
          "Low",
          "high",
          "high",
          "Low",
          "Middle",
          "Low",
          "Low",
          "high",
          "high",
          "high",
          "high",
          "high",
          "high",
          "Low",
          "high",
          "high",
          "high",
          "Low",
          "Low",
          "high",
          "high",
          "high",
          "high",
          "high",
          "high",
          "high",
          "Low",
          "high",
          "high",
          "high",
          "Low",
          "high",
          "high",
          "high",
          "Low",
          "high",
          "Low",
          "Low",
          "high",
          "high",
          "high",
          "high",
          "Low",
          "Low",
          "high",
          "Low",
          "high",
          "high",
          "Low",
          "Low",
          "high",
          "Low",
          "high",
          "Low",
          "high",
          "high",
          "high",
          "high",
          "high",
          "Low",
          "high",
          "high",
          "Low",
          "high",
          "high",
          "high",
          "high",
          "Low",
          "high",
          "Low",
          "Low",
          "high",
          "high",
          "Low",
          "high",
          "Low",
          "high",
          "Low",
          "high",
          "high",
          "high",
          "Low",
          "high",
          "high",
          "high",
          "high",
          "Low",
          "high",
          "high",
          "Low",
          "high",
          "high",
          "Low",
          "high",
          "Middle",
          "high",
          "high",
          "Low",
          "high",
          "high",
          "high",
          "high",
          "high",
          "high",
          "Low",
          "high",
          "high",
          "high",
          "high",
          "high",
          "Low",
          "high",
          "high",
          "Low",
          "high",
          "Low",
          "Low",
          "high",
          "high",
          "high",
          "high",
          "high",
          "high",
          "high",
          "high",
          "high",
          "high",
          "high",
          "high",
          "high",
          "high",
          "high",
          "high",
          "high",
          "Low",
          "Low",
          "high",
          "high",
          "Low",
          "high",
          "Low",
          "Low",
          "high",
          "Low",
          "Low",
          "high",
          "high",
          "high",
          "high",
          "high",
          "high",
          "Low",
          "high",
          "high",
          "Low",
          "Low",
          "Middle",
          "high",
          "high",
          "high",
          "high",
          "high",
          "high",
          "high",
          "Low",
          "high",
          "Low",
          "high",
          "high",
          "Low",
          "high",
          "Low",
          "high",
          "Low",
          "high",
          "Low",
          "high",
          "high",
          "high",
          "high",
          "high",
          "Low",
          "Low",
          "high",
          "high",
          "high",
          "Low",
          "high",
          "high",
          "high",
          "Low",
          "high",
          "Low",
          "high",
          "high",
          "Low",
          "high",
          "high",
          "high",
          "high",
          "high",
          "Low",
          "high",
          "high",
          "high",
          "Low",
          "high",
          "Low",
          "high",
          "high",
          "high",
          "Low",
          "Low",
          "high",
          "high",
          "high",
          "Low",
          "high",
          "Low",
          "Low",
          "Low",
          "high",
          "Low",
          "high",
          "Low",
          "high",
          "high",
          "Low",
          "Low",
          "high",
          "high",
          "high",
          "Low",
          "high",
          "high",
          "high",
          "Low",
          "high",
          "high",
          "high",
          "Low",
          "high",
          "Low",
          "high",
          "Low",
          "high",
          "high",
          "high",
          "high",
          "high",
          "Low",
          "Low",
          "high",
          "Low",
          "high",
          "high",
          "Low",
          "high",
          "high",
          "high",
          "high",
          "Low",
          "high",
          "high",
          "high",
          "Low",
          "high",
          "high",
          "Low",
          "high",
          "high",
          "Low",
          "high",
          "high",
          "Low",
          "high",
          "high",
          "Low",
          "Low",
          "high",
          "high",
          "Low",
          "high",
          "high",
          "Low",
          "high",
          "high",
          "high",
          "Low",
          "high",
          "Low",
          "high",
          "high",
          "high",
          "high",
          "high",
          "high",
          "Low",
          "high",
          "high",
          "high",
          "Low",
          "Low",
          "high",
          "high",
          "high",
          "Low",
          "high",
          "high",
          "Low",
          "Low",
          "high",
          "high",
          "high",
          "Middle",
          "Low",
          "high",
          "high",
          "high",
          "high",
          "high",
          "high",
          "Low",
          "high",
          "high",
          "high",
          "Low",
          "high",
          "high",
          "high",
          "high",
          "high",
          "high",
          "high",
          "high",
          "high",
          "high",
          "high",
          "Low",
          "high",
          "high",
          "Low",
          "Low",
          "high",
          "high",
          "high",
          "high",
          "high",
          "high",
          "high",
          "Low",
          "high",
          "Low",
          "high",
          "Low",
          "Low",
          "high",
          "Low",
          "high",
          "high",
          "high",
          "high",
          "Low",
          "high",
          "Low",
          "high",
          "high",
          "high",
          "Low",
          "high",
          "Low",
          "high",
          "high",
          "high",
          "high",
          "Low",
          "Low",
          "Low",
          "high",
          "high",
          "high",
          "high",
          "high",
          "Low",
          "Low",
          "Low",
          "high",
          "Low",
          "high",
          "high",
          "Low",
          "high",
          "Low",
          "high",
          "Low",
          "high",
          "high",
          "Low",
          "high",
          "high",
          "high",
          "high",
          "Low",
          "high",
          "high",
          "high",
          "Low",
          "high",
          "high",
          "high",
          "Low",
          "high",
          "high",
          "high",
          "high",
          "Low",
          "high",
          "high",
          "high",
          "high",
          "Middle",
          "high",
          "high",
          "high",
          "Middle",
          "high",
          "Low",
          "high",
          "high",
          "high",
          "high",
          "Low",
          "high",
          "high",
          "Low",
          "Low",
          "high",
          "high",
          "high",
          "Low",
          "high",
          "Low",
          "Low",
          "Low",
          "Low",
          "high",
          "high",
          "high",
          "high",
          "high",
          "high",
          "high",
          "Low",
          "Low",
          "high",
          "high",
          "Low",
          "high",
          "high",
          "high",
          "high",
          "high",
          "high",
          "high",
          "Low",
          "high",
          "high",
          "Low",
          "Low",
          "Low",
          "high",
          "high",
          "high",
          "Middle",
          "high",
          "high",
          "Low",
          "Middle",
          "Low",
          "Low",
          "Low",
          "high",
          "high",
          "high",
          "Low",
          "high",
          "Low",
          "high",
          "Low",
          "Low",
          "high",
          "high",
          "Low",
          "high",
          "high",
          "Low",
          "Low",
          "Low",
          "Low",
          "Low",
          "high",
          "high",
          "Middle",
          "high",
          "high",
          "high",
          "Low",
          "high",
          "high",
          "high",
          "high",
          "high",
          "high",
          "high",
          "high",
          "Low",
          "high",
          "Low",
          "high",
          "high",
          "high",
          "high",
          "high",
          "high",
          "Low",
          "Low",
          "high",
          "high",
          "high",
          "high",
          "high",
          "Low",
          "high",
          "high",
          "high",
          "high",
          "high",
          "high",
          "high",
          "Low",
          "Low",
          "high",
          "Low",
          "high",
          "high",
          "high",
          "high",
          "Middle",
          "high",
          "Low",
          "high",
          "Low",
          "Low",
          "high",
          "high",
          "Low",
          "high",
          "high",
          "Low",
          "Low",
          "Low",
          "high",
          "high",
          "high",
          "Low",
          "Low",
          "high",
          "high",
          "Low",
          "Low",
          "high",
          "high",
          "Low",
          "high",
          "high",
          "high",
          "high",
          "Low",
          "high",
          "high",
          "Low",
          "high",
          "high",
          "Low",
          "high",
          "Low",
          "Low",
          "high",
          "high",
          "Low",
          "high",
          "high",
          "high",
          "high",
          "Middle",
          "high",
          "Low",
          "high",
          "high",
          "high",
          "Low",
          "high",
          "high",
          "high",
          "high",
          "Low",
          "Low",
          "high",
          "high",
          "high",
          "high",
          "high",
          "Low",
          "high",
          "high",
          "high",
          "high",
          "high",
          "high",
          "high",
          "high",
          "high",
          "high",
          "Low",
          "Low",
          "high",
          "high",
          "high",
          "Low",
          "Low",
          "high",
          "high",
          "high",
          "high",
          "Low",
          "high",
          "high",
          "Low",
          "high",
          "Low",
          "high",
          "Low",
          "Low",
          "high",
          "high",
          "high",
          "high",
          "Low",
          "high",
          "high",
          "high",
          "high",
          "high",
          "Low",
          "high",
          "Low",
          "high",
          "high",
          "high",
          "high",
          "Low",
          "Low",
          "Low",
          "Low",
          "high",
          "high",
          "high",
          "high",
          "Low",
          "high",
          "high",
          "high",
          "Low",
          "Low",
          "Low",
          "high",
          "high",
          "high",
          "high",
          "Low",
          "high",
          "high",
          "Low",
          "high",
          "high",
          "high",
          "high",
          "high",
          "Low",
          "high",
          "high",
          "high",
          "Low",
          "Low",
          "Low",
          "Low",
          "high",
          "high",
          "high",
          "high",
          "high",
          "high",
          "Middle",
          "Low",
          "Low",
          "high",
          "high",
          "Low",
          "high",
          "high",
          "high",
          "high",
          "high",
          "high",
          "high",
          "high",
          "high",
          "high",
          "Low",
          "Low",
          "high",
          "Low",
          "high",
          "high",
          "high",
          "high",
          "Low",
          "Low",
          "Low",
          "Low",
          "high",
          "high",
          "Low",
          "high",
          "high",
          "high",
          "Low",
          "high",
          "Low",
          "Low",
          "high",
          "Low",
          "Middle",
          "high",
          "Low",
          "high",
          "Low",
          "high",
          "Low",
          "Low",
          "Low",
          "high",
          "high",
          "Middle",
          "Low",
          "Low",
          "high",
          "high",
          "Low",
          "Low",
          "Low",
          "high",
          "Low",
          "high",
          "Low",
          "high",
          "high",
          "high",
          "Low",
          "high",
          "Low",
          "high",
          "Low",
          "high",
          "high",
          "high",
          "high",
          "Low",
          "high",
          "high",
          "Low",
          "Low",
          "Low",
          "high",
          "high",
          "high",
          "high",
          "high",
          "high",
          "Low",
          "high",
          "high",
          "high",
          "high",
          "Low",
          "Low",
          "high",
          "Low",
          "Low",
          "high",
          "Low",
          "high",
          "high",
          "high",
          "high",
          "high",
          "high",
          "high",
          "high",
          "Low",
          "Low",
          "Low",
          "high",
          "Low",
          "high",
          "high",
          "high",
          "high",
          "Low",
          "high",
          "Low",
          "high",
          "high",
          "high",
          "high",
          "Low",
          "high",
          "high",
          "high",
          "high",
          "Low",
          "Low",
          "high",
          "high",
          "Low",
          "high",
          "Middle",
          "Low",
          "Low",
          "high",
          "high",
          "high",
          "Low",
          "high",
          "high",
          "Low",
          "high",
          "Low",
          "high",
          "high",
          "high",
          "high",
          "high",
          "high",
          "high",
          "high",
          "Low",
          "high",
          "high",
          "Low",
          "Low",
          "Low",
          "Low",
          "high",
          "high",
          "high",
          "Low",
          "high",
          "high",
          "high",
          "high",
          "Low",
          "Low",
          "Low",
          "high",
          "high",
          "Low",
          "high",
          "high",
          "Low",
          "high",
          "high",
          "high",
          "high",
          "high",
          "Low",
          "Low",
          "high",
          "Low",
          "high",
          "high",
          "high",
          "high",
          "high",
          "high",
          "high",
          "Low",
          "high",
          "Low",
          "Low",
          "Low",
          "high",
          "Low",
          "Low",
          "high",
          "high",
          "Low",
          "high",
          "high",
          "high",
          "Low",
          "high",
          "high",
          "high",
          "Low",
          "Low",
          "Low",
          "Low",
          "high",
          "high",
          "Low",
          "Low",
          "high",
          "Low",
          "high",
          "Low",
          "high",
          "Middle",
          "Low",
          "high",
          "Low",
          "high",
          "high",
          "high",
          "high",
          "high",
          "high",
          "Middle",
          "Low",
          "high",
          "high",
          "high",
          "high",
          "high",
          "Low",
          "Low",
          "Low",
          "high",
          "high",
          "high",
          "high",
          "Low",
          "Low",
          "high",
          "high",
          "high",
          "high",
          "Low",
          "high",
          "Low",
          "high",
          "high",
          "high",
          "high",
          "Low",
          "high",
          "high",
          "high",
          "high",
          "high",
          "high",
          "high",
          "high",
          "Low",
          "high",
          "Low",
          "high",
          "high",
          "high",
          "Middle",
          "Low",
          "Low",
          "high",
          "Middle",
          "high",
          "high",
          "high",
          "high",
          "high",
          "high",
          "high",
          "Low",
          "Middle",
          "high",
          "high",
          "high",
          "Low",
          "Low",
          "Low",
          "high",
          "high",
          "high",
          "high",
          "high",
          "high",
          "Low",
          "high",
          "Low",
          "Low",
          "high",
          "high",
          "high",
          "high",
          "high",
          "high",
          "Low",
          "high",
          "Low",
          "high",
          "high",
          "high",
          "high",
          "high",
          "high",
          "high",
          "high",
          "Low",
          "Low",
          "high",
          "Middle",
          "high",
          "Low",
          "high",
          "Low",
          "Low",
          "Low",
          "high",
          "high",
          "high",
          "high",
          "Low",
          "high",
          "high",
          "Low",
          "high",
          "high",
          "high",
          "high",
          "high",
          "Middle",
          "Low",
          "high",
          "high",
          "Low",
          "high",
          "Middle",
          "high",
          "Low",
          "high",
          "Low",
          "high",
          "Low",
          "high",
          "high",
          "Low",
          "Low",
          "high",
          "high",
          "high",
          "Low",
          "Low",
          "high",
          "high",
          "high",
          "high",
          "Low",
          "high",
          "Low",
          "Low",
          "high",
          "high",
          "high",
          "high",
          "high",
          "high",
          "high",
          "high",
          "high",
          "high",
          "high",
          "Low",
          "Low",
          "high",
          "Middle",
          "high",
          "Low",
          "Low",
          "high",
          "high",
          "high",
          "high",
          "Low",
          "Low",
          "Low",
          "high",
          "Low",
          "high",
          "high",
          "high",
          "high",
          "Low",
          "high",
          "high",
          "high",
          "high",
          "Low",
          "high",
          "high",
          "Low",
          "high",
          "high",
          "Low",
          "Low",
          "Low",
          "high",
          "Low",
          "high",
          "high",
          "high",
          "high",
          "high",
          "high",
          "Middle",
          "high",
          "high",
          "Low",
          "high",
          "Low",
          "high",
          "high",
          "high",
          "high",
          "high",
          "high",
          "high",
          "high",
          "high",
          "high",
          "high",
          "high",
          "high",
          "high",
          "Middle",
          "high",
          "Low",
          "Low",
          "high",
          "Low",
          "Low",
          "high",
          "high",
          "high",
          "high",
          "high",
          "high",
          "Low",
          "high",
          "high",
          "high",
          "Middle",
          "high",
          "Low",
          "Low",
          "high",
          "high",
          "high",
          "high",
          "high",
          "high",
          "Low",
          "high",
          "Low",
          "Low",
          "high",
          "high",
          "high",
          "high",
          "high",
          "Low",
          "high",
          "high",
          "Low",
          "high",
          "high",
          "high",
          "high",
          "Low",
          "Low",
          "Low",
          "high",
          "high",
          "high",
          "high",
          "Low",
          "high",
          "high",
          "high",
          "high",
          "high",
          "Low",
          "high",
          "high",
          "high",
          "Low",
          "Low",
          "high",
          "high",
          "high",
          "high",
          "high",
          "Middle",
          "high",
          "high",
          "high",
          "Low",
          "Low",
          "high",
          "Low",
          "high",
          "high",
          "Low",
          "Low",
          "Low",
          "high",
          "high",
          "Low",
          "high",
          "high",
          "high",
          "Low",
          "high",
          "Low",
          "high",
          "high",
          "high",
          "high",
          "high",
          "high",
          "high",
          "high",
          "Low",
          "high",
          "Low",
          "Low",
          "high",
          "high",
          "high",
          "Low",
          "Low",
          "high",
          "high",
          "high",
          "high",
          "Low",
          "high",
          "high",
          "Low",
          "high",
          "high",
          "high",
          "high",
          "high",
          "Low",
          "high",
          "Low",
          "high",
          "high",
          "Low",
          "high",
          "high",
          "high",
          "Low",
          "high",
          "Low",
          "high",
          "high",
          "Low",
          "high",
          "Low",
          "high",
          "high",
          "Low",
          "high",
          "high",
          "Low",
          "Low",
          "high",
          "high",
          "high",
          "high",
          "high",
          "Low",
          "high",
          "high",
          "high",
          "Low",
          "high",
          "high",
          "Low",
          "high",
          "high",
          "Low",
          "Low",
          "high",
          "high",
          "high",
          "high",
          "high",
          "Low",
          "high",
          "high",
          "high",
          "high",
          "high",
          "Low",
          "high",
          "high",
          "Low",
          "high",
          "high",
          "Low",
          "high",
          "Low",
          "high",
          "Low",
          "Low",
          "Low",
          "high",
          "Low",
          "Low",
          "high",
          "Low",
          "Low",
          "high",
          "high",
          "high",
          "high",
          "Low",
          "high",
          "high",
          "Low",
          "high",
          "high",
          "Low",
          "high",
          "Low",
          "high",
          "high",
          "high",
          "high",
          "high",
          "high",
          "high",
          "Low",
          "high",
          "high",
          "high",
          "high",
          "high",
          "high",
          "high",
          "high",
          "Low",
          "Low",
          "Low",
          "high",
          "high",
          "high",
          "high",
          "Low",
          "high",
          "Low",
          "high",
          "high",
          "high",
          "high",
          "high",
          "high",
          "high",
          "Low",
          "high",
          "high",
          "high",
          "high",
          "Low",
          "high",
          "Middle",
          "high",
          "Low",
          "Low",
          "high",
          "high",
          "high",
          "Low",
          "high",
          "high",
          "high",
          "high",
          "high",
          "Low",
          "high",
          "Low",
          "high",
          "Low",
          "high",
          "Low",
          "high",
          "high",
          "high",
          "high",
          "high",
          "high",
          "high",
          "high",
          "Low",
          "high",
          "Low",
          "high",
          "high",
          "Low",
          "Low",
          "Low",
          "high",
          "Low",
          "Low",
          "Low",
          "Low",
          "high",
          "Low",
          "Low",
          "high",
          "high",
          "high",
          "high",
          "high",
          "Low",
          "high",
          "Middle",
          "Low",
          "high",
          "high",
          "high",
          "high",
          "Low",
          "high",
          "high",
          "high",
          "Low",
          "high",
          "high",
          "Low",
          "Low",
          "high",
          "Low",
          "high",
          "high",
          "high",
          "Low",
          "Low",
          "Low",
          "Low",
          "Low",
          "Low",
          "Low",
          "high",
          "high",
          "Low",
          "high",
          "Low",
          "high",
          "Middle",
          "Low",
          "high",
          "high",
          "high",
          "Low",
          "Low",
          "high",
          "high",
          "high",
          "high",
          "high",
          "high",
          "high",
          "high",
          "Low",
          "Low",
          "high",
          "high",
          "Low",
          "Low",
          "Low",
          "high",
          "high",
          "high",
          "high",
          "Low",
          "Middle",
          "Low",
          "high",
          "high",
          "high",
          "Low",
          "high",
          "high",
          "high",
          "high",
          "Middle",
          "high",
          "high",
          "high",
          "high",
          "Low",
          "high",
          "Low",
          "high",
          "Low",
          "Low",
          "high",
          "high",
          "Middle",
          "high",
          "high",
          "Low",
          "high",
          "high",
          "high",
          "Low",
          "high",
          "high",
          "high",
          "high",
          "Low",
          "high",
          "high",
          "Low",
          "high",
          "Low",
          "high",
          "Middle",
          "high",
          "high",
          "Low",
          "Low",
          "high",
          "Low",
          "Low",
          "high",
          "Middle",
          "high",
          "high",
          "Low",
          "high",
          "Low",
          "Low",
          "high",
          "high",
          "Low",
          "high",
          "Low",
          "high",
          "Middle",
          "high",
          "Low",
          "Low",
          "high",
          "Low",
          "high",
          "high",
          "high",
          "Low",
          "Low",
          "Low",
          "Middle",
          "Low",
          "high",
          "high",
          "high",
          "high",
          "high",
          "high",
          "Low",
          "high",
          "high",
          "Low",
          "Low",
          "high",
          "high",
          "high",
          "high",
          "high",
          "high",
          "Low",
          "high",
          "high",
          "high",
          "high",
          "high",
          "high",
          "Low",
          "high",
          "high",
          "Low",
          "high",
          "Low",
          "high",
          "high",
          "high",
          "Low",
          "Low",
          "high",
          "high",
          "Low",
          "high",
          "high",
          "high",
          "high",
          "Low",
          "high",
          "Low",
          "high",
          "high",
          "high",
          "high",
          "high",
          "Low",
          "high",
          "high",
          "high",
          "Low",
          "high",
          "Low",
          "Low",
          "Low",
          "high",
          "high",
          "high",
          "high",
          "Low",
          "Low",
          "high",
          "Low",
          "high",
          "Low",
          "high",
          "Low",
          "high",
          "Low",
          "high",
          "high",
          "high",
          "Low",
          "high",
          "Low",
          "Low",
          "high",
          "high",
          "high",
          "high",
          "high",
          "high",
          "high",
          "Low",
          "Low",
          "high",
          "high",
          "Low",
          "high",
          "Low",
          "high",
          "high",
          "Low",
          "high",
          "Low",
          "Low",
          "Low",
          "high",
          "Low",
          "high",
          "Low",
          "Low",
          "high",
          "high",
          "Low",
          "high",
          "high",
          "high",
          "high",
          "high",
          "Middle",
          "Low",
          "Low",
          "Low",
          "Low",
          "high",
          "high",
          "high",
          "high",
          "high",
          "Low",
          "high",
          "high",
          "high",
          "Low",
          "high",
          "high",
          "high",
          "Low",
          "high",
          "high",
          "Low",
          "high",
          "Low",
          "Low",
          "Low",
          "high",
          "high",
          "high",
          "high",
          "Low",
          "high",
          "high",
          "high",
          "Low",
          "Low",
          "high",
          "high",
          "high",
          "Low",
          "Low",
          "Low",
          "high",
          "high",
          "Low",
          "high",
          "high",
          "high",
          "high",
          "high",
          "high",
          "high",
          "high",
          "high",
          "Low",
          "high",
          "high",
          "Low",
          "Low",
          "Low",
          "high",
          "high",
          "high",
          "Low",
          "high",
          "Low",
          "high",
          "high",
          "high",
          "high",
          "high",
          "high",
          "high",
          "high",
          "high",
          "high",
          "high",
          "high",
          "Low",
          "high",
          "Low",
          "Low",
          "high",
          "high",
          "high",
          "Low",
          "high",
          "high",
          "high",
          "high",
          "high",
          "high",
          "high",
          "high",
          "Low",
          "high",
          "high",
          "high",
          "high",
          "Low",
          "high",
          "Low",
          "Low",
          "Low",
          "high",
          "Low",
          "high",
          "high",
          "high",
          "high",
          "high",
          "high",
          "Low",
          "Low",
          "high",
          "high",
          "high",
          "Middle",
          "high",
          "Low",
          "high",
          "high",
          "high",
          "high",
          "high",
          "high",
          "high",
          "high",
          "Low",
          "high",
          "high",
          "high",
          "high",
          "Low",
          "Low",
          "high",
          "high",
          "high",
          "high",
          "high",
          "high",
          "high",
          "high",
          "high",
          "high",
          "high",
          "high",
          "high",
          "high",
          "high",
          "high",
          "high",
          "high",
          "Low",
          "high",
          "high",
          "high",
          "high",
          "high",
          "high",
          "high",
          "Low",
          "high",
          "high",
          "Low",
          "high",
          "high",
          "high",
          "high",
          "Low",
          "high",
          "high",
          "high",
          "high",
          "high",
          "Low",
          "high",
          "high",
          "high",
          "Middle",
          "high",
          "high",
          "high",
          "high",
          "Low",
          "high",
          "high",
          "high",
          "high",
          "Middle",
          "high",
          "high",
          "high",
          "Low",
          "high",
          "high",
          "high",
          "high",
          "high",
          "Low",
          "Low",
          "Low",
          "Middle",
          "Middle",
          "high",
          "high",
          "high",
          "high",
          "high",
          "Low",
          "high",
          "high",
          "high",
          "high",
          "Low",
          "Low",
          "high",
          "high",
          "high",
          "Low",
          "high",
          "Low",
          "high",
          "high",
          "high",
          "Low",
          "Low",
          "high",
          "high",
          "high",
          "Middle",
          "high",
          "high",
          "high",
          "high",
          "high",
          "high",
          "high",
          "high",
          "high",
          "high",
          "high",
          "high",
          "Low",
          "high",
          "Low",
          "Low",
          "high",
          "high",
          "high",
          "high",
          "high",
          "Low",
          "Low",
          "high",
          "Low",
          "high",
          "Low",
          "high",
          "high",
          "Low",
          "Middle",
          "Low",
          "high",
          "high",
          "high",
          "high",
          "high",
          "Low",
          "high",
          "high",
          "high",
          "Low",
          "high",
          "Low",
          "high",
          "high",
          "high",
          "Low",
          "high",
          "Middle",
          "Low",
          "high",
          "high",
          "Low",
          "high",
          "Middle",
          "high",
          "high",
          "high",
          "Low",
          "high",
          "high",
          "high",
          "high",
          "high",
          "high",
          "Middle",
          "high",
          "Low",
          "high",
          "high",
          "high",
          "high",
          "high",
          "Middle",
          "high",
          "Low",
          "high",
          "high",
          "Low",
          "high",
          "high",
          "high",
          "Low",
          "high",
          "high",
          "high",
          "high",
          "Low",
          "high",
          "Low",
          "high",
          "high",
          "high",
          "high",
          "high",
          "high",
          "high",
          "high",
          "high",
          "Low",
          "high",
          "high",
          "Low"
         ],
         "legendgroup": "",
         "name": "",
         "showlegend": true,
         "type": "pie"
        }
       ],
       "layout": {
        "legend": {
         "tracegroupgap": 0
        },
        "template": {
         "data": {
          "bar": [
           {
            "error_x": {
             "color": "#2a3f5f"
            },
            "error_y": {
             "color": "#2a3f5f"
            },
            "marker": {
             "line": {
              "color": "#E5ECF6",
              "width": 0.5
             },
             "pattern": {
              "fillmode": "overlay",
              "size": 10,
              "solidity": 0.2
             }
            },
            "type": "bar"
           }
          ],
          "barpolar": [
           {
            "marker": {
             "line": {
              "color": "#E5ECF6",
              "width": 0.5
             },
             "pattern": {
              "fillmode": "overlay",
              "size": 10,
              "solidity": 0.2
             }
            },
            "type": "barpolar"
           }
          ],
          "carpet": [
           {
            "aaxis": {
             "endlinecolor": "#2a3f5f",
             "gridcolor": "white",
             "linecolor": "white",
             "minorgridcolor": "white",
             "startlinecolor": "#2a3f5f"
            },
            "baxis": {
             "endlinecolor": "#2a3f5f",
             "gridcolor": "white",
             "linecolor": "white",
             "minorgridcolor": "white",
             "startlinecolor": "#2a3f5f"
            },
            "type": "carpet"
           }
          ],
          "choropleth": [
           {
            "colorbar": {
             "outlinewidth": 0,
             "ticks": ""
            },
            "type": "choropleth"
           }
          ],
          "contour": [
           {
            "colorbar": {
             "outlinewidth": 0,
             "ticks": ""
            },
            "colorscale": [
             [
              0,
              "#0d0887"
             ],
             [
              0.1111111111111111,
              "#46039f"
             ],
             [
              0.2222222222222222,
              "#7201a8"
             ],
             [
              0.3333333333333333,
              "#9c179e"
             ],
             [
              0.4444444444444444,
              "#bd3786"
             ],
             [
              0.5555555555555556,
              "#d8576b"
             ],
             [
              0.6666666666666666,
              "#ed7953"
             ],
             [
              0.7777777777777778,
              "#fb9f3a"
             ],
             [
              0.8888888888888888,
              "#fdca26"
             ],
             [
              1,
              "#f0f921"
             ]
            ],
            "type": "contour"
           }
          ],
          "contourcarpet": [
           {
            "colorbar": {
             "outlinewidth": 0,
             "ticks": ""
            },
            "type": "contourcarpet"
           }
          ],
          "heatmap": [
           {
            "colorbar": {
             "outlinewidth": 0,
             "ticks": ""
            },
            "colorscale": [
             [
              0,
              "#0d0887"
             ],
             [
              0.1111111111111111,
              "#46039f"
             ],
             [
              0.2222222222222222,
              "#7201a8"
             ],
             [
              0.3333333333333333,
              "#9c179e"
             ],
             [
              0.4444444444444444,
              "#bd3786"
             ],
             [
              0.5555555555555556,
              "#d8576b"
             ],
             [
              0.6666666666666666,
              "#ed7953"
             ],
             [
              0.7777777777777778,
              "#fb9f3a"
             ],
             [
              0.8888888888888888,
              "#fdca26"
             ],
             [
              1,
              "#f0f921"
             ]
            ],
            "type": "heatmap"
           }
          ],
          "heatmapgl": [
           {
            "colorbar": {
             "outlinewidth": 0,
             "ticks": ""
            },
            "colorscale": [
             [
              0,
              "#0d0887"
             ],
             [
              0.1111111111111111,
              "#46039f"
             ],
             [
              0.2222222222222222,
              "#7201a8"
             ],
             [
              0.3333333333333333,
              "#9c179e"
             ],
             [
              0.4444444444444444,
              "#bd3786"
             ],
             [
              0.5555555555555556,
              "#d8576b"
             ],
             [
              0.6666666666666666,
              "#ed7953"
             ],
             [
              0.7777777777777778,
              "#fb9f3a"
             ],
             [
              0.8888888888888888,
              "#fdca26"
             ],
             [
              1,
              "#f0f921"
             ]
            ],
            "type": "heatmapgl"
           }
          ],
          "histogram": [
           {
            "marker": {
             "pattern": {
              "fillmode": "overlay",
              "size": 10,
              "solidity": 0.2
             }
            },
            "type": "histogram"
           }
          ],
          "histogram2d": [
           {
            "colorbar": {
             "outlinewidth": 0,
             "ticks": ""
            },
            "colorscale": [
             [
              0,
              "#0d0887"
             ],
             [
              0.1111111111111111,
              "#46039f"
             ],
             [
              0.2222222222222222,
              "#7201a8"
             ],
             [
              0.3333333333333333,
              "#9c179e"
             ],
             [
              0.4444444444444444,
              "#bd3786"
             ],
             [
              0.5555555555555556,
              "#d8576b"
             ],
             [
              0.6666666666666666,
              "#ed7953"
             ],
             [
              0.7777777777777778,
              "#fb9f3a"
             ],
             [
              0.8888888888888888,
              "#fdca26"
             ],
             [
              1,
              "#f0f921"
             ]
            ],
            "type": "histogram2d"
           }
          ],
          "histogram2dcontour": [
           {
            "colorbar": {
             "outlinewidth": 0,
             "ticks": ""
            },
            "colorscale": [
             [
              0,
              "#0d0887"
             ],
             [
              0.1111111111111111,
              "#46039f"
             ],
             [
              0.2222222222222222,
              "#7201a8"
             ],
             [
              0.3333333333333333,
              "#9c179e"
             ],
             [
              0.4444444444444444,
              "#bd3786"
             ],
             [
              0.5555555555555556,
              "#d8576b"
             ],
             [
              0.6666666666666666,
              "#ed7953"
             ],
             [
              0.7777777777777778,
              "#fb9f3a"
             ],
             [
              0.8888888888888888,
              "#fdca26"
             ],
             [
              1,
              "#f0f921"
             ]
            ],
            "type": "histogram2dcontour"
           }
          ],
          "mesh3d": [
           {
            "colorbar": {
             "outlinewidth": 0,
             "ticks": ""
            },
            "type": "mesh3d"
           }
          ],
          "parcoords": [
           {
            "line": {
             "colorbar": {
              "outlinewidth": 0,
              "ticks": ""
             }
            },
            "type": "parcoords"
           }
          ],
          "pie": [
           {
            "automargin": true,
            "type": "pie"
           }
          ],
          "scatter": [
           {
            "fillpattern": {
             "fillmode": "overlay",
             "size": 10,
             "solidity": 0.2
            },
            "type": "scatter"
           }
          ],
          "scatter3d": [
           {
            "line": {
             "colorbar": {
              "outlinewidth": 0,
              "ticks": ""
             }
            },
            "marker": {
             "colorbar": {
              "outlinewidth": 0,
              "ticks": ""
             }
            },
            "type": "scatter3d"
           }
          ],
          "scattercarpet": [
           {
            "marker": {
             "colorbar": {
              "outlinewidth": 0,
              "ticks": ""
             }
            },
            "type": "scattercarpet"
           }
          ],
          "scattergeo": [
           {
            "marker": {
             "colorbar": {
              "outlinewidth": 0,
              "ticks": ""
             }
            },
            "type": "scattergeo"
           }
          ],
          "scattergl": [
           {
            "marker": {
             "colorbar": {
              "outlinewidth": 0,
              "ticks": ""
             }
            },
            "type": "scattergl"
           }
          ],
          "scattermapbox": [
           {
            "marker": {
             "colorbar": {
              "outlinewidth": 0,
              "ticks": ""
             }
            },
            "type": "scattermapbox"
           }
          ],
          "scatterpolar": [
           {
            "marker": {
             "colorbar": {
              "outlinewidth": 0,
              "ticks": ""
             }
            },
            "type": "scatterpolar"
           }
          ],
          "scatterpolargl": [
           {
            "marker": {
             "colorbar": {
              "outlinewidth": 0,
              "ticks": ""
             }
            },
            "type": "scatterpolargl"
           }
          ],
          "scatterternary": [
           {
            "marker": {
             "colorbar": {
              "outlinewidth": 0,
              "ticks": ""
             }
            },
            "type": "scatterternary"
           }
          ],
          "surface": [
           {
            "colorbar": {
             "outlinewidth": 0,
             "ticks": ""
            },
            "colorscale": [
             [
              0,
              "#0d0887"
             ],
             [
              0.1111111111111111,
              "#46039f"
             ],
             [
              0.2222222222222222,
              "#7201a8"
             ],
             [
              0.3333333333333333,
              "#9c179e"
             ],
             [
              0.4444444444444444,
              "#bd3786"
             ],
             [
              0.5555555555555556,
              "#d8576b"
             ],
             [
              0.6666666666666666,
              "#ed7953"
             ],
             [
              0.7777777777777778,
              "#fb9f3a"
             ],
             [
              0.8888888888888888,
              "#fdca26"
             ],
             [
              1,
              "#f0f921"
             ]
            ],
            "type": "surface"
           }
          ],
          "table": [
           {
            "cells": {
             "fill": {
              "color": "#EBF0F8"
             },
             "line": {
              "color": "white"
             }
            },
            "header": {
             "fill": {
              "color": "#C8D4E3"
             },
             "line": {
              "color": "white"
             }
            },
            "type": "table"
           }
          ]
         },
         "layout": {
          "annotationdefaults": {
           "arrowcolor": "#2a3f5f",
           "arrowhead": 0,
           "arrowwidth": 1
          },
          "autotypenumbers": "strict",
          "coloraxis": {
           "colorbar": {
            "outlinewidth": 0,
            "ticks": ""
           }
          },
          "colorscale": {
           "diverging": [
            [
             0,
             "#8e0152"
            ],
            [
             0.1,
             "#c51b7d"
            ],
            [
             0.2,
             "#de77ae"
            ],
            [
             0.3,
             "#f1b6da"
            ],
            [
             0.4,
             "#fde0ef"
            ],
            [
             0.5,
             "#f7f7f7"
            ],
            [
             0.6,
             "#e6f5d0"
            ],
            [
             0.7,
             "#b8e186"
            ],
            [
             0.8,
             "#7fbc41"
            ],
            [
             0.9,
             "#4d9221"
            ],
            [
             1,
             "#276419"
            ]
           ],
           "sequential": [
            [
             0,
             "#0d0887"
            ],
            [
             0.1111111111111111,
             "#46039f"
            ],
            [
             0.2222222222222222,
             "#7201a8"
            ],
            [
             0.3333333333333333,
             "#9c179e"
            ],
            [
             0.4444444444444444,
             "#bd3786"
            ],
            [
             0.5555555555555556,
             "#d8576b"
            ],
            [
             0.6666666666666666,
             "#ed7953"
            ],
            [
             0.7777777777777778,
             "#fb9f3a"
            ],
            [
             0.8888888888888888,
             "#fdca26"
            ],
            [
             1,
             "#f0f921"
            ]
           ],
           "sequentialminus": [
            [
             0,
             "#0d0887"
            ],
            [
             0.1111111111111111,
             "#46039f"
            ],
            [
             0.2222222222222222,
             "#7201a8"
            ],
            [
             0.3333333333333333,
             "#9c179e"
            ],
            [
             0.4444444444444444,
             "#bd3786"
            ],
            [
             0.5555555555555556,
             "#d8576b"
            ],
            [
             0.6666666666666666,
             "#ed7953"
            ],
            [
             0.7777777777777778,
             "#fb9f3a"
            ],
            [
             0.8888888888888888,
             "#fdca26"
            ],
            [
             1,
             "#f0f921"
            ]
           ]
          },
          "colorway": [
           "#636efa",
           "#EF553B",
           "#00cc96",
           "#ab63fa",
           "#FFA15A",
           "#19d3f3",
           "#FF6692",
           "#B6E880",
           "#FF97FF",
           "#FECB52"
          ],
          "font": {
           "color": "#2a3f5f"
          },
          "geo": {
           "bgcolor": "white",
           "lakecolor": "white",
           "landcolor": "#E5ECF6",
           "showlakes": true,
           "showland": true,
           "subunitcolor": "white"
          },
          "hoverlabel": {
           "align": "left"
          },
          "hovermode": "closest",
          "mapbox": {
           "style": "light"
          },
          "paper_bgcolor": "white",
          "plot_bgcolor": "#E5ECF6",
          "polar": {
           "angularaxis": {
            "gridcolor": "white",
            "linecolor": "white",
            "ticks": ""
           },
           "bgcolor": "#E5ECF6",
           "radialaxis": {
            "gridcolor": "white",
            "linecolor": "white",
            "ticks": ""
           }
          },
          "scene": {
           "xaxis": {
            "backgroundcolor": "#E5ECF6",
            "gridcolor": "white",
            "gridwidth": 2,
            "linecolor": "white",
            "showbackground": true,
            "ticks": "",
            "zerolinecolor": "white"
           },
           "yaxis": {
            "backgroundcolor": "#E5ECF6",
            "gridcolor": "white",
            "gridwidth": 2,
            "linecolor": "white",
            "showbackground": true,
            "ticks": "",
            "zerolinecolor": "white"
           },
           "zaxis": {
            "backgroundcolor": "#E5ECF6",
            "gridcolor": "white",
            "gridwidth": 2,
            "linecolor": "white",
            "showbackground": true,
            "ticks": "",
            "zerolinecolor": "white"
           }
          },
          "shapedefaults": {
           "line": {
            "color": "#2a3f5f"
           }
          },
          "ternary": {
           "aaxis": {
            "gridcolor": "white",
            "linecolor": "white",
            "ticks": ""
           },
           "baxis": {
            "gridcolor": "white",
            "linecolor": "white",
            "ticks": ""
           },
           "bgcolor": "#E5ECF6",
           "caxis": {
            "gridcolor": "white",
            "linecolor": "white",
            "ticks": ""
           }
          },
          "title": {
           "x": 0.05
          },
          "xaxis": {
           "automargin": true,
           "gridcolor": "white",
           "linecolor": "white",
           "ticks": "",
           "title": {
            "standoff": 15
           },
           "zerolinecolor": "white",
           "zerolinewidth": 2
          },
          "yaxis": {
           "automargin": true,
           "gridcolor": "white",
           "linecolor": "white",
           "ticks": "",
           "title": {
            "standoff": 15
           },
           "zerolinecolor": "white",
           "zerolinewidth": 2
          }
         }
        },
        "title": {
         "text": "Répartition des niveaux d'éducation"
        }
       }
      }
     },
     "metadata": {},
     "output_type": "display_data"
    }
   ],
   "source": [
    "education_level_dist = px.pie(data, names=\"Education_level\", title=\"Répartition des niveaux d'éducation\")\n",
    "education_level_dist.show()"
   ]
  },
  {
   "cell_type": "code",
   "execution_count": 33,
   "metadata": {},
   "outputs": [
    {
     "data": {
      "application/vnd.plotly.v1+json": {
       "config": {
        "plotlyServerURL": "https://plot.ly"
       },
       "data": [
        {
         "alignmentgroup": "True",
         "bingroup": "x",
         "hovertemplate": "accepted_campaigns=%{x}<br>count=%{y}<extra></extra>",
         "legendgroup": "",
         "marker": {
          "color": "#636efa",
          "pattern": {
           "shape": ""
          }
         },
         "name": "",
         "nbinsx": 20,
         "offsetgroup": "",
         "orientation": "v",
         "showlegend": false,
         "type": "histogram",
         "x": [
          0,
          0,
          0,
          0,
          0,
          0,
          0,
          0,
          0,
          1,
          0,
          0,
          0,
          0,
          2,
          0,
          0,
          1,
          0,
          0,
          0,
          1,
          0,
          0,
          0,
          0,
          0,
          1,
          0,
          0,
          1,
          0,
          0,
          0,
          0,
          0,
          0,
          1,
          0,
          0,
          0,
          0,
          0,
          0,
          0,
          0,
          0,
          0,
          0,
          2,
          0,
          1,
          0,
          0,
          0,
          2,
          0,
          0,
          0,
          0,
          0,
          0,
          2,
          0,
          0,
          0,
          0,
          1,
          0,
          0,
          0,
          1,
          0,
          1,
          0,
          0,
          0,
          0,
          0,
          0,
          1,
          2,
          1,
          0,
          0,
          0,
          0,
          1,
          0,
          1,
          0,
          0,
          0,
          0,
          0,
          0,
          0,
          0,
          0,
          0,
          0,
          0,
          1,
          1,
          2,
          0,
          0,
          2,
          0,
          0,
          0,
          0,
          0,
          0,
          0,
          3,
          0,
          0,
          0,
          0,
          0,
          0,
          0,
          0,
          1,
          0,
          0,
          1,
          0,
          0,
          0,
          0,
          0,
          0,
          0,
          0,
          0,
          0,
          0,
          0,
          1,
          0,
          0,
          0,
          2,
          0,
          0,
          0,
          0,
          0,
          0,
          0,
          0,
          0,
          1,
          1,
          0,
          0,
          0,
          0,
          0,
          0,
          1,
          0,
          2,
          0,
          0,
          1,
          0,
          0,
          0,
          0,
          0,
          0,
          0,
          0,
          0,
          0,
          1,
          0,
          0,
          0,
          0,
          0,
          0,
          1,
          0,
          1,
          1,
          0,
          0,
          3,
          0,
          1,
          1,
          0,
          0,
          1,
          0,
          0,
          0,
          0,
          0,
          0,
          0,
          2,
          0,
          0,
          0,
          0,
          0,
          0,
          0,
          0,
          0,
          0,
          0,
          0,
          0,
          1,
          0,
          0,
          0,
          0,
          0,
          0,
          0,
          0,
          1,
          0,
          0,
          1,
          0,
          0,
          3,
          0,
          0,
          0,
          0,
          0,
          4,
          0,
          0,
          0,
          1,
          0,
          0,
          0,
          1,
          0,
          0,
          0,
          0,
          0,
          1,
          1,
          0,
          0,
          0,
          0,
          0,
          0,
          0,
          0,
          0,
          0,
          1,
          0,
          0,
          0,
          0,
          0,
          0,
          0,
          0,
          0,
          0,
          0,
          1,
          0,
          1,
          0,
          0,
          2,
          0,
          0,
          0,
          1,
          0,
          0,
          0,
          0,
          0,
          1,
          0,
          1,
          1,
          0,
          0,
          0,
          0,
          0,
          0,
          0,
          0,
          0,
          0,
          0,
          0,
          0,
          0,
          0,
          0,
          0,
          0,
          0,
          0,
          0,
          0,
          1,
          0,
          0,
          3,
          0,
          1,
          1,
          0,
          0,
          2,
          0,
          1,
          0,
          0,
          0,
          0,
          1,
          0,
          2,
          0,
          0,
          0,
          0,
          1,
          0,
          0,
          0,
          1,
          0,
          0,
          0,
          0,
          0,
          0,
          0,
          0,
          0,
          0,
          0,
          1,
          1,
          0,
          0,
          1,
          0,
          0,
          0,
          0,
          0,
          0,
          0,
          0,
          0,
          1,
          0,
          0,
          0,
          1,
          0,
          0,
          0,
          0,
          0,
          0,
          0,
          0,
          0,
          0,
          0,
          0,
          0,
          1,
          0,
          0,
          0,
          0,
          0,
          0,
          0,
          1,
          0,
          0,
          0,
          1,
          4,
          2,
          0,
          0,
          0,
          0,
          2,
          1,
          0,
          3,
          2,
          0,
          0,
          4,
          0,
          0,
          0,
          0,
          0,
          0,
          0,
          0,
          0,
          0,
          0,
          0,
          0,
          0,
          0,
          0,
          2,
          0,
          0,
          0,
          0,
          0,
          0,
          0,
          0,
          2,
          1,
          0,
          0,
          1,
          0,
          0,
          1,
          0,
          0,
          2,
          0,
          0,
          0,
          0,
          0,
          1,
          0,
          0,
          0,
          0,
          0,
          0,
          0,
          0,
          0,
          1,
          0,
          0,
          0,
          0,
          0,
          0,
          0,
          0,
          0,
          1,
          0,
          1,
          0,
          0,
          0,
          0,
          0,
          0,
          0,
          0,
          0,
          0,
          0,
          0,
          0,
          0,
          0,
          1,
          0,
          1,
          1,
          0,
          0,
          0,
          0,
          0,
          2,
          0,
          1,
          0,
          2,
          0,
          0,
          0,
          0,
          0,
          0,
          0,
          0,
          1,
          0,
          0,
          0,
          0,
          1,
          0,
          0,
          0,
          0,
          0,
          2,
          0,
          0,
          0,
          0,
          1,
          0,
          0,
          1,
          0,
          0,
          0,
          0,
          0,
          1,
          0,
          4,
          0,
          0,
          0,
          0,
          0,
          0,
          0,
          0,
          0,
          0,
          0,
          0,
          0,
          0,
          0,
          3,
          0,
          0,
          0,
          0,
          1,
          0,
          0,
          0,
          0,
          0,
          3,
          0,
          1,
          0,
          0,
          2,
          0,
          0,
          0,
          0,
          0,
          0,
          0,
          0,
          0,
          0,
          0,
          0,
          0,
          0,
          0,
          0,
          0,
          1,
          0,
          0,
          0,
          0,
          0,
          0,
          0,
          0,
          0,
          0,
          0,
          2,
          0,
          1,
          0,
          0,
          0,
          0,
          0,
          0,
          0,
          0,
          1,
          0,
          0,
          0,
          0,
          0,
          1,
          0,
          0,
          0,
          1,
          2,
          0,
          2,
          0,
          0,
          0,
          1,
          0,
          0,
          0,
          0,
          0,
          0,
          0,
          1,
          0,
          0,
          0,
          0,
          0,
          0,
          0,
          0,
          0,
          0,
          0,
          0,
          0,
          0,
          0,
          0,
          1,
          0,
          1,
          0,
          0,
          0,
          0,
          0,
          0,
          0,
          0,
          2,
          0,
          1,
          0,
          0,
          0,
          0,
          0,
          0,
          0,
          0,
          1,
          0,
          0,
          1,
          3,
          0,
          2,
          0,
          0,
          1,
          1,
          0,
          0,
          0,
          0,
          0,
          0,
          1,
          0,
          0,
          0,
          0,
          0,
          0,
          0,
          1,
          0,
          1,
          0,
          0,
          1,
          0,
          0,
          0,
          0,
          3,
          3,
          0,
          0,
          0,
          0,
          0,
          0,
          0,
          0,
          1,
          1,
          0,
          0,
          1,
          1,
          0,
          0,
          0,
          3,
          0,
          0,
          0,
          0,
          0,
          0,
          0,
          0,
          0,
          1,
          0,
          0,
          0,
          0,
          0,
          0,
          0,
          0,
          0,
          0,
          0,
          0,
          0,
          0,
          0,
          0,
          0,
          0,
          0,
          0,
          0,
          0,
          0,
          1,
          1,
          0,
          0,
          3,
          1,
          0,
          0,
          1,
          0,
          0,
          0,
          0,
          0,
          0,
          0,
          0,
          3,
          0,
          0,
          0,
          1,
          0,
          0,
          0,
          0,
          0,
          0,
          0,
          0,
          0,
          0,
          0,
          2,
          0,
          1,
          0,
          4,
          0,
          2,
          0,
          0,
          0,
          0,
          0,
          0,
          0,
          0,
          0,
          0,
          0,
          0,
          1,
          0,
          0,
          0,
          0,
          0,
          3,
          0,
          0,
          0,
          0,
          0,
          0,
          2,
          1,
          2,
          0,
          0,
          0,
          0,
          1,
          0,
          0,
          0,
          0,
          0,
          0,
          0,
          0,
          0,
          0,
          2,
          1,
          0,
          0,
          0,
          3,
          0,
          0,
          0,
          0,
          1,
          0,
          0,
          0,
          0,
          0,
          0,
          0,
          0,
          0,
          1,
          0,
          0,
          0,
          1,
          0,
          0,
          0,
          0,
          0,
          0,
          0,
          0,
          0,
          0,
          0,
          1,
          0,
          0,
          0,
          0,
          0,
          0,
          0,
          1,
          0,
          0,
          2,
          0,
          1,
          2,
          0,
          0,
          0,
          1,
          0,
          1,
          1,
          0,
          0,
          0,
          0,
          1,
          0,
          0,
          0,
          0,
          1,
          0,
          0,
          0,
          0,
          1,
          3,
          0,
          2,
          0,
          0,
          0,
          0,
          0,
          1,
          0,
          0,
          0,
          0,
          0,
          0,
          0,
          0,
          0,
          0,
          0,
          0,
          0,
          0,
          2,
          0,
          0,
          0,
          0,
          0,
          0,
          0,
          0,
          0,
          1,
          0,
          0,
          1,
          0,
          0,
          0,
          0,
          2,
          0,
          0,
          3,
          0,
          0,
          4,
          0,
          1,
          0,
          0,
          0,
          1,
          0,
          1,
          0,
          2,
          2,
          2,
          0,
          0,
          1,
          0,
          1,
          1,
          0,
          3,
          0,
          0,
          0,
          0,
          0,
          1,
          0,
          0,
          0,
          0,
          0,
          0,
          0,
          0,
          0,
          1,
          0,
          0,
          0,
          1,
          0,
          0,
          0,
          1,
          0,
          0,
          0,
          1,
          0,
          1,
          0,
          0,
          1,
          0,
          0,
          0,
          0,
          0,
          1,
          1,
          1,
          0,
          0,
          0,
          0,
          0,
          0,
          0,
          0,
          1,
          1,
          0,
          1,
          0,
          0,
          2,
          0,
          0,
          0,
          0,
          0,
          0,
          0,
          0,
          1,
          2,
          0,
          0,
          0,
          0,
          0,
          0,
          0,
          1,
          0,
          0,
          4,
          0,
          0,
          1,
          0,
          0,
          0,
          0,
          0,
          0,
          0,
          0,
          0,
          3,
          0,
          0,
          0,
          0,
          1,
          0,
          0,
          1,
          0,
          0,
          1,
          0,
          1,
          0,
          2,
          1,
          1,
          0,
          0,
          0,
          0,
          0,
          0,
          0,
          0,
          0,
          0,
          0,
          0,
          1,
          0,
          0,
          1,
          3,
          0,
          0,
          0,
          0,
          0,
          0,
          0,
          0,
          0,
          0,
          0,
          1,
          0,
          0,
          1,
          0,
          0,
          0,
          1,
          0,
          0,
          0,
          0,
          0,
          0,
          0,
          0,
          1,
          0,
          0,
          0,
          0,
          0,
          0,
          0,
          1,
          0,
          0,
          1,
          0,
          0,
          0,
          0,
          0,
          1,
          0,
          0,
          1,
          0,
          0,
          0,
          0,
          1,
          0,
          0,
          0,
          2,
          0,
          0,
          0,
          0,
          0,
          1,
          0,
          0,
          0,
          0,
          0,
          1,
          0,
          1,
          1,
          0,
          1,
          0,
          1,
          0,
          1,
          1,
          0,
          0,
          0,
          0,
          0,
          0,
          0,
          0,
          1,
          1,
          0,
          0,
          1,
          1,
          0,
          0,
          0,
          0,
          0,
          0,
          0,
          0,
          0,
          3,
          0,
          0,
          0,
          0,
          1,
          0,
          0,
          0,
          0,
          0,
          0,
          1,
          2,
          1,
          1,
          0,
          0,
          0,
          0,
          0,
          1,
          2,
          1,
          1,
          2,
          0,
          0,
          3,
          0,
          0,
          0,
          0,
          1,
          0,
          1,
          0,
          0,
          1,
          1,
          0,
          1,
          0,
          1,
          2,
          0,
          0,
          0,
          0,
          1,
          0,
          3,
          0,
          0,
          0,
          0,
          0,
          0,
          0,
          0,
          1,
          1,
          0,
          3,
          0,
          0,
          1,
          0,
          0,
          2,
          4,
          0,
          0,
          0,
          0,
          0,
          0,
          0,
          0,
          0,
          0,
          0,
          0,
          0,
          1,
          1,
          0,
          0,
          0,
          0,
          0,
          1,
          0,
          0,
          2,
          0,
          3,
          0,
          0,
          0,
          0,
          0,
          1,
          0,
          1,
          0,
          0,
          0,
          0,
          0,
          1,
          0,
          0,
          0,
          0,
          0,
          1,
          0,
          1,
          0,
          0,
          0,
          0,
          1,
          0,
          0,
          1,
          0,
          0,
          0,
          0,
          0,
          0,
          0,
          0,
          1,
          0,
          0,
          0,
          1,
          1,
          0,
          0,
          0,
          2,
          0,
          0,
          0,
          0,
          0,
          0,
          0,
          0,
          0,
          0,
          0,
          0,
          0,
          0,
          0,
          0,
          0,
          0,
          0,
          0,
          0,
          0,
          0,
          0,
          3,
          0,
          1,
          0,
          0,
          0,
          0,
          0,
          0,
          0,
          0,
          1,
          0,
          0,
          0,
          0,
          0,
          0,
          0,
          0,
          0,
          2,
          0,
          0,
          1,
          0,
          0,
          0,
          0,
          0,
          0,
          0,
          1,
          2,
          0,
          0,
          1,
          0,
          0,
          0,
          0,
          0,
          0,
          0,
          0,
          0,
          0,
          3,
          0,
          1,
          0,
          2,
          0,
          0,
          0,
          0,
          1,
          0,
          0,
          0,
          0,
          0,
          2,
          0,
          0,
          0,
          0,
          0,
          1,
          0,
          0,
          0,
          0,
          0,
          0,
          0,
          1,
          1,
          0,
          0,
          0,
          3,
          0,
          0,
          0,
          0,
          1,
          0,
          0,
          0,
          0,
          0,
          0,
          1,
          1,
          0,
          1,
          0,
          0,
          0,
          0,
          0,
          0,
          0,
          0,
          0,
          0,
          0,
          0,
          0,
          0,
          0,
          0,
          0,
          0,
          0,
          0,
          2,
          0,
          1,
          1,
          0,
          0,
          0,
          0,
          0,
          0,
          1,
          0,
          0,
          0,
          0,
          0,
          0,
          0,
          0,
          0,
          0,
          0,
          0,
          0,
          0,
          1,
          0,
          0,
          1,
          0,
          0,
          0,
          0,
          0,
          0,
          0,
          0,
          0,
          1,
          0,
          0,
          0,
          2,
          0,
          1,
          0,
          0,
          0,
          0,
          2,
          0,
          0,
          0,
          0,
          0,
          0,
          0,
          1,
          0,
          0,
          0,
          1,
          0,
          0,
          1,
          0,
          0,
          0,
          0,
          1,
          0,
          0,
          0,
          1,
          1,
          0,
          0,
          0,
          0,
          1,
          0,
          0,
          0,
          0,
          1,
          0,
          0,
          0,
          0,
          0,
          0,
          0,
          1,
          0,
          0,
          0,
          0,
          0,
          0,
          0,
          0,
          0,
          0,
          0,
          0,
          0,
          0,
          0,
          0,
          0,
          0,
          0,
          0,
          3,
          0,
          0,
          0,
          0,
          0,
          1,
          0,
          0,
          0,
          0,
          0,
          0,
          0,
          0,
          0,
          0,
          2,
          0,
          0,
          0,
          0,
          0,
          0,
          0,
          0,
          0,
          1,
          2,
          0,
          1,
          1,
          0,
          0,
          0,
          0,
          0,
          0,
          1,
          0,
          0,
          0,
          0,
          0,
          0,
          2,
          0,
          0,
          0,
          0,
          0,
          0,
          0,
          0,
          0,
          1,
          0,
          0,
          0,
          0,
          0,
          0,
          0,
          0,
          1,
          0,
          0,
          0,
          4,
          3,
          0,
          1,
          0,
          0,
          0,
          0,
          0,
          1,
          0,
          3,
          3,
          1,
          0,
          0,
          0,
          0,
          0,
          0,
          0,
          0,
          1,
          1,
          0,
          0,
          0,
          1,
          1,
          0,
          1,
          0,
          0,
          0,
          0,
          0,
          0,
          0,
          0,
          3,
          1,
          0,
          0,
          1,
          0,
          0,
          0,
          0,
          0,
          0,
          0,
          0,
          0,
          0,
          0,
          0,
          0,
          0,
          0,
          1,
          0,
          0,
          0,
          0,
          0,
          0,
          0,
          0,
          0,
          0,
          0,
          0,
          0,
          0,
          0,
          0,
          0,
          0,
          0,
          0,
          0,
          0,
          1,
          0,
          1,
          0,
          0,
          0,
          1,
          0,
          0,
          1,
          0,
          0,
          1,
          0,
          0,
          0,
          0,
          1,
          0,
          0,
          1,
          1,
          0,
          0,
          1,
          0,
          0,
          0,
          1,
          0,
          0,
          0,
          0,
          0,
          0,
          0,
          0,
          0,
          0,
          0,
          0,
          0,
          0,
          0,
          0,
          1,
          0,
          0,
          0,
          3,
          0,
          0,
          0,
          3,
          0,
          0,
          0,
          0,
          2,
          0,
          0,
          0,
          0,
          2,
          0,
          0,
          0,
          0,
          0,
          0,
          0,
          0,
          1,
          1,
          0,
          0,
          0,
          3,
          0,
          0,
          0,
          0,
          0,
          0,
          0,
          1,
          0,
          0,
          0,
          1,
          0,
          1,
          0,
          0,
          0,
          1,
          0,
          1,
          0,
          3,
          0,
          2,
          0,
          0,
          1,
          1,
          0,
          0,
          0,
          0,
          0,
          0,
          1,
          0,
          0,
          0,
          0,
          1,
          0,
          1,
          0,
          2,
          0,
          2,
          0,
          0,
          0,
          0,
          0,
          0,
          4,
          1,
          0,
          0,
          2,
          0,
          0,
          0,
          0,
          0,
          0,
          0,
          0,
          0,
          0,
          0,
          0,
          0,
          3,
          0,
          0,
          0,
          0,
          0,
          0,
          0,
          0,
          0,
          0,
          0,
          0,
          0,
          0,
          0,
          0,
          1,
          1,
          0,
          0,
          3,
          0,
          0,
          0,
          0,
          0,
          0,
          1,
          2,
          1,
          1,
          0,
          0,
          0,
          0,
          0,
          0,
          0,
          1,
          0,
          0,
          2,
          0,
          0,
          0,
          0,
          0,
          0,
          0,
          1,
          0,
          1,
          2,
          0,
          3,
          1,
          0,
          1,
          0,
          0,
          0,
          0,
          0,
          0,
          0,
          0,
          1,
          0,
          0,
          0,
          0,
          3,
          0,
          0,
          0,
          0,
          0,
          0,
          0,
          0,
          0,
          0,
          0,
          0,
          0,
          0,
          0,
          1,
          0,
          1,
          0,
          0,
          0,
          1,
          0,
          0,
          0,
          0,
          1,
          0,
          0,
          0,
          0,
          0,
          0,
          0,
          2,
          0,
          0,
          0,
          1,
          0,
          0,
          0,
          0,
          0,
          0,
          0,
          0,
          0,
          0,
          0,
          0,
          0,
          0,
          0,
          0,
          0,
          0,
          0,
          0,
          0,
          0,
          0,
          0,
          0,
          0,
          0,
          0,
          0,
          1,
          0,
          0,
          0,
          0,
          0,
          2,
          1,
          0,
          0,
          0,
          2,
          2,
          0,
          0,
          0,
          2,
          0,
          0,
          0,
          1,
          0,
          1,
          0,
          1,
          0,
          0,
          0,
          0,
          0,
          0,
          0,
          0,
          0,
          0,
          0,
          0,
          1,
          3,
          0,
          1,
          0,
          0,
          0,
          1,
          0,
          0,
          0,
          1,
          0,
          0,
          0,
          0,
          0,
          0,
          0,
          2,
          1,
          0,
          0,
          0,
          0,
          0,
          1,
          0,
          1,
          0,
          0,
          0,
          0,
          1,
          0,
          0,
          0,
          0,
          1,
          0,
          0,
          0,
          4,
          3,
          0,
          1,
          3,
          0,
          0,
          2,
          2,
          0,
          0,
          1,
          0,
          0,
          1,
          0,
          0,
          0,
          1,
          1,
          1,
          0,
          0,
          0,
          0,
          0,
          2,
          1,
          0,
          0,
          1,
          1,
          0,
          0,
          0,
          0,
          0,
          0,
          0,
          0,
          1,
          0,
          0,
          0,
          0,
          0,
          0,
          0,
          0,
          0,
          0,
          0,
          0,
          0,
          2,
          0,
          0,
          1,
          0,
          0,
          0,
          0,
          1,
          0,
          0,
          0,
          0,
          1,
          1,
          0,
          0
         ],
         "xaxis": "x",
         "yaxis": "y"
        }
       ],
       "layout": {
        "barmode": "relative",
        "legend": {
         "tracegroupgap": 0
        },
        "template": {
         "data": {
          "bar": [
           {
            "error_x": {
             "color": "#2a3f5f"
            },
            "error_y": {
             "color": "#2a3f5f"
            },
            "marker": {
             "line": {
              "color": "#E5ECF6",
              "width": 0.5
             },
             "pattern": {
              "fillmode": "overlay",
              "size": 10,
              "solidity": 0.2
             }
            },
            "type": "bar"
           }
          ],
          "barpolar": [
           {
            "marker": {
             "line": {
              "color": "#E5ECF6",
              "width": 0.5
             },
             "pattern": {
              "fillmode": "overlay",
              "size": 10,
              "solidity": 0.2
             }
            },
            "type": "barpolar"
           }
          ],
          "carpet": [
           {
            "aaxis": {
             "endlinecolor": "#2a3f5f",
             "gridcolor": "white",
             "linecolor": "white",
             "minorgridcolor": "white",
             "startlinecolor": "#2a3f5f"
            },
            "baxis": {
             "endlinecolor": "#2a3f5f",
             "gridcolor": "white",
             "linecolor": "white",
             "minorgridcolor": "white",
             "startlinecolor": "#2a3f5f"
            },
            "type": "carpet"
           }
          ],
          "choropleth": [
           {
            "colorbar": {
             "outlinewidth": 0,
             "ticks": ""
            },
            "type": "choropleth"
           }
          ],
          "contour": [
           {
            "colorbar": {
             "outlinewidth": 0,
             "ticks": ""
            },
            "colorscale": [
             [
              0,
              "#0d0887"
             ],
             [
              0.1111111111111111,
              "#46039f"
             ],
             [
              0.2222222222222222,
              "#7201a8"
             ],
             [
              0.3333333333333333,
              "#9c179e"
             ],
             [
              0.4444444444444444,
              "#bd3786"
             ],
             [
              0.5555555555555556,
              "#d8576b"
             ],
             [
              0.6666666666666666,
              "#ed7953"
             ],
             [
              0.7777777777777778,
              "#fb9f3a"
             ],
             [
              0.8888888888888888,
              "#fdca26"
             ],
             [
              1,
              "#f0f921"
             ]
            ],
            "type": "contour"
           }
          ],
          "contourcarpet": [
           {
            "colorbar": {
             "outlinewidth": 0,
             "ticks": ""
            },
            "type": "contourcarpet"
           }
          ],
          "heatmap": [
           {
            "colorbar": {
             "outlinewidth": 0,
             "ticks": ""
            },
            "colorscale": [
             [
              0,
              "#0d0887"
             ],
             [
              0.1111111111111111,
              "#46039f"
             ],
             [
              0.2222222222222222,
              "#7201a8"
             ],
             [
              0.3333333333333333,
              "#9c179e"
             ],
             [
              0.4444444444444444,
              "#bd3786"
             ],
             [
              0.5555555555555556,
              "#d8576b"
             ],
             [
              0.6666666666666666,
              "#ed7953"
             ],
             [
              0.7777777777777778,
              "#fb9f3a"
             ],
             [
              0.8888888888888888,
              "#fdca26"
             ],
             [
              1,
              "#f0f921"
             ]
            ],
            "type": "heatmap"
           }
          ],
          "heatmapgl": [
           {
            "colorbar": {
             "outlinewidth": 0,
             "ticks": ""
            },
            "colorscale": [
             [
              0,
              "#0d0887"
             ],
             [
              0.1111111111111111,
              "#46039f"
             ],
             [
              0.2222222222222222,
              "#7201a8"
             ],
             [
              0.3333333333333333,
              "#9c179e"
             ],
             [
              0.4444444444444444,
              "#bd3786"
             ],
             [
              0.5555555555555556,
              "#d8576b"
             ],
             [
              0.6666666666666666,
              "#ed7953"
             ],
             [
              0.7777777777777778,
              "#fb9f3a"
             ],
             [
              0.8888888888888888,
              "#fdca26"
             ],
             [
              1,
              "#f0f921"
             ]
            ],
            "type": "heatmapgl"
           }
          ],
          "histogram": [
           {
            "marker": {
             "pattern": {
              "fillmode": "overlay",
              "size": 10,
              "solidity": 0.2
             }
            },
            "type": "histogram"
           }
          ],
          "histogram2d": [
           {
            "colorbar": {
             "outlinewidth": 0,
             "ticks": ""
            },
            "colorscale": [
             [
              0,
              "#0d0887"
             ],
             [
              0.1111111111111111,
              "#46039f"
             ],
             [
              0.2222222222222222,
              "#7201a8"
             ],
             [
              0.3333333333333333,
              "#9c179e"
             ],
             [
              0.4444444444444444,
              "#bd3786"
             ],
             [
              0.5555555555555556,
              "#d8576b"
             ],
             [
              0.6666666666666666,
              "#ed7953"
             ],
             [
              0.7777777777777778,
              "#fb9f3a"
             ],
             [
              0.8888888888888888,
              "#fdca26"
             ],
             [
              1,
              "#f0f921"
             ]
            ],
            "type": "histogram2d"
           }
          ],
          "histogram2dcontour": [
           {
            "colorbar": {
             "outlinewidth": 0,
             "ticks": ""
            },
            "colorscale": [
             [
              0,
              "#0d0887"
             ],
             [
              0.1111111111111111,
              "#46039f"
             ],
             [
              0.2222222222222222,
              "#7201a8"
             ],
             [
              0.3333333333333333,
              "#9c179e"
             ],
             [
              0.4444444444444444,
              "#bd3786"
             ],
             [
              0.5555555555555556,
              "#d8576b"
             ],
             [
              0.6666666666666666,
              "#ed7953"
             ],
             [
              0.7777777777777778,
              "#fb9f3a"
             ],
             [
              0.8888888888888888,
              "#fdca26"
             ],
             [
              1,
              "#f0f921"
             ]
            ],
            "type": "histogram2dcontour"
           }
          ],
          "mesh3d": [
           {
            "colorbar": {
             "outlinewidth": 0,
             "ticks": ""
            },
            "type": "mesh3d"
           }
          ],
          "parcoords": [
           {
            "line": {
             "colorbar": {
              "outlinewidth": 0,
              "ticks": ""
             }
            },
            "type": "parcoords"
           }
          ],
          "pie": [
           {
            "automargin": true,
            "type": "pie"
           }
          ],
          "scatter": [
           {
            "fillpattern": {
             "fillmode": "overlay",
             "size": 10,
             "solidity": 0.2
            },
            "type": "scatter"
           }
          ],
          "scatter3d": [
           {
            "line": {
             "colorbar": {
              "outlinewidth": 0,
              "ticks": ""
             }
            },
            "marker": {
             "colorbar": {
              "outlinewidth": 0,
              "ticks": ""
             }
            },
            "type": "scatter3d"
           }
          ],
          "scattercarpet": [
           {
            "marker": {
             "colorbar": {
              "outlinewidth": 0,
              "ticks": ""
             }
            },
            "type": "scattercarpet"
           }
          ],
          "scattergeo": [
           {
            "marker": {
             "colorbar": {
              "outlinewidth": 0,
              "ticks": ""
             }
            },
            "type": "scattergeo"
           }
          ],
          "scattergl": [
           {
            "marker": {
             "colorbar": {
              "outlinewidth": 0,
              "ticks": ""
             }
            },
            "type": "scattergl"
           }
          ],
          "scattermapbox": [
           {
            "marker": {
             "colorbar": {
              "outlinewidth": 0,
              "ticks": ""
             }
            },
            "type": "scattermapbox"
           }
          ],
          "scatterpolar": [
           {
            "marker": {
             "colorbar": {
              "outlinewidth": 0,
              "ticks": ""
             }
            },
            "type": "scatterpolar"
           }
          ],
          "scatterpolargl": [
           {
            "marker": {
             "colorbar": {
              "outlinewidth": 0,
              "ticks": ""
             }
            },
            "type": "scatterpolargl"
           }
          ],
          "scatterternary": [
           {
            "marker": {
             "colorbar": {
              "outlinewidth": 0,
              "ticks": ""
             }
            },
            "type": "scatterternary"
           }
          ],
          "surface": [
           {
            "colorbar": {
             "outlinewidth": 0,
             "ticks": ""
            },
            "colorscale": [
             [
              0,
              "#0d0887"
             ],
             [
              0.1111111111111111,
              "#46039f"
             ],
             [
              0.2222222222222222,
              "#7201a8"
             ],
             [
              0.3333333333333333,
              "#9c179e"
             ],
             [
              0.4444444444444444,
              "#bd3786"
             ],
             [
              0.5555555555555556,
              "#d8576b"
             ],
             [
              0.6666666666666666,
              "#ed7953"
             ],
             [
              0.7777777777777778,
              "#fb9f3a"
             ],
             [
              0.8888888888888888,
              "#fdca26"
             ],
             [
              1,
              "#f0f921"
             ]
            ],
            "type": "surface"
           }
          ],
          "table": [
           {
            "cells": {
             "fill": {
              "color": "#EBF0F8"
             },
             "line": {
              "color": "white"
             }
            },
            "header": {
             "fill": {
              "color": "#C8D4E3"
             },
             "line": {
              "color": "white"
             }
            },
            "type": "table"
           }
          ]
         },
         "layout": {
          "annotationdefaults": {
           "arrowcolor": "#2a3f5f",
           "arrowhead": 0,
           "arrowwidth": 1
          },
          "autotypenumbers": "strict",
          "coloraxis": {
           "colorbar": {
            "outlinewidth": 0,
            "ticks": ""
           }
          },
          "colorscale": {
           "diverging": [
            [
             0,
             "#8e0152"
            ],
            [
             0.1,
             "#c51b7d"
            ],
            [
             0.2,
             "#de77ae"
            ],
            [
             0.3,
             "#f1b6da"
            ],
            [
             0.4,
             "#fde0ef"
            ],
            [
             0.5,
             "#f7f7f7"
            ],
            [
             0.6,
             "#e6f5d0"
            ],
            [
             0.7,
             "#b8e186"
            ],
            [
             0.8,
             "#7fbc41"
            ],
            [
             0.9,
             "#4d9221"
            ],
            [
             1,
             "#276419"
            ]
           ],
           "sequential": [
            [
             0,
             "#0d0887"
            ],
            [
             0.1111111111111111,
             "#46039f"
            ],
            [
             0.2222222222222222,
             "#7201a8"
            ],
            [
             0.3333333333333333,
             "#9c179e"
            ],
            [
             0.4444444444444444,
             "#bd3786"
            ],
            [
             0.5555555555555556,
             "#d8576b"
            ],
            [
             0.6666666666666666,
             "#ed7953"
            ],
            [
             0.7777777777777778,
             "#fb9f3a"
            ],
            [
             0.8888888888888888,
             "#fdca26"
            ],
            [
             1,
             "#f0f921"
            ]
           ],
           "sequentialminus": [
            [
             0,
             "#0d0887"
            ],
            [
             0.1111111111111111,
             "#46039f"
            ],
            [
             0.2222222222222222,
             "#7201a8"
            ],
            [
             0.3333333333333333,
             "#9c179e"
            ],
            [
             0.4444444444444444,
             "#bd3786"
            ],
            [
             0.5555555555555556,
             "#d8576b"
            ],
            [
             0.6666666666666666,
             "#ed7953"
            ],
            [
             0.7777777777777778,
             "#fb9f3a"
            ],
            [
             0.8888888888888888,
             "#fdca26"
            ],
            [
             1,
             "#f0f921"
            ]
           ]
          },
          "colorway": [
           "#636efa",
           "#EF553B",
           "#00cc96",
           "#ab63fa",
           "#FFA15A",
           "#19d3f3",
           "#FF6692",
           "#B6E880",
           "#FF97FF",
           "#FECB52"
          ],
          "font": {
           "color": "#2a3f5f"
          },
          "geo": {
           "bgcolor": "white",
           "lakecolor": "white",
           "landcolor": "#E5ECF6",
           "showlakes": true,
           "showland": true,
           "subunitcolor": "white"
          },
          "hoverlabel": {
           "align": "left"
          },
          "hovermode": "closest",
          "mapbox": {
           "style": "light"
          },
          "paper_bgcolor": "white",
          "plot_bgcolor": "#E5ECF6",
          "polar": {
           "angularaxis": {
            "gridcolor": "white",
            "linecolor": "white",
            "ticks": ""
           },
           "bgcolor": "#E5ECF6",
           "radialaxis": {
            "gridcolor": "white",
            "linecolor": "white",
            "ticks": ""
           }
          },
          "scene": {
           "xaxis": {
            "backgroundcolor": "#E5ECF6",
            "gridcolor": "white",
            "gridwidth": 2,
            "linecolor": "white",
            "showbackground": true,
            "ticks": "",
            "zerolinecolor": "white"
           },
           "yaxis": {
            "backgroundcolor": "#E5ECF6",
            "gridcolor": "white",
            "gridwidth": 2,
            "linecolor": "white",
            "showbackground": true,
            "ticks": "",
            "zerolinecolor": "white"
           },
           "zaxis": {
            "backgroundcolor": "#E5ECF6",
            "gridcolor": "white",
            "gridwidth": 2,
            "linecolor": "white",
            "showbackground": true,
            "ticks": "",
            "zerolinecolor": "white"
           }
          },
          "shapedefaults": {
           "line": {
            "color": "#2a3f5f"
           }
          },
          "ternary": {
           "aaxis": {
            "gridcolor": "white",
            "linecolor": "white",
            "ticks": ""
           },
           "baxis": {
            "gridcolor": "white",
            "linecolor": "white",
            "ticks": ""
           },
           "bgcolor": "#E5ECF6",
           "caxis": {
            "gridcolor": "white",
            "linecolor": "white",
            "ticks": ""
           }
          },
          "title": {
           "x": 0.05
          },
          "xaxis": {
           "automargin": true,
           "gridcolor": "white",
           "linecolor": "white",
           "ticks": "",
           "title": {
            "standoff": 15
           },
           "zerolinecolor": "white",
           "zerolinewidth": 2
          },
          "yaxis": {
           "automargin": true,
           "gridcolor": "white",
           "linecolor": "white",
           "ticks": "",
           "title": {
            "standoff": 15
           },
           "zerolinecolor": "white",
           "zerolinewidth": 2
          }
         }
        },
        "title": {
         "text": "Distribution du nombre de campagnes acceptées"
        },
        "xaxis": {
         "anchor": "y",
         "domain": [
          0,
          1
         ],
         "title": {
          "text": "accepted_campaigns"
         }
        },
        "yaxis": {
         "anchor": "x",
         "domain": [
          0,
          1
         ],
         "title": {
          "text": "count"
         }
        }
       }
      }
     },
     "metadata": {},
     "output_type": "display_data"
    }
   ],
   "source": [
    "campaigns_accepted_dist = px.histogram(\n",
    "    data,\n",
    "    x=\"accepted_campaigns\",\n",
    "    title=\"Distribution du nombre de campagnes acceptées\",\n",
    "    nbins=20,\n",
    ")\n",
    "campaigns_accepted_dist.show()"
   ]
  },
  {
   "cell_type": "markdown",
   "metadata": {},
   "source": [
    "#### Campagnes acceptées vs groupes d'âge"
   ]
  },
  {
   "cell_type": "markdown",
   "metadata": {},
   "source": [
    "visualisons le pourcentage de campagnes acceptées en fonction des groupes d'âge"
   ]
  },
  {
   "cell_type": "code",
   "execution_count": 34,
   "metadata": {},
   "outputs": [
    {
     "data": {
      "application/vnd.plotly.v1+json": {
       "config": {
        "plotlyServerURL": "https://plot.ly"
       },
       "data": [
        {
         "alignmentgroup": "True",
         "hovertemplate": "accepted_campaigns=%{x}<br>age_group=%{y}<extra></extra>",
         "legendgroup": "",
         "marker": {
          "color": "#636efa",
          "pattern": {
           "shape": ""
          }
         },
         "name": "",
         "offsetgroup": "",
         "orientation": "h",
         "showlegend": false,
         "textposition": "auto",
         "type": "bar",
         "x": [
          1,
          8,
          87,
          89,
          145,
          156,
          175
         ],
         "xaxis": "x",
         "y": [
          "Unknown",
          "23 - 30",
          "31 - 40",
          "71 - 85",
          "61 - 70",
          "41 - 50",
          "51 - 60"
         ],
         "yaxis": "y"
        }
       ],
       "layout": {
        "barmode": "relative",
        "legend": {
         "tracegroupgap": 0
        },
        "template": {
         "data": {
          "bar": [
           {
            "error_x": {
             "color": "#2a3f5f"
            },
            "error_y": {
             "color": "#2a3f5f"
            },
            "marker": {
             "line": {
              "color": "#E5ECF6",
              "width": 0.5
             },
             "pattern": {
              "fillmode": "overlay",
              "size": 10,
              "solidity": 0.2
             }
            },
            "type": "bar"
           }
          ],
          "barpolar": [
           {
            "marker": {
             "line": {
              "color": "#E5ECF6",
              "width": 0.5
             },
             "pattern": {
              "fillmode": "overlay",
              "size": 10,
              "solidity": 0.2
             }
            },
            "type": "barpolar"
           }
          ],
          "carpet": [
           {
            "aaxis": {
             "endlinecolor": "#2a3f5f",
             "gridcolor": "white",
             "linecolor": "white",
             "minorgridcolor": "white",
             "startlinecolor": "#2a3f5f"
            },
            "baxis": {
             "endlinecolor": "#2a3f5f",
             "gridcolor": "white",
             "linecolor": "white",
             "minorgridcolor": "white",
             "startlinecolor": "#2a3f5f"
            },
            "type": "carpet"
           }
          ],
          "choropleth": [
           {
            "colorbar": {
             "outlinewidth": 0,
             "ticks": ""
            },
            "type": "choropleth"
           }
          ],
          "contour": [
           {
            "colorbar": {
             "outlinewidth": 0,
             "ticks": ""
            },
            "colorscale": [
             [
              0,
              "#0d0887"
             ],
             [
              0.1111111111111111,
              "#46039f"
             ],
             [
              0.2222222222222222,
              "#7201a8"
             ],
             [
              0.3333333333333333,
              "#9c179e"
             ],
             [
              0.4444444444444444,
              "#bd3786"
             ],
             [
              0.5555555555555556,
              "#d8576b"
             ],
             [
              0.6666666666666666,
              "#ed7953"
             ],
             [
              0.7777777777777778,
              "#fb9f3a"
             ],
             [
              0.8888888888888888,
              "#fdca26"
             ],
             [
              1,
              "#f0f921"
             ]
            ],
            "type": "contour"
           }
          ],
          "contourcarpet": [
           {
            "colorbar": {
             "outlinewidth": 0,
             "ticks": ""
            },
            "type": "contourcarpet"
           }
          ],
          "heatmap": [
           {
            "colorbar": {
             "outlinewidth": 0,
             "ticks": ""
            },
            "colorscale": [
             [
              0,
              "#0d0887"
             ],
             [
              0.1111111111111111,
              "#46039f"
             ],
             [
              0.2222222222222222,
              "#7201a8"
             ],
             [
              0.3333333333333333,
              "#9c179e"
             ],
             [
              0.4444444444444444,
              "#bd3786"
             ],
             [
              0.5555555555555556,
              "#d8576b"
             ],
             [
              0.6666666666666666,
              "#ed7953"
             ],
             [
              0.7777777777777778,
              "#fb9f3a"
             ],
             [
              0.8888888888888888,
              "#fdca26"
             ],
             [
              1,
              "#f0f921"
             ]
            ],
            "type": "heatmap"
           }
          ],
          "heatmapgl": [
           {
            "colorbar": {
             "outlinewidth": 0,
             "ticks": ""
            },
            "colorscale": [
             [
              0,
              "#0d0887"
             ],
             [
              0.1111111111111111,
              "#46039f"
             ],
             [
              0.2222222222222222,
              "#7201a8"
             ],
             [
              0.3333333333333333,
              "#9c179e"
             ],
             [
              0.4444444444444444,
              "#bd3786"
             ],
             [
              0.5555555555555556,
              "#d8576b"
             ],
             [
              0.6666666666666666,
              "#ed7953"
             ],
             [
              0.7777777777777778,
              "#fb9f3a"
             ],
             [
              0.8888888888888888,
              "#fdca26"
             ],
             [
              1,
              "#f0f921"
             ]
            ],
            "type": "heatmapgl"
           }
          ],
          "histogram": [
           {
            "marker": {
             "pattern": {
              "fillmode": "overlay",
              "size": 10,
              "solidity": 0.2
             }
            },
            "type": "histogram"
           }
          ],
          "histogram2d": [
           {
            "colorbar": {
             "outlinewidth": 0,
             "ticks": ""
            },
            "colorscale": [
             [
              0,
              "#0d0887"
             ],
             [
              0.1111111111111111,
              "#46039f"
             ],
             [
              0.2222222222222222,
              "#7201a8"
             ],
             [
              0.3333333333333333,
              "#9c179e"
             ],
             [
              0.4444444444444444,
              "#bd3786"
             ],
             [
              0.5555555555555556,
              "#d8576b"
             ],
             [
              0.6666666666666666,
              "#ed7953"
             ],
             [
              0.7777777777777778,
              "#fb9f3a"
             ],
             [
              0.8888888888888888,
              "#fdca26"
             ],
             [
              1,
              "#f0f921"
             ]
            ],
            "type": "histogram2d"
           }
          ],
          "histogram2dcontour": [
           {
            "colorbar": {
             "outlinewidth": 0,
             "ticks": ""
            },
            "colorscale": [
             [
              0,
              "#0d0887"
             ],
             [
              0.1111111111111111,
              "#46039f"
             ],
             [
              0.2222222222222222,
              "#7201a8"
             ],
             [
              0.3333333333333333,
              "#9c179e"
             ],
             [
              0.4444444444444444,
              "#bd3786"
             ],
             [
              0.5555555555555556,
              "#d8576b"
             ],
             [
              0.6666666666666666,
              "#ed7953"
             ],
             [
              0.7777777777777778,
              "#fb9f3a"
             ],
             [
              0.8888888888888888,
              "#fdca26"
             ],
             [
              1,
              "#f0f921"
             ]
            ],
            "type": "histogram2dcontour"
           }
          ],
          "mesh3d": [
           {
            "colorbar": {
             "outlinewidth": 0,
             "ticks": ""
            },
            "type": "mesh3d"
           }
          ],
          "parcoords": [
           {
            "line": {
             "colorbar": {
              "outlinewidth": 0,
              "ticks": ""
             }
            },
            "type": "parcoords"
           }
          ],
          "pie": [
           {
            "automargin": true,
            "type": "pie"
           }
          ],
          "scatter": [
           {
            "fillpattern": {
             "fillmode": "overlay",
             "size": 10,
             "solidity": 0.2
            },
            "type": "scatter"
           }
          ],
          "scatter3d": [
           {
            "line": {
             "colorbar": {
              "outlinewidth": 0,
              "ticks": ""
             }
            },
            "marker": {
             "colorbar": {
              "outlinewidth": 0,
              "ticks": ""
             }
            },
            "type": "scatter3d"
           }
          ],
          "scattercarpet": [
           {
            "marker": {
             "colorbar": {
              "outlinewidth": 0,
              "ticks": ""
             }
            },
            "type": "scattercarpet"
           }
          ],
          "scattergeo": [
           {
            "marker": {
             "colorbar": {
              "outlinewidth": 0,
              "ticks": ""
             }
            },
            "type": "scattergeo"
           }
          ],
          "scattergl": [
           {
            "marker": {
             "colorbar": {
              "outlinewidth": 0,
              "ticks": ""
             }
            },
            "type": "scattergl"
           }
          ],
          "scattermapbox": [
           {
            "marker": {
             "colorbar": {
              "outlinewidth": 0,
              "ticks": ""
             }
            },
            "type": "scattermapbox"
           }
          ],
          "scatterpolar": [
           {
            "marker": {
             "colorbar": {
              "outlinewidth": 0,
              "ticks": ""
             }
            },
            "type": "scatterpolar"
           }
          ],
          "scatterpolargl": [
           {
            "marker": {
             "colorbar": {
              "outlinewidth": 0,
              "ticks": ""
             }
            },
            "type": "scatterpolargl"
           }
          ],
          "scatterternary": [
           {
            "marker": {
             "colorbar": {
              "outlinewidth": 0,
              "ticks": ""
             }
            },
            "type": "scatterternary"
           }
          ],
          "surface": [
           {
            "colorbar": {
             "outlinewidth": 0,
             "ticks": ""
            },
            "colorscale": [
             [
              0,
              "#0d0887"
             ],
             [
              0.1111111111111111,
              "#46039f"
             ],
             [
              0.2222222222222222,
              "#7201a8"
             ],
             [
              0.3333333333333333,
              "#9c179e"
             ],
             [
              0.4444444444444444,
              "#bd3786"
             ],
             [
              0.5555555555555556,
              "#d8576b"
             ],
             [
              0.6666666666666666,
              "#ed7953"
             ],
             [
              0.7777777777777778,
              "#fb9f3a"
             ],
             [
              0.8888888888888888,
              "#fdca26"
             ],
             [
              1,
              "#f0f921"
             ]
            ],
            "type": "surface"
           }
          ],
          "table": [
           {
            "cells": {
             "fill": {
              "color": "#EBF0F8"
             },
             "line": {
              "color": "white"
             }
            },
            "header": {
             "fill": {
              "color": "#C8D4E3"
             },
             "line": {
              "color": "white"
             }
            },
            "type": "table"
           }
          ]
         },
         "layout": {
          "annotationdefaults": {
           "arrowcolor": "#2a3f5f",
           "arrowhead": 0,
           "arrowwidth": 1
          },
          "autotypenumbers": "strict",
          "coloraxis": {
           "colorbar": {
            "outlinewidth": 0,
            "ticks": ""
           }
          },
          "colorscale": {
           "diverging": [
            [
             0,
             "#8e0152"
            ],
            [
             0.1,
             "#c51b7d"
            ],
            [
             0.2,
             "#de77ae"
            ],
            [
             0.3,
             "#f1b6da"
            ],
            [
             0.4,
             "#fde0ef"
            ],
            [
             0.5,
             "#f7f7f7"
            ],
            [
             0.6,
             "#e6f5d0"
            ],
            [
             0.7,
             "#b8e186"
            ],
            [
             0.8,
             "#7fbc41"
            ],
            [
             0.9,
             "#4d9221"
            ],
            [
             1,
             "#276419"
            ]
           ],
           "sequential": [
            [
             0,
             "#0d0887"
            ],
            [
             0.1111111111111111,
             "#46039f"
            ],
            [
             0.2222222222222222,
             "#7201a8"
            ],
            [
             0.3333333333333333,
             "#9c179e"
            ],
            [
             0.4444444444444444,
             "#bd3786"
            ],
            [
             0.5555555555555556,
             "#d8576b"
            ],
            [
             0.6666666666666666,
             "#ed7953"
            ],
            [
             0.7777777777777778,
             "#fb9f3a"
            ],
            [
             0.8888888888888888,
             "#fdca26"
            ],
            [
             1,
             "#f0f921"
            ]
           ],
           "sequentialminus": [
            [
             0,
             "#0d0887"
            ],
            [
             0.1111111111111111,
             "#46039f"
            ],
            [
             0.2222222222222222,
             "#7201a8"
            ],
            [
             0.3333333333333333,
             "#9c179e"
            ],
            [
             0.4444444444444444,
             "#bd3786"
            ],
            [
             0.5555555555555556,
             "#d8576b"
            ],
            [
             0.6666666666666666,
             "#ed7953"
            ],
            [
             0.7777777777777778,
             "#fb9f3a"
            ],
            [
             0.8888888888888888,
             "#fdca26"
            ],
            [
             1,
             "#f0f921"
            ]
           ]
          },
          "colorway": [
           "#636efa",
           "#EF553B",
           "#00cc96",
           "#ab63fa",
           "#FFA15A",
           "#19d3f3",
           "#FF6692",
           "#B6E880",
           "#FF97FF",
           "#FECB52"
          ],
          "font": {
           "color": "#2a3f5f"
          },
          "geo": {
           "bgcolor": "white",
           "lakecolor": "white",
           "landcolor": "#E5ECF6",
           "showlakes": true,
           "showland": true,
           "subunitcolor": "white"
          },
          "hoverlabel": {
           "align": "left"
          },
          "hovermode": "closest",
          "mapbox": {
           "style": "light"
          },
          "paper_bgcolor": "white",
          "plot_bgcolor": "#E5ECF6",
          "polar": {
           "angularaxis": {
            "gridcolor": "white",
            "linecolor": "white",
            "ticks": ""
           },
           "bgcolor": "#E5ECF6",
           "radialaxis": {
            "gridcolor": "white",
            "linecolor": "white",
            "ticks": ""
           }
          },
          "scene": {
           "xaxis": {
            "backgroundcolor": "#E5ECF6",
            "gridcolor": "white",
            "gridwidth": 2,
            "linecolor": "white",
            "showbackground": true,
            "ticks": "",
            "zerolinecolor": "white"
           },
           "yaxis": {
            "backgroundcolor": "#E5ECF6",
            "gridcolor": "white",
            "gridwidth": 2,
            "linecolor": "white",
            "showbackground": true,
            "ticks": "",
            "zerolinecolor": "white"
           },
           "zaxis": {
            "backgroundcolor": "#E5ECF6",
            "gridcolor": "white",
            "gridwidth": 2,
            "linecolor": "white",
            "showbackground": true,
            "ticks": "",
            "zerolinecolor": "white"
           }
          },
          "shapedefaults": {
           "line": {
            "color": "#2a3f5f"
           }
          },
          "ternary": {
           "aaxis": {
            "gridcolor": "white",
            "linecolor": "white",
            "ticks": ""
           },
           "baxis": {
            "gridcolor": "white",
            "linecolor": "white",
            "ticks": ""
           },
           "bgcolor": "#E5ECF6",
           "caxis": {
            "gridcolor": "white",
            "linecolor": "white",
            "ticks": ""
           }
          },
          "title": {
           "x": 0.05
          },
          "xaxis": {
           "automargin": true,
           "gridcolor": "white",
           "linecolor": "white",
           "ticks": "",
           "title": {
            "standoff": 15
           },
           "zerolinecolor": "white",
           "zerolinewidth": 2
          },
          "yaxis": {
           "automargin": true,
           "gridcolor": "white",
           "linecolor": "white",
           "ticks": "",
           "title": {
            "standoff": 15
           },
           "zerolinecolor": "white",
           "zerolinewidth": 2
          }
         }
        },
        "title": {
         "text": "Nombre de campagnes acceptées par groupe d'âges"
        },
        "xaxis": {
         "anchor": "y",
         "domain": [
          0,
          1
         ],
         "title": {
          "text": "accepted_campaigns"
         }
        },
        "yaxis": {
         "anchor": "x",
         "domain": [
          0,
          1
         ],
         "title": {
          "text": "age_group"
         }
        }
       }
      }
     },
     "metadata": {},
     "output_type": "display_data"
    }
   ],
   "source": [
    "accepted_campaigns_per_age_group = data.groupby(\"age_group\")[\"accepted_campaigns\"].sum().reset_index()\n",
    "accepted_campaigns_per_age_group = accepted_campaigns_per_age_group.sort_values(\"accepted_campaigns\")\n",
    "px.bar(\n",
    "    accepted_campaigns_per_age_group,\n",
    "    x=\"accepted_campaigns\",\n",
    "    y=\"age_group\",\n",
    "    title=\"Nombre de campagnes acceptées par groupe d'âges\",\n",
    ")"
   ]
  },
  {
   "cell_type": "markdown",
   "metadata": {},
   "source": [
    "Les personnes entre 51 et 60 ans acceptent le plus de campagnes tandis que les plus jeunes (23 - 30) acceptent le moins."
   ]
  },
  {
   "cell_type": "markdown",
   "metadata": {},
   "source": [
    "#### Montant depensé selon le groupe d'âge"
   ]
  },
  {
   "cell_type": "code",
   "execution_count": 35,
   "metadata": {},
   "outputs": [
    {
     "data": {
      "text/html": [
       "<div>\n",
       "<style scoped>\n",
       "    .dataframe tbody tr th:only-of-type {\n",
       "        vertical-align: middle;\n",
       "    }\n",
       "\n",
       "    .dataframe tbody tr th {\n",
       "        vertical-align: top;\n",
       "    }\n",
       "\n",
       "    .dataframe thead th {\n",
       "        text-align: right;\n",
       "    }\n",
       "</style>\n",
       "<table border=\"1\" class=\"dataframe\">\n",
       "  <thead>\n",
       "    <tr style=\"text-align: right;\">\n",
       "      <th></th>\n",
       "      <th>age_group</th>\n",
       "      <th>Total_Amount_Spent</th>\n",
       "    </tr>\n",
       "  </thead>\n",
       "  <tbody>\n",
       "    <tr>\n",
       "      <th>3</th>\n",
       "      <td>51 - 60</td>\n",
       "      <td>367614</td>\n",
       "    </tr>\n",
       "    <tr>\n",
       "      <th>4</th>\n",
       "      <td>61 - 70</td>\n",
       "      <td>325334</td>\n",
       "    </tr>\n",
       "    <tr>\n",
       "      <th>2</th>\n",
       "      <td>41 - 50</td>\n",
       "      <td>300634</td>\n",
       "    </tr>\n",
       "    <tr>\n",
       "      <th>5</th>\n",
       "      <td>71 - 85</td>\n",
       "      <td>197264</td>\n",
       "    </tr>\n",
       "    <tr>\n",
       "      <th>1</th>\n",
       "      <td>31 - 40</td>\n",
       "      <td>138880</td>\n",
       "    </tr>\n",
       "    <tr>\n",
       "      <th>0</th>\n",
       "      <td>23 - 30</td>\n",
       "      <td>8316</td>\n",
       "    </tr>\n",
       "    <tr>\n",
       "      <th>6</th>\n",
       "      <td>Unknown</td>\n",
       "      <td>1940</td>\n",
       "    </tr>\n",
       "  </tbody>\n",
       "</table>\n",
       "</div>"
      ],
      "text/plain": [
       "  age_group  Total_Amount_Spent\n",
       "3   51 - 60              367614\n",
       "4   61 - 70              325334\n",
       "2   41 - 50              300634\n",
       "5   71 - 85              197264\n",
       "1   31 - 40              138880\n",
       "0   23 - 30                8316\n",
       "6   Unknown                1940"
      ]
     },
     "execution_count": 35,
     "metadata": {},
     "output_type": "execute_result"
    }
   ],
   "source": [
    "amount_spent_per_age = data.groupby(\"age_group\")[\"Total_Amount_Spent\"].sum().reset_index()\n",
    "amount_spent_per_age.sort_values(\"Total_Amount_Spent\", ascending=False)"
   ]
  },
  {
   "cell_type": "code",
   "execution_count": 36,
   "metadata": {},
   "outputs": [
    {
     "data": {
      "application/vnd.plotly.v1+json": {
       "config": {
        "plotlyServerURL": "https://plot.ly"
       },
       "data": [
        {
         "alignmentgroup": "True",
         "hovertemplate": "age_group=%{x}<br>Total_Amount_Spent=%{y}<extra></extra>",
         "legendgroup": "",
         "marker": {
          "color": "#636efa",
          "pattern": {
           "shape": ""
          }
         },
         "name": "",
         "offsetgroup": "",
         "orientation": "v",
         "showlegend": false,
         "textposition": "auto",
         "type": "bar",
         "x": [
          "23 - 30",
          "31 - 40",
          "41 - 50",
          "51 - 60",
          "61 - 70",
          "71 - 85",
          "Unknown"
         ],
         "xaxis": "x",
         "y": [
          8316,
          138880,
          300634,
          367614,
          325334,
          197264,
          1940
         ],
         "yaxis": "y"
        }
       ],
       "layout": {
        "barmode": "relative",
        "legend": {
         "tracegroupgap": 0
        },
        "template": {
         "data": {
          "bar": [
           {
            "error_x": {
             "color": "#2a3f5f"
            },
            "error_y": {
             "color": "#2a3f5f"
            },
            "marker": {
             "line": {
              "color": "#E5ECF6",
              "width": 0.5
             },
             "pattern": {
              "fillmode": "overlay",
              "size": 10,
              "solidity": 0.2
             }
            },
            "type": "bar"
           }
          ],
          "barpolar": [
           {
            "marker": {
             "line": {
              "color": "#E5ECF6",
              "width": 0.5
             },
             "pattern": {
              "fillmode": "overlay",
              "size": 10,
              "solidity": 0.2
             }
            },
            "type": "barpolar"
           }
          ],
          "carpet": [
           {
            "aaxis": {
             "endlinecolor": "#2a3f5f",
             "gridcolor": "white",
             "linecolor": "white",
             "minorgridcolor": "white",
             "startlinecolor": "#2a3f5f"
            },
            "baxis": {
             "endlinecolor": "#2a3f5f",
             "gridcolor": "white",
             "linecolor": "white",
             "minorgridcolor": "white",
             "startlinecolor": "#2a3f5f"
            },
            "type": "carpet"
           }
          ],
          "choropleth": [
           {
            "colorbar": {
             "outlinewidth": 0,
             "ticks": ""
            },
            "type": "choropleth"
           }
          ],
          "contour": [
           {
            "colorbar": {
             "outlinewidth": 0,
             "ticks": ""
            },
            "colorscale": [
             [
              0,
              "#0d0887"
             ],
             [
              0.1111111111111111,
              "#46039f"
             ],
             [
              0.2222222222222222,
              "#7201a8"
             ],
             [
              0.3333333333333333,
              "#9c179e"
             ],
             [
              0.4444444444444444,
              "#bd3786"
             ],
             [
              0.5555555555555556,
              "#d8576b"
             ],
             [
              0.6666666666666666,
              "#ed7953"
             ],
             [
              0.7777777777777778,
              "#fb9f3a"
             ],
             [
              0.8888888888888888,
              "#fdca26"
             ],
             [
              1,
              "#f0f921"
             ]
            ],
            "type": "contour"
           }
          ],
          "contourcarpet": [
           {
            "colorbar": {
             "outlinewidth": 0,
             "ticks": ""
            },
            "type": "contourcarpet"
           }
          ],
          "heatmap": [
           {
            "colorbar": {
             "outlinewidth": 0,
             "ticks": ""
            },
            "colorscale": [
             [
              0,
              "#0d0887"
             ],
             [
              0.1111111111111111,
              "#46039f"
             ],
             [
              0.2222222222222222,
              "#7201a8"
             ],
             [
              0.3333333333333333,
              "#9c179e"
             ],
             [
              0.4444444444444444,
              "#bd3786"
             ],
             [
              0.5555555555555556,
              "#d8576b"
             ],
             [
              0.6666666666666666,
              "#ed7953"
             ],
             [
              0.7777777777777778,
              "#fb9f3a"
             ],
             [
              0.8888888888888888,
              "#fdca26"
             ],
             [
              1,
              "#f0f921"
             ]
            ],
            "type": "heatmap"
           }
          ],
          "heatmapgl": [
           {
            "colorbar": {
             "outlinewidth": 0,
             "ticks": ""
            },
            "colorscale": [
             [
              0,
              "#0d0887"
             ],
             [
              0.1111111111111111,
              "#46039f"
             ],
             [
              0.2222222222222222,
              "#7201a8"
             ],
             [
              0.3333333333333333,
              "#9c179e"
             ],
             [
              0.4444444444444444,
              "#bd3786"
             ],
             [
              0.5555555555555556,
              "#d8576b"
             ],
             [
              0.6666666666666666,
              "#ed7953"
             ],
             [
              0.7777777777777778,
              "#fb9f3a"
             ],
             [
              0.8888888888888888,
              "#fdca26"
             ],
             [
              1,
              "#f0f921"
             ]
            ],
            "type": "heatmapgl"
           }
          ],
          "histogram": [
           {
            "marker": {
             "pattern": {
              "fillmode": "overlay",
              "size": 10,
              "solidity": 0.2
             }
            },
            "type": "histogram"
           }
          ],
          "histogram2d": [
           {
            "colorbar": {
             "outlinewidth": 0,
             "ticks": ""
            },
            "colorscale": [
             [
              0,
              "#0d0887"
             ],
             [
              0.1111111111111111,
              "#46039f"
             ],
             [
              0.2222222222222222,
              "#7201a8"
             ],
             [
              0.3333333333333333,
              "#9c179e"
             ],
             [
              0.4444444444444444,
              "#bd3786"
             ],
             [
              0.5555555555555556,
              "#d8576b"
             ],
             [
              0.6666666666666666,
              "#ed7953"
             ],
             [
              0.7777777777777778,
              "#fb9f3a"
             ],
             [
              0.8888888888888888,
              "#fdca26"
             ],
             [
              1,
              "#f0f921"
             ]
            ],
            "type": "histogram2d"
           }
          ],
          "histogram2dcontour": [
           {
            "colorbar": {
             "outlinewidth": 0,
             "ticks": ""
            },
            "colorscale": [
             [
              0,
              "#0d0887"
             ],
             [
              0.1111111111111111,
              "#46039f"
             ],
             [
              0.2222222222222222,
              "#7201a8"
             ],
             [
              0.3333333333333333,
              "#9c179e"
             ],
             [
              0.4444444444444444,
              "#bd3786"
             ],
             [
              0.5555555555555556,
              "#d8576b"
             ],
             [
              0.6666666666666666,
              "#ed7953"
             ],
             [
              0.7777777777777778,
              "#fb9f3a"
             ],
             [
              0.8888888888888888,
              "#fdca26"
             ],
             [
              1,
              "#f0f921"
             ]
            ],
            "type": "histogram2dcontour"
           }
          ],
          "mesh3d": [
           {
            "colorbar": {
             "outlinewidth": 0,
             "ticks": ""
            },
            "type": "mesh3d"
           }
          ],
          "parcoords": [
           {
            "line": {
             "colorbar": {
              "outlinewidth": 0,
              "ticks": ""
             }
            },
            "type": "parcoords"
           }
          ],
          "pie": [
           {
            "automargin": true,
            "type": "pie"
           }
          ],
          "scatter": [
           {
            "fillpattern": {
             "fillmode": "overlay",
             "size": 10,
             "solidity": 0.2
            },
            "type": "scatter"
           }
          ],
          "scatter3d": [
           {
            "line": {
             "colorbar": {
              "outlinewidth": 0,
              "ticks": ""
             }
            },
            "marker": {
             "colorbar": {
              "outlinewidth": 0,
              "ticks": ""
             }
            },
            "type": "scatter3d"
           }
          ],
          "scattercarpet": [
           {
            "marker": {
             "colorbar": {
              "outlinewidth": 0,
              "ticks": ""
             }
            },
            "type": "scattercarpet"
           }
          ],
          "scattergeo": [
           {
            "marker": {
             "colorbar": {
              "outlinewidth": 0,
              "ticks": ""
             }
            },
            "type": "scattergeo"
           }
          ],
          "scattergl": [
           {
            "marker": {
             "colorbar": {
              "outlinewidth": 0,
              "ticks": ""
             }
            },
            "type": "scattergl"
           }
          ],
          "scattermapbox": [
           {
            "marker": {
             "colorbar": {
              "outlinewidth": 0,
              "ticks": ""
             }
            },
            "type": "scattermapbox"
           }
          ],
          "scatterpolar": [
           {
            "marker": {
             "colorbar": {
              "outlinewidth": 0,
              "ticks": ""
             }
            },
            "type": "scatterpolar"
           }
          ],
          "scatterpolargl": [
           {
            "marker": {
             "colorbar": {
              "outlinewidth": 0,
              "ticks": ""
             }
            },
            "type": "scatterpolargl"
           }
          ],
          "scatterternary": [
           {
            "marker": {
             "colorbar": {
              "outlinewidth": 0,
              "ticks": ""
             }
            },
            "type": "scatterternary"
           }
          ],
          "surface": [
           {
            "colorbar": {
             "outlinewidth": 0,
             "ticks": ""
            },
            "colorscale": [
             [
              0,
              "#0d0887"
             ],
             [
              0.1111111111111111,
              "#46039f"
             ],
             [
              0.2222222222222222,
              "#7201a8"
             ],
             [
              0.3333333333333333,
              "#9c179e"
             ],
             [
              0.4444444444444444,
              "#bd3786"
             ],
             [
              0.5555555555555556,
              "#d8576b"
             ],
             [
              0.6666666666666666,
              "#ed7953"
             ],
             [
              0.7777777777777778,
              "#fb9f3a"
             ],
             [
              0.8888888888888888,
              "#fdca26"
             ],
             [
              1,
              "#f0f921"
             ]
            ],
            "type": "surface"
           }
          ],
          "table": [
           {
            "cells": {
             "fill": {
              "color": "#EBF0F8"
             },
             "line": {
              "color": "white"
             }
            },
            "header": {
             "fill": {
              "color": "#C8D4E3"
             },
             "line": {
              "color": "white"
             }
            },
            "type": "table"
           }
          ]
         },
         "layout": {
          "annotationdefaults": {
           "arrowcolor": "#2a3f5f",
           "arrowhead": 0,
           "arrowwidth": 1
          },
          "autotypenumbers": "strict",
          "coloraxis": {
           "colorbar": {
            "outlinewidth": 0,
            "ticks": ""
           }
          },
          "colorscale": {
           "diverging": [
            [
             0,
             "#8e0152"
            ],
            [
             0.1,
             "#c51b7d"
            ],
            [
             0.2,
             "#de77ae"
            ],
            [
             0.3,
             "#f1b6da"
            ],
            [
             0.4,
             "#fde0ef"
            ],
            [
             0.5,
             "#f7f7f7"
            ],
            [
             0.6,
             "#e6f5d0"
            ],
            [
             0.7,
             "#b8e186"
            ],
            [
             0.8,
             "#7fbc41"
            ],
            [
             0.9,
             "#4d9221"
            ],
            [
             1,
             "#276419"
            ]
           ],
           "sequential": [
            [
             0,
             "#0d0887"
            ],
            [
             0.1111111111111111,
             "#46039f"
            ],
            [
             0.2222222222222222,
             "#7201a8"
            ],
            [
             0.3333333333333333,
             "#9c179e"
            ],
            [
             0.4444444444444444,
             "#bd3786"
            ],
            [
             0.5555555555555556,
             "#d8576b"
            ],
            [
             0.6666666666666666,
             "#ed7953"
            ],
            [
             0.7777777777777778,
             "#fb9f3a"
            ],
            [
             0.8888888888888888,
             "#fdca26"
            ],
            [
             1,
             "#f0f921"
            ]
           ],
           "sequentialminus": [
            [
             0,
             "#0d0887"
            ],
            [
             0.1111111111111111,
             "#46039f"
            ],
            [
             0.2222222222222222,
             "#7201a8"
            ],
            [
             0.3333333333333333,
             "#9c179e"
            ],
            [
             0.4444444444444444,
             "#bd3786"
            ],
            [
             0.5555555555555556,
             "#d8576b"
            ],
            [
             0.6666666666666666,
             "#ed7953"
            ],
            [
             0.7777777777777778,
             "#fb9f3a"
            ],
            [
             0.8888888888888888,
             "#fdca26"
            ],
            [
             1,
             "#f0f921"
            ]
           ]
          },
          "colorway": [
           "#636efa",
           "#EF553B",
           "#00cc96",
           "#ab63fa",
           "#FFA15A",
           "#19d3f3",
           "#FF6692",
           "#B6E880",
           "#FF97FF",
           "#FECB52"
          ],
          "font": {
           "color": "#2a3f5f"
          },
          "geo": {
           "bgcolor": "white",
           "lakecolor": "white",
           "landcolor": "#E5ECF6",
           "showlakes": true,
           "showland": true,
           "subunitcolor": "white"
          },
          "hoverlabel": {
           "align": "left"
          },
          "hovermode": "closest",
          "mapbox": {
           "style": "light"
          },
          "paper_bgcolor": "white",
          "plot_bgcolor": "#E5ECF6",
          "polar": {
           "angularaxis": {
            "gridcolor": "white",
            "linecolor": "white",
            "ticks": ""
           },
           "bgcolor": "#E5ECF6",
           "radialaxis": {
            "gridcolor": "white",
            "linecolor": "white",
            "ticks": ""
           }
          },
          "scene": {
           "xaxis": {
            "backgroundcolor": "#E5ECF6",
            "gridcolor": "white",
            "gridwidth": 2,
            "linecolor": "white",
            "showbackground": true,
            "ticks": "",
            "zerolinecolor": "white"
           },
           "yaxis": {
            "backgroundcolor": "#E5ECF6",
            "gridcolor": "white",
            "gridwidth": 2,
            "linecolor": "white",
            "showbackground": true,
            "ticks": "",
            "zerolinecolor": "white"
           },
           "zaxis": {
            "backgroundcolor": "#E5ECF6",
            "gridcolor": "white",
            "gridwidth": 2,
            "linecolor": "white",
            "showbackground": true,
            "ticks": "",
            "zerolinecolor": "white"
           }
          },
          "shapedefaults": {
           "line": {
            "color": "#2a3f5f"
           }
          },
          "ternary": {
           "aaxis": {
            "gridcolor": "white",
            "linecolor": "white",
            "ticks": ""
           },
           "baxis": {
            "gridcolor": "white",
            "linecolor": "white",
            "ticks": ""
           },
           "bgcolor": "#E5ECF6",
           "caxis": {
            "gridcolor": "white",
            "linecolor": "white",
            "ticks": ""
           }
          },
          "title": {
           "x": 0.05
          },
          "xaxis": {
           "automargin": true,
           "gridcolor": "white",
           "linecolor": "white",
           "ticks": "",
           "title": {
            "standoff": 15
           },
           "zerolinecolor": "white",
           "zerolinewidth": 2
          },
          "yaxis": {
           "automargin": true,
           "gridcolor": "white",
           "linecolor": "white",
           "ticks": "",
           "title": {
            "standoff": 15
           },
           "zerolinecolor": "white",
           "zerolinewidth": 2
          }
         }
        },
        "title": {
         "text": "Montant total dépensé par groupe d'âge"
        },
        "xaxis": {
         "anchor": "y",
         "domain": [
          0,
          1
         ],
         "title": {
          "text": "age_group"
         }
        },
        "yaxis": {
         "anchor": "x",
         "domain": [
          0,
          1
         ],
         "title": {
          "text": "Total_Amount_Spent"
         }
        }
       }
      }
     },
     "metadata": {},
     "output_type": "display_data"
    }
   ],
   "source": [
    "fig = px.bar(x=\"age_group\", y=\"Total_Amount_Spent\", data_frame=amount_spent_per_age, title=\"Montant total dépensé par groupe d'âge\")\n",
    "fig.show()"
   ]
  },
  {
   "cell_type": "markdown",
   "metadata": {},
   "source": [
    "Les personnes qui ont entre 51 et 60 ans, en plus d'être le groupe qui accepte le plus les campagnes marketing est aussi celui qui dépense le plus."
   ]
  },
  {
   "cell_type": "markdown",
   "metadata": {},
   "source": [
    "#### Montant depensé selon le groupe d'âge pendant une campagne marketing\n",
    "\n",
    "On veut savoir quel groupe dépense le plus lorsqu'une campagne est en cours"
   ]
  },
  {
   "cell_type": "code",
   "execution_count": 37,
   "metadata": {},
   "outputs": [
    {
     "data": {
      "application/vnd.plotly.v1+json": {
       "config": {
        "plotlyServerURL": "https://plot.ly"
       },
       "data": [
        {
         "alignmentgroup": "True",
         "hovertemplate": "age_group=%{x}<br>Total_Amount_Spent=%{y}<extra></extra>",
         "legendgroup": "",
         "marker": {
          "color": "#636efa",
          "pattern": {
           "shape": ""
          }
         },
         "name": "",
         "offsetgroup": "",
         "orientation": "v",
         "showlegend": false,
         "textposition": "auto",
         "type": "bar",
         "x": [
          "23 - 30",
          "31 - 40",
          "41 - 50",
          "51 - 60",
          "61 - 70",
          "71 - 85",
          "Unknown"
         ],
         "xaxis": "x",
         "y": [
          4749,
          61087,
          111836,
          125135,
          118804,
          78558,
          1853
         ],
         "yaxis": "y"
        }
       ],
       "layout": {
        "barmode": "relative",
        "legend": {
         "tracegroupgap": 0
        },
        "template": {
         "data": {
          "bar": [
           {
            "error_x": {
             "color": "#2a3f5f"
            },
            "error_y": {
             "color": "#2a3f5f"
            },
            "marker": {
             "line": {
              "color": "#E5ECF6",
              "width": 0.5
             },
             "pattern": {
              "fillmode": "overlay",
              "size": 10,
              "solidity": 0.2
             }
            },
            "type": "bar"
           }
          ],
          "barpolar": [
           {
            "marker": {
             "line": {
              "color": "#E5ECF6",
              "width": 0.5
             },
             "pattern": {
              "fillmode": "overlay",
              "size": 10,
              "solidity": 0.2
             }
            },
            "type": "barpolar"
           }
          ],
          "carpet": [
           {
            "aaxis": {
             "endlinecolor": "#2a3f5f",
             "gridcolor": "white",
             "linecolor": "white",
             "minorgridcolor": "white",
             "startlinecolor": "#2a3f5f"
            },
            "baxis": {
             "endlinecolor": "#2a3f5f",
             "gridcolor": "white",
             "linecolor": "white",
             "minorgridcolor": "white",
             "startlinecolor": "#2a3f5f"
            },
            "type": "carpet"
           }
          ],
          "choropleth": [
           {
            "colorbar": {
             "outlinewidth": 0,
             "ticks": ""
            },
            "type": "choropleth"
           }
          ],
          "contour": [
           {
            "colorbar": {
             "outlinewidth": 0,
             "ticks": ""
            },
            "colorscale": [
             [
              0,
              "#0d0887"
             ],
             [
              0.1111111111111111,
              "#46039f"
             ],
             [
              0.2222222222222222,
              "#7201a8"
             ],
             [
              0.3333333333333333,
              "#9c179e"
             ],
             [
              0.4444444444444444,
              "#bd3786"
             ],
             [
              0.5555555555555556,
              "#d8576b"
             ],
             [
              0.6666666666666666,
              "#ed7953"
             ],
             [
              0.7777777777777778,
              "#fb9f3a"
             ],
             [
              0.8888888888888888,
              "#fdca26"
             ],
             [
              1,
              "#f0f921"
             ]
            ],
            "type": "contour"
           }
          ],
          "contourcarpet": [
           {
            "colorbar": {
             "outlinewidth": 0,
             "ticks": ""
            },
            "type": "contourcarpet"
           }
          ],
          "heatmap": [
           {
            "colorbar": {
             "outlinewidth": 0,
             "ticks": ""
            },
            "colorscale": [
             [
              0,
              "#0d0887"
             ],
             [
              0.1111111111111111,
              "#46039f"
             ],
             [
              0.2222222222222222,
              "#7201a8"
             ],
             [
              0.3333333333333333,
              "#9c179e"
             ],
             [
              0.4444444444444444,
              "#bd3786"
             ],
             [
              0.5555555555555556,
              "#d8576b"
             ],
             [
              0.6666666666666666,
              "#ed7953"
             ],
             [
              0.7777777777777778,
              "#fb9f3a"
             ],
             [
              0.8888888888888888,
              "#fdca26"
             ],
             [
              1,
              "#f0f921"
             ]
            ],
            "type": "heatmap"
           }
          ],
          "heatmapgl": [
           {
            "colorbar": {
             "outlinewidth": 0,
             "ticks": ""
            },
            "colorscale": [
             [
              0,
              "#0d0887"
             ],
             [
              0.1111111111111111,
              "#46039f"
             ],
             [
              0.2222222222222222,
              "#7201a8"
             ],
             [
              0.3333333333333333,
              "#9c179e"
             ],
             [
              0.4444444444444444,
              "#bd3786"
             ],
             [
              0.5555555555555556,
              "#d8576b"
             ],
             [
              0.6666666666666666,
              "#ed7953"
             ],
             [
              0.7777777777777778,
              "#fb9f3a"
             ],
             [
              0.8888888888888888,
              "#fdca26"
             ],
             [
              1,
              "#f0f921"
             ]
            ],
            "type": "heatmapgl"
           }
          ],
          "histogram": [
           {
            "marker": {
             "pattern": {
              "fillmode": "overlay",
              "size": 10,
              "solidity": 0.2
             }
            },
            "type": "histogram"
           }
          ],
          "histogram2d": [
           {
            "colorbar": {
             "outlinewidth": 0,
             "ticks": ""
            },
            "colorscale": [
             [
              0,
              "#0d0887"
             ],
             [
              0.1111111111111111,
              "#46039f"
             ],
             [
              0.2222222222222222,
              "#7201a8"
             ],
             [
              0.3333333333333333,
              "#9c179e"
             ],
             [
              0.4444444444444444,
              "#bd3786"
             ],
             [
              0.5555555555555556,
              "#d8576b"
             ],
             [
              0.6666666666666666,
              "#ed7953"
             ],
             [
              0.7777777777777778,
              "#fb9f3a"
             ],
             [
              0.8888888888888888,
              "#fdca26"
             ],
             [
              1,
              "#f0f921"
             ]
            ],
            "type": "histogram2d"
           }
          ],
          "histogram2dcontour": [
           {
            "colorbar": {
             "outlinewidth": 0,
             "ticks": ""
            },
            "colorscale": [
             [
              0,
              "#0d0887"
             ],
             [
              0.1111111111111111,
              "#46039f"
             ],
             [
              0.2222222222222222,
              "#7201a8"
             ],
             [
              0.3333333333333333,
              "#9c179e"
             ],
             [
              0.4444444444444444,
              "#bd3786"
             ],
             [
              0.5555555555555556,
              "#d8576b"
             ],
             [
              0.6666666666666666,
              "#ed7953"
             ],
             [
              0.7777777777777778,
              "#fb9f3a"
             ],
             [
              0.8888888888888888,
              "#fdca26"
             ],
             [
              1,
              "#f0f921"
             ]
            ],
            "type": "histogram2dcontour"
           }
          ],
          "mesh3d": [
           {
            "colorbar": {
             "outlinewidth": 0,
             "ticks": ""
            },
            "type": "mesh3d"
           }
          ],
          "parcoords": [
           {
            "line": {
             "colorbar": {
              "outlinewidth": 0,
              "ticks": ""
             }
            },
            "type": "parcoords"
           }
          ],
          "pie": [
           {
            "automargin": true,
            "type": "pie"
           }
          ],
          "scatter": [
           {
            "fillpattern": {
             "fillmode": "overlay",
             "size": 10,
             "solidity": 0.2
            },
            "type": "scatter"
           }
          ],
          "scatter3d": [
           {
            "line": {
             "colorbar": {
              "outlinewidth": 0,
              "ticks": ""
             }
            },
            "marker": {
             "colorbar": {
              "outlinewidth": 0,
              "ticks": ""
             }
            },
            "type": "scatter3d"
           }
          ],
          "scattercarpet": [
           {
            "marker": {
             "colorbar": {
              "outlinewidth": 0,
              "ticks": ""
             }
            },
            "type": "scattercarpet"
           }
          ],
          "scattergeo": [
           {
            "marker": {
             "colorbar": {
              "outlinewidth": 0,
              "ticks": ""
             }
            },
            "type": "scattergeo"
           }
          ],
          "scattergl": [
           {
            "marker": {
             "colorbar": {
              "outlinewidth": 0,
              "ticks": ""
             }
            },
            "type": "scattergl"
           }
          ],
          "scattermapbox": [
           {
            "marker": {
             "colorbar": {
              "outlinewidth": 0,
              "ticks": ""
             }
            },
            "type": "scattermapbox"
           }
          ],
          "scatterpolar": [
           {
            "marker": {
             "colorbar": {
              "outlinewidth": 0,
              "ticks": ""
             }
            },
            "type": "scatterpolar"
           }
          ],
          "scatterpolargl": [
           {
            "marker": {
             "colorbar": {
              "outlinewidth": 0,
              "ticks": ""
             }
            },
            "type": "scatterpolargl"
           }
          ],
          "scatterternary": [
           {
            "marker": {
             "colorbar": {
              "outlinewidth": 0,
              "ticks": ""
             }
            },
            "type": "scatterternary"
           }
          ],
          "surface": [
           {
            "colorbar": {
             "outlinewidth": 0,
             "ticks": ""
            },
            "colorscale": [
             [
              0,
              "#0d0887"
             ],
             [
              0.1111111111111111,
              "#46039f"
             ],
             [
              0.2222222222222222,
              "#7201a8"
             ],
             [
              0.3333333333333333,
              "#9c179e"
             ],
             [
              0.4444444444444444,
              "#bd3786"
             ],
             [
              0.5555555555555556,
              "#d8576b"
             ],
             [
              0.6666666666666666,
              "#ed7953"
             ],
             [
              0.7777777777777778,
              "#fb9f3a"
             ],
             [
              0.8888888888888888,
              "#fdca26"
             ],
             [
              1,
              "#f0f921"
             ]
            ],
            "type": "surface"
           }
          ],
          "table": [
           {
            "cells": {
             "fill": {
              "color": "#EBF0F8"
             },
             "line": {
              "color": "white"
             }
            },
            "header": {
             "fill": {
              "color": "#C8D4E3"
             },
             "line": {
              "color": "white"
             }
            },
            "type": "table"
           }
          ]
         },
         "layout": {
          "annotationdefaults": {
           "arrowcolor": "#2a3f5f",
           "arrowhead": 0,
           "arrowwidth": 1
          },
          "autotypenumbers": "strict",
          "coloraxis": {
           "colorbar": {
            "outlinewidth": 0,
            "ticks": ""
           }
          },
          "colorscale": {
           "diverging": [
            [
             0,
             "#8e0152"
            ],
            [
             0.1,
             "#c51b7d"
            ],
            [
             0.2,
             "#de77ae"
            ],
            [
             0.3,
             "#f1b6da"
            ],
            [
             0.4,
             "#fde0ef"
            ],
            [
             0.5,
             "#f7f7f7"
            ],
            [
             0.6,
             "#e6f5d0"
            ],
            [
             0.7,
             "#b8e186"
            ],
            [
             0.8,
             "#7fbc41"
            ],
            [
             0.9,
             "#4d9221"
            ],
            [
             1,
             "#276419"
            ]
           ],
           "sequential": [
            [
             0,
             "#0d0887"
            ],
            [
             0.1111111111111111,
             "#46039f"
            ],
            [
             0.2222222222222222,
             "#7201a8"
            ],
            [
             0.3333333333333333,
             "#9c179e"
            ],
            [
             0.4444444444444444,
             "#bd3786"
            ],
            [
             0.5555555555555556,
             "#d8576b"
            ],
            [
             0.6666666666666666,
             "#ed7953"
            ],
            [
             0.7777777777777778,
             "#fb9f3a"
            ],
            [
             0.8888888888888888,
             "#fdca26"
            ],
            [
             1,
             "#f0f921"
            ]
           ],
           "sequentialminus": [
            [
             0,
             "#0d0887"
            ],
            [
             0.1111111111111111,
             "#46039f"
            ],
            [
             0.2222222222222222,
             "#7201a8"
            ],
            [
             0.3333333333333333,
             "#9c179e"
            ],
            [
             0.4444444444444444,
             "#bd3786"
            ],
            [
             0.5555555555555556,
             "#d8576b"
            ],
            [
             0.6666666666666666,
             "#ed7953"
            ],
            [
             0.7777777777777778,
             "#fb9f3a"
            ],
            [
             0.8888888888888888,
             "#fdca26"
            ],
            [
             1,
             "#f0f921"
            ]
           ]
          },
          "colorway": [
           "#636efa",
           "#EF553B",
           "#00cc96",
           "#ab63fa",
           "#FFA15A",
           "#19d3f3",
           "#FF6692",
           "#B6E880",
           "#FF97FF",
           "#FECB52"
          ],
          "font": {
           "color": "#2a3f5f"
          },
          "geo": {
           "bgcolor": "white",
           "lakecolor": "white",
           "landcolor": "#E5ECF6",
           "showlakes": true,
           "showland": true,
           "subunitcolor": "white"
          },
          "hoverlabel": {
           "align": "left"
          },
          "hovermode": "closest",
          "mapbox": {
           "style": "light"
          },
          "paper_bgcolor": "white",
          "plot_bgcolor": "#E5ECF6",
          "polar": {
           "angularaxis": {
            "gridcolor": "white",
            "linecolor": "white",
            "ticks": ""
           },
           "bgcolor": "#E5ECF6",
           "radialaxis": {
            "gridcolor": "white",
            "linecolor": "white",
            "ticks": ""
           }
          },
          "scene": {
           "xaxis": {
            "backgroundcolor": "#E5ECF6",
            "gridcolor": "white",
            "gridwidth": 2,
            "linecolor": "white",
            "showbackground": true,
            "ticks": "",
            "zerolinecolor": "white"
           },
           "yaxis": {
            "backgroundcolor": "#E5ECF6",
            "gridcolor": "white",
            "gridwidth": 2,
            "linecolor": "white",
            "showbackground": true,
            "ticks": "",
            "zerolinecolor": "white"
           },
           "zaxis": {
            "backgroundcolor": "#E5ECF6",
            "gridcolor": "white",
            "gridwidth": 2,
            "linecolor": "white",
            "showbackground": true,
            "ticks": "",
            "zerolinecolor": "white"
           }
          },
          "shapedefaults": {
           "line": {
            "color": "#2a3f5f"
           }
          },
          "ternary": {
           "aaxis": {
            "gridcolor": "white",
            "linecolor": "white",
            "ticks": ""
           },
           "baxis": {
            "gridcolor": "white",
            "linecolor": "white",
            "ticks": ""
           },
           "bgcolor": "#E5ECF6",
           "caxis": {
            "gridcolor": "white",
            "linecolor": "white",
            "ticks": ""
           }
          },
          "title": {
           "x": 0.05
          },
          "xaxis": {
           "automargin": true,
           "gridcolor": "white",
           "linecolor": "white",
           "ticks": "",
           "title": {
            "standoff": 15
           },
           "zerolinecolor": "white",
           "zerolinewidth": 2
          },
          "yaxis": {
           "automargin": true,
           "gridcolor": "white",
           "linecolor": "white",
           "ticks": "",
           "title": {
            "standoff": 15
           },
           "zerolinecolor": "white",
           "zerolinewidth": 2
          }
         }
        },
        "title": {
         "text": "Montant total dépensé par groupe d'âge pendant campagnes marketing"
        },
        "xaxis": {
         "anchor": "y",
         "domain": [
          0,
          1
         ],
         "title": {
          "text": "age_group"
         }
        },
        "yaxis": {
         "anchor": "x",
         "domain": [
          0,
          1
         ],
         "title": {
          "text": "Total_Amount_Spent"
         }
        }
       }
      }
     },
     "metadata": {},
     "output_type": "display_data"
    }
   ],
   "source": [
    "acc_cmp = data[data[\"accepted_campaigns\"] != 0]\n",
    "\n",
    "amount_spent_cmp = (\n",
    "    acc_cmp.groupby(\"age_group\")[\"Total_Amount_Spent\"]\n",
    "    .sum()\n",
    "    .reset_index()\n",
    "    .sort_values(by=\"age_group\")\n",
    ")\n",
    "\n",
    "px.bar(\n",
    "    amount_spent_cmp,\n",
    "    x=\"age_group\",\n",
    "    y=\"Total_Amount_Spent\",\n",
    "    title=\"Montant total dépensé par groupe d'âge pendant campagnes marketing\",\n",
    ")\n"
   ]
  },
  {
   "cell_type": "markdown",
   "metadata": {},
   "source": [
    "On a sensiblement la même observation que plus. Seulement, ici, les écarts entre le groupe 51 - 60 ans et les groupes 41 - 50 ans et 61 - 70 ans se réduit."
   ]
  },
  {
   "cell_type": "markdown",
   "metadata": {},
   "source": [
    "#### Est-ce que ceux qui ont des enfants dépensent plus que les autres ?"
   ]
  },
  {
   "cell_type": "code",
   "execution_count": 38,
   "metadata": {},
   "outputs": [
    {
     "data": {
      "application/vnd.plotly.v1+json": {
       "config": {
        "plotlyServerURL": "https://plot.ly"
       },
       "data": [
        {
         "alignmentgroup": "True",
         "hovertemplate": "Is_Parent=%{marker.color}<br>Total_Amount_Spent=%{y}<extra></extra>",
         "legendgroup": "",
         "marker": {
          "color": [
           0,
           1
          ],
          "coloraxis": "coloraxis",
          "pattern": {
           "shape": ""
          }
         },
         "name": "",
         "offsetgroup": "",
         "orientation": "v",
         "showlegend": false,
         "textposition": "auto",
         "type": "bar",
         "x": [
          0,
          1
         ],
         "xaxis": "x",
         "y": [
          341574,
          160448
         ],
         "yaxis": "y"
        }
       ],
       "layout": {
        "barmode": "relative",
        "coloraxis": {
         "colorbar": {
          "title": {
           "text": "Is_Parent"
          }
         },
         "colorscale": [
          [
           0,
           "#0d0887"
          ],
          [
           0.1111111111111111,
           "#46039f"
          ],
          [
           0.2222222222222222,
           "#7201a8"
          ],
          [
           0.3333333333333333,
           "#9c179e"
          ],
          [
           0.4444444444444444,
           "#bd3786"
          ],
          [
           0.5555555555555556,
           "#d8576b"
          ],
          [
           0.6666666666666666,
           "#ed7953"
          ],
          [
           0.7777777777777778,
           "#fb9f3a"
          ],
          [
           0.8888888888888888,
           "#fdca26"
          ],
          [
           1,
           "#f0f921"
          ]
         ]
        },
        "legend": {
         "tracegroupgap": 0
        },
        "template": {
         "data": {
          "bar": [
           {
            "error_x": {
             "color": "#2a3f5f"
            },
            "error_y": {
             "color": "#2a3f5f"
            },
            "marker": {
             "line": {
              "color": "#E5ECF6",
              "width": 0.5
             },
             "pattern": {
              "fillmode": "overlay",
              "size": 10,
              "solidity": 0.2
             }
            },
            "type": "bar"
           }
          ],
          "barpolar": [
           {
            "marker": {
             "line": {
              "color": "#E5ECF6",
              "width": 0.5
             },
             "pattern": {
              "fillmode": "overlay",
              "size": 10,
              "solidity": 0.2
             }
            },
            "type": "barpolar"
           }
          ],
          "carpet": [
           {
            "aaxis": {
             "endlinecolor": "#2a3f5f",
             "gridcolor": "white",
             "linecolor": "white",
             "minorgridcolor": "white",
             "startlinecolor": "#2a3f5f"
            },
            "baxis": {
             "endlinecolor": "#2a3f5f",
             "gridcolor": "white",
             "linecolor": "white",
             "minorgridcolor": "white",
             "startlinecolor": "#2a3f5f"
            },
            "type": "carpet"
           }
          ],
          "choropleth": [
           {
            "colorbar": {
             "outlinewidth": 0,
             "ticks": ""
            },
            "type": "choropleth"
           }
          ],
          "contour": [
           {
            "colorbar": {
             "outlinewidth": 0,
             "ticks": ""
            },
            "colorscale": [
             [
              0,
              "#0d0887"
             ],
             [
              0.1111111111111111,
              "#46039f"
             ],
             [
              0.2222222222222222,
              "#7201a8"
             ],
             [
              0.3333333333333333,
              "#9c179e"
             ],
             [
              0.4444444444444444,
              "#bd3786"
             ],
             [
              0.5555555555555556,
              "#d8576b"
             ],
             [
              0.6666666666666666,
              "#ed7953"
             ],
             [
              0.7777777777777778,
              "#fb9f3a"
             ],
             [
              0.8888888888888888,
              "#fdca26"
             ],
             [
              1,
              "#f0f921"
             ]
            ],
            "type": "contour"
           }
          ],
          "contourcarpet": [
           {
            "colorbar": {
             "outlinewidth": 0,
             "ticks": ""
            },
            "type": "contourcarpet"
           }
          ],
          "heatmap": [
           {
            "colorbar": {
             "outlinewidth": 0,
             "ticks": ""
            },
            "colorscale": [
             [
              0,
              "#0d0887"
             ],
             [
              0.1111111111111111,
              "#46039f"
             ],
             [
              0.2222222222222222,
              "#7201a8"
             ],
             [
              0.3333333333333333,
              "#9c179e"
             ],
             [
              0.4444444444444444,
              "#bd3786"
             ],
             [
              0.5555555555555556,
              "#d8576b"
             ],
             [
              0.6666666666666666,
              "#ed7953"
             ],
             [
              0.7777777777777778,
              "#fb9f3a"
             ],
             [
              0.8888888888888888,
              "#fdca26"
             ],
             [
              1,
              "#f0f921"
             ]
            ],
            "type": "heatmap"
           }
          ],
          "heatmapgl": [
           {
            "colorbar": {
             "outlinewidth": 0,
             "ticks": ""
            },
            "colorscale": [
             [
              0,
              "#0d0887"
             ],
             [
              0.1111111111111111,
              "#46039f"
             ],
             [
              0.2222222222222222,
              "#7201a8"
             ],
             [
              0.3333333333333333,
              "#9c179e"
             ],
             [
              0.4444444444444444,
              "#bd3786"
             ],
             [
              0.5555555555555556,
              "#d8576b"
             ],
             [
              0.6666666666666666,
              "#ed7953"
             ],
             [
              0.7777777777777778,
              "#fb9f3a"
             ],
             [
              0.8888888888888888,
              "#fdca26"
             ],
             [
              1,
              "#f0f921"
             ]
            ],
            "type": "heatmapgl"
           }
          ],
          "histogram": [
           {
            "marker": {
             "pattern": {
              "fillmode": "overlay",
              "size": 10,
              "solidity": 0.2
             }
            },
            "type": "histogram"
           }
          ],
          "histogram2d": [
           {
            "colorbar": {
             "outlinewidth": 0,
             "ticks": ""
            },
            "colorscale": [
             [
              0,
              "#0d0887"
             ],
             [
              0.1111111111111111,
              "#46039f"
             ],
             [
              0.2222222222222222,
              "#7201a8"
             ],
             [
              0.3333333333333333,
              "#9c179e"
             ],
             [
              0.4444444444444444,
              "#bd3786"
             ],
             [
              0.5555555555555556,
              "#d8576b"
             ],
             [
              0.6666666666666666,
              "#ed7953"
             ],
             [
              0.7777777777777778,
              "#fb9f3a"
             ],
             [
              0.8888888888888888,
              "#fdca26"
             ],
             [
              1,
              "#f0f921"
             ]
            ],
            "type": "histogram2d"
           }
          ],
          "histogram2dcontour": [
           {
            "colorbar": {
             "outlinewidth": 0,
             "ticks": ""
            },
            "colorscale": [
             [
              0,
              "#0d0887"
             ],
             [
              0.1111111111111111,
              "#46039f"
             ],
             [
              0.2222222222222222,
              "#7201a8"
             ],
             [
              0.3333333333333333,
              "#9c179e"
             ],
             [
              0.4444444444444444,
              "#bd3786"
             ],
             [
              0.5555555555555556,
              "#d8576b"
             ],
             [
              0.6666666666666666,
              "#ed7953"
             ],
             [
              0.7777777777777778,
              "#fb9f3a"
             ],
             [
              0.8888888888888888,
              "#fdca26"
             ],
             [
              1,
              "#f0f921"
             ]
            ],
            "type": "histogram2dcontour"
           }
          ],
          "mesh3d": [
           {
            "colorbar": {
             "outlinewidth": 0,
             "ticks": ""
            },
            "type": "mesh3d"
           }
          ],
          "parcoords": [
           {
            "line": {
             "colorbar": {
              "outlinewidth": 0,
              "ticks": ""
             }
            },
            "type": "parcoords"
           }
          ],
          "pie": [
           {
            "automargin": true,
            "type": "pie"
           }
          ],
          "scatter": [
           {
            "fillpattern": {
             "fillmode": "overlay",
             "size": 10,
             "solidity": 0.2
            },
            "type": "scatter"
           }
          ],
          "scatter3d": [
           {
            "line": {
             "colorbar": {
              "outlinewidth": 0,
              "ticks": ""
             }
            },
            "marker": {
             "colorbar": {
              "outlinewidth": 0,
              "ticks": ""
             }
            },
            "type": "scatter3d"
           }
          ],
          "scattercarpet": [
           {
            "marker": {
             "colorbar": {
              "outlinewidth": 0,
              "ticks": ""
             }
            },
            "type": "scattercarpet"
           }
          ],
          "scattergeo": [
           {
            "marker": {
             "colorbar": {
              "outlinewidth": 0,
              "ticks": ""
             }
            },
            "type": "scattergeo"
           }
          ],
          "scattergl": [
           {
            "marker": {
             "colorbar": {
              "outlinewidth": 0,
              "ticks": ""
             }
            },
            "type": "scattergl"
           }
          ],
          "scattermapbox": [
           {
            "marker": {
             "colorbar": {
              "outlinewidth": 0,
              "ticks": ""
             }
            },
            "type": "scattermapbox"
           }
          ],
          "scatterpolar": [
           {
            "marker": {
             "colorbar": {
              "outlinewidth": 0,
              "ticks": ""
             }
            },
            "type": "scatterpolar"
           }
          ],
          "scatterpolargl": [
           {
            "marker": {
             "colorbar": {
              "outlinewidth": 0,
              "ticks": ""
             }
            },
            "type": "scatterpolargl"
           }
          ],
          "scatterternary": [
           {
            "marker": {
             "colorbar": {
              "outlinewidth": 0,
              "ticks": ""
             }
            },
            "type": "scatterternary"
           }
          ],
          "surface": [
           {
            "colorbar": {
             "outlinewidth": 0,
             "ticks": ""
            },
            "colorscale": [
             [
              0,
              "#0d0887"
             ],
             [
              0.1111111111111111,
              "#46039f"
             ],
             [
              0.2222222222222222,
              "#7201a8"
             ],
             [
              0.3333333333333333,
              "#9c179e"
             ],
             [
              0.4444444444444444,
              "#bd3786"
             ],
             [
              0.5555555555555556,
              "#d8576b"
             ],
             [
              0.6666666666666666,
              "#ed7953"
             ],
             [
              0.7777777777777778,
              "#fb9f3a"
             ],
             [
              0.8888888888888888,
              "#fdca26"
             ],
             [
              1,
              "#f0f921"
             ]
            ],
            "type": "surface"
           }
          ],
          "table": [
           {
            "cells": {
             "fill": {
              "color": "#EBF0F8"
             },
             "line": {
              "color": "white"
             }
            },
            "header": {
             "fill": {
              "color": "#C8D4E3"
             },
             "line": {
              "color": "white"
             }
            },
            "type": "table"
           }
          ]
         },
         "layout": {
          "annotationdefaults": {
           "arrowcolor": "#2a3f5f",
           "arrowhead": 0,
           "arrowwidth": 1
          },
          "autotypenumbers": "strict",
          "coloraxis": {
           "colorbar": {
            "outlinewidth": 0,
            "ticks": ""
           }
          },
          "colorscale": {
           "diverging": [
            [
             0,
             "#8e0152"
            ],
            [
             0.1,
             "#c51b7d"
            ],
            [
             0.2,
             "#de77ae"
            ],
            [
             0.3,
             "#f1b6da"
            ],
            [
             0.4,
             "#fde0ef"
            ],
            [
             0.5,
             "#f7f7f7"
            ],
            [
             0.6,
             "#e6f5d0"
            ],
            [
             0.7,
             "#b8e186"
            ],
            [
             0.8,
             "#7fbc41"
            ],
            [
             0.9,
             "#4d9221"
            ],
            [
             1,
             "#276419"
            ]
           ],
           "sequential": [
            [
             0,
             "#0d0887"
            ],
            [
             0.1111111111111111,
             "#46039f"
            ],
            [
             0.2222222222222222,
             "#7201a8"
            ],
            [
             0.3333333333333333,
             "#9c179e"
            ],
            [
             0.4444444444444444,
             "#bd3786"
            ],
            [
             0.5555555555555556,
             "#d8576b"
            ],
            [
             0.6666666666666666,
             "#ed7953"
            ],
            [
             0.7777777777777778,
             "#fb9f3a"
            ],
            [
             0.8888888888888888,
             "#fdca26"
            ],
            [
             1,
             "#f0f921"
            ]
           ],
           "sequentialminus": [
            [
             0,
             "#0d0887"
            ],
            [
             0.1111111111111111,
             "#46039f"
            ],
            [
             0.2222222222222222,
             "#7201a8"
            ],
            [
             0.3333333333333333,
             "#9c179e"
            ],
            [
             0.4444444444444444,
             "#bd3786"
            ],
            [
             0.5555555555555556,
             "#d8576b"
            ],
            [
             0.6666666666666666,
             "#ed7953"
            ],
            [
             0.7777777777777778,
             "#fb9f3a"
            ],
            [
             0.8888888888888888,
             "#fdca26"
            ],
            [
             1,
             "#f0f921"
            ]
           ]
          },
          "colorway": [
           "#636efa",
           "#EF553B",
           "#00cc96",
           "#ab63fa",
           "#FFA15A",
           "#19d3f3",
           "#FF6692",
           "#B6E880",
           "#FF97FF",
           "#FECB52"
          ],
          "font": {
           "color": "#2a3f5f"
          },
          "geo": {
           "bgcolor": "white",
           "lakecolor": "white",
           "landcolor": "#E5ECF6",
           "showlakes": true,
           "showland": true,
           "subunitcolor": "white"
          },
          "hoverlabel": {
           "align": "left"
          },
          "hovermode": "closest",
          "mapbox": {
           "style": "light"
          },
          "paper_bgcolor": "white",
          "plot_bgcolor": "#E5ECF6",
          "polar": {
           "angularaxis": {
            "gridcolor": "white",
            "linecolor": "white",
            "ticks": ""
           },
           "bgcolor": "#E5ECF6",
           "radialaxis": {
            "gridcolor": "white",
            "linecolor": "white",
            "ticks": ""
           }
          },
          "scene": {
           "xaxis": {
            "backgroundcolor": "#E5ECF6",
            "gridcolor": "white",
            "gridwidth": 2,
            "linecolor": "white",
            "showbackground": true,
            "ticks": "",
            "zerolinecolor": "white"
           },
           "yaxis": {
            "backgroundcolor": "#E5ECF6",
            "gridcolor": "white",
            "gridwidth": 2,
            "linecolor": "white",
            "showbackground": true,
            "ticks": "",
            "zerolinecolor": "white"
           },
           "zaxis": {
            "backgroundcolor": "#E5ECF6",
            "gridcolor": "white",
            "gridwidth": 2,
            "linecolor": "white",
            "showbackground": true,
            "ticks": "",
            "zerolinecolor": "white"
           }
          },
          "shapedefaults": {
           "line": {
            "color": "#2a3f5f"
           }
          },
          "ternary": {
           "aaxis": {
            "gridcolor": "white",
            "linecolor": "white",
            "ticks": ""
           },
           "baxis": {
            "gridcolor": "white",
            "linecolor": "white",
            "ticks": ""
           },
           "bgcolor": "#E5ECF6",
           "caxis": {
            "gridcolor": "white",
            "linecolor": "white",
            "ticks": ""
           }
          },
          "title": {
           "x": 0.05
          },
          "xaxis": {
           "automargin": true,
           "gridcolor": "white",
           "linecolor": "white",
           "ticks": "",
           "title": {
            "standoff": 15
           },
           "zerolinecolor": "white",
           "zerolinewidth": 2
          },
          "yaxis": {
           "automargin": true,
           "gridcolor": "white",
           "linecolor": "white",
           "ticks": "",
           "title": {
            "standoff": 15
           },
           "zerolinecolor": "white",
           "zerolinewidth": 2
          }
         }
        },
        "title": {
         "text": "Montant total dépensé par les parents pendant les campagnes marketing"
        },
        "xaxis": {
         "anchor": "y",
         "domain": [
          0,
          1
         ],
         "title": {
          "text": "Is_Parent"
         }
        },
        "yaxis": {
         "anchor": "x",
         "domain": [
          0,
          1
         ],
         "title": {
          "text": "Total_Amount_Spent"
         }
        }
       }
      }
     },
     "metadata": {},
     "output_type": "display_data"
    }
   ],
   "source": [
    "acc_cmp_spent_parent = acc_cmp.groupby(\"Is_Parent\")[\"Total_Amount_Spent\"].sum().reset_index()\n",
    "px.bar(acc_cmp_spent_parent, x=\"Is_Parent\", y=\"Total_Amount_Spent\", title=\"Montant total dépensé par les parents pendant les campagnes marketing\", color=\"Is_Parent\")"
   ]
  },
  {
   "cell_type": "markdown",
   "metadata": {},
   "source": [
    "durant les campagnes, ceux qui ont des enfants dépensent moins que ceux qui n'en ont pas."
   ]
  },
  {
   "cell_type": "markdown",
   "metadata": {},
   "source": [
    "#### Le niveau d'éducation a-t-il un impact sur les dépenses ?"
   ]
  },
  {
   "cell_type": "code",
   "execution_count": 39,
   "metadata": {},
   "outputs": [
    {
     "data": {
      "application/vnd.plotly.v1+json": {
       "config": {
        "plotlyServerURL": "https://plot.ly"
       },
       "data": [
        {
         "alignmentgroup": "True",
         "hovertemplate": "Education_level=%{x}<br>Total_Amount_Spent=%{y}<extra></extra>",
         "legendgroup": "Low",
         "marker": {
          "color": "#636efa",
          "pattern": {
           "shape": ""
          }
         },
         "name": "Low",
         "offsetgroup": "Low",
         "orientation": "v",
         "showlegend": true,
         "textposition": "auto",
         "type": "bar",
         "x": [
          "Low"
         ],
         "xaxis": "x",
         "y": [
          156883
         ],
         "yaxis": "y"
        },
        {
         "alignmentgroup": "True",
         "hovertemplate": "Education_level=%{x}<br>Total_Amount_Spent=%{y}<extra></extra>",
         "legendgroup": "Middle",
         "marker": {
          "color": "#EF553B",
          "pattern": {
           "shape": ""
          }
         },
         "name": "Middle",
         "offsetgroup": "Middle",
         "orientation": "v",
         "showlegend": true,
         "textposition": "auto",
         "type": "bar",
         "x": [
          "Middle"
         ],
         "xaxis": "x",
         "y": [
          314
         ],
         "yaxis": "y"
        },
        {
         "alignmentgroup": "True",
         "hovertemplate": "Education_level=%{x}<br>Total_Amount_Spent=%{y}<extra></extra>",
         "legendgroup": "high",
         "marker": {
          "color": "#00cc96",
          "pattern": {
           "shape": ""
          }
         },
         "name": "high",
         "offsetgroup": "high",
         "orientation": "v",
         "showlegend": true,
         "textposition": "auto",
         "type": "bar",
         "x": [
          "high"
         ],
         "xaxis": "x",
         "y": [
          344825
         ],
         "yaxis": "y"
        }
       ],
       "layout": {
        "barmode": "relative",
        "legend": {
         "title": {
          "text": "Education_level"
         },
         "tracegroupgap": 0
        },
        "template": {
         "data": {
          "bar": [
           {
            "error_x": {
             "color": "#2a3f5f"
            },
            "error_y": {
             "color": "#2a3f5f"
            },
            "marker": {
             "line": {
              "color": "#E5ECF6",
              "width": 0.5
             },
             "pattern": {
              "fillmode": "overlay",
              "size": 10,
              "solidity": 0.2
             }
            },
            "type": "bar"
           }
          ],
          "barpolar": [
           {
            "marker": {
             "line": {
              "color": "#E5ECF6",
              "width": 0.5
             },
             "pattern": {
              "fillmode": "overlay",
              "size": 10,
              "solidity": 0.2
             }
            },
            "type": "barpolar"
           }
          ],
          "carpet": [
           {
            "aaxis": {
             "endlinecolor": "#2a3f5f",
             "gridcolor": "white",
             "linecolor": "white",
             "minorgridcolor": "white",
             "startlinecolor": "#2a3f5f"
            },
            "baxis": {
             "endlinecolor": "#2a3f5f",
             "gridcolor": "white",
             "linecolor": "white",
             "minorgridcolor": "white",
             "startlinecolor": "#2a3f5f"
            },
            "type": "carpet"
           }
          ],
          "choropleth": [
           {
            "colorbar": {
             "outlinewidth": 0,
             "ticks": ""
            },
            "type": "choropleth"
           }
          ],
          "contour": [
           {
            "colorbar": {
             "outlinewidth": 0,
             "ticks": ""
            },
            "colorscale": [
             [
              0,
              "#0d0887"
             ],
             [
              0.1111111111111111,
              "#46039f"
             ],
             [
              0.2222222222222222,
              "#7201a8"
             ],
             [
              0.3333333333333333,
              "#9c179e"
             ],
             [
              0.4444444444444444,
              "#bd3786"
             ],
             [
              0.5555555555555556,
              "#d8576b"
             ],
             [
              0.6666666666666666,
              "#ed7953"
             ],
             [
              0.7777777777777778,
              "#fb9f3a"
             ],
             [
              0.8888888888888888,
              "#fdca26"
             ],
             [
              1,
              "#f0f921"
             ]
            ],
            "type": "contour"
           }
          ],
          "contourcarpet": [
           {
            "colorbar": {
             "outlinewidth": 0,
             "ticks": ""
            },
            "type": "contourcarpet"
           }
          ],
          "heatmap": [
           {
            "colorbar": {
             "outlinewidth": 0,
             "ticks": ""
            },
            "colorscale": [
             [
              0,
              "#0d0887"
             ],
             [
              0.1111111111111111,
              "#46039f"
             ],
             [
              0.2222222222222222,
              "#7201a8"
             ],
             [
              0.3333333333333333,
              "#9c179e"
             ],
             [
              0.4444444444444444,
              "#bd3786"
             ],
             [
              0.5555555555555556,
              "#d8576b"
             ],
             [
              0.6666666666666666,
              "#ed7953"
             ],
             [
              0.7777777777777778,
              "#fb9f3a"
             ],
             [
              0.8888888888888888,
              "#fdca26"
             ],
             [
              1,
              "#f0f921"
             ]
            ],
            "type": "heatmap"
           }
          ],
          "heatmapgl": [
           {
            "colorbar": {
             "outlinewidth": 0,
             "ticks": ""
            },
            "colorscale": [
             [
              0,
              "#0d0887"
             ],
             [
              0.1111111111111111,
              "#46039f"
             ],
             [
              0.2222222222222222,
              "#7201a8"
             ],
             [
              0.3333333333333333,
              "#9c179e"
             ],
             [
              0.4444444444444444,
              "#bd3786"
             ],
             [
              0.5555555555555556,
              "#d8576b"
             ],
             [
              0.6666666666666666,
              "#ed7953"
             ],
             [
              0.7777777777777778,
              "#fb9f3a"
             ],
             [
              0.8888888888888888,
              "#fdca26"
             ],
             [
              1,
              "#f0f921"
             ]
            ],
            "type": "heatmapgl"
           }
          ],
          "histogram": [
           {
            "marker": {
             "pattern": {
              "fillmode": "overlay",
              "size": 10,
              "solidity": 0.2
             }
            },
            "type": "histogram"
           }
          ],
          "histogram2d": [
           {
            "colorbar": {
             "outlinewidth": 0,
             "ticks": ""
            },
            "colorscale": [
             [
              0,
              "#0d0887"
             ],
             [
              0.1111111111111111,
              "#46039f"
             ],
             [
              0.2222222222222222,
              "#7201a8"
             ],
             [
              0.3333333333333333,
              "#9c179e"
             ],
             [
              0.4444444444444444,
              "#bd3786"
             ],
             [
              0.5555555555555556,
              "#d8576b"
             ],
             [
              0.6666666666666666,
              "#ed7953"
             ],
             [
              0.7777777777777778,
              "#fb9f3a"
             ],
             [
              0.8888888888888888,
              "#fdca26"
             ],
             [
              1,
              "#f0f921"
             ]
            ],
            "type": "histogram2d"
           }
          ],
          "histogram2dcontour": [
           {
            "colorbar": {
             "outlinewidth": 0,
             "ticks": ""
            },
            "colorscale": [
             [
              0,
              "#0d0887"
             ],
             [
              0.1111111111111111,
              "#46039f"
             ],
             [
              0.2222222222222222,
              "#7201a8"
             ],
             [
              0.3333333333333333,
              "#9c179e"
             ],
             [
              0.4444444444444444,
              "#bd3786"
             ],
             [
              0.5555555555555556,
              "#d8576b"
             ],
             [
              0.6666666666666666,
              "#ed7953"
             ],
             [
              0.7777777777777778,
              "#fb9f3a"
             ],
             [
              0.8888888888888888,
              "#fdca26"
             ],
             [
              1,
              "#f0f921"
             ]
            ],
            "type": "histogram2dcontour"
           }
          ],
          "mesh3d": [
           {
            "colorbar": {
             "outlinewidth": 0,
             "ticks": ""
            },
            "type": "mesh3d"
           }
          ],
          "parcoords": [
           {
            "line": {
             "colorbar": {
              "outlinewidth": 0,
              "ticks": ""
             }
            },
            "type": "parcoords"
           }
          ],
          "pie": [
           {
            "automargin": true,
            "type": "pie"
           }
          ],
          "scatter": [
           {
            "fillpattern": {
             "fillmode": "overlay",
             "size": 10,
             "solidity": 0.2
            },
            "type": "scatter"
           }
          ],
          "scatter3d": [
           {
            "line": {
             "colorbar": {
              "outlinewidth": 0,
              "ticks": ""
             }
            },
            "marker": {
             "colorbar": {
              "outlinewidth": 0,
              "ticks": ""
             }
            },
            "type": "scatter3d"
           }
          ],
          "scattercarpet": [
           {
            "marker": {
             "colorbar": {
              "outlinewidth": 0,
              "ticks": ""
             }
            },
            "type": "scattercarpet"
           }
          ],
          "scattergeo": [
           {
            "marker": {
             "colorbar": {
              "outlinewidth": 0,
              "ticks": ""
             }
            },
            "type": "scattergeo"
           }
          ],
          "scattergl": [
           {
            "marker": {
             "colorbar": {
              "outlinewidth": 0,
              "ticks": ""
             }
            },
            "type": "scattergl"
           }
          ],
          "scattermapbox": [
           {
            "marker": {
             "colorbar": {
              "outlinewidth": 0,
              "ticks": ""
             }
            },
            "type": "scattermapbox"
           }
          ],
          "scatterpolar": [
           {
            "marker": {
             "colorbar": {
              "outlinewidth": 0,
              "ticks": ""
             }
            },
            "type": "scatterpolar"
           }
          ],
          "scatterpolargl": [
           {
            "marker": {
             "colorbar": {
              "outlinewidth": 0,
              "ticks": ""
             }
            },
            "type": "scatterpolargl"
           }
          ],
          "scatterternary": [
           {
            "marker": {
             "colorbar": {
              "outlinewidth": 0,
              "ticks": ""
             }
            },
            "type": "scatterternary"
           }
          ],
          "surface": [
           {
            "colorbar": {
             "outlinewidth": 0,
             "ticks": ""
            },
            "colorscale": [
             [
              0,
              "#0d0887"
             ],
             [
              0.1111111111111111,
              "#46039f"
             ],
             [
              0.2222222222222222,
              "#7201a8"
             ],
             [
              0.3333333333333333,
              "#9c179e"
             ],
             [
              0.4444444444444444,
              "#bd3786"
             ],
             [
              0.5555555555555556,
              "#d8576b"
             ],
             [
              0.6666666666666666,
              "#ed7953"
             ],
             [
              0.7777777777777778,
              "#fb9f3a"
             ],
             [
              0.8888888888888888,
              "#fdca26"
             ],
             [
              1,
              "#f0f921"
             ]
            ],
            "type": "surface"
           }
          ],
          "table": [
           {
            "cells": {
             "fill": {
              "color": "#EBF0F8"
             },
             "line": {
              "color": "white"
             }
            },
            "header": {
             "fill": {
              "color": "#C8D4E3"
             },
             "line": {
              "color": "white"
             }
            },
            "type": "table"
           }
          ]
         },
         "layout": {
          "annotationdefaults": {
           "arrowcolor": "#2a3f5f",
           "arrowhead": 0,
           "arrowwidth": 1
          },
          "autotypenumbers": "strict",
          "coloraxis": {
           "colorbar": {
            "outlinewidth": 0,
            "ticks": ""
           }
          },
          "colorscale": {
           "diverging": [
            [
             0,
             "#8e0152"
            ],
            [
             0.1,
             "#c51b7d"
            ],
            [
             0.2,
             "#de77ae"
            ],
            [
             0.3,
             "#f1b6da"
            ],
            [
             0.4,
             "#fde0ef"
            ],
            [
             0.5,
             "#f7f7f7"
            ],
            [
             0.6,
             "#e6f5d0"
            ],
            [
             0.7,
             "#b8e186"
            ],
            [
             0.8,
             "#7fbc41"
            ],
            [
             0.9,
             "#4d9221"
            ],
            [
             1,
             "#276419"
            ]
           ],
           "sequential": [
            [
             0,
             "#0d0887"
            ],
            [
             0.1111111111111111,
             "#46039f"
            ],
            [
             0.2222222222222222,
             "#7201a8"
            ],
            [
             0.3333333333333333,
             "#9c179e"
            ],
            [
             0.4444444444444444,
             "#bd3786"
            ],
            [
             0.5555555555555556,
             "#d8576b"
            ],
            [
             0.6666666666666666,
             "#ed7953"
            ],
            [
             0.7777777777777778,
             "#fb9f3a"
            ],
            [
             0.8888888888888888,
             "#fdca26"
            ],
            [
             1,
             "#f0f921"
            ]
           ],
           "sequentialminus": [
            [
             0,
             "#0d0887"
            ],
            [
             0.1111111111111111,
             "#46039f"
            ],
            [
             0.2222222222222222,
             "#7201a8"
            ],
            [
             0.3333333333333333,
             "#9c179e"
            ],
            [
             0.4444444444444444,
             "#bd3786"
            ],
            [
             0.5555555555555556,
             "#d8576b"
            ],
            [
             0.6666666666666666,
             "#ed7953"
            ],
            [
             0.7777777777777778,
             "#fb9f3a"
            ],
            [
             0.8888888888888888,
             "#fdca26"
            ],
            [
             1,
             "#f0f921"
            ]
           ]
          },
          "colorway": [
           "#636efa",
           "#EF553B",
           "#00cc96",
           "#ab63fa",
           "#FFA15A",
           "#19d3f3",
           "#FF6692",
           "#B6E880",
           "#FF97FF",
           "#FECB52"
          ],
          "font": {
           "color": "#2a3f5f"
          },
          "geo": {
           "bgcolor": "white",
           "lakecolor": "white",
           "landcolor": "#E5ECF6",
           "showlakes": true,
           "showland": true,
           "subunitcolor": "white"
          },
          "hoverlabel": {
           "align": "left"
          },
          "hovermode": "closest",
          "mapbox": {
           "style": "light"
          },
          "paper_bgcolor": "white",
          "plot_bgcolor": "#E5ECF6",
          "polar": {
           "angularaxis": {
            "gridcolor": "white",
            "linecolor": "white",
            "ticks": ""
           },
           "bgcolor": "#E5ECF6",
           "radialaxis": {
            "gridcolor": "white",
            "linecolor": "white",
            "ticks": ""
           }
          },
          "scene": {
           "xaxis": {
            "backgroundcolor": "#E5ECF6",
            "gridcolor": "white",
            "gridwidth": 2,
            "linecolor": "white",
            "showbackground": true,
            "ticks": "",
            "zerolinecolor": "white"
           },
           "yaxis": {
            "backgroundcolor": "#E5ECF6",
            "gridcolor": "white",
            "gridwidth": 2,
            "linecolor": "white",
            "showbackground": true,
            "ticks": "",
            "zerolinecolor": "white"
           },
           "zaxis": {
            "backgroundcolor": "#E5ECF6",
            "gridcolor": "white",
            "gridwidth": 2,
            "linecolor": "white",
            "showbackground": true,
            "ticks": "",
            "zerolinecolor": "white"
           }
          },
          "shapedefaults": {
           "line": {
            "color": "#2a3f5f"
           }
          },
          "ternary": {
           "aaxis": {
            "gridcolor": "white",
            "linecolor": "white",
            "ticks": ""
           },
           "baxis": {
            "gridcolor": "white",
            "linecolor": "white",
            "ticks": ""
           },
           "bgcolor": "#E5ECF6",
           "caxis": {
            "gridcolor": "white",
            "linecolor": "white",
            "ticks": ""
           }
          },
          "title": {
           "x": 0.05
          },
          "xaxis": {
           "automargin": true,
           "gridcolor": "white",
           "linecolor": "white",
           "ticks": "",
           "title": {
            "standoff": 15
           },
           "zerolinecolor": "white",
           "zerolinewidth": 2
          },
          "yaxis": {
           "automargin": true,
           "gridcolor": "white",
           "linecolor": "white",
           "ticks": "",
           "title": {
            "standoff": 15
           },
           "zerolinecolor": "white",
           "zerolinewidth": 2
          }
         }
        },
        "title": {
         "text": "Montant total dépensé par niveau d'éducation pendant les campagnes marketing"
        },
        "xaxis": {
         "anchor": "y",
         "categoryarray": [
          "Low",
          "Middle",
          "high"
         ],
         "categoryorder": "array",
         "domain": [
          0,
          1
         ],
         "title": {
          "text": "Education_level"
         }
        },
        "yaxis": {
         "anchor": "x",
         "domain": [
          0,
          1
         ],
         "title": {
          "text": "Total_Amount_Spent"
         }
        }
       }
      }
     },
     "metadata": {},
     "output_type": "display_data"
    }
   ],
   "source": [
    "acc_cmp_spent_per_edu = acc_cmp.groupby(\"Education_level\")[\"Total_Amount_Spent\"].sum().reset_index()\n",
    "px.bar(acc_cmp_spent_per_edu, x=\"Education_level\", y=\"Total_Amount_Spent\", title=\"Montant total dépensé par niveau d'éducation pendant les campagnes marketing\", color=\"Education_level\")"
   ]
  },
  {
   "cell_type": "code",
   "execution_count": 40,
   "metadata": {},
   "outputs": [
    {
     "data": {
      "application/vnd.plotly.v1+json": {
       "config": {
        "plotlyServerURL": "https://plot.ly"
       },
       "data": [
        {
         "alignmentgroup": "True",
         "hovertemplate": "Education_level=%{x}<br>Total_Amount_Spent=%{y}<extra></extra>",
         "legendgroup": "Low",
         "marker": {
          "color": "#636efa",
          "pattern": {
           "shape": ""
          }
         },
         "name": "Low",
         "offsetgroup": "Low",
         "orientation": "v",
         "showlegend": true,
         "textposition": "auto",
         "type": "bar",
         "x": [
          "Low"
         ],
         "xaxis": "x",
         "y": [
          421055
         ],
         "yaxis": "y"
        },
        {
         "alignmentgroup": "True",
         "hovertemplate": "Education_level=%{x}<br>Total_Amount_Spent=%{y}<extra></extra>",
         "legendgroup": "Middle",
         "marker": {
          "color": "#EF553B",
          "pattern": {
           "shape": ""
          }
         },
         "name": "Middle",
         "offsetgroup": "Middle",
         "orientation": "v",
         "showlegend": true,
         "textposition": "auto",
         "type": "bar",
         "x": [
          "Middle"
         ],
         "xaxis": "x",
         "y": [
          4417
         ],
         "yaxis": "y"
        },
        {
         "alignmentgroup": "True",
         "hovertemplate": "Education_level=%{x}<br>Total_Amount_Spent=%{y}<extra></extra>",
         "legendgroup": "high",
         "marker": {
          "color": "#00cc96",
          "pattern": {
           "shape": ""
          }
         },
         "name": "high",
         "offsetgroup": "high",
         "orientation": "v",
         "showlegend": true,
         "textposition": "auto",
         "type": "bar",
         "x": [
          "high"
         ],
         "xaxis": "x",
         "y": [
          914510
         ],
         "yaxis": "y"
        }
       ],
       "layout": {
        "barmode": "relative",
        "legend": {
         "title": {
          "text": "Education_level"
         },
         "tracegroupgap": 0
        },
        "template": {
         "data": {
          "bar": [
           {
            "error_x": {
             "color": "#2a3f5f"
            },
            "error_y": {
             "color": "#2a3f5f"
            },
            "marker": {
             "line": {
              "color": "#E5ECF6",
              "width": 0.5
             },
             "pattern": {
              "fillmode": "overlay",
              "size": 10,
              "solidity": 0.2
             }
            },
            "type": "bar"
           }
          ],
          "barpolar": [
           {
            "marker": {
             "line": {
              "color": "#E5ECF6",
              "width": 0.5
             },
             "pattern": {
              "fillmode": "overlay",
              "size": 10,
              "solidity": 0.2
             }
            },
            "type": "barpolar"
           }
          ],
          "carpet": [
           {
            "aaxis": {
             "endlinecolor": "#2a3f5f",
             "gridcolor": "white",
             "linecolor": "white",
             "minorgridcolor": "white",
             "startlinecolor": "#2a3f5f"
            },
            "baxis": {
             "endlinecolor": "#2a3f5f",
             "gridcolor": "white",
             "linecolor": "white",
             "minorgridcolor": "white",
             "startlinecolor": "#2a3f5f"
            },
            "type": "carpet"
           }
          ],
          "choropleth": [
           {
            "colorbar": {
             "outlinewidth": 0,
             "ticks": ""
            },
            "type": "choropleth"
           }
          ],
          "contour": [
           {
            "colorbar": {
             "outlinewidth": 0,
             "ticks": ""
            },
            "colorscale": [
             [
              0,
              "#0d0887"
             ],
             [
              0.1111111111111111,
              "#46039f"
             ],
             [
              0.2222222222222222,
              "#7201a8"
             ],
             [
              0.3333333333333333,
              "#9c179e"
             ],
             [
              0.4444444444444444,
              "#bd3786"
             ],
             [
              0.5555555555555556,
              "#d8576b"
             ],
             [
              0.6666666666666666,
              "#ed7953"
             ],
             [
              0.7777777777777778,
              "#fb9f3a"
             ],
             [
              0.8888888888888888,
              "#fdca26"
             ],
             [
              1,
              "#f0f921"
             ]
            ],
            "type": "contour"
           }
          ],
          "contourcarpet": [
           {
            "colorbar": {
             "outlinewidth": 0,
             "ticks": ""
            },
            "type": "contourcarpet"
           }
          ],
          "heatmap": [
           {
            "colorbar": {
             "outlinewidth": 0,
             "ticks": ""
            },
            "colorscale": [
             [
              0,
              "#0d0887"
             ],
             [
              0.1111111111111111,
              "#46039f"
             ],
             [
              0.2222222222222222,
              "#7201a8"
             ],
             [
              0.3333333333333333,
              "#9c179e"
             ],
             [
              0.4444444444444444,
              "#bd3786"
             ],
             [
              0.5555555555555556,
              "#d8576b"
             ],
             [
              0.6666666666666666,
              "#ed7953"
             ],
             [
              0.7777777777777778,
              "#fb9f3a"
             ],
             [
              0.8888888888888888,
              "#fdca26"
             ],
             [
              1,
              "#f0f921"
             ]
            ],
            "type": "heatmap"
           }
          ],
          "heatmapgl": [
           {
            "colorbar": {
             "outlinewidth": 0,
             "ticks": ""
            },
            "colorscale": [
             [
              0,
              "#0d0887"
             ],
             [
              0.1111111111111111,
              "#46039f"
             ],
             [
              0.2222222222222222,
              "#7201a8"
             ],
             [
              0.3333333333333333,
              "#9c179e"
             ],
             [
              0.4444444444444444,
              "#bd3786"
             ],
             [
              0.5555555555555556,
              "#d8576b"
             ],
             [
              0.6666666666666666,
              "#ed7953"
             ],
             [
              0.7777777777777778,
              "#fb9f3a"
             ],
             [
              0.8888888888888888,
              "#fdca26"
             ],
             [
              1,
              "#f0f921"
             ]
            ],
            "type": "heatmapgl"
           }
          ],
          "histogram": [
           {
            "marker": {
             "pattern": {
              "fillmode": "overlay",
              "size": 10,
              "solidity": 0.2
             }
            },
            "type": "histogram"
           }
          ],
          "histogram2d": [
           {
            "colorbar": {
             "outlinewidth": 0,
             "ticks": ""
            },
            "colorscale": [
             [
              0,
              "#0d0887"
             ],
             [
              0.1111111111111111,
              "#46039f"
             ],
             [
              0.2222222222222222,
              "#7201a8"
             ],
             [
              0.3333333333333333,
              "#9c179e"
             ],
             [
              0.4444444444444444,
              "#bd3786"
             ],
             [
              0.5555555555555556,
              "#d8576b"
             ],
             [
              0.6666666666666666,
              "#ed7953"
             ],
             [
              0.7777777777777778,
              "#fb9f3a"
             ],
             [
              0.8888888888888888,
              "#fdca26"
             ],
             [
              1,
              "#f0f921"
             ]
            ],
            "type": "histogram2d"
           }
          ],
          "histogram2dcontour": [
           {
            "colorbar": {
             "outlinewidth": 0,
             "ticks": ""
            },
            "colorscale": [
             [
              0,
              "#0d0887"
             ],
             [
              0.1111111111111111,
              "#46039f"
             ],
             [
              0.2222222222222222,
              "#7201a8"
             ],
             [
              0.3333333333333333,
              "#9c179e"
             ],
             [
              0.4444444444444444,
              "#bd3786"
             ],
             [
              0.5555555555555556,
              "#d8576b"
             ],
             [
              0.6666666666666666,
              "#ed7953"
             ],
             [
              0.7777777777777778,
              "#fb9f3a"
             ],
             [
              0.8888888888888888,
              "#fdca26"
             ],
             [
              1,
              "#f0f921"
             ]
            ],
            "type": "histogram2dcontour"
           }
          ],
          "mesh3d": [
           {
            "colorbar": {
             "outlinewidth": 0,
             "ticks": ""
            },
            "type": "mesh3d"
           }
          ],
          "parcoords": [
           {
            "line": {
             "colorbar": {
              "outlinewidth": 0,
              "ticks": ""
             }
            },
            "type": "parcoords"
           }
          ],
          "pie": [
           {
            "automargin": true,
            "type": "pie"
           }
          ],
          "scatter": [
           {
            "fillpattern": {
             "fillmode": "overlay",
             "size": 10,
             "solidity": 0.2
            },
            "type": "scatter"
           }
          ],
          "scatter3d": [
           {
            "line": {
             "colorbar": {
              "outlinewidth": 0,
              "ticks": ""
             }
            },
            "marker": {
             "colorbar": {
              "outlinewidth": 0,
              "ticks": ""
             }
            },
            "type": "scatter3d"
           }
          ],
          "scattercarpet": [
           {
            "marker": {
             "colorbar": {
              "outlinewidth": 0,
              "ticks": ""
             }
            },
            "type": "scattercarpet"
           }
          ],
          "scattergeo": [
           {
            "marker": {
             "colorbar": {
              "outlinewidth": 0,
              "ticks": ""
             }
            },
            "type": "scattergeo"
           }
          ],
          "scattergl": [
           {
            "marker": {
             "colorbar": {
              "outlinewidth": 0,
              "ticks": ""
             }
            },
            "type": "scattergl"
           }
          ],
          "scattermapbox": [
           {
            "marker": {
             "colorbar": {
              "outlinewidth": 0,
              "ticks": ""
             }
            },
            "type": "scattermapbox"
           }
          ],
          "scatterpolar": [
           {
            "marker": {
             "colorbar": {
              "outlinewidth": 0,
              "ticks": ""
             }
            },
            "type": "scatterpolar"
           }
          ],
          "scatterpolargl": [
           {
            "marker": {
             "colorbar": {
              "outlinewidth": 0,
              "ticks": ""
             }
            },
            "type": "scatterpolargl"
           }
          ],
          "scatterternary": [
           {
            "marker": {
             "colorbar": {
              "outlinewidth": 0,
              "ticks": ""
             }
            },
            "type": "scatterternary"
           }
          ],
          "surface": [
           {
            "colorbar": {
             "outlinewidth": 0,
             "ticks": ""
            },
            "colorscale": [
             [
              0,
              "#0d0887"
             ],
             [
              0.1111111111111111,
              "#46039f"
             ],
             [
              0.2222222222222222,
              "#7201a8"
             ],
             [
              0.3333333333333333,
              "#9c179e"
             ],
             [
              0.4444444444444444,
              "#bd3786"
             ],
             [
              0.5555555555555556,
              "#d8576b"
             ],
             [
              0.6666666666666666,
              "#ed7953"
             ],
             [
              0.7777777777777778,
              "#fb9f3a"
             ],
             [
              0.8888888888888888,
              "#fdca26"
             ],
             [
              1,
              "#f0f921"
             ]
            ],
            "type": "surface"
           }
          ],
          "table": [
           {
            "cells": {
             "fill": {
              "color": "#EBF0F8"
             },
             "line": {
              "color": "white"
             }
            },
            "header": {
             "fill": {
              "color": "#C8D4E3"
             },
             "line": {
              "color": "white"
             }
            },
            "type": "table"
           }
          ]
         },
         "layout": {
          "annotationdefaults": {
           "arrowcolor": "#2a3f5f",
           "arrowhead": 0,
           "arrowwidth": 1
          },
          "autotypenumbers": "strict",
          "coloraxis": {
           "colorbar": {
            "outlinewidth": 0,
            "ticks": ""
           }
          },
          "colorscale": {
           "diverging": [
            [
             0,
             "#8e0152"
            ],
            [
             0.1,
             "#c51b7d"
            ],
            [
             0.2,
             "#de77ae"
            ],
            [
             0.3,
             "#f1b6da"
            ],
            [
             0.4,
             "#fde0ef"
            ],
            [
             0.5,
             "#f7f7f7"
            ],
            [
             0.6,
             "#e6f5d0"
            ],
            [
             0.7,
             "#b8e186"
            ],
            [
             0.8,
             "#7fbc41"
            ],
            [
             0.9,
             "#4d9221"
            ],
            [
             1,
             "#276419"
            ]
           ],
           "sequential": [
            [
             0,
             "#0d0887"
            ],
            [
             0.1111111111111111,
             "#46039f"
            ],
            [
             0.2222222222222222,
             "#7201a8"
            ],
            [
             0.3333333333333333,
             "#9c179e"
            ],
            [
             0.4444444444444444,
             "#bd3786"
            ],
            [
             0.5555555555555556,
             "#d8576b"
            ],
            [
             0.6666666666666666,
             "#ed7953"
            ],
            [
             0.7777777777777778,
             "#fb9f3a"
            ],
            [
             0.8888888888888888,
             "#fdca26"
            ],
            [
             1,
             "#f0f921"
            ]
           ],
           "sequentialminus": [
            [
             0,
             "#0d0887"
            ],
            [
             0.1111111111111111,
             "#46039f"
            ],
            [
             0.2222222222222222,
             "#7201a8"
            ],
            [
             0.3333333333333333,
             "#9c179e"
            ],
            [
             0.4444444444444444,
             "#bd3786"
            ],
            [
             0.5555555555555556,
             "#d8576b"
            ],
            [
             0.6666666666666666,
             "#ed7953"
            ],
            [
             0.7777777777777778,
             "#fb9f3a"
            ],
            [
             0.8888888888888888,
             "#fdca26"
            ],
            [
             1,
             "#f0f921"
            ]
           ]
          },
          "colorway": [
           "#636efa",
           "#EF553B",
           "#00cc96",
           "#ab63fa",
           "#FFA15A",
           "#19d3f3",
           "#FF6692",
           "#B6E880",
           "#FF97FF",
           "#FECB52"
          ],
          "font": {
           "color": "#2a3f5f"
          },
          "geo": {
           "bgcolor": "white",
           "lakecolor": "white",
           "landcolor": "#E5ECF6",
           "showlakes": true,
           "showland": true,
           "subunitcolor": "white"
          },
          "hoverlabel": {
           "align": "left"
          },
          "hovermode": "closest",
          "mapbox": {
           "style": "light"
          },
          "paper_bgcolor": "white",
          "plot_bgcolor": "#E5ECF6",
          "polar": {
           "angularaxis": {
            "gridcolor": "white",
            "linecolor": "white",
            "ticks": ""
           },
           "bgcolor": "#E5ECF6",
           "radialaxis": {
            "gridcolor": "white",
            "linecolor": "white",
            "ticks": ""
           }
          },
          "scene": {
           "xaxis": {
            "backgroundcolor": "#E5ECF6",
            "gridcolor": "white",
            "gridwidth": 2,
            "linecolor": "white",
            "showbackground": true,
            "ticks": "",
            "zerolinecolor": "white"
           },
           "yaxis": {
            "backgroundcolor": "#E5ECF6",
            "gridcolor": "white",
            "gridwidth": 2,
            "linecolor": "white",
            "showbackground": true,
            "ticks": "",
            "zerolinecolor": "white"
           },
           "zaxis": {
            "backgroundcolor": "#E5ECF6",
            "gridcolor": "white",
            "gridwidth": 2,
            "linecolor": "white",
            "showbackground": true,
            "ticks": "",
            "zerolinecolor": "white"
           }
          },
          "shapedefaults": {
           "line": {
            "color": "#2a3f5f"
           }
          },
          "ternary": {
           "aaxis": {
            "gridcolor": "white",
            "linecolor": "white",
            "ticks": ""
           },
           "baxis": {
            "gridcolor": "white",
            "linecolor": "white",
            "ticks": ""
           },
           "bgcolor": "#E5ECF6",
           "caxis": {
            "gridcolor": "white",
            "linecolor": "white",
            "ticks": ""
           }
          },
          "title": {
           "x": 0.05
          },
          "xaxis": {
           "automargin": true,
           "gridcolor": "white",
           "linecolor": "white",
           "ticks": "",
           "title": {
            "standoff": 15
           },
           "zerolinecolor": "white",
           "zerolinewidth": 2
          },
          "yaxis": {
           "automargin": true,
           "gridcolor": "white",
           "linecolor": "white",
           "ticks": "",
           "title": {
            "standoff": 15
           },
           "zerolinecolor": "white",
           "zerolinewidth": 2
          }
         }
        },
        "title": {
         "text": "Montant total dépensé par niveau d'éducation"
        },
        "xaxis": {
         "anchor": "y",
         "categoryarray": [
          "Low",
          "Middle",
          "high"
         ],
         "categoryorder": "array",
         "domain": [
          0,
          1
         ],
         "title": {
          "text": "Education_level"
         }
        },
        "yaxis": {
         "anchor": "x",
         "domain": [
          0,
          1
         ],
         "title": {
          "text": "Total_Amount_Spent"
         }
        }
       }
      }
     },
     "metadata": {},
     "output_type": "display_data"
    }
   ],
   "source": [
    "spent_per_edu = data.groupby(\"Education_level\")[\"Total_Amount_Spent\"].sum().reset_index()\n",
    "px.bar(spent_per_edu, x=\"Education_level\", y=\"Total_Amount_Spent\", title=\"Montant total dépensé par niveau d'éducation\", color=\"Education_level\")"
   ]
  },
  {
   "cell_type": "markdown",
   "metadata": {},
   "source": [
    "Les personnes les plus éduqués semblent être les plus dépensiers. Cependant, il y a un petit biais ici vu qu'ils sont aussi les plus nombreux dans ce jeu de données."
   ]
  },
  {
   "cell_type": "markdown",
   "metadata": {},
   "source": [
    "#### Les clients dépensent-ils plus en ligne ou en physique ?"
   ]
  },
  {
   "cell_type": "code",
   "execution_count": 41,
   "metadata": {},
   "outputs": [
    {
     "data": {
      "text/html": [
       "<div>\n",
       "<style scoped>\n",
       "    .dataframe tbody tr th:only-of-type {\n",
       "        vertical-align: middle;\n",
       "    }\n",
       "\n",
       "    .dataframe tbody tr th {\n",
       "        vertical-align: top;\n",
       "    }\n",
       "\n",
       "    .dataframe thead th {\n",
       "        text-align: right;\n",
       "    }\n",
       "</style>\n",
       "<table border=\"1\" class=\"dataframe\">\n",
       "  <thead>\n",
       "    <tr style=\"text-align: right;\">\n",
       "      <th></th>\n",
       "      <th>index</th>\n",
       "      <th>total</th>\n",
       "    </tr>\n",
       "  </thead>\n",
       "  <tbody>\n",
       "    <tr>\n",
       "      <th>0</th>\n",
       "      <td>NumWebPurchases</td>\n",
       "      <td>9049</td>\n",
       "    </tr>\n",
       "    <tr>\n",
       "      <th>1</th>\n",
       "      <td>NumCatalogPurchases</td>\n",
       "      <td>5840</td>\n",
       "    </tr>\n",
       "    <tr>\n",
       "      <th>2</th>\n",
       "      <td>NumStorePurchases</td>\n",
       "      <td>12849</td>\n",
       "    </tr>\n",
       "  </tbody>\n",
       "</table>\n",
       "</div>"
      ],
      "text/plain": [
       "                 index  total\n",
       "0      NumWebPurchases   9049\n",
       "1  NumCatalogPurchases   5840\n",
       "2    NumStorePurchases  12849"
      ]
     },
     "execution_count": 41,
     "metadata": {},
     "output_type": "execute_result"
    }
   ],
   "source": [
    "purchase_type = pd.DataFrame(data[[\"NumWebPurchases\", \"NumCatalogPurchases\", \"NumStorePurchases\"]].sum(), columns=[\"total\"]).reset_index()\n",
    "purchase_type"
   ]
  },
  {
   "cell_type": "code",
   "execution_count": 42,
   "metadata": {},
   "outputs": [],
   "source": [
    "purchase_type.rename(columns={\"index\": \"type_of_Purchase\"}, inplace=True)\n"
   ]
  },
  {
   "cell_type": "code",
   "execution_count": 43,
   "metadata": {},
   "outputs": [
    {
     "data": {
      "application/vnd.plotly.v1+json": {
       "config": {
        "plotlyServerURL": "https://plot.ly"
       },
       "data": [
        {
         "alignmentgroup": "True",
         "hovertemplate": "type_of_Purchase=%{x}<br>total=%{y}<extra></extra>",
         "legendgroup": "NumWebPurchases",
         "marker": {
          "color": "#636efa",
          "pattern": {
           "shape": ""
          }
         },
         "name": "NumWebPurchases",
         "offsetgroup": "NumWebPurchases",
         "orientation": "v",
         "showlegend": true,
         "textposition": "auto",
         "type": "bar",
         "x": [
          "NumWebPurchases"
         ],
         "xaxis": "x",
         "y": [
          9049
         ],
         "yaxis": "y"
        },
        {
         "alignmentgroup": "True",
         "hovertemplate": "type_of_Purchase=%{x}<br>total=%{y}<extra></extra>",
         "legendgroup": "NumCatalogPurchases",
         "marker": {
          "color": "#EF553B",
          "pattern": {
           "shape": ""
          }
         },
         "name": "NumCatalogPurchases",
         "offsetgroup": "NumCatalogPurchases",
         "orientation": "v",
         "showlegend": true,
         "textposition": "auto",
         "type": "bar",
         "x": [
          "NumCatalogPurchases"
         ],
         "xaxis": "x",
         "y": [
          5840
         ],
         "yaxis": "y"
        },
        {
         "alignmentgroup": "True",
         "hovertemplate": "type_of_Purchase=%{x}<br>total=%{y}<extra></extra>",
         "legendgroup": "NumStorePurchases",
         "marker": {
          "color": "#00cc96",
          "pattern": {
           "shape": ""
          }
         },
         "name": "NumStorePurchases",
         "offsetgroup": "NumStorePurchases",
         "orientation": "v",
         "showlegend": true,
         "textposition": "auto",
         "type": "bar",
         "x": [
          "NumStorePurchases"
         ],
         "xaxis": "x",
         "y": [
          12849
         ],
         "yaxis": "y"
        }
       ],
       "layout": {
        "barmode": "relative",
        "legend": {
         "title": {
          "text": "type_of_Purchase"
         },
         "tracegroupgap": 0
        },
        "template": {
         "data": {
          "bar": [
           {
            "error_x": {
             "color": "#2a3f5f"
            },
            "error_y": {
             "color": "#2a3f5f"
            },
            "marker": {
             "line": {
              "color": "#E5ECF6",
              "width": 0.5
             },
             "pattern": {
              "fillmode": "overlay",
              "size": 10,
              "solidity": 0.2
             }
            },
            "type": "bar"
           }
          ],
          "barpolar": [
           {
            "marker": {
             "line": {
              "color": "#E5ECF6",
              "width": 0.5
             },
             "pattern": {
              "fillmode": "overlay",
              "size": 10,
              "solidity": 0.2
             }
            },
            "type": "barpolar"
           }
          ],
          "carpet": [
           {
            "aaxis": {
             "endlinecolor": "#2a3f5f",
             "gridcolor": "white",
             "linecolor": "white",
             "minorgridcolor": "white",
             "startlinecolor": "#2a3f5f"
            },
            "baxis": {
             "endlinecolor": "#2a3f5f",
             "gridcolor": "white",
             "linecolor": "white",
             "minorgridcolor": "white",
             "startlinecolor": "#2a3f5f"
            },
            "type": "carpet"
           }
          ],
          "choropleth": [
           {
            "colorbar": {
             "outlinewidth": 0,
             "ticks": ""
            },
            "type": "choropleth"
           }
          ],
          "contour": [
           {
            "colorbar": {
             "outlinewidth": 0,
             "ticks": ""
            },
            "colorscale": [
             [
              0,
              "#0d0887"
             ],
             [
              0.1111111111111111,
              "#46039f"
             ],
             [
              0.2222222222222222,
              "#7201a8"
             ],
             [
              0.3333333333333333,
              "#9c179e"
             ],
             [
              0.4444444444444444,
              "#bd3786"
             ],
             [
              0.5555555555555556,
              "#d8576b"
             ],
             [
              0.6666666666666666,
              "#ed7953"
             ],
             [
              0.7777777777777778,
              "#fb9f3a"
             ],
             [
              0.8888888888888888,
              "#fdca26"
             ],
             [
              1,
              "#f0f921"
             ]
            ],
            "type": "contour"
           }
          ],
          "contourcarpet": [
           {
            "colorbar": {
             "outlinewidth": 0,
             "ticks": ""
            },
            "type": "contourcarpet"
           }
          ],
          "heatmap": [
           {
            "colorbar": {
             "outlinewidth": 0,
             "ticks": ""
            },
            "colorscale": [
             [
              0,
              "#0d0887"
             ],
             [
              0.1111111111111111,
              "#46039f"
             ],
             [
              0.2222222222222222,
              "#7201a8"
             ],
             [
              0.3333333333333333,
              "#9c179e"
             ],
             [
              0.4444444444444444,
              "#bd3786"
             ],
             [
              0.5555555555555556,
              "#d8576b"
             ],
             [
              0.6666666666666666,
              "#ed7953"
             ],
             [
              0.7777777777777778,
              "#fb9f3a"
             ],
             [
              0.8888888888888888,
              "#fdca26"
             ],
             [
              1,
              "#f0f921"
             ]
            ],
            "type": "heatmap"
           }
          ],
          "heatmapgl": [
           {
            "colorbar": {
             "outlinewidth": 0,
             "ticks": ""
            },
            "colorscale": [
             [
              0,
              "#0d0887"
             ],
             [
              0.1111111111111111,
              "#46039f"
             ],
             [
              0.2222222222222222,
              "#7201a8"
             ],
             [
              0.3333333333333333,
              "#9c179e"
             ],
             [
              0.4444444444444444,
              "#bd3786"
             ],
             [
              0.5555555555555556,
              "#d8576b"
             ],
             [
              0.6666666666666666,
              "#ed7953"
             ],
             [
              0.7777777777777778,
              "#fb9f3a"
             ],
             [
              0.8888888888888888,
              "#fdca26"
             ],
             [
              1,
              "#f0f921"
             ]
            ],
            "type": "heatmapgl"
           }
          ],
          "histogram": [
           {
            "marker": {
             "pattern": {
              "fillmode": "overlay",
              "size": 10,
              "solidity": 0.2
             }
            },
            "type": "histogram"
           }
          ],
          "histogram2d": [
           {
            "colorbar": {
             "outlinewidth": 0,
             "ticks": ""
            },
            "colorscale": [
             [
              0,
              "#0d0887"
             ],
             [
              0.1111111111111111,
              "#46039f"
             ],
             [
              0.2222222222222222,
              "#7201a8"
             ],
             [
              0.3333333333333333,
              "#9c179e"
             ],
             [
              0.4444444444444444,
              "#bd3786"
             ],
             [
              0.5555555555555556,
              "#d8576b"
             ],
             [
              0.6666666666666666,
              "#ed7953"
             ],
             [
              0.7777777777777778,
              "#fb9f3a"
             ],
             [
              0.8888888888888888,
              "#fdca26"
             ],
             [
              1,
              "#f0f921"
             ]
            ],
            "type": "histogram2d"
           }
          ],
          "histogram2dcontour": [
           {
            "colorbar": {
             "outlinewidth": 0,
             "ticks": ""
            },
            "colorscale": [
             [
              0,
              "#0d0887"
             ],
             [
              0.1111111111111111,
              "#46039f"
             ],
             [
              0.2222222222222222,
              "#7201a8"
             ],
             [
              0.3333333333333333,
              "#9c179e"
             ],
             [
              0.4444444444444444,
              "#bd3786"
             ],
             [
              0.5555555555555556,
              "#d8576b"
             ],
             [
              0.6666666666666666,
              "#ed7953"
             ],
             [
              0.7777777777777778,
              "#fb9f3a"
             ],
             [
              0.8888888888888888,
              "#fdca26"
             ],
             [
              1,
              "#f0f921"
             ]
            ],
            "type": "histogram2dcontour"
           }
          ],
          "mesh3d": [
           {
            "colorbar": {
             "outlinewidth": 0,
             "ticks": ""
            },
            "type": "mesh3d"
           }
          ],
          "parcoords": [
           {
            "line": {
             "colorbar": {
              "outlinewidth": 0,
              "ticks": ""
             }
            },
            "type": "parcoords"
           }
          ],
          "pie": [
           {
            "automargin": true,
            "type": "pie"
           }
          ],
          "scatter": [
           {
            "fillpattern": {
             "fillmode": "overlay",
             "size": 10,
             "solidity": 0.2
            },
            "type": "scatter"
           }
          ],
          "scatter3d": [
           {
            "line": {
             "colorbar": {
              "outlinewidth": 0,
              "ticks": ""
             }
            },
            "marker": {
             "colorbar": {
              "outlinewidth": 0,
              "ticks": ""
             }
            },
            "type": "scatter3d"
           }
          ],
          "scattercarpet": [
           {
            "marker": {
             "colorbar": {
              "outlinewidth": 0,
              "ticks": ""
             }
            },
            "type": "scattercarpet"
           }
          ],
          "scattergeo": [
           {
            "marker": {
             "colorbar": {
              "outlinewidth": 0,
              "ticks": ""
             }
            },
            "type": "scattergeo"
           }
          ],
          "scattergl": [
           {
            "marker": {
             "colorbar": {
              "outlinewidth": 0,
              "ticks": ""
             }
            },
            "type": "scattergl"
           }
          ],
          "scattermapbox": [
           {
            "marker": {
             "colorbar": {
              "outlinewidth": 0,
              "ticks": ""
             }
            },
            "type": "scattermapbox"
           }
          ],
          "scatterpolar": [
           {
            "marker": {
             "colorbar": {
              "outlinewidth": 0,
              "ticks": ""
             }
            },
            "type": "scatterpolar"
           }
          ],
          "scatterpolargl": [
           {
            "marker": {
             "colorbar": {
              "outlinewidth": 0,
              "ticks": ""
             }
            },
            "type": "scatterpolargl"
           }
          ],
          "scatterternary": [
           {
            "marker": {
             "colorbar": {
              "outlinewidth": 0,
              "ticks": ""
             }
            },
            "type": "scatterternary"
           }
          ],
          "surface": [
           {
            "colorbar": {
             "outlinewidth": 0,
             "ticks": ""
            },
            "colorscale": [
             [
              0,
              "#0d0887"
             ],
             [
              0.1111111111111111,
              "#46039f"
             ],
             [
              0.2222222222222222,
              "#7201a8"
             ],
             [
              0.3333333333333333,
              "#9c179e"
             ],
             [
              0.4444444444444444,
              "#bd3786"
             ],
             [
              0.5555555555555556,
              "#d8576b"
             ],
             [
              0.6666666666666666,
              "#ed7953"
             ],
             [
              0.7777777777777778,
              "#fb9f3a"
             ],
             [
              0.8888888888888888,
              "#fdca26"
             ],
             [
              1,
              "#f0f921"
             ]
            ],
            "type": "surface"
           }
          ],
          "table": [
           {
            "cells": {
             "fill": {
              "color": "#EBF0F8"
             },
             "line": {
              "color": "white"
             }
            },
            "header": {
             "fill": {
              "color": "#C8D4E3"
             },
             "line": {
              "color": "white"
             }
            },
            "type": "table"
           }
          ]
         },
         "layout": {
          "annotationdefaults": {
           "arrowcolor": "#2a3f5f",
           "arrowhead": 0,
           "arrowwidth": 1
          },
          "autotypenumbers": "strict",
          "coloraxis": {
           "colorbar": {
            "outlinewidth": 0,
            "ticks": ""
           }
          },
          "colorscale": {
           "diverging": [
            [
             0,
             "#8e0152"
            ],
            [
             0.1,
             "#c51b7d"
            ],
            [
             0.2,
             "#de77ae"
            ],
            [
             0.3,
             "#f1b6da"
            ],
            [
             0.4,
             "#fde0ef"
            ],
            [
             0.5,
             "#f7f7f7"
            ],
            [
             0.6,
             "#e6f5d0"
            ],
            [
             0.7,
             "#b8e186"
            ],
            [
             0.8,
             "#7fbc41"
            ],
            [
             0.9,
             "#4d9221"
            ],
            [
             1,
             "#276419"
            ]
           ],
           "sequential": [
            [
             0,
             "#0d0887"
            ],
            [
             0.1111111111111111,
             "#46039f"
            ],
            [
             0.2222222222222222,
             "#7201a8"
            ],
            [
             0.3333333333333333,
             "#9c179e"
            ],
            [
             0.4444444444444444,
             "#bd3786"
            ],
            [
             0.5555555555555556,
             "#d8576b"
            ],
            [
             0.6666666666666666,
             "#ed7953"
            ],
            [
             0.7777777777777778,
             "#fb9f3a"
            ],
            [
             0.8888888888888888,
             "#fdca26"
            ],
            [
             1,
             "#f0f921"
            ]
           ],
           "sequentialminus": [
            [
             0,
             "#0d0887"
            ],
            [
             0.1111111111111111,
             "#46039f"
            ],
            [
             0.2222222222222222,
             "#7201a8"
            ],
            [
             0.3333333333333333,
             "#9c179e"
            ],
            [
             0.4444444444444444,
             "#bd3786"
            ],
            [
             0.5555555555555556,
             "#d8576b"
            ],
            [
             0.6666666666666666,
             "#ed7953"
            ],
            [
             0.7777777777777778,
             "#fb9f3a"
            ],
            [
             0.8888888888888888,
             "#fdca26"
            ],
            [
             1,
             "#f0f921"
            ]
           ]
          },
          "colorway": [
           "#636efa",
           "#EF553B",
           "#00cc96",
           "#ab63fa",
           "#FFA15A",
           "#19d3f3",
           "#FF6692",
           "#B6E880",
           "#FF97FF",
           "#FECB52"
          ],
          "font": {
           "color": "#2a3f5f"
          },
          "geo": {
           "bgcolor": "white",
           "lakecolor": "white",
           "landcolor": "#E5ECF6",
           "showlakes": true,
           "showland": true,
           "subunitcolor": "white"
          },
          "hoverlabel": {
           "align": "left"
          },
          "hovermode": "closest",
          "mapbox": {
           "style": "light"
          },
          "paper_bgcolor": "white",
          "plot_bgcolor": "#E5ECF6",
          "polar": {
           "angularaxis": {
            "gridcolor": "white",
            "linecolor": "white",
            "ticks": ""
           },
           "bgcolor": "#E5ECF6",
           "radialaxis": {
            "gridcolor": "white",
            "linecolor": "white",
            "ticks": ""
           }
          },
          "scene": {
           "xaxis": {
            "backgroundcolor": "#E5ECF6",
            "gridcolor": "white",
            "gridwidth": 2,
            "linecolor": "white",
            "showbackground": true,
            "ticks": "",
            "zerolinecolor": "white"
           },
           "yaxis": {
            "backgroundcolor": "#E5ECF6",
            "gridcolor": "white",
            "gridwidth": 2,
            "linecolor": "white",
            "showbackground": true,
            "ticks": "",
            "zerolinecolor": "white"
           },
           "zaxis": {
            "backgroundcolor": "#E5ECF6",
            "gridcolor": "white",
            "gridwidth": 2,
            "linecolor": "white",
            "showbackground": true,
            "ticks": "",
            "zerolinecolor": "white"
           }
          },
          "shapedefaults": {
           "line": {
            "color": "#2a3f5f"
           }
          },
          "ternary": {
           "aaxis": {
            "gridcolor": "white",
            "linecolor": "white",
            "ticks": ""
           },
           "baxis": {
            "gridcolor": "white",
            "linecolor": "white",
            "ticks": ""
           },
           "bgcolor": "#E5ECF6",
           "caxis": {
            "gridcolor": "white",
            "linecolor": "white",
            "ticks": ""
           }
          },
          "title": {
           "x": 0.05
          },
          "xaxis": {
           "automargin": true,
           "gridcolor": "white",
           "linecolor": "white",
           "ticks": "",
           "title": {
            "standoff": 15
           },
           "zerolinecolor": "white",
           "zerolinewidth": 2
          },
          "yaxis": {
           "automargin": true,
           "gridcolor": "white",
           "linecolor": "white",
           "ticks": "",
           "title": {
            "standoff": 15
           },
           "zerolinecolor": "white",
           "zerolinewidth": 2
          }
         }
        },
        "title": {
         "text": "Nombre total d'achats selon le canal de vente"
        },
        "xaxis": {
         "anchor": "y",
         "categoryarray": [
          "NumWebPurchases",
          "NumCatalogPurchases",
          "NumStorePurchases"
         ],
         "categoryorder": "array",
         "domain": [
          0,
          1
         ],
         "title": {
          "text": "type_of_Purchase"
         }
        },
        "yaxis": {
         "anchor": "x",
         "domain": [
          0,
          1
         ],
         "title": {
          "text": "total"
         }
        }
       }
      }
     },
     "metadata": {},
     "output_type": "display_data"
    }
   ],
   "source": [
    "px.bar(\n",
    "    purchase_type,\n",
    "    x=\"type_of_Purchase\",\n",
    "    y=\"total\",\n",
    "    title=\"Nombre total d'achats selon le canal de vente\",\n",
    "    color=\"type_of_Purchase\",\n",
    ")"
   ]
  },
  {
   "cell_type": "markdown",
   "metadata": {},
   "source": [
    "les clients utilisent plus les magasins physiques que les boutiques en ligne."
   ]
  },
  {
   "cell_type": "markdown",
   "metadata": {},
   "source": [
    "examinons les types d'achats pour les clients ayant acceptés les campagnes marketing."
   ]
  },
  {
   "cell_type": "code",
   "execution_count": 44,
   "metadata": {},
   "outputs": [
    {
     "data": {
      "application/vnd.plotly.v1+json": {
       "config": {
        "plotlyServerURL": "https://plot.ly"
       },
       "data": [
        {
         "alignmentgroup": "True",
         "hovertemplate": "type_of_Purchase=%{x}<br>total=%{y}<extra></extra>",
         "legendgroup": "NumWebPurchases",
         "marker": {
          "color": "#636efa",
          "pattern": {
           "shape": ""
          }
         },
         "name": "NumWebPurchases",
         "offsetgroup": "NumWebPurchases",
         "orientation": "v",
         "showlegend": true,
         "textposition": "auto",
         "type": "bar",
         "x": [
          "NumWebPurchases"
         ],
         "xaxis": "x",
         "y": [
          2398
         ],
         "yaxis": "y"
        },
        {
         "alignmentgroup": "True",
         "hovertemplate": "type_of_Purchase=%{x}<br>total=%{y}<extra></extra>",
         "legendgroup": "NumCatalogPurchases",
         "marker": {
          "color": "#EF553B",
          "pattern": {
           "shape": ""
          }
         },
         "name": "NumCatalogPurchases",
         "offsetgroup": "NumCatalogPurchases",
         "orientation": "v",
         "showlegend": true,
         "textposition": "auto",
         "type": "bar",
         "x": [
          "NumCatalogPurchases"
         ],
         "xaxis": "x",
         "y": [
          2053
         ],
         "yaxis": "y"
        },
        {
         "alignmentgroup": "True",
         "hovertemplate": "type_of_Purchase=%{x}<br>total=%{y}<extra></extra>",
         "legendgroup": "NumStorePurchases",
         "marker": {
          "color": "#00cc96",
          "pattern": {
           "shape": ""
          }
         },
         "name": "NumStorePurchases",
         "offsetgroup": "NumStorePurchases",
         "orientation": "v",
         "showlegend": true,
         "textposition": "auto",
         "type": "bar",
         "x": [
          "NumStorePurchases"
         ],
         "xaxis": "x",
         "y": [
          3208
         ],
         "yaxis": "y"
        }
       ],
       "layout": {
        "barmode": "relative",
        "legend": {
         "title": {
          "text": "type_of_Purchase"
         },
         "tracegroupgap": 0
        },
        "template": {
         "data": {
          "bar": [
           {
            "error_x": {
             "color": "#2a3f5f"
            },
            "error_y": {
             "color": "#2a3f5f"
            },
            "marker": {
             "line": {
              "color": "#E5ECF6",
              "width": 0.5
             },
             "pattern": {
              "fillmode": "overlay",
              "size": 10,
              "solidity": 0.2
             }
            },
            "type": "bar"
           }
          ],
          "barpolar": [
           {
            "marker": {
             "line": {
              "color": "#E5ECF6",
              "width": 0.5
             },
             "pattern": {
              "fillmode": "overlay",
              "size": 10,
              "solidity": 0.2
             }
            },
            "type": "barpolar"
           }
          ],
          "carpet": [
           {
            "aaxis": {
             "endlinecolor": "#2a3f5f",
             "gridcolor": "white",
             "linecolor": "white",
             "minorgridcolor": "white",
             "startlinecolor": "#2a3f5f"
            },
            "baxis": {
             "endlinecolor": "#2a3f5f",
             "gridcolor": "white",
             "linecolor": "white",
             "minorgridcolor": "white",
             "startlinecolor": "#2a3f5f"
            },
            "type": "carpet"
           }
          ],
          "choropleth": [
           {
            "colorbar": {
             "outlinewidth": 0,
             "ticks": ""
            },
            "type": "choropleth"
           }
          ],
          "contour": [
           {
            "colorbar": {
             "outlinewidth": 0,
             "ticks": ""
            },
            "colorscale": [
             [
              0,
              "#0d0887"
             ],
             [
              0.1111111111111111,
              "#46039f"
             ],
             [
              0.2222222222222222,
              "#7201a8"
             ],
             [
              0.3333333333333333,
              "#9c179e"
             ],
             [
              0.4444444444444444,
              "#bd3786"
             ],
             [
              0.5555555555555556,
              "#d8576b"
             ],
             [
              0.6666666666666666,
              "#ed7953"
             ],
             [
              0.7777777777777778,
              "#fb9f3a"
             ],
             [
              0.8888888888888888,
              "#fdca26"
             ],
             [
              1,
              "#f0f921"
             ]
            ],
            "type": "contour"
           }
          ],
          "contourcarpet": [
           {
            "colorbar": {
             "outlinewidth": 0,
             "ticks": ""
            },
            "type": "contourcarpet"
           }
          ],
          "heatmap": [
           {
            "colorbar": {
             "outlinewidth": 0,
             "ticks": ""
            },
            "colorscale": [
             [
              0,
              "#0d0887"
             ],
             [
              0.1111111111111111,
              "#46039f"
             ],
             [
              0.2222222222222222,
              "#7201a8"
             ],
             [
              0.3333333333333333,
              "#9c179e"
             ],
             [
              0.4444444444444444,
              "#bd3786"
             ],
             [
              0.5555555555555556,
              "#d8576b"
             ],
             [
              0.6666666666666666,
              "#ed7953"
             ],
             [
              0.7777777777777778,
              "#fb9f3a"
             ],
             [
              0.8888888888888888,
              "#fdca26"
             ],
             [
              1,
              "#f0f921"
             ]
            ],
            "type": "heatmap"
           }
          ],
          "heatmapgl": [
           {
            "colorbar": {
             "outlinewidth": 0,
             "ticks": ""
            },
            "colorscale": [
             [
              0,
              "#0d0887"
             ],
             [
              0.1111111111111111,
              "#46039f"
             ],
             [
              0.2222222222222222,
              "#7201a8"
             ],
             [
              0.3333333333333333,
              "#9c179e"
             ],
             [
              0.4444444444444444,
              "#bd3786"
             ],
             [
              0.5555555555555556,
              "#d8576b"
             ],
             [
              0.6666666666666666,
              "#ed7953"
             ],
             [
              0.7777777777777778,
              "#fb9f3a"
             ],
             [
              0.8888888888888888,
              "#fdca26"
             ],
             [
              1,
              "#f0f921"
             ]
            ],
            "type": "heatmapgl"
           }
          ],
          "histogram": [
           {
            "marker": {
             "pattern": {
              "fillmode": "overlay",
              "size": 10,
              "solidity": 0.2
             }
            },
            "type": "histogram"
           }
          ],
          "histogram2d": [
           {
            "colorbar": {
             "outlinewidth": 0,
             "ticks": ""
            },
            "colorscale": [
             [
              0,
              "#0d0887"
             ],
             [
              0.1111111111111111,
              "#46039f"
             ],
             [
              0.2222222222222222,
              "#7201a8"
             ],
             [
              0.3333333333333333,
              "#9c179e"
             ],
             [
              0.4444444444444444,
              "#bd3786"
             ],
             [
              0.5555555555555556,
              "#d8576b"
             ],
             [
              0.6666666666666666,
              "#ed7953"
             ],
             [
              0.7777777777777778,
              "#fb9f3a"
             ],
             [
              0.8888888888888888,
              "#fdca26"
             ],
             [
              1,
              "#f0f921"
             ]
            ],
            "type": "histogram2d"
           }
          ],
          "histogram2dcontour": [
           {
            "colorbar": {
             "outlinewidth": 0,
             "ticks": ""
            },
            "colorscale": [
             [
              0,
              "#0d0887"
             ],
             [
              0.1111111111111111,
              "#46039f"
             ],
             [
              0.2222222222222222,
              "#7201a8"
             ],
             [
              0.3333333333333333,
              "#9c179e"
             ],
             [
              0.4444444444444444,
              "#bd3786"
             ],
             [
              0.5555555555555556,
              "#d8576b"
             ],
             [
              0.6666666666666666,
              "#ed7953"
             ],
             [
              0.7777777777777778,
              "#fb9f3a"
             ],
             [
              0.8888888888888888,
              "#fdca26"
             ],
             [
              1,
              "#f0f921"
             ]
            ],
            "type": "histogram2dcontour"
           }
          ],
          "mesh3d": [
           {
            "colorbar": {
             "outlinewidth": 0,
             "ticks": ""
            },
            "type": "mesh3d"
           }
          ],
          "parcoords": [
           {
            "line": {
             "colorbar": {
              "outlinewidth": 0,
              "ticks": ""
             }
            },
            "type": "parcoords"
           }
          ],
          "pie": [
           {
            "automargin": true,
            "type": "pie"
           }
          ],
          "scatter": [
           {
            "fillpattern": {
             "fillmode": "overlay",
             "size": 10,
             "solidity": 0.2
            },
            "type": "scatter"
           }
          ],
          "scatter3d": [
           {
            "line": {
             "colorbar": {
              "outlinewidth": 0,
              "ticks": ""
             }
            },
            "marker": {
             "colorbar": {
              "outlinewidth": 0,
              "ticks": ""
             }
            },
            "type": "scatter3d"
           }
          ],
          "scattercarpet": [
           {
            "marker": {
             "colorbar": {
              "outlinewidth": 0,
              "ticks": ""
             }
            },
            "type": "scattercarpet"
           }
          ],
          "scattergeo": [
           {
            "marker": {
             "colorbar": {
              "outlinewidth": 0,
              "ticks": ""
             }
            },
            "type": "scattergeo"
           }
          ],
          "scattergl": [
           {
            "marker": {
             "colorbar": {
              "outlinewidth": 0,
              "ticks": ""
             }
            },
            "type": "scattergl"
           }
          ],
          "scattermapbox": [
           {
            "marker": {
             "colorbar": {
              "outlinewidth": 0,
              "ticks": ""
             }
            },
            "type": "scattermapbox"
           }
          ],
          "scatterpolar": [
           {
            "marker": {
             "colorbar": {
              "outlinewidth": 0,
              "ticks": ""
             }
            },
            "type": "scatterpolar"
           }
          ],
          "scatterpolargl": [
           {
            "marker": {
             "colorbar": {
              "outlinewidth": 0,
              "ticks": ""
             }
            },
            "type": "scatterpolargl"
           }
          ],
          "scatterternary": [
           {
            "marker": {
             "colorbar": {
              "outlinewidth": 0,
              "ticks": ""
             }
            },
            "type": "scatterternary"
           }
          ],
          "surface": [
           {
            "colorbar": {
             "outlinewidth": 0,
             "ticks": ""
            },
            "colorscale": [
             [
              0,
              "#0d0887"
             ],
             [
              0.1111111111111111,
              "#46039f"
             ],
             [
              0.2222222222222222,
              "#7201a8"
             ],
             [
              0.3333333333333333,
              "#9c179e"
             ],
             [
              0.4444444444444444,
              "#bd3786"
             ],
             [
              0.5555555555555556,
              "#d8576b"
             ],
             [
              0.6666666666666666,
              "#ed7953"
             ],
             [
              0.7777777777777778,
              "#fb9f3a"
             ],
             [
              0.8888888888888888,
              "#fdca26"
             ],
             [
              1,
              "#f0f921"
             ]
            ],
            "type": "surface"
           }
          ],
          "table": [
           {
            "cells": {
             "fill": {
              "color": "#EBF0F8"
             },
             "line": {
              "color": "white"
             }
            },
            "header": {
             "fill": {
              "color": "#C8D4E3"
             },
             "line": {
              "color": "white"
             }
            },
            "type": "table"
           }
          ]
         },
         "layout": {
          "annotationdefaults": {
           "arrowcolor": "#2a3f5f",
           "arrowhead": 0,
           "arrowwidth": 1
          },
          "autotypenumbers": "strict",
          "coloraxis": {
           "colorbar": {
            "outlinewidth": 0,
            "ticks": ""
           }
          },
          "colorscale": {
           "diverging": [
            [
             0,
             "#8e0152"
            ],
            [
             0.1,
             "#c51b7d"
            ],
            [
             0.2,
             "#de77ae"
            ],
            [
             0.3,
             "#f1b6da"
            ],
            [
             0.4,
             "#fde0ef"
            ],
            [
             0.5,
             "#f7f7f7"
            ],
            [
             0.6,
             "#e6f5d0"
            ],
            [
             0.7,
             "#b8e186"
            ],
            [
             0.8,
             "#7fbc41"
            ],
            [
             0.9,
             "#4d9221"
            ],
            [
             1,
             "#276419"
            ]
           ],
           "sequential": [
            [
             0,
             "#0d0887"
            ],
            [
             0.1111111111111111,
             "#46039f"
            ],
            [
             0.2222222222222222,
             "#7201a8"
            ],
            [
             0.3333333333333333,
             "#9c179e"
            ],
            [
             0.4444444444444444,
             "#bd3786"
            ],
            [
             0.5555555555555556,
             "#d8576b"
            ],
            [
             0.6666666666666666,
             "#ed7953"
            ],
            [
             0.7777777777777778,
             "#fb9f3a"
            ],
            [
             0.8888888888888888,
             "#fdca26"
            ],
            [
             1,
             "#f0f921"
            ]
           ],
           "sequentialminus": [
            [
             0,
             "#0d0887"
            ],
            [
             0.1111111111111111,
             "#46039f"
            ],
            [
             0.2222222222222222,
             "#7201a8"
            ],
            [
             0.3333333333333333,
             "#9c179e"
            ],
            [
             0.4444444444444444,
             "#bd3786"
            ],
            [
             0.5555555555555556,
             "#d8576b"
            ],
            [
             0.6666666666666666,
             "#ed7953"
            ],
            [
             0.7777777777777778,
             "#fb9f3a"
            ],
            [
             0.8888888888888888,
             "#fdca26"
            ],
            [
             1,
             "#f0f921"
            ]
           ]
          },
          "colorway": [
           "#636efa",
           "#EF553B",
           "#00cc96",
           "#ab63fa",
           "#FFA15A",
           "#19d3f3",
           "#FF6692",
           "#B6E880",
           "#FF97FF",
           "#FECB52"
          ],
          "font": {
           "color": "#2a3f5f"
          },
          "geo": {
           "bgcolor": "white",
           "lakecolor": "white",
           "landcolor": "#E5ECF6",
           "showlakes": true,
           "showland": true,
           "subunitcolor": "white"
          },
          "hoverlabel": {
           "align": "left"
          },
          "hovermode": "closest",
          "mapbox": {
           "style": "light"
          },
          "paper_bgcolor": "white",
          "plot_bgcolor": "#E5ECF6",
          "polar": {
           "angularaxis": {
            "gridcolor": "white",
            "linecolor": "white",
            "ticks": ""
           },
           "bgcolor": "#E5ECF6",
           "radialaxis": {
            "gridcolor": "white",
            "linecolor": "white",
            "ticks": ""
           }
          },
          "scene": {
           "xaxis": {
            "backgroundcolor": "#E5ECF6",
            "gridcolor": "white",
            "gridwidth": 2,
            "linecolor": "white",
            "showbackground": true,
            "ticks": "",
            "zerolinecolor": "white"
           },
           "yaxis": {
            "backgroundcolor": "#E5ECF6",
            "gridcolor": "white",
            "gridwidth": 2,
            "linecolor": "white",
            "showbackground": true,
            "ticks": "",
            "zerolinecolor": "white"
           },
           "zaxis": {
            "backgroundcolor": "#E5ECF6",
            "gridcolor": "white",
            "gridwidth": 2,
            "linecolor": "white",
            "showbackground": true,
            "ticks": "",
            "zerolinecolor": "white"
           }
          },
          "shapedefaults": {
           "line": {
            "color": "#2a3f5f"
           }
          },
          "ternary": {
           "aaxis": {
            "gridcolor": "white",
            "linecolor": "white",
            "ticks": ""
           },
           "baxis": {
            "gridcolor": "white",
            "linecolor": "white",
            "ticks": ""
           },
           "bgcolor": "#E5ECF6",
           "caxis": {
            "gridcolor": "white",
            "linecolor": "white",
            "ticks": ""
           }
          },
          "title": {
           "x": 0.05
          },
          "xaxis": {
           "automargin": true,
           "gridcolor": "white",
           "linecolor": "white",
           "ticks": "",
           "title": {
            "standoff": 15
           },
           "zerolinecolor": "white",
           "zerolinewidth": 2
          },
          "yaxis": {
           "automargin": true,
           "gridcolor": "white",
           "linecolor": "white",
           "ticks": "",
           "title": {
            "standoff": 15
           },
           "zerolinecolor": "white",
           "zerolinewidth": 2
          }
         }
        },
        "title": {
         "text": "Nombre total d'achats selon le canal de vente pour les clients ayant accepté une campagne"
        },
        "xaxis": {
         "anchor": "y",
         "categoryarray": [
          "NumWebPurchases",
          "NumCatalogPurchases",
          "NumStorePurchases"
         ],
         "categoryorder": "array",
         "domain": [
          0,
          1
         ],
         "title": {
          "text": "type_of_Purchase"
         }
        },
        "yaxis": {
         "anchor": "x",
         "domain": [
          0,
          1
         ],
         "title": {
          "text": "total"
         }
        }
       }
      }
     },
     "metadata": {},
     "output_type": "display_data"
    }
   ],
   "source": [
    "purchase_type_accpm = pd.DataFrame(\n",
    "    acc_cmp[[\"NumWebPurchases\", \"NumCatalogPurchases\", \"NumStorePurchases\"]].sum(),\n",
    "    columns=[\"total\"],\n",
    ").reset_index()\n",
    "purchase_type_accpm.rename(columns={\"index\": \"type_of_Purchase\"}, inplace=True)\n",
    "\n",
    "px.bar(\n",
    "    purchase_type_accpm,\n",
    "    x=\"type_of_Purchase\",\n",
    "    y=\"total\",\n",
    "    title=\"Nombre total d'achats selon le canal de vente pour les clients ayant accepté une campagne\",\n",
    "    color=\"type_of_Purchase\",\n",
    ")"
   ]
  },
  {
   "cell_type": "markdown",
   "metadata": {},
   "source": [
    "#### y'a-t-il plus de dépenses pendant une campagne marketing par rapport au reste du temps ?"
   ]
  },
  {
   "cell_type": "code",
   "execution_count": 45,
   "metadata": {},
   "outputs": [
    {
     "name": "stdout",
     "output_type": "stream",
     "text": [
      "Montant total dépensé pendant les campagnes marketing: 502022\n",
      "Montant total dépensé hors campagnes marketing: 837960\n"
     ]
    }
   ],
   "source": [
    "total_spent_during_campaign = data[data[\"accepted_campaigns\"] != 0][\"Total_Amount_Spent\"].sum()\n",
    "\n",
    "total_spent_when_not_campaign = data[data[\"accepted_campaigns\"] == 0][\n",
    "    \"Total_Amount_Spent\"\n",
    "].sum()\n",
    "\n",
    "print(f\"Montant total dépensé pendant les campagnes marketing: {total_spent_during_campaign}\")\n",
    "print(f\"Montant total dépensé hors campagnes marketing: {total_spent_when_not_campaign}\")"
   ]
  },
  {
   "cell_type": "markdown",
   "metadata": {},
   "source": [
    "Il semble avoir beaucoup plus de dépenses en dehors des campagnes marketing que pendant. Peut-être que le nombre de personnes acceptant les campagnes marketing est beaucoup plus faible que ceux ne les acceptant pas ou peut-être que la durée des campagnes peut expliquer celà.\n",
    "\n",
    "Examinons le nombre de personnes qui acceptent les campagnes marketing par rapport à celles qui ne les acceptent pas."
   ]
  },
  {
   "cell_type": "code",
   "execution_count": 46,
   "metadata": {},
   "outputs": [
    {
     "data": {
      "text/plain": [
       "459"
      ]
     },
     "execution_count": 46,
     "metadata": {},
     "output_type": "execute_result"
    }
   ],
   "source": [
    "data[data[\"accepted_campaigns\"] != 0].shape[0]"
   ]
  },
  {
   "cell_type": "code",
   "execution_count": 47,
   "metadata": {},
   "outputs": [
    {
     "data": {
      "text/plain": [
       "1749"
      ]
     },
     "execution_count": 47,
     "metadata": {},
     "output_type": "execute_result"
    }
   ],
   "source": [
    "data[data[\"accepted_campaigns\"] == 0].shape[0]"
   ]
  },
  {
   "cell_type": "markdown",
   "metadata": {},
   "source": [
    "En effet, il y a environ 4 fois plus de personnes qui n'acceptent pas les campagnes que celles qui acceptent. Cependant, la différence de montant dépensé entre les deux groupes est de 335938$ sur les deux années. Ce qui n'est pas très énorme. Cela semble indiquer qu'il y a beaucoup de dépenses durant les campagnes."
   ]
  },
  {
   "cell_type": "markdown",
   "metadata": {},
   "source": [
    "#### Est-ce qu'on dépense plus quand on gagne plus ?"
   ]
  },
  {
   "cell_type": "code",
   "execution_count": 48,
   "metadata": {},
   "outputs": [
    {
     "data": {
      "application/vnd.plotly.v1+json": {
       "config": {
        "plotlyServerURL": "https://plot.ly"
       },
       "data": [
        {
         "hovertemplate": "Income=%{x}<br>Total_Amount_Spent=%{y}<extra></extra>",
         "legendgroup": "",
         "marker": {
          "color": "#636efa",
          "symbol": "circle"
         },
         "mode": "markers",
         "name": "",
         "showlegend": false,
         "type": "scattergl",
         "x": [
          58138,
          46344,
          71613,
          26646,
          58293,
          62513,
          55635,
          33454,
          30351,
          5648,
          7500,
          63033,
          59354,
          17323,
          82800,
          41850,
          37760,
          76995,
          33812,
          37040,
          2447,
          58607,
          65324,
          40689,
          18589,
          53359,
          38360,
          84618,
          10979,
          38620,
          40548,
          46610,
          68657,
          49389,
          67353,
          23718,
          42429,
          48948,
          80011,
          20559,
          21994,
          7500,
          79941,
          7500,
          41728,
          72550,
          65486,
          79143,
          35790,
          82582,
          66373,
          82384,
          70287,
          27938,
          55954,
          75777,
          66653,
          61823,
          67680,
          70666,
          25721,
          32474,
          88194,
          69096,
          74854,
          66991,
          65031,
          60631,
          28332,
          40246,
          75251,
          75825,
          26326,
          56046,
          29760,
          26304,
          23559,
          38620,
          81361,
          29440,
          36138,
          50388,
          79593,
          54178,
          42394,
          23626,
          30096,
          47916,
          51813,
          78497,
          50150,
          47823,
          34554,
          85693,
          65846,
          87195,
          24594,
          49096,
          52413,
          38557,
          89058,
          77298,
          68126,
          57288,
          86037,
          43974,
          50785,
          90765,
          36550,
          30753,
          21918,
          56129,
          32557,
          19510,
          30992,
          101970,
          71488,
          79607,
          54348,
          77376,
          62998,
          61331,
          73448,
          41551,
          62981,
          9548,
          33762,
          35860,
          36921,
          92859,
          65104,
          86111,
          68352,
          41883,
          59809,
          23957,
          38547,
          35688,
          49605,
          59354,
          65747,
          46344,
          34176,
          61010,
          69372,
          49967,
          60199,
          55375,
          80317,
          30523,
          70356,
          23228,
          74165,
          43482,
          62551,
          52332,
          66951,
          26091,
          33456,
          28718,
          50447,
          53537,
          52074,
          80427,
          83837,
          38853,
          38285,
          78497,
          51650,
          16248,
          66835,
          30477,
          28249,
          25271,
          32303,
          61286,
          74068,
          45759,
          24882,
          66973,
          36640,
          38872,
          51148,
          31353,
          69661,
          80067,
          86718,
          46854,
          69142,
          75922,
          63693,
          102160,
          40637,
          18890,
          29604,
          48721,
          44794,
          64497,
          46097,
          77972,
          44377,
          46014,
          70951,
          41443,
          52195,
          83790,
          44551,
          69508,
          45204,
          72460,
          77622,
          30732,
          63887,
          42011,
          51369,
          51537,
          79930,
          34320,
          37070,
          81975,
          38590,
          15033,
          62745,
          22212,
          23661,
          79761,
          7500,
          60182,
          73455,
          64961,
          22804,
          73687,
          61074,
          31686,
          80134,
          75027,
          67546,
          65176,
          31160,
          29938,
          102692,
          26490,
          75702,
          30899,
          63342,
          45989,
          18701,
          40737,
          15287,
          69674,
          44159,
          37717,
          43776,
          38179,
          80124,
          38097,
          72940,
          22070,
          69267,
          31788,
          61905,
          29315,
          33378,
          66313,
          60714,
          77882,
          69867,
          63841,
          24480,
          51369,
          37760,
          65640,
          44319,
          30631,
          75278,
          50898,
          79946,
          35416,
          32414,
          38361,
          82497,
          16626,
          29672,
          55951,
          35388,
          42386,
          68627,
          57912,
          35246,
          58821,
          46377,
          39747,
          23976,
          80950,
          27038,
          77457,
          64100,
          42670,
          12571,
          22574,
          70893,
          54198,
          28839,
          40321,
          66503,
          30833,
          64795,
          34421,
          47025,
          64325,
          40464,
          62187,
          14849,
          27255,
          54432,
          29999,
          24072,
          33996,
          66334,
          35178,
          22010,
          62204,
          75693,
          30675,
          83003,
          83532,
          68655,
          41411,
          55212,
          59292,
          27190,
          82623,
          44300,
          84835,
          30372,
          33181,
          71113,
          71952,
          69759,
          72099,
          60000,
          38643,
          50737,
          68462,
          65073,
          46681,
          78618,
          62187,
          28442,
          37717,
          51479,
          54803,
          79530,
          31615,
          72025,
          52614,
          35684,
          48178,
          29548,
          63810,
          38578,
          46098,
          22585,
          30279,
          66426,
          30822,
          33581,
          19986,
          27421,
          35688,
          36143,
          10245,
          43795,
          63381,
          38823,
          83664,
          90300,
          62499,
          74293,
          51012,
          70777,
          68682,
          43824,
          15345,
          23442,
          14515,
          31395,
          75276,
          42373,
          30507,
          55521,
          48006,
          27213,
          65808,
          30351,
          50437,
          23616,
          53858,
          66465,
          46923,
          75072,
          75865,
          19789,
          80134,
          91065,
          49505,
          37401,
          30096,
          18492,
          82584,
          93027,
          48686,
          92910,
          75433,
          10404,
          61314,
          84865,
          42387,
          67309,
          75236,
          30015,
          50943,
          67272,
          51529,
          32011,
          7500,
          28691,
          56223,
          18100,
          30279,
          20130,
          23295,
          42618,
          81246,
          24027,
          55707,
          57959,
          56796,
          36230,
          70829,
          65991,
          38988,
          89572,
          42207,
          50300,
          66664,
          60597,
          70165,
          50520,
          80124,
          33183,
          66582,
          75261,
          31880,
          53790,
          49269,
          61456,
          37406,
          56937,
          38415,
          20518,
          62503,
          41644,
          55842,
          62010,
          41124,
          38961,
          37760,
          32233,
          43057,
          83151,
          78825,
          65104,
          60093,
          14045,
          28457,
          78952,
          46310,
          76005,
          58308,
          55614,
          59432,
          55563,
          78642,
          67911,
          65275,
          27203,
          48330,
          24279,
          64355,
          50943,
          53653,
          65665,
          81217,
          34935,
          61250,
          39665,
          60152,
          48920,
          89120,
          44124,
          81169,
          36443,
          26095,
          71367,
          80184,
          30630,
          73454,
          42691,
          70503,
          25545,
          32880,
          77863,
          50353,
          61839,
          49154,
          47682,
          72679,
          57954,
          65316,
          28567,
          47352,
          44931,
          76982,
          57247,
          22944,
          25315,
          43638,
          42710,
          84169,
          54058,
          24683,
          85620,
          47850,
          19514,
          27159,
          39548,
          21474,
          60504,
          22419,
          81698,
          43462,
          54880,
          79908,
          15315,
          87771,
          33039,
          81741,
          71499,
          62466,
          48799,
          52157,
          66565,
          29298,
          47691,
          38200,
          44989,
          38443,
          38593,
          64413,
          36959,
          61996,
          51287,
          13260,
          47472,
          54603,
          45207,
          40689,
          47821,
          27450,
          39453,
          26850,
          79800,
          61794,
          53863,
          24221,
          39684,
          92163,
          69882,
          33178,
          59973,
          17459,
          23910,
          42169,
          26224,
          31089,
          30081,
          62807,
          72906,
          61467,
          49618,
          21888,
          42429,
          26150,
          30801,
          81168,
          26877,
          45006,
          18978,
          22574,
          48240,
          45837,
          35791,
          54162,
          30522,
          54456,
          31632,
          72298,
          36975,
          72635,
          13624,
          84196,
          70971,
          34487,
          28769,
          69084,
          65488,
          62466,
          32218,
          83917,
          46102,
          84574,
          56181,
          63120,
          73691,
          63381,
          76140,
          62859,
          45906,
          77632,
          46463,
          105471,
          55282,
          78710,
          66886,
          98777,
          29103,
          67445,
          50616,
          49431,
          61278,
          26490,
          73059,
          46734,
          56253,
          19986,
          58330,
          25965,
          14661,
          18690,
          45068,
          21063,
          29187,
          54690,
          59304,
          59247,
          66731,
          77353,
          52614,
          26751,
          81300,
          70337,
          36145,
          65295,
          68118,
          68743,
          41039,
          38946,
          65777,
          66476,
          86857,
          77845,
          69476,
          50611,
          61209,
          42315,
          13084,
          47570,
          61923,
          34824,
          26518,
          45938,
          78468,
          78901,
          71427,
          71022,
          90247,
          41335,
          71952,
          35682,
          43185,
          66375,
          35178,
          25252,
          55250,
          33249,
          58398,
          50272,
          76618,
          87305,
          25851,
          58710,
          45160,
          74806,
          59111,
          18988,
          72190,
          7500,
          44794,
          80395,
          75012,
          56962,
          89891,
          35946,
          53593,
          66373,
          45072,
          89694,
          72025,
          67432,
          70545,
          17487,
          62882,
          64108,
          34941,
          48767,
          38702,
          82224,
          83844,
          17003,
          71163,
          33697,
          63564,
          83443,
          51518,
          58330,
          80952,
          75507,
          63855,
          62220,
          58512,
          40662,
          38829,
          35523,
          79146,
          78285,
          31626,
          75127,
          48726,
          74985,
          67430,
          46891,
          62058,
          72063,
          78939,
          42720,
          33622,
          6835,
          41452,
          40760,
          74250,
          51124,
          72258,
          71466,
          36283,
          20587,
          30467,
          31590,
          20425,
          17144,
          42564,
          43783,
          40780,
          62847,
          82017,
          16813,
          51267,
          46524,
          45183,
          70421,
          60161,
          73926,
          19329,
          61872,
          46984,
          34838,
          82716,
          48192,
          49681,
          56850,
          55267,
          59666,
          72504,
          26872,
          21359,
          73170,
          52750,
          91820,
          65968,
          30772,
          22507,
          65685,
          25804,
          76412,
          22063,
          57091,
          22419,
          87771,
          78353,
          93404,
          37859,
          80995,
          16529,
          55412,
          48789,
          56575,
          25130,
          35441,
          71391,
          49494,
          81702,
          45889,
          56628,
          34026,
          40049,
          34176,
          19419,
          82504,
          81205,
          61618,
          55284,
          49980,
          15072,
          49166,
          65324,
          82347,
          30843,
          46374,
          60474,
          38576,
          55357,
          37758,
          85710,
          23228,
          44602,
          7500,
          38683,
          49514,
          57906,
          43456,
          19485,
          53172,
          30545,
          70123,
          62450,
          21675,
          42395,
          61346,
          80812,
          42835,
          39922,
          86424,
          17117,
          24762,
          35797,
          36627,
          51111,
          86857,
          82072,
          46231,
          42243,
          51195,
          68092,
          31814,
          51390,
          76630,
          26868,
          48948,
          55260,
          64090,
          78331,
          37087,
          21846,
          81320,
          54137,
          66825,
          57100,
          58917,
          85072,
          86429,
          45684,
          47889,
          45921,
          78420,
          75114,
          52278,
          35641,
          95529,
          62820,
          73113,
          84169,
          42607,
          74637,
          46015,
          72354,
          39858,
          34469,
          83033,
          24401,
          77583,
          74116,
          74293,
          68397,
          79632,
          46107,
          64950,
          25443,
          75127,
          32892,
          71796,
          67536,
          55239,
          60554,
          64831,
          56067,
          82025,
          94384,
          14906,
          51563,
          57937,
          68274,
          39771,
          67893,
          27922,
          52190,
          44051,
          42767,
          46106,
          16927,
          59754,
          53700,
          59041,
          54237,
          70647,
          52597,
          41021,
          40233,
          50183,
          54753,
          92955,
          33471,
          34596,
          44010,
          84219,
          40706,
          15716,
          59052,
          80573,
          83715,
          82576,
          56962,
          35704,
          53103,
          46779,
          4861,
          33462,
          63693,
          80763,
          65352,
          82170,
          75759,
          79689,
          35340,
          85683,
          24884,
          42021,
          64449,
          64587,
          34824,
          75437,
          26091,
          52845,
          46086,
          78028,
          95169,
          56337,
          22434,
          36930,
          36130,
          65569,
          83844,
          19514,
          36736,
          77568,
          49187,
          30168,
          34053,
          38196,
          59412,
          70924,
          54165,
          32300,
          20180,
          34961,
          28440,
          64504,
          33564,
          17345,
          56320,
          28647,
          15038,
          32173,
          68316,
          74538,
          91700,
          68695,
          31056,
          79593,
          28071,
          37334,
          46423,
          37126,
          47703,
          61180,
          38998,
          8028,
          76081,
          34728,
          33168,
          33585,
          77037,
          35196,
          44529,
          70924,
          28764,
          69098,
          25959,
          27100,
          70596,
          42557,
          53312,
          72228,
          67605,
          62845,
          65196,
          42000,
          35860,
          65526,
          16860,
          83528,
          64176,
          22304,
          67023,
          32892,
          70713,
          59925,
          39722,
          46610,
          88347,
          87171,
          26907,
          50014,
          41014,
          66294,
          36715,
          79456,
          40479,
          75345,
          54233,
          24163,
          84460,
          43776,
          71691,
          85844,
          39190,
          71367,
          38578,
          57236,
          61825,
          79803,
          80910,
          27590,
          56775,
          83829,
          54210,
          38508,
          53187,
          30023,
          76045,
          50870,
          15315,
          65463,
          66480,
          76773,
          81698,
          54466,
          98777,
          16269,
          71819,
          33569,
          36262,
          22634,
          47025,
          70566,
          31605,
          52034,
          48526,
          46734,
          39552,
          86358,
          46931,
          16581,
          63998,
          67381,
          25930,
          42693,
          85606,
          72903,
          49669,
          36778,
          85696,
          10979,
          49678,
          56129,
          37155,
          21282,
          33419,
          63285,
          21255,
          42162,
          54450,
          57744,
          26576,
          57513,
          68142,
          7500,
          83145,
          54197,
          23091,
          46049,
          56715,
          79410,
          57304,
          44375,
          54450,
          59594,
          80685,
          40344,
          62710,
          48985,
          35322,
          77142,
          81657,
          14421,
          20130,
          74214,
          66726,
          23724,
          47353,
          33444,
          54386,
          28510,
          90638,
          48070,
          43140,
          54959,
          15056,
          26954,
          22327,
          44393,
          62000,
          31497,
          45894,
          78579,
          67369,
          58401,
          62307,
          43641,
          63841,
          46891,
          70091,
          78075,
          59184,
          54809,
          58113,
          51412,
          15287,
          66636,
          50965,
          84618,
          18351,
          40451,
          36317,
          42213,
          65748,
          77044,
          74918,
          56721,
          42160,
          61559,
          33629,
          68682,
          34377,
          8940,
          26228,
          77297,
          40211,
          33438,
          75032,
          61284,
          22518,
          54730,
          38452,
          44421,
          38197,
          41986,
          28427,
          37395,
          64722,
          55249,
          84906,
          28691,
          44213,
          25707,
          59062,
          76624,
          66000,
          27683,
          1730,
          7500,
          40521,
          20427,
          65106,
          69969,
          67433,
          77766,
          74716,
          68118,
          55158,
          62972,
          74190,
          39356,
          76653,
          35860,
          90687,
          73450,
          31454,
          47139,
          83829,
          53378,
          19656,
          45579,
          85485,
          55956,
          64191,
          38808,
          57183,
          23748,
          66303,
          37368,
          40800,
          71847,
          46149,
          78687,
          49118,
          37633,
          39767,
          26997,
          33986,
          57091,
          46831,
          83151,
          52531,
          15759,
          22804,
          43050,
          42997,
          48918,
          60033,
          34043,
          57811,
          78569,
          7500,
          94384,
          23148,
          44267,
          71626,
          60894,
          50200,
          81051,
          65169,
          59868,
          65695,
          64857,
          45143,
          74805,
          59060,
          27238,
          47009,
          46094,
          40321,
          37235,
          81843,
          46692,
          77382,
          37774,
          18393,
          72828,
          24711,
          45503,
          6560,
          71604,
          27244,
          48752,
          71434,
          90842,
          88097,
          51948,
          71853,
          35876,
          40049,
          39660,
          50127,
          43263,
          62845,
          18929,
          24367,
          33249,
          26887,
          50150,
          62061,
          85696,
          76542,
          70515,
          18227,
          69139,
          69109,
          69627,
          38136,
          62159,
          80695,
          33316,
          58554,
          17256,
          53034,
          52203,
          59601,
          75154,
          47025,
          37971,
          41335,
          67267,
          57338,
          50523,
          35791,
          50611,
          56242,
          48904,
          56243,
          21355,
          57420,
          46390,
          54342,
          20895,
          92344,
          26907,
          44964,
          75507,
          53761,
          22682,
          38887,
          41658,
          29791,
          63915,
          39996,
          26759,
          63841,
          51039,
          60544,
          65685,
          37716,
          36864,
          44511,
          36947,
          47352,
          67087,
          57045,
          36957,
          69389,
          80134,
          43142,
          80589,
          34412,
          57537,
          22634,
          51315,
          36026,
          24639,
          34578,
          65704,
          63810,
          54132,
          18690,
          28164,
          34596,
          43269,
          38741,
          31907,
          27100,
          31163,
          92533,
          34853,
          70844,
          31086,
          60544,
          20491,
          42523,
          39922,
          33402,
          36408,
          21645,
          78427,
          82657,
          51876,
          78041,
          52852,
          70038,
          69401,
          46053,
          77343,
          73892,
          40304,
          32727,
          68695,
          43300,
          26290,
          93790,
          38410,
          64866,
          57957,
          46015,
          16531,
          28072,
          49476,
          50725,
          83844,
          41145,
          67419,
          23162,
          34380,
          34704,
          94871,
          65148,
          39898,
          64857,
          59892,
          41020,
          57072,
          60474,
          62807,
          19414,
          19107,
          75484,
          70379,
          79419,
          64014,
          76998,
          49854,
          60585,
          42873,
          87679,
          57867,
          35765,
          65492,
          32952,
          53374,
          71706,
          68487,
          53253,
          31163,
          42014,
          54108,
          49667,
          63206,
          57136,
          46772,
          78931,
          53977,
          84219,
          46098,
          73538,
          79529,
          20981,
          51766,
          55759,
          33039,
          37787,
          27242,
          87188,
          69930,
          37697,
          37401,
          3502,
          58597,
          82032,
          28087,
          74004,
          19740,
          57036,
          53083,
          69283,
          46098,
          23331,
          23331,
          9255,
          67786,
          71969,
          59235,
          31928,
          74881,
          65819,
          51411,
          51983,
          42386,
          30390,
          30983,
          66033,
          37284,
          57530,
          76800,
          63943,
          76081,
          67445,
          37054,
          47175,
          31859,
          27215,
          70179,
          39922,
          49681,
          24645,
          79865,
          44322,
          47958,
          63972,
          75315,
          55517,
          75283,
          82800,
          38998,
          90638,
          27161,
          42014,
          38201,
          45203,
          81574,
          34935,
          60482,
          34633,
          78093,
          82460,
          45903,
          81361,
          35860,
          40442,
          61482,
          34968,
          75794,
          31497,
          74268,
          13724,
          45143,
          52569,
          48432,
          17144,
          36108,
          76445,
          36663,
          53843,
          90226,
          70638,
          44512,
          27116,
          54072,
          71855,
          51250,
          60432,
          65526,
          68655,
          12393,
          64509,
          33955,
          31353,
          55434,
          28359,
          57100,
          69139,
          52973,
          51717,
          18793,
          66664,
          50664,
          54414,
          54549,
          47111,
          41003,
          19444,
          36301,
          73059,
          42731,
          52854,
          22775,
          46681,
          59821,
          50002,
          69755,
          44078,
          30560,
          35924,
          64140,
          56386,
          24594,
          75774,
          39228,
          58494,
          58684,
          57136,
          56551,
          22448,
          82014,
          34213,
          25358,
          35544,
          36634,
          62670,
          50334,
          72066,
          50729,
          34916,
          64892,
          43602,
          33996,
          41473,
          63246,
          36732,
          69084,
          77766,
          37929,
          86610,
          80141,
          72635,
          69016,
          20193,
          27573,
          15862,
          49544,
          33228,
          70440,
          38232,
          22554,
          23536,
          49413,
          42231,
          78789,
          56534,
          58350,
          81217,
          49090,
          61787,
          18169,
          24336,
          18222,
          62335,
          42033,
          86580,
          41437,
          73705,
          61064,
          38452,
          18358,
          55012,
          9722,
          38175,
          58656,
          52117,
          64813,
          54222,
          83512,
          77520,
          41154,
          80398,
          18746,
          35196,
          60230,
          22108,
          44392,
          55424,
          17688,
          92491,
          90273,
          82571,
          38513,
          16653,
          42586,
          23529,
          74881,
          71107,
          46910,
          18690,
          37244,
          82427,
          75342,
          70044,
          79146,
          77437,
          54984,
          42403,
          55761,
          37292,
          45576,
          70321,
          58086,
          81795,
          28389,
          66835,
          69901,
          80360,
          63342,
          44989,
          31859,
          51569,
          30372,
          16014,
          41120,
          39763,
          38725,
          77981,
          62905,
          13533,
          59481,
          72117,
          21955,
          67131,
          36802,
          71853,
          28249,
          47808,
          25509,
          51012,
          70596,
          85431,
          42664,
          42586,
          29760,
          28973,
          39435,
          65370,
          20194,
          42473,
          64590,
          71232,
          34600,
          46904,
          49094,
          36075,
          60839,
          77298,
          34026,
          48918,
          82122,
          37697,
          34074,
          28520,
          62535,
          36273,
          63404,
          75774,
          78416,
          75702,
          59385,
          37070,
          44689,
          53977,
          7144,
          18701,
          90369,
          63159,
          37758,
          46757,
          79734,
          63207,
          72071,
          21840,
          58582,
          72282,
          50387,
          32583,
          62568,
          44635,
          33316,
          63967,
          52513,
          25293,
          54111,
          78394,
          80739,
          22669,
          29236,
          44911,
          54693,
          48186,
          54809,
          41580,
          80336,
          47743,
          62972,
          57333,
          32313,
          84953,
          27071,
          68148,
          65735,
          86836,
          4023,
          30093,
          57705,
          25008,
          83257,
          22280,
          72159,
          64260,
          82733,
          74290,
          58217,
          21024,
          70116,
          54006,
          69063,
          11448,
          61825,
          70886,
          69109,
          60208,
          32889,
          34738,
          30538,
          82326,
          26642,
          69932,
          44503,
          60200,
          49638,
          23830,
          33051,
          72905,
          69702,
          70300,
          70643,
          30396,
          50616,
          62772,
          30298,
          52413,
          44155,
          86979,
          76532,
          42081,
          67546,
          88420,
          31158,
          61671,
          69719,
          49160,
          24882,
          90933,
          113734,
          59292,
          45759,
          22148,
          73395,
          29819,
          45688,
          62820,
          60491,
          33235,
          35701,
          31535,
          92556,
          67384,
          80573,
          77870,
          52278,
          57107,
          18929,
          36038,
          20180,
          34230,
          31878,
          70932,
          91249,
          77598,
          80982,
          22701,
          55212,
          70617,
          64849,
          62694,
          61917,
          67472,
          21059,
          29543,
          75903,
          34984,
          54998,
          54356,
          34242,
          25410,
          73356,
          28320,
          23763,
          72570,
          34529,
          70792,
          63211,
          83891,
          36065,
          39898,
          51141,
          56939,
          80872,
          72335,
          61798,
          76842,
          29478,
          46998,
          96843,
          56551,
          70053,
          71670,
          44359,
          40887,
          48877,
          74485,
          64474,
          77226,
          72643,
          85738,
          55686,
          39062,
          34600,
          40794,
          54690,
          4428,
          32632,
          38236,
          36781,
          31385,
          24570,
          25509,
          94642,
          58646,
          53201,
          21994,
          57113,
          51373,
          23477,
          58116,
          72968,
          39791,
          91712,
          94472,
          13672,
          96547,
          79205,
          56559,
          32644,
          67506,
          24206,
          28420,
          22979,
          33279,
          46423,
          30368,
          63684,
          41638,
          68805,
          65814,
          71964,
          39146,
          96876,
          34445,
          68281,
          37284,
          36790,
          27943,
          22263,
          30261,
          28587,
          43815,
          48195,
          77027,
          71322,
          32765,
          29672,
          23272,
          49912,
          7500,
          68117,
          67225,
          17649,
          55914,
          40059,
          60905,
          75330,
          60689,
          38680,
          61416,
          49767,
          83273,
          29009,
          45057,
          37150,
          43020,
          53154,
          65308,
          76467,
          81044,
          32871,
          55801,
          76320,
          36927,
          48794,
          23478,
          71128,
          70179,
          59462,
          38361,
          70038,
          42554,
          67445,
          67046,
          42192,
          77610,
          31761,
          34350,
          54591,
          71866,
          25293,
          42000,
          69520,
          64713,
          27889,
          22123,
          27803,
          51651,
          68487,
          56796,
          87000,
          79823,
          30828,
          34109,
          53367,
          22390,
          71322,
          79244,
          49912,
          48699,
          80144,
          54252,
          81929,
          76068,
          53204,
          67911,
          14796,
          78128,
          14188,
          20425,
          58646,
          72967,
          48150,
          82332,
          58275,
          44953,
          34587,
          43018,
          45736,
          66476,
          27733,
          69805,
          72217,
          25818,
          37509,
          25176,
          43586,
          53230,
          50116,
          84906,
          61286,
          82333,
          65220,
          33590,
          30992,
          72309,
          16005,
          65487,
          58692,
          40590,
          20587,
          62637,
          29435,
          19346,
          35788,
          36997,
          23539,
          65333,
          78499,
          29732,
          41275,
          63516,
          42769,
          49572,
          69209,
          17148,
          40590,
          30560,
          32146,
          41713,
          34176,
          58482,
          59686,
          60896,
          62994,
          47320,
          74859,
          15253,
          31560,
          72071,
          91172,
          90000,
          41967,
          69263,
          65706,
          60934,
          71965,
          65210,
          79174,
          81380,
          48432,
          52914,
          38946,
          26067,
          44325,
          42523,
          26487,
          53233,
          67716,
          76234,
          84117,
          65487,
          25224,
          89616,
          40851,
          27469,
          82347,
          73803,
          8820,
          43322,
          55593,
          50501,
          37085,
          16185,
          57731,
          48432,
          73807,
          18929,
          35893,
          61014,
          32144,
          14918,
          45146,
          41769,
          88325,
          38054,
          80617,
          5305,
          36807,
          28427,
          82032,
          22775,
          40101,
          58025,
          75777,
          7500,
          33562,
          57642,
          58554,
          63777,
          57967,
          24434,
          11012,
          44802,
          26816,
          34421,
          61223,
          64014,
          56981,
          69245,
          52869
         ],
         "xaxis": "x",
         "y": [
          1617,
          27,
          776,
          53,
          422,
          716,
          590,
          169,
          46,
          49,
          61,
          1102,
          310,
          46,
          1315,
          96,
          317,
          1782,
          133,
          316,
          1730,
          972,
          544,
          444,
          75,
          257,
          131,
          1672,
          30,
          318,
          120,
          302,
          1196,
          65,
          913,
          81,
          67,
          902,
          1395,
          53,
          22,
          31,
          984,
          122,
          55,
          1319,
          507,
          1693,
          72,
          1617,
          606,
          1957,
          1093,
          29,
          518,
          1438,
          612,
          884,
          606,
          1076,
          34,
          11,
          1274,
          653,
          1562,
          1253,
          863,
          661,
          65,
          13,
          1890,
          2209,
          18,
          692,
          165,
          16,
          79,
          318,
          778,
          56,
          151,
          372,
          1366,
          194,
          32,
          43,
          45,
          606,
          63,
          978,
          410,
          72,
          55,
          1169,
          1120,
          1097,
          29,
          187,
          910,
          145,
          850,
          969,
          1820,
          608,
          730,
          551,
          114,
          1724,
          577,
          81,
          33,
          660,
          80,
          30,
          43,
          1135,
          559,
          1923,
          90,
          661,
          463,
          632,
          725,
          279,
          1482,
          29,
          106,
          49,
          38,
          2077,
          1053,
          1385,
          871,
          312,
          877,
          68,
          22,
          211,
          127,
          459,
          460,
          429,
          89,
          1021,
          1381,
          306,
          18,
          162,
          1231,
          13,
          1706,
          121,
          1293,
          88,
          421,
          259,
          1117,
          89,
          36,
          57,
          148,
          93,
          119,
          1835,
          1318,
          45,
          10,
          978,
          191,
          57,
          1033,
          66,
          43,
          50,
          39,
          608,
          1581,
          68,
          80,
          1282,
          65,
          91,
          315,
          31,
          834,
          1600,
          1270,
          263,
          535,
          1295,
          1150,
          1240,
          38,
          35,
          53,
          293,
          65,
          1804,
          241,
          1101,
          264,
          541,
          1198,
          482,
          17,
          1615,
          285,
          1135,
          114,
          1047,
          714,
          185,
          1245,
          189,
          576,
          1103,
          1753,
          17,
          433,
          1588,
          22,
          19,
          1117,
          69,
          23,
          605,
          57,
          22,
          2088,
          1009,
          26,
          1627,
          1102,
          17,
          1690,
          1390,
          2126,
          1531,
          64,
          26,
          1112,
          210,
          1148,
          33,
          1101,
          322,
          44,
          17,
          31,
          845,
          275,
          25,
          275,
          90,
          1495,
          184,
          981,
          67,
          1635,
          60,
          231,
          48,
          99,
          770,
          957,
          818,
          925,
          908,
          102,
          576,
          317,
          461,
          37,
          70,
          930,
          859,
          1478,
          390,
          52,
          137,
          1919,
          68,
          25,
          1374,
          32,
          100,
          825,
          916,
          62,
          728,
          90,
          273,
          66,
          1213,
          107,
          1157,
          546,
          241,
          53,
          37,
          1508,
          235,
          32,
          102,
          401,
          28,
          680,
          30,
          20,
          1307,
          630,
          1283,
          65,
          37,
          38,
          160,
          23,
          71,
          1161,
          59,
          33,
          946,
          1442,
          62,
          1674,
          1853,
          1538,
          139,
          1182,
          507,
          18,
          940,
          42,
          1190,
          44,
          16,
          835,
          1443,
          1029,
          1188,
          1277,
          49,
          99,
          1670,
          900,
          425,
          2153,
          636,
          57,
          25,
          494,
          693,
          1348,
          51,
          1932,
          990,
          30,
          254,
          29,
          1371,
          73,
          120,
          81,
          37,
          1377,
          51,
          17,
          22,
          324,
          211,
          19,
          41,
          492,
          1005,
          114,
          1173,
          1738,
          222,
          1127,
          209,
          787,
          1598,
          186,
          47,
          27,
          96,
          64,
          1040,
          163,
          343,
          446,
          41,
          70,
          272,
          46,
          490,
          79,
          915,
          1485,
          369,
          1073,
          1242,
          78,
          1378,
          1474,
          751,
          48,
          45,
          10,
          1435,
          2119,
          20,
          1795,
          1188,
          43,
          1008,
          1688,
          684,
          1082,
          1068,
          57,
          46,
          733,
          467,
          122,
          36,
          34,
          156,
          14,
          37,
          34,
          20,
          192,
          1379,
          48,
          428,
          868,
          1001,
          59,
          431,
          971,
          348,
          2059,
          265,
          270,
          1289,
          893,
          926,
          135,
          1495,
          120,
          1288,
          1743,
          15,
          542,
          890,
          1388,
          17,
          906,
          44,
          25,
          973,
          31,
          518,
          530,
          506,
          70,
          54,
          296,
          266,
          747,
          895,
          1053,
          735,
          20,
          205,
          2092,
          309,
          1722,
          900,
          682,
          663,
          43,
          1816,
          976,
          746,
          64,
          32,
          263,
          1445,
          46,
          1210,
          945,
          1157,
          137,
          730,
          216,
          943,
          347,
          1924,
          397,
          2089,
          138,
          42,
          777,
          1902,
          52,
          1651,
          358,
          1727,
          210,
          42,
          1291,
          442,
          1895,
          411,
          521,
          1168,
          493,
          260,
          46,
          319,
          96,
          1062,
          232,
          76,
          54,
          201,
          406,
          1919,
          662,
          41,
          1600,
          134,
          69,
          21,
          54,
          91,
          526,
          162,
          1008,
          240,
          795,
          1772,
          64,
          1957,
          78,
          1572,
          795,
          889,
          331,
          265,
          1065,
          11,
          21,
          17,
          369,
          38,
          177,
          279,
          62,
          1230,
          182,
          49,
          75,
          227,
          215,
          444,
          47,
          143,
          55,
          63,
          1867,
          611,
          473,
          55,
          81,
          2086,
          1478,
          49,
          382,
          69,
          67,
          30,
          63,
          79,
          42,
          819,
          1151,
          594,
          129,
          213,
          67,
          28,
          45,
          1193,
          268,
          266,
          37,
          37,
          882,
          373,
          35,
          42,
          326,
          404,
          95,
          939,
          33,
          981,
          36,
          1237,
          1825,
          103,
          191,
          1586,
          963,
          889,
          93,
          1587,
          16,
          1375,
          393,
          1477,
          1179,
          1005,
          1348,
          1307,
          486,
          2252,
          235,
          1724,
          235,
          1092,
          599,
          2008,
          48,
          1174,
          67,
          365,
          165,
          210,
          1095,
          223,
          597,
          22,
          1064,
          74,
          26,
          60,
          20,
          59,
          34,
          198,
          1048,
          574,
          1029,
          670,
          990,
          11,
          1241,
          576,
          172,
          664,
          928,
          2074,
          467,
          257,
          1146,
          689,
          2114,
          1346,
          1044,
          493,
          957,
          270,
          29,
          121,
          126,
          23,
          57,
          636,
          1004,
          734,
          614,
          1453,
          1621,
          187,
          1443,
          57,
          637,
          948,
          59,
          18,
          903,
          112,
          596,
          233,
          1511,
          1152,
          48,
          1185,
          21,
          965,
          869,
          16,
          1947,
          71,
          65,
          1380,
          1027,
          411,
          836,
          11,
          480,
          606,
          284,
          1472,
          1677,
          1335,
          334,
          18,
          1338,
          1099,
          97,
          63,
          109,
          902,
          1574,
          38,
          960,
          28,
          1215,
          1497,
          449,
          1064,
          1757,
          1440,
          1006,
          1226,
          1171,
          92,
          99,
          66,
          564,
          1427,
          86,
          833,
          242,
          1869,
          1364,
          183,
          450,
          758,
          1507,
          654,
          81,
          137,
          16,
          93,
          1158,
          43,
          1525,
          1230,
          29,
          25,
          24,
          38,
          57,
          47,
          813,
          629,
          377,
          1612,
          729,
          50,
          270,
          177,
          315,
          767,
          1071,
          1580,
          60,
          573,
          41,
          170,
          1167,
          1526,
          458,
          63,
          405,
          1027,
          1478,
          72,
          48,
          726,
          860,
          1497,
          495,
          20,
          570,
          769,
          55,
          1808,
          55,
          577,
          162,
          1957,
          1576,
          1616,
          36,
          1482,
          22,
          63,
          680,
          542,
          50,
          39,
          1043,
          385,
          1633,
          46,
          761,
          76,
          290,
          89,
          70,
          1066,
          2009,
          1345,
          764,
          195,
          53,
          368,
          544,
          1853,
          35,
          446,
          1180,
          41,
          727,
          40,
          1062,
          40,
          292,
          15,
          341,
          369,
          401,
          393,
          10,
          486,
          69,
          1727,
          995,
          45,
          182,
          989,
          1677,
          595,
          156,
          1226,
          128,
          86,
          68,
          16,
          55,
          2114,
          2018,
          263,
          55,
          564,
          1281,
          83,
          353,
          1003,
          14,
          902,
          1139,
          797,
          1638,
          401,
          84,
          928,
          203,
          858,
          409,
          282,
          1423,
          1449,
          28,
          67,
          199,
          1453,
          1253,
          1198,
          178,
          1990,
          976,
          1001,
          1919,
          350,
          1650,
          46,
          1228,
          95,
          62,
          1761,
          467,
          1149,
          2052,
          1127,
          1416,
          1113,
          125,
          966,
          32,
          833,
          46,
          960,
          1829,
          779,
          811,
          1120,
          725,
          1187,
          2302,
          66,
          1250,
          683,
          305,
          50,
          995,
          41,
          77,
          171,
          131,
          54,
          53,
          475,
          694,
          96,
          361,
          1079,
          578,
          64,
          149,
          231,
          728,
          1778,
          93,
          23,
          662,
          1198,
          81,
          92,
          491,
          1564,
          926,
          1910,
          411,
          94,
          1085,
          23,
          6,
          54,
          1150,
          1415,
          405,
          1908,
          2486,
          1315,
          45,
          1789,
          19,
          573,
          805,
          108,
          23,
          1493,
          89,
          936,
          343,
          528,
          1901,
          724,
          58,
          297,
          488,
          859,
          1574,
          69,
          17,
          2194,
          116,
          279,
          103,
          44,
          406,
          1363,
          236,
          39,
          137,
          79,
          63,
          1314,
          71,
          58,
          702,
          94,
          80,
          22,
          1211,
          1461,
          1968,
          1091,
          55,
          1366,
          313,
          62,
          92,
          72,
          655,
          704,
          54,
          178,
          1033,
          36,
          122,
          122,
          1123,
          497,
          691,
          1363,
          12,
          2440,
          56,
          37,
          968,
          270,
          278,
          1250,
          938,
          1178,
          1155,
          653,
          49,
          506,
          38,
          1650,
          1826,
          18,
          906,
          46,
          1477,
          766,
          47,
          467,
          2116,
          1298,
          22,
          396,
          20,
          967,
          357,
          1401,
          15,
          2087,
          981,
          17,
          523,
          23,
          1192,
          1958,
          133,
          777,
          73,
          121,
          424,
          868,
          756,
          12,
          937,
          1862,
          367,
          443,
          267,
          61,
          1323,
          63,
          64,
          562,
          312,
          1156,
          1104,
          16,
          2008,
          44,
          1574,
          63,
          426,
          96,
          635,
          757,
          125,
          332,
          135,
          330,
          384,
          1722,
          78,
          24,
          1168,
          957,
          15,
          57,
          1956,
          2013,
          326,
          77,
          1313,
          30,
          315,
          660,
          74,
          46,
          86,
          1103,
          61,
          145,
          684,
          411,
          27,
          1060,
          1459,
          18,
          1833,
          237,
          48,
          515,
          1020,
          1370,
          1026,
          301,
          684,
          499,
          1004,
          218,
          606,
          75,
          106,
          990,
          1097,
          16,
          34,
          1711,
          438,
          75,
          225,
          18,
          470,
          91,
          2525,
          504,
          235,
          1232,
          88,
          17,
          24,
          60,
          1020,
          155,
          51,
          1812,
          1461,
          96,
          160,
          139,
          908,
          183,
          1161,
          988,
          1072,
          174,
          758,
          195,
          31,
          1084,
          685,
          1672,
          43,
          49,
          133,
          363,
          545,
          1065,
          2047,
          296,
          140,
          530,
          152,
          1598,
          114,
          101,
          25,
          789,
          87,
          90,
          1215,
          811,
          61,
          405,
          72,
          189,
          40,
          63,
          52,
          39,
          805,
          130,
          1631,
          34,
          152,
          21,
          71,
          899,
          711,
          351,
          8,
          119,
          21,
          10,
          973,
          1536,
          992,
          1529,
          860,
          928,
          418,
          587,
          641,
          23,
          2279,
          49,
          1779,
          1804,
          48,
          83,
          1862,
          793,
          84,
          183,
          1383,
          999,
          825,
          246,
          610,
          76,
          1286,
          30,
          99,
          1192,
          362,
          2130,
          1229,
          38,
          485,
          434,
          44,
          496,
          78,
          2346,
          794,
          17,
          26,
          76,
          15,
          62,
          198,
          49,
          802,
          1736,
          57,
          2302,
          37,
          310,
          1305,
          832,
          401,
          1501,
          1189,
          1194,
          656,
          1540,
          311,
          820,
          274,
          57,
          448,
          44,
          102,
          61,
          1643,
          397,
          1121,
          473,
          50,
          1678,
          58,
          170,
          373,
          1196,
          101,
          316,
          1400,
          1424,
          844,
          311,
          1149,
          129,
          32,
          299,
          320,
          441,
          1178,
          85,
          24,
          112,
          30,
          410,
          800,
          1313,
          1483,
          1258,
          28,
          227,
          1555,
          861,
          103,
          634,
          1918,
          131,
          586,
          62,
          447,
          939,
          797,
          1143,
          415,
          30,
          187,
          251,
          237,
          91,
          35,
          493,
          971,
          371,
          396,
          68,
          322,
          222,
          177,
          45,
          1899,
          22,
          41,
          1440,
          325,
          95,
          42,
          72,
          20,
          789,
          15,
          59,
          908,
          417,
          289,
          769,
          188,
          354,
          727,
          146,
          319,
          794,
          454,
          152,
          797,
          1690,
          20,
          1428,
          209,
          545,
          96,
          222,
          61,
          44,
          8,
          817,
          1371,
          42,
          60,
          78,
          23,
          19,
          61,
          449,
          37,
          38,
          1131,
          34,
          294,
          48,
          289,
          30,
          125,
          156,
          70,
          22,
          65,
          1930,
          2283,
          310,
          1319,
          879,
          1244,
          690,
          209,
          1134,
          1507,
          57,
          529,
          1091,
          180,
          77,
          2349,
          534,
          556,
          637,
          46,
          44,
          47,
          795,
          586,
          1574,
          13,
          1471,
          65,
          175,
          40,
          1078,
          1115,
          134,
          1540,
          87,
          217,
          1034,
          1180,
          819,
          32,
          46,
          1159,
          860,
          1631,
          444,
          1910,
          380,
          736,
          269,
          2524,
          612,
          75,
          1045,
          55,
          1064,
          1443,
          1366,
          436,
          38,
          436,
          747,
          1396,
          928,
          642,
          1048,
          943,
          907,
          1198,
          120,
          1658,
          1638,
          73,
          275,
          854,
          78,
          106,
          106,
          1923,
          1662,
          84,
          48,
          5,
          733,
          1234,
          112,
          1658,
          55,
          1513,
          271,
          904,
          120,
          103,
          269,
          22,
          1156,
          1086,
          1128,
          72,
          964,
          1383,
          18,
          793,
          100,
          80,
          167,
          677,
          23,
          92,
          641,
          1106,
          1033,
          1174,
          25,
          240,
          20,
          102,
          1034,
          156,
          458,
          17,
          792,
          92,
          407,
          1269,
          841,
          633,
          1019,
          1315,
          54,
          2525,
          52,
          436,
          268,
          147,
          1798,
          137,
          507,
          15,
          1105,
          974,
          66,
          778,
          49,
          169,
          299,
          221,
          1682,
          155,
          892,
          58,
          311,
          95,
          424,
          47,
          339,
          1410,
          35,
          562,
          2352,
          1334,
          32,
          41,
          39,
          1141,
          710,
          401,
          506,
          1538,
          57,
          1722,
          270,
          31,
          882,
          16,
          311,
          227,
          1152,
          122,
          77,
          1289,
          561,
          211,
          233,
          1092,
          601,
          54,
          78,
          1095,
          244,
          116,
          15,
          425,
          734,
          638,
          894,
          41,
          31,
          34,
          1750,
          612,
          29,
          823,
          20,
          396,
          813,
          1179,
          138,
          55,
          1511,
          117,
          32,
          67,
          335,
          825,
          694,
          1792,
          496,
          231,
          902,
          68,
          71,
          76,
          772,
          47,
          1586,
          1529,
          265,
          1603,
          2091,
          981,
          1533,
          82,
          244,
          36,
          404,
          71,
          1572,
          122,
          41,
          10,
          304,
          37,
          1754,
          815,
          1001,
          1157,
          688,
          1319,
          21,
          31,
          67,
          708,
          25,
          746,
          32,
          1695,
          1080,
          72,
          57,
          660,
          103,
          153,
          1220,
          279,
          745,
          264,
          2157,
          1526,
          69,
          1597,
          64,
          497,
          1067,
          31,
          211,
          877,
          11,
          2034,
          1991,
          1686,
          324,
          69,
          252,
          54,
          964,
          1327,
          68,
          60,
          55,
          1456,
          563,
          1504,
          564,
          1125,
          358,
          42,
          184,
          460,
          145,
          1376,
          792,
          1382,
          28,
          1033,
          882,
          2231,
          1101,
          369,
          48,
          467,
          44,
          38,
          81,
          167,
          45,
          664,
          622,
          48,
          461,
          1073,
          55,
          976,
          20,
          1149,
          43,
          224,
          101,
          209,
          968,
          1165,
          24,
          252,
          165,
          269,
          102,
          461,
          47,
          144,
          1338,
          917,
          318,
          253,
          502,
          119,
          1250,
          969,
          76,
          62,
          1382,
          84,
          255,
          43,
          398,
          76,
          902,
          823,
          1179,
          1921,
          185,
          433,
          34,
          907,
          416,
          44,
          1588,
          1797,
          40,
          1143,
          914,
          1502,
          1338,
          27,
          763,
          1331,
          525,
          9,
          953,
          68,
          131,
          882,
          1149,
          37,
          388,
          1428,
          1633,
          173,
          99,
          215,
          929,
          219,
          174,
          92,
          1052,
          275,
          587,
          1662,
          159,
          1024,
          35,
          1042,
          395,
          557,
          9,
          69,
          486,
          34,
          1365,
          13,
          1401,
          1574,
          1323,
          1217,
          103,
          84,
          1536,
          581,
          928,
          14,
          424,
          960,
          1555,
          656,
          55,
          20,
          367,
          2257,
          42,
          1049,
          48,
          685,
          39,
          43,
          835,
          1515,
          1039,
          1596,
          1828,
          34,
          149,
          946,
          28,
          450,
          46,
          1702,
          820,
          382,
          2126,
          2069,
          72,
          732,
          801,
          236,
          80,
          1685,
          277,
          507,
          68,
          49,
          397,
          39,
          306,
          976,
          1028,
          70,
          46,
          51,
          1263,
          1490,
          1564,
          1815,
          1198,
          416,
          85,
          47,
          137,
          21,
          70,
          909,
          1676,
          1735,
          1191,
          24,
          1182,
          1280,
          1336,
          749,
          91,
          414,
          44,
          63,
          901,
          38,
          455,
          775,
          15,
          38,
          1512,
          43,
          42,
          1089,
          162,
          1272,
          1173,
          816,
          74,
          134,
          157,
          561,
          1336,
          2092,
          463,
          1130,
          20,
          377,
          1544,
          138,
          1012,
          1766,
          45,
          161,
          144,
          1734,
          823,
          1138,
          1429,
          1371,
          982,
          44,
          318,
          434,
          198,
          359,
          576,
          88,
          63,
          27,
          193,
          101,
          2211,
          140,
          415,
          22,
          263,
          393,
          147,
          443,
          1958,
          174,
          2217,
          1691,
          25,
          809,
          895,
          484,
          413,
          331,
          25,
          13,
          115,
          16,
          92,
          52,
          1464,
          441,
          283,
          747,
          1870,
          165,
          1941,
          839,
          1655,
          23,
          66,
          37,
          21,
          22,
          78,
          79,
          265,
          1175,
          1305,
          46,
          25,
          46,
          874,
          100,
          930,
          868,
          45,
          1260,
          414,
          392,
          1109,
          639,
          79,
          1665,
          692,
          1392,
          44,
          50,
          467,
          223,
          158,
          1211,
          1575,
          1208,
          43,
          527,
          932,
          71,
          54,
          129,
          1615,
          1034,
          1088,
          137,
          1244,
          41,
          1174,
          993,
          100,
          1680,
          98,
          48,
          519,
          715,
          37,
          653,
          1455,
          602,
          26,
          102,
          176,
          433,
          1366,
          1001,
          961,
          1518,
          56,
          22,
          400,
          26,
          350,
          1216,
          874,
          40,
          1367,
          264,
          2053,
          1376,
          45,
          976,
          51,
          1264,
          75,
          57,
          140,
          497,
          266,
          2006,
          615,
          1021,
          22,
          133,
          437,
          1013,
          57,
          1038,
          1573,
          28,
          123,
          13,
          132,
          732,
          66,
          1631,
          608,
          1822,
          1282,
          8,
          43,
          1931,
          103,
          1169,
          395,
          258,
          25,
          185,
          180,
          22,
          44,
          94,
          81,
          798,
          1334,
          38,
          61,
          300,
          88,
          54,
          1782,
          68,
          258,
          31,
          66,
          174,
          28,
          731,
          274,
          1701,
          312,
          414,
          1565,
          29,
          94,
          1338,
          1092,
          1479,
          54,
          568,
          1199,
          873,
          1213,
          731,
          2043,
          1893,
          424,
          575,
          257,
          56,
          542,
          125,
          69,
          40,
          1016,
          907,
          1566,
          1169,
          46,
          1644,
          59,
          17,
          1853,
          1528,
          35,
          141,
          546,
          500,
          61,
          106,
          704,
          424,
          849,
          85,
          199,
          1147,
          54,
          43,
          53,
          521,
          1623,
          45,
          1435,
          32,
          16,
          52,
          1234,
          15,
          415,
          470,
          1438,
          53,
          51,
          679,
          586,
          653,
          468,
          50,
          84,
          1049,
          22,
          30,
          1341,
          444,
          1241,
          843,
          172
         ],
         "yaxis": "y"
        },
        {
         "hovertemplate": "<b>OLS trendline</b><br>Total_Amount_Spent = 0.023941 * Income + -629.284<br>R<sup>2</sup>=0.678364<br><br>Income=%{x}<br>Total_Amount_Spent=%{y} <b>(trend)</b><extra></extra>",
         "legendgroup": "",
         "marker": {
          "color": "#636efa",
          "symbol": "circle"
         },
         "mode": "lines",
         "name": "",
         "showlegend": false,
         "type": "scattergl",
         "x": [
          1730,
          2447,
          3502,
          4023,
          4428,
          4861,
          5305,
          5648,
          6560,
          6835,
          7144,
          7500,
          7500,
          7500,
          7500,
          7500,
          7500,
          7500,
          7500,
          7500,
          7500,
          7500,
          7500,
          8028,
          8820,
          8940,
          9255,
          9548,
          9722,
          10245,
          10404,
          10979,
          10979,
          11012,
          11448,
          12393,
          12571,
          13084,
          13260,
          13533,
          13624,
          13672,
          13724,
          14045,
          14188,
          14421,
          14515,
          14661,
          14796,
          14849,
          14906,
          14918,
          15033,
          15038,
          15056,
          15072,
          15253,
          15287,
          15287,
          15315,
          15315,
          15345,
          15716,
          15759,
          15862,
          16005,
          16014,
          16185,
          16248,
          16269,
          16529,
          16531,
          16581,
          16626,
          16653,
          16813,
          16860,
          16927,
          17003,
          17117,
          17144,
          17144,
          17148,
          17256,
          17323,
          17345,
          17459,
          17487,
          17649,
          17688,
          18100,
          18169,
          18222,
          18227,
          18351,
          18358,
          18393,
          18492,
          18589,
          18690,
          18690,
          18690,
          18701,
          18701,
          18746,
          18793,
          18890,
          18929,
          18929,
          18929,
          18978,
          18988,
          19107,
          19329,
          19346,
          19414,
          19419,
          19444,
          19485,
          19510,
          19514,
          19514,
          19656,
          19740,
          19789,
          19986,
          19986,
          20130,
          20130,
          20180,
          20180,
          20193,
          20194,
          20425,
          20425,
          20427,
          20491,
          20518,
          20559,
          20587,
          20587,
          20895,
          20981,
          21024,
          21059,
          21063,
          21255,
          21282,
          21355,
          21359,
          21474,
          21645,
          21675,
          21840,
          21846,
          21888,
          21918,
          21955,
          21994,
          21994,
          22010,
          22063,
          22070,
          22108,
          22123,
          22148,
          22212,
          22263,
          22280,
          22304,
          22327,
          22390,
          22419,
          22419,
          22434,
          22448,
          22507,
          22518,
          22554,
          22574,
          22574,
          22585,
          22634,
          22634,
          22669,
          22682,
          22701,
          22775,
          22775,
          22804,
          22804,
          22944,
          22979,
          23091,
          23148,
          23162,
          23228,
          23228,
          23272,
          23295,
          23331,
          23331,
          23442,
          23477,
          23478,
          23529,
          23536,
          23539,
          23559,
          23616,
          23626,
          23661,
          23718,
          23724,
          23748,
          23763,
          23830,
          23910,
          23957,
          23976,
          24027,
          24072,
          24163,
          24206,
          24221,
          24279,
          24336,
          24367,
          24401,
          24434,
          24480,
          24570,
          24594,
          24594,
          24639,
          24645,
          24683,
          24711,
          24762,
          24882,
          24882,
          24884,
          25008,
          25130,
          25176,
          25224,
          25252,
          25271,
          25293,
          25293,
          25315,
          25358,
          25410,
          25443,
          25509,
          25509,
          25545,
          25707,
          25721,
          25804,
          25818,
          25851,
          25930,
          25959,
          25965,
          26067,
          26091,
          26091,
          26095,
          26150,
          26224,
          26228,
          26290,
          26304,
          26326,
          26487,
          26490,
          26490,
          26518,
          26576,
          26642,
          26646,
          26751,
          26759,
          26816,
          26850,
          26868,
          26872,
          26877,
          26887,
          26907,
          26907,
          26954,
          26997,
          27038,
          27071,
          27100,
          27100,
          27116,
          27159,
          27161,
          27190,
          27203,
          27213,
          27215,
          27238,
          27242,
          27244,
          27255,
          27421,
          27450,
          27469,
          27573,
          27590,
          27683,
          27733,
          27803,
          27889,
          27922,
          27938,
          27943,
          28071,
          28072,
          28087,
          28164,
          28249,
          28249,
          28320,
          28332,
          28359,
          28389,
          28420,
          28427,
          28427,
          28440,
          28442,
          28457,
          28510,
          28520,
          28567,
          28587,
          28647,
          28691,
          28691,
          28718,
          28764,
          28769,
          28839,
          28973,
          29009,
          29103,
          29187,
          29236,
          29298,
          29315,
          29435,
          29440,
          29478,
          29543,
          29548,
          29604,
          29672,
          29672,
          29732,
          29760,
          29760,
          29791,
          29819,
          29938,
          29999,
          30015,
          30023,
          30081,
          30093,
          30096,
          30096,
          30168,
          30261,
          30279,
          30279,
          30298,
          30351,
          30351,
          30368,
          30372,
          30372,
          30390,
          30396,
          30467,
          30477,
          30507,
          30522,
          30523,
          30538,
          30545,
          30560,
          30560,
          30630,
          30631,
          30675,
          30732,
          30753,
          30772,
          30801,
          30822,
          30828,
          30833,
          30843,
          30899,
          30983,
          30992,
          30992,
          31056,
          31086,
          31089,
          31158,
          31160,
          31163,
          31163,
          31353,
          31353,
          31385,
          31395,
          31454,
          31497,
          31497,
          31535,
          31560,
          31590,
          31605,
          31615,
          31626,
          31632,
          31686,
          31761,
          31788,
          31814,
          31859,
          31859,
          31878,
          31880,
          31907,
          31928,
          32011,
          32144,
          32146,
          32173,
          32218,
          32233,
          32300,
          32303,
          32313,
          32414,
          32474,
          32557,
          32583,
          32632,
          32644,
          32727,
          32765,
          32871,
          32880,
          32889,
          32892,
          32892,
          32952,
          33039,
          33039,
          33051,
          33168,
          33178,
          33181,
          33183,
          33228,
          33235,
          33249,
          33249,
          33279,
          33316,
          33316,
          33378,
          33402,
          33419,
          33438,
          33444,
          33454,
          33456,
          33462,
          33471,
          33562,
          33564,
          33569,
          33581,
          33585,
          33590,
          33622,
          33629,
          33697,
          33762,
          33812,
          33955,
          33986,
          33996,
          33996,
          34026,
          34026,
          34043,
          34053,
          34074,
          34109,
          34176,
          34176,
          34176,
          34213,
          34230,
          34242,
          34320,
          34350,
          34377,
          34380,
          34412,
          34421,
          34421,
          34445,
          34469,
          34487,
          34529,
          34554,
          34578,
          34587,
          34596,
          34596,
          34600,
          34600,
          34633,
          34704,
          34728,
          34738,
          34824,
          34824,
          34838,
          34853,
          34916,
          34935,
          34935,
          34941,
          34961,
          34968,
          34984,
          35178,
          35178,
          35196,
          35196,
          35246,
          35322,
          35340,
          35388,
          35416,
          35441,
          35523,
          35544,
          35641,
          35682,
          35684,
          35688,
          35688,
          35701,
          35704,
          35765,
          35788,
          35790,
          35791,
          35791,
          35797,
          35860,
          35860,
          35860,
          35860,
          35876,
          35893,
          35924,
          35946,
          36026,
          36038,
          36065,
          36075,
          36108,
          36130,
          36138,
          36143,
          36145,
          36230,
          36262,
          36273,
          36283,
          36301,
          36317,
          36408,
          36443,
          36550,
          36627,
          36634,
          36640,
          36663,
          36715,
          36732,
          36736,
          36778,
          36781,
          36790,
          36802,
          36807,
          36864,
          36921,
          36927,
          36930,
          36947,
          36957,
          36959,
          36975,
          36997,
          37040,
          37054,
          37070,
          37070,
          37085,
          37087,
          37126,
          37150,
          37155,
          37235,
          37244,
          37284,
          37284,
          37292,
          37334,
          37368,
          37395,
          37401,
          37401,
          37406,
          37509,
          37633,
          37697,
          37697,
          37716,
          37717,
          37717,
          37758,
          37758,
          37760,
          37760,
          37760,
          37774,
          37787,
          37859,
          37929,
          37971,
          38054,
          38097,
          38136,
          38175,
          38179,
          38196,
          38197,
          38200,
          38201,
          38232,
          38236,
          38285,
          38360,
          38361,
          38361,
          38410,
          38415,
          38443,
          38452,
          38452,
          38508,
          38513,
          38547,
          38557,
          38576,
          38578,
          38578,
          38590,
          38593,
          38620,
          38620,
          38643,
          38680,
          38683,
          38702,
          38725,
          38741,
          38808,
          38823,
          38829,
          38853,
          38872,
          38887,
          38946,
          38946,
          38961,
          38988,
          38998,
          38998,
          39062,
          39146,
          39190,
          39228,
          39356,
          39435,
          39453,
          39548,
          39552,
          39660,
          39665,
          39684,
          39722,
          39747,
          39763,
          39767,
          39771,
          39791,
          39858,
          39898,
          39898,
          39922,
          39922,
          39922,
          39996,
          40049,
          40049,
          40059,
          40101,
          40211,
          40233,
          40246,
          40304,
          40321,
          40321,
          40344,
          40442,
          40451,
          40464,
          40479,
          40521,
          40548,
          40590,
          40590,
          40637,
          40662,
          40689,
          40689,
          40706,
          40737,
          40760,
          40780,
          40794,
          40800,
          40851,
          40887,
          41003,
          41014,
          41020,
          41021,
          41039,
          41120,
          41124,
          41145,
          41154,
          41275,
          41335,
          41335,
          41411,
          41437,
          41443,
          41452,
          41473,
          41551,
          41580,
          41638,
          41644,
          41658,
          41713,
          41728,
          41769,
          41850,
          41883,
          41967,
          41986,
          42000,
          42000,
          42011,
          42014,
          42014,
          42021,
          42033,
          42081,
          42160,
          42162,
          42169,
          42192,
          42207,
          42213,
          42231,
          42243,
          42315,
          42373,
          42386,
          42386,
          42387,
          42394,
          42395,
          42403,
          42429,
          42429,
          42473,
          42523,
          42523,
          42554,
          42557,
          42564,
          42586,
          42586,
          42607,
          42618,
          42664,
          42670,
          42691,
          42693,
          42710,
          42720,
          42731,
          42767,
          42769,
          42835,
          42873,
          42997,
          43018,
          43020,
          43050,
          43057,
          43140,
          43142,
          43185,
          43263,
          43269,
          43300,
          43322,
          43456,
          43462,
          43482,
          43586,
          43602,
          43638,
          43641,
          43776,
          43776,
          43783,
          43795,
          43815,
          43824,
          43974,
          44010,
          44051,
          44078,
          44124,
          44155,
          44159,
          44213,
          44267,
          44300,
          44319,
          44322,
          44325,
          44359,
          44375,
          44377,
          44392,
          44393,
          44421,
          44503,
          44511,
          44512,
          44529,
          44551,
          44602,
          44635,
          44689,
          44794,
          44794,
          44802,
          44911,
          44931,
          44953,
          44964,
          44989,
          44989,
          45006,
          45057,
          45068,
          45072,
          45143,
          45143,
          45146,
          45160,
          45183,
          45203,
          45204,
          45207,
          45503,
          45576,
          45579,
          45684,
          45688,
          45736,
          45759,
          45759,
          45837,
          45889,
          45894,
          45903,
          45906,
          45921,
          45938,
          45989,
          46014,
          46015,
          46015,
          46049,
          46053,
          46086,
          46094,
          46097,
          46098,
          46098,
          46098,
          46102,
          46106,
          46107,
          46149,
          46231,
          46310,
          46344,
          46344,
          46374,
          46377,
          46390,
          46423,
          46423,
          46463,
          46524,
          46610,
          46610,
          46681,
          46681,
          46692,
          46734,
          46734,
          46757,
          46772,
          46779,
          46831,
          46854,
          46891,
          46891,
          46904,
          46910,
          46923,
          46931,
          46984,
          46998,
          47009,
          47025,
          47025,
          47025,
          47111,
          47139,
          47175,
          47320,
          47352,
          47352,
          47353,
          47472,
          47570,
          47682,
          47691,
          47703,
          47743,
          47808,
          47821,
          47823,
          47850,
          47889,
          47916,
          47958,
          48006,
          48070,
          48150,
          48178,
          48186,
          48192,
          48195,
          48240,
          48330,
          48432,
          48432,
          48432,
          48526,
          48686,
          48699,
          48721,
          48726,
          48752,
          48767,
          48789,
          48794,
          48799,
          48877,
          48904,
          48918,
          48918,
          48920,
          48948,
          48948,
          48985,
          49090,
          49094,
          49096,
          49118,
          49154,
          49160,
          49166,
          49187,
          49269,
          49389,
          49413,
          49431,
          49476,
          49494,
          49505,
          49514,
          49544,
          49572,
          49605,
          49618,
          49638,
          49667,
          49669,
          49678,
          49681,
          49681,
          49767,
          49854,
          49912,
          49912,
          49967,
          49980,
          50002,
          50014,
          50116,
          50127,
          50150,
          50150,
          50183,
          50200,
          50272,
          50300,
          50334,
          50353,
          50387,
          50388,
          50437,
          50447,
          50501,
          50520,
          50523,
          50611,
          50611,
          50616,
          50616,
          50664,
          50725,
          50729,
          50737,
          50785,
          50870,
          50898,
          50943,
          50943,
          50965,
          51012,
          51012,
          51039,
          51111,
          51124,
          51141,
          51148,
          51195,
          51250,
          51267,
          51287,
          51315,
          51369,
          51369,
          51373,
          51390,
          51411,
          51412,
          51479,
          51518,
          51529,
          51537,
          51563,
          51569,
          51650,
          51651,
          51717,
          51766,
          51813,
          51876,
          51948,
          51983,
          52034,
          52074,
          52117,
          52157,
          52190,
          52195,
          52203,
          52278,
          52278,
          52332,
          52413,
          52413,
          52513,
          52531,
          52569,
          52597,
          52614,
          52614,
          52750,
          52845,
          52852,
          52854,
          52869,
          52914,
          52973,
          53034,
          53083,
          53103,
          53154,
          53172,
          53187,
          53201,
          53204,
          53230,
          53233,
          53253,
          53312,
          53359,
          53367,
          53374,
          53378,
          53537,
          53593,
          53653,
          53700,
          53761,
          53790,
          53843,
          53858,
          53863,
          53977,
          53977,
          54006,
          54058,
          54072,
          54108,
          54111,
          54132,
          54137,
          54162,
          54165,
          54178,
          54197,
          54198,
          54210,
          54222,
          54233,
          54237,
          54252,
          54342,
          54348,
          54356,
          54386,
          54414,
          54432,
          54450,
          54450,
          54456,
          54466,
          54549,
          54591,
          54603,
          54690,
          54690,
          54693,
          54730,
          54753,
          54803,
          54809,
          54809,
          54880,
          54959,
          54984,
          54998,
          55012,
          55158,
          55212,
          55212,
          55239,
          55249,
          55250,
          55260,
          55267,
          55282,
          55284,
          55357,
          55375,
          55412,
          55424,
          55434,
          55517,
          55521,
          55563,
          55593,
          55614,
          55635,
          55686,
          55707,
          55759,
          55761,
          55801,
          55842,
          55914,
          55951,
          55954,
          55956,
          56046,
          56067,
          56129,
          56129,
          56181,
          56223,
          56242,
          56243,
          56253,
          56320,
          56337,
          56386,
          56534,
          56551,
          56551,
          56559,
          56575,
          56628,
          56715,
          56721,
          56775,
          56796,
          56796,
          56850,
          56937,
          56939,
          56962,
          56962,
          56981,
          57036,
          57045,
          57072,
          57091,
          57091,
          57100,
          57100,
          57107,
          57113,
          57136,
          57136,
          57183,
          57236,
          57247,
          57288,
          57304,
          57333,
          57338,
          57420,
          57513,
          57530,
          57537,
          57642,
          57705,
          57731,
          57744,
          57811,
          57867,
          57906,
          57912,
          57937,
          57954,
          57957,
          57959,
          57967,
          58025,
          58086,
          58113,
          58116,
          58138,
          58217,
          58275,
          58293,
          58308,
          58330,
          58330,
          58350,
          58398,
          58401,
          58482,
          58494,
          58512,
          58554,
          58554,
          58582,
          58597,
          58607,
          58646,
          58646,
          58656,
          58684,
          58692,
          58710,
          58821,
          58917,
          59041,
          59052,
          59060,
          59062,
          59111,
          59184,
          59235,
          59247,
          59292,
          59292,
          59304,
          59354,
          59354,
          59385,
          59412,
          59432,
          59462,
          59481,
          59594,
          59601,
          59666,
          59686,
          59754,
          59809,
          59821,
          59868,
          59892,
          59925,
          59973,
          60000,
          60033,
          60093,
          60152,
          60161,
          60182,
          60199,
          60200,
          60208,
          60230,
          60432,
          60474,
          60474,
          60482,
          60491,
          60504,
          60544,
          60544,
          60554,
          60585,
          60597,
          60631,
          60689,
          60714,
          60839,
          60894,
          60896,
          60905,
          60934,
          61010,
          61014,
          61064,
          61074,
          61180,
          61209,
          61223,
          61250,
          61278,
          61284,
          61286,
          61286,
          61314,
          61331,
          61346,
          61416,
          61456,
          61467,
          61482,
          61559,
          61618,
          61671,
          61787,
          61794,
          61798,
          61823,
          61825,
          61825,
          61839,
          61872,
          61905,
          61917,
          61923,
          61996,
          62000,
          62010,
          62058,
          62061,
          62159,
          62187,
          62187,
          62204,
          62220,
          62307,
          62335,
          62450,
          62466,
          62466,
          62499,
          62503,
          62513,
          62535,
          62551,
          62568,
          62637,
          62670,
          62694,
          62710,
          62745,
          62772,
          62807,
          62807,
          62820,
          62820,
          62845,
          62845,
          62847,
          62859,
          62882,
          62905,
          62972,
          62972,
          62981,
          62994,
          62998,
          63033,
          63120,
          63159,
          63206,
          63207,
          63211,
          63246,
          63285,
          63342,
          63342,
          63381,
          63381,
          63404,
          63516,
          63564,
          63684,
          63693,
          63693,
          63777,
          63810,
          63810,
          63841,
          63841,
          63841,
          63855,
          63887,
          63915,
          63943,
          63967,
          63972,
          63998,
          64014,
          64014,
          64090,
          64100,
          64108,
          64140,
          64176,
          64191,
          64260,
          64325,
          64355,
          64413,
          64449,
          64474,
          64497,
          64504,
          64509,
          64587,
          64590,
          64713,
          64722,
          64795,
          64813,
          64831,
          64849,
          64857,
          64857,
          64866,
          64892,
          64950,
          64961,
          65031,
          65073,
          65104,
          65104,
          65106,
          65148,
          65169,
          65176,
          65196,
          65210,
          65220,
          65275,
          65295,
          65308,
          65316,
          65324,
          65324,
          65333,
          65352,
          65370,
          65463,
          65486,
          65487,
          65487,
          65488,
          65492,
          65526,
          65526,
          65569,
          65640,
          65665,
          65685,
          65685,
          65695,
          65704,
          65706,
          65735,
          65747,
          65748,
          65777,
          65808,
          65814,
          65819,
          65846,
          65968,
          65991,
          66000,
          66033,
          66294,
          66303,
          66313,
          66334,
          66373,
          66373,
          66375,
          66426,
          66465,
          66476,
          66476,
          66480,
          66503,
          66565,
          66582,
          66636,
          66653,
          66664,
          66664,
          66726,
          66731,
          66825,
          66835,
          66835,
          66886,
          66951,
          66973,
          66991,
          67023,
          67046,
          67087,
          67131,
          67225,
          67267,
          67272,
          67309,
          67353,
          67369,
          67381,
          67384,
          67419,
          67430,
          67432,
          67433,
          67445,
          67445,
          67445,
          67472,
          67506,
          67536,
          67546,
          67546,
          67605,
          67680,
          67716,
          67786,
          67893,
          67911,
          67911,
          68092,
          68117,
          68118,
          68118,
          68126,
          68142,
          68148,
          68274,
          68281,
          68316,
          68352,
          68397,
          68462,
          68487,
          68487,
          68627,
          68655,
          68655,
          68657,
          68682,
          68682,
          68695,
          68695,
          68743,
          68805,
          69016,
          69063,
          69084,
          69084,
          69096,
          69098,
          69109,
          69109,
          69139,
          69139,
          69142,
          69209,
          69245,
          69263,
          69267,
          69283,
          69372,
          69389,
          69401,
          69476,
          69508,
          69520,
          69627,
          69661,
          69674,
          69702,
          69719,
          69755,
          69759,
          69805,
          69867,
          69882,
          69901,
          69930,
          69932,
          69969,
          70038,
          70038,
          70044,
          70053,
          70091,
          70116,
          70123,
          70165,
          70179,
          70179,
          70287,
          70300,
          70321,
          70337,
          70356,
          70379,
          70421,
          70440,
          70503,
          70515,
          70545,
          70566,
          70596,
          70596,
          70617,
          70638,
          70643,
          70647,
          70666,
          70713,
          70777,
          70792,
          70829,
          70844,
          70886,
          70893,
          70924,
          70924,
          70932,
          70951,
          70971,
          71022,
          71107,
          71113,
          71128,
          71163,
          71232,
          71322,
          71322,
          71367,
          71367,
          71391,
          71427,
          71434,
          71466,
          71488,
          71499,
          71604,
          71613,
          71626,
          71670,
          71691,
          71706,
          71796,
          71819,
          71847,
          71853,
          71853,
          71855,
          71866,
          71952,
          71952,
          71964,
          71965,
          71969,
          72025,
          72025,
          72063,
          72066,
          72071,
          72071,
          72099,
          72117,
          72159,
          72190,
          72217,
          72228,
          72258,
          72282,
          72298,
          72309,
          72335,
          72354,
          72460,
          72504,
          72550,
          72570,
          72635,
          72635,
          72643,
          72679,
          72828,
          72903,
          72905,
          72906,
          72940,
          72967,
          72968,
          73059,
          73059,
          73113,
          73170,
          73356,
          73395,
          73448,
          73450,
          73454,
          73455,
          73538,
          73687,
          73691,
          73705,
          73803,
          73807,
          73892,
          73926,
          74004,
          74068,
          74116,
          74165,
          74190,
          74214,
          74250,
          74268,
          74290,
          74293,
          74293,
          74485,
          74538,
          74637,
          74716,
          74805,
          74806,
          74854,
          74859,
          74881,
          74881,
          74918,
          74985,
          75012,
          75027,
          75032,
          75072,
          75114,
          75127,
          75127,
          75154,
          75236,
          75251,
          75261,
          75276,
          75278,
          75283,
          75315,
          75330,
          75342,
          75345,
          75433,
          75437,
          75484,
          75507,
          75507,
          75693,
          75702,
          75702,
          75759,
          75774,
          75774,
          75777,
          75777,
          75794,
          75825,
          75865,
          75903,
          75922,
          76005,
          76045,
          76068,
          76081,
          76081,
          76140,
          76234,
          76320,
          76412,
          76445,
          76467,
          76532,
          76542,
          76618,
          76624,
          76630,
          76653,
          76773,
          76800,
          76842,
          76982,
          76995,
          76998,
          77027,
          77037,
          77044,
          77142,
          77226,
          77297,
          77298,
          77298,
          77343,
          77353,
          77376,
          77382,
          77437,
          77457,
          77520,
          77568,
          77583,
          77598,
          77610,
          77622,
          77632,
          77766,
          77766,
          77845,
          77863,
          77870,
          77882,
          77972,
          77981,
          78028,
          78041,
          78075,
          78093,
          78128,
          78285,
          78331,
          78353,
          78394,
          78416,
          78420,
          78427,
          78468,
          78497,
          78497,
          78499,
          78569,
          78579,
          78618,
          78642,
          78687,
          78710,
          78789,
          78825,
          78901,
          78931,
          78939,
          78952,
          79143,
          79146,
          79146,
          79174,
          79205,
          79244,
          79410,
          79419,
          79456,
          79529,
          79530,
          79593,
          79593,
          79607,
          79632,
          79689,
          79734,
          79761,
          79800,
          79803,
          79823,
          79865,
          79908,
          79930,
          79941,
          79946,
          80011,
          80067,
          80124,
          80124,
          80134,
          80134,
          80134,
          80141,
          80144,
          80184,
          80317,
          80336,
          80360,
          80395,
          80398,
          80427,
          80573,
          80573,
          80589,
          80617,
          80685,
          80695,
          80739,
          80763,
          80812,
          80872,
          80910,
          80950,
          80952,
          80982,
          80995,
          81044,
          81051,
          81168,
          81169,
          81205,
          81217,
          81217,
          81246,
          81300,
          81320,
          81361,
          81361,
          81380,
          81574,
          81657,
          81698,
          81698,
          81702,
          81741,
          81795,
          81843,
          81929,
          81975,
          82014,
          82017,
          82025,
          82032,
          82032,
          82072,
          82122,
          82170,
          82224,
          82326,
          82332,
          82333,
          82347,
          82347,
          82384,
          82427,
          82460,
          82497,
          82504,
          82571,
          82576,
          82582,
          82584,
          82623,
          82657,
          82716,
          82733,
          82800,
          82800,
          83003,
          83033,
          83145,
          83151,
          83151,
          83257,
          83273,
          83443,
          83512,
          83528,
          83532,
          83664,
          83715,
          83790,
          83829,
          83829,
          83837,
          83844,
          83844,
          83844,
          83891,
          83917,
          84117,
          84169,
          84169,
          84196,
          84219,
          84219,
          84460,
          84574,
          84618,
          84618,
          84835,
          84865,
          84906,
          84906,
          84953,
          85072,
          85431,
          85485,
          85606,
          85620,
          85683,
          85693,
          85696,
          85696,
          85710,
          85738,
          85844,
          86037,
          86111,
          86358,
          86424,
          86429,
          86580,
          86610,
          86718,
          86836,
          86857,
          86857,
          86979,
          87000,
          87171,
          87188,
          87195,
          87305,
          87679,
          87771,
          87771,
          88097,
          88194,
          88325,
          88347,
          88420,
          89058,
          89120,
          89572,
          89616,
          89694,
          89891,
          90000,
          90226,
          90247,
          90273,
          90300,
          90369,
          90638,
          90638,
          90687,
          90765,
          90842,
          90933,
          91065,
          91172,
          91249,
          91700,
          91712,
          91820,
          92163,
          92344,
          92491,
          92533,
          92556,
          92859,
          92910,
          92955,
          93027,
          93404,
          93790,
          94384,
          94384,
          94472,
          94642,
          94871,
          95169,
          95529,
          96547,
          96843,
          96876,
          98777,
          98777,
          101970,
          102160,
          102692,
          105471,
          113734
         ],
         "xaxis": "x",
         "y": [
          -587.8661763786868,
          -570.7004925738538,
          -545.4427569893369,
          -532.9695055774569,
          -523.2734080307939,
          -512.9069629994235,
          -502.2771671704893,
          -494.0654104828217,
          -472.23123526663255,
          -465.64746532754043,
          -458.24970201416056,
          -449.72671256573585,
          -449.72671256573585,
          -449.72671256573585,
          -449.72671256573585,
          -449.72671256573585,
          -449.72671256573585,
          -449.72671256573585,
          -449.72671256573585,
          -449.72671256573585,
          -449.72671256573585,
          -449.72671256573585,
          -449.72671256573585,
          -437.085874282679,
          -418.12461685809376,
          -415.2516990664899,
          -407.71028986352985,
          -400.69558225569716,
          -396.5298514578716,
          -384.0087180827982,
          -380.20210200892313,
          -366.43603759082146,
          -366.43603759082146,
          -365.6459851981304,
          -355.2077172219698,
          -332.5834896130897,
          -328.3219948888773,
          -316.0402713297709,
          -311.82665856875195,
          -305.2907705928533,
          -303.1121412675537,
          -301.96297415091215,
          -300.71804310788383,
          -293.03298801534356,
          -289.6094276470157,
          -284.0311789349849,
          -281.78072666489527,
          -278.28534335177727,
          -275.0533108362229,
          -273.7844388115979,
          -272.4198028605861,
          -272.1325110814257,
          -269.3792981978054,
          -269.25959328982185,
          -268.8286556210813,
          -268.4455999155341,
          -264.11228224653166,
          -263.2982888722439,
          -263.2982888722439,
          -262.6279413875364,
          -262.6279413875364,
          -261.90971193963543,
          -253.02760776726024,
          -251.99814555860218,
          -249.53222445414224,
          -246.10866408581433,
          -245.89319525144407,
          -241.79928739840858,
          -240.29100555781656,
          -239.7882449442859,
          -233.56358972914427,
          -233.51570776595088,
          -232.31865868611595,
          -231.2413145142645,
          -230.59490801115368,
          -226.7643509556819,
          -225.63912482063705,
          -224.03507905365825,
          -222.21556445230914,
          -219.4862925502855,
          -218.83988604717462,
          -218.83988604717462,
          -218.74412212078784,
          -216.15849610834442,
          -214.55445034136557,
          -214.02774874623822,
          -211.29847684421458,
          -210.628129359507,
          -206.74969034084182,
          -205.8159920585706,
          -195.9523076407308,
          -194.3003799105586,
          -193.03150788593354,
          -192.91180297795006,
          -189.9431212599594,
          -189.77553438878255,
          -188.9376000328981,
          -186.56744285482495,
          -184.24516763994518,
          -181.82712849867863,
          -181.82712849867863,
          -181.82712849867863,
          -181.56377770111493,
          -181.56377770111493,
          -180.48643352926348,
          -179.36120739421864,
          -177.03893217933887,
          -176.10523389706765,
          -176.10523389706765,
          -176.10523389706765,
          -174.93212579882942,
          -174.6927159828624,
          -171.8437391728553,
          -166.52884125838824,
          -166.1218445712443,
          -164.49385782266882,
          -164.37415291468534,
          -163.77562837476785,
          -162.79404812930323,
          -162.19552358938574,
          -162.09975966299896,
          -162.09975966299896,
          -158.70014027626775,
          -156.68909782214507,
          -155.51598972390684,
          -150.79961634935722,
          -150.79961634935722,
          -147.35211499943262,
          -147.35211499943262,
          -146.1550659195977,
          -146.1550659195977,
          -145.84383315884065,
          -145.81989217724396,
          -140.28952542840653,
          -140.28952542840653,
          -140.24164346521314,
          -138.70942064302443,
          -138.0630141399136,
          -137.08143389444894,
          -136.41108640974136,
          -136.41108640974136,
          -129.03726407795824,
          -126.97833966064212,
          -125.94887745198412,
          -125.11094309609967,
          -125.01517916971284,
          -120.41851070314675,
          -119.77210420003587,
          -118.02441254347684,
          -117.92864861709006,
          -115.17543573346973,
          -111.08152788043424,
          -110.36329843253327,
          -106.41303646907807,
          -106.2693905794979,
          -105.26386935243647,
          -104.5456399045355,
          -103.65982358545773,
          -102.72612530318645,
          -102.72612530318645,
          -102.34306959763933,
          -101.0741975730142,
          -100.9066107018374,
          -99.99685340116287,
          -99.63773867721238,
          -99.03921413729483,
          -97.50699131510612,
          -96.2860012536745,
          -95.87900456653063,
          -95.30442100820994,
          -94.75377843148578,
          -93.24549659089382,
          -92.5512081245896,
          -92.5512081245896,
          -92.19209340063912,
          -91.85691965828528,
          -90.4444017440801,
          -90.1810509465164,
          -89.31917560903526,
          -88.84035597710124,
          -88.84035597710124,
          -88.57700517953765,
          -87.40389708129942,
          -87.40389708129942,
          -86.56596272541492,
          -86.25472996465783,
          -85.79985131432056,
          -84.0282186761649,
          -84.0282186761649,
          -83.33393020986057,
          -83.33393020986057,
          -79.9821927863228,
          -79.1442584304383,
          -76.4628684916081,
          -75.09823254059631,
          -74.76305879824247,
          -73.18295401286036,
          -73.18295401286036,
          -72.12955082260567,
          -71.57890824588162,
          -70.71703290840048,
          -70.71703290840048,
          -68.05958395116693,
          -67.22164959528243,
          -67.19770861368579,
          -65.97671855225417,
          -65.80913168107725,
          -65.7373087362871,
          -65.2584891043532,
          -63.8938531533413,
          -63.654443337374346,
          -62.81650898148996,
          -61.451873030478055,
          -61.308227140897884,
          -60.73364358257709,
          -60.374528858626604,
          -58.77048309164786,
          -56.85520456391191,
          -55.72997842886707,
          -55.27509977852981,
          -54.054109717098186,
          -52.976765545246735,
          -50.798136219947196,
          -49.768674011289136,
          -49.40955928733865,
          -48.02098235473022,
          -46.65634640371832,
          -45.91417597422071,
          -45.100182599932964,
          -44.310130207241855,
          -43.208845053793766,
          -41.054156710090865,
          -40.47957315177007,
          -40.47957315177007,
          -39.40222897991873,
          -39.25858309033845,
          -38.34882578966392,
          -37.67847830495634,
          -36.45748824352472,
          -33.58457045192097,
          -33.58457045192097,
          -33.53668848872758,
          -30.56800677073693,
          -27.64720701593967,
          -26.545921862491582,
          -25.39675474584999,
          -24.726407261142413,
          -24.27152861080515,
          -23.744827015677856,
          -23.744827015677856,
          -23.21812542055045,
          -22.18866321189239,
          -20.943732168864017,
          -20.15367977617302,
          -18.573574990790917,
          -18.573574990790917,
          -17.71169965330978,
          -13.833260634644603,
          -13.498086892290758,
          -11.51098541976478,
          -11.175811677411048,
          -10.385759284719938,
          -8.494421738580854,
          -7.8001332722765255,
          -7.656487382696355,
          -5.214507259833113,
          -4.639923701512316,
          -4.639923701512316,
          -4.544159775125536,
          -3.2274057873071342,
          -1.4557731491514687,
          -1.3600092227645746,
          0.12433163623074961,
          0.45950537858448115,
          0.9862069737118873,
          4.840705010780312,
          4.912527955570454,
          4.912527955570454,
          5.5828754402780305,
          6.971452372886461,
          8.551557158268565,
          8.647321084655346,
          11.16112415230873,
          11.352652005082291,
          12.717287956094196,
          13.531281330381944,
          13.962218999122456,
          14.057982925509236,
          14.177687833492769,
          14.41709764945972,
          14.895917281393736,
          14.895917281393736,
          16.021143416438576,
          17.050605625096637,
          18.032185870561193,
          18.822238263252302,
          19.516526729556517,
          19.516526729556517,
          19.899582435103753,
          20.929044643761813,
          20.976926606955203,
          21.671215073259418,
          21.98244783401651,
          22.221857649983463,
          22.269739613176853,
          22.82038218990101,
          22.91614611628779,
          22.96402807948118,
          23.227378877044885,
          27.20158182209684,
          27.895870288401056,
          28.35074893873832,
          30.840611024794953,
          31.247607711938826,
          33.47411900043187,
          34.67116808026674,
          36.347036792035624,
          38.405961209351744,
          39.196013602042854,
          39.579069307589975,
          39.69877421557351,
          42.76321985995094,
          42.787160841547575,
          43.14627556549806,
          44.989731148443866,
          47.024714584163235,
          47.024714584163235,
          48.72452427752887,
          49.01181605668921,
          49.65822255980004,
          50.376452007701005,
          51.118622437198724,
          51.28620930837553,
          51.28620930837553,
          51.597442069132626,
          51.645324032326016,
          52.0044387562765,
          53.273310780901625,
          53.512720596868576,
          54.637946731913416,
          55.11676636384732,
          56.55322525964925,
          57.606628449904065,
          57.606628449904065,
          58.25303495301489,
          59.35432010646298,
          59.47402501444651,
          61.149893726215396,
          64.357985260173,
          65.21986059765413,
          67.47031286774381,
          69.48135532186654,
          70.65446342010478,
          72.1388042791001,
          72.54580096624397,
          75.41871875784773,
          75.53842366583126,
          76.44818096650579,
          78.00434477029125,
          78.12404967827467,
          79.46474464768983,
          81.09273139626532,
          81.09273139626532,
          82.52919029206726,
          83.19953777677483,
          83.19953777677483,
          83.94170820627244,
          84.61205569098001,
          87.46103250098713,
          88.92143237838582,
          89.30448808393294,
          89.4960159367065,
          90.88459286931504,
          91.1718846484755,
          91.24370759326553,
          91.24370759326553,
          92.9674582682278,
          95.19396955672084,
          95.62490722546136,
          95.62490722546136,
          96.07978587579862,
          97.34865790042363,
          97.34865790042363,
          97.7556545875675,
          97.8514185139544,
          97.8514185139544,
          98.28235618269491,
          98.42600207227508,
          100.12581176564072,
          100.36522158160767,
          101.08345102950864,
          101.44256575345912,
          101.46650673505587,
          101.82562145900636,
          101.99320833018317,
          102.35232305413365,
          102.35232305413365,
          104.02819176590253,
          104.05213274749929,
          105.10553593775398,
          106.47017188876589,
          106.97293250229654,
          107.42781115263381,
          108.12209961893802,
          108.62486023246868,
          108.76850612204896,
          108.88821103003238,
          109.12762084599945,
          110.46831581541448,
          112.47935826953722,
          112.69482710390753,
          112.69482710390753,
          114.22704992609624,
          114.9452793739971,
          115.01710231878724,
          116.66903004895948,
          116.71691201215287,
          116.7887349569429,
          116.7887349569429,
          121.33752146031566,
          121.33752146031566,
          122.10363287141001,
          122.34304268737696,
          123.75556060158226,
          124.78502281024032,
          124.78502281024032,
          125.69478011091485,
          126.29330465083228,
          127.01153409873325,
          127.37064882268373,
          127.61005863865068,
          127.87340943621439,
          128.01705532579456,
          129.30986833201632,
          131.10544195176874,
          131.75184845487956,
          132.37431397639375,
          133.4516581482452,
          133.4516581482452,
          133.90653679858247,
          133.95441876177586,
          134.60082526488668,
          135.10358587841733,
          137.0906873509433,
          140.27483790330427,
          140.32271986649766,
          140.9691263696085,
          142.04647054145994,
          142.40558526541042,
          144.00963103238928,
          144.0814539771793,
          144.32086379314637,
          146.73890293441286,
          148.1753618302148,
          150.16246330274078,
          150.78492882425496,
          151.9580369224932,
          152.24532870165353,
          154.2324301741795,
          155.14218747485404,
          157.67993152410418,
          157.89540035847438,
          158.1108691928447,
          158.18269213763483,
          158.18269213763483,
          159.61915103343676,
          161.70201643234952,
          161.70201643234952,
          161.98930821150987,
          164.7904030583236,
          165.02981287429066,
          165.10163581908068,
          165.14951778227407,
          166.22686195412552,
          166.39444882530245,
          166.72962256765618,
          166.72962256765618,
          167.44785201555715,
          168.33366833463504,
          168.33366833463504,
          169.81800919363036,
          170.39259275195104,
          170.79958943909492,
          171.2544680894323,
          171.39811397901246,
          171.63752379497942,
          171.6854057581728,
          171.82905164775298,
          172.0445204821233,
          174.22314980742283,
          174.27103177061622,
          174.39073667859975,
          174.6780284577601,
          174.773792384147,
          174.8934972921304,
          175.65960870322476,
          175.82719557440169,
          177.45518232297718,
          179.01134612676253,
          180.20839520659752,
          183.63195557492543,
          184.37412600442303,
          184.6135358203901,
          184.6135358203901,
          185.33176526829106,
          185.33176526829106,
          185.73876195543494,
          185.9781717714019,
          186.48093238493254,
          187.31886674081704,
          188.9229125077958,
          188.9229125077958,
          188.9229125077958,
          189.80872882687368,
          190.21572551401755,
          190.5030172931779,
          192.37041385772045,
          193.0886433056213,
          193.73504980873224,
          193.80687275352227,
          194.57298416461663,
          194.78845299898694,
          194.78845299898694,
          195.36303655730774,
          195.93762011562853,
          196.36855778436905,
          197.37407901143035,
          197.9726035513479,
          198.54718710966858,
          198.7626559440389,
          198.9781247784092,
          198.9781247784092,
          199.073888704796,
          199.073888704796,
          199.8639410974871,
          201.56375079085262,
          202.13833434917342,
          202.37774416514037,
          204.4366685824565,
          204.4366685824565,
          204.77184232481022,
          205.1309570487607,
          206.63923888935278,
          207.09411753969005,
          207.09411753969005,
          207.23776342927022,
          207.71658306120423,
          207.88416993238104,
          208.26722563792828,
          212.9117760676878,
          212.9117760676878,
          213.34271373642832,
          213.34271373642832,
          214.5397628162633,
          216.35927741761236,
          216.790215086353,
          217.93938220299447,
          218.60972968770204,
          219.20825422761948,
          221.17141471854882,
          221.67417533207947,
          223.9964505469593,
          224.97803079242385,
          225.02591275561724,
          225.12167668200402,
          225.12167668200402,
          225.43290944276112,
          225.50473238755126,
          226.96513226494983,
          227.515774841674,
          227.56365680486738,
          227.58759778646402,
          227.58759778646402,
          227.7312436760442,
          229.23952551663626,
          229.23952551663626,
          229.23952551663626,
          229.23952551663626,
          229.62258122218338,
          230.02957790932726,
          230.77174833882498,
          231.29844993395227,
          233.21372846168822,
          233.50102024084856,
          234.1474267439595,
          234.38683655992645,
          235.17688895261745,
          235.70359054774485,
          235.8951184005184,
          236.01482330850195,
          236.06270527169534,
          238.0976887074147,
          238.86380011850906,
          239.12715091607276,
          239.36656073203972,
          239.79749840078034,
          240.18055410632746,
          242.35918343162712,
          243.1971177875115,
          245.75880281835828,
          247.60225840130408,
          247.7698452724809,
          247.91349116206118,
          248.46413373878522,
          249.70906478181348,
          250.11606146895735,
          250.21182539534425,
          251.21734662240556,
          251.2891695671956,
          251.5046384015659,
          251.79193018072635,
          251.91163508870977,
          253.27627103972168,
          254.64090699073347,
          254.78455288031364,
          254.85637582510378,
          255.26337251224766,
          255.5027823282146,
          255.550664291408,
          255.93371999695512,
          256.4604215920825,
          257.4898838007406,
          257.8250575430943,
          258.20811324864155,
          258.20811324864155,
          258.56722797259204,
          258.6151099357854,
          259.5488082180567,
          260.1233917763774,
          260.2430966843609,
          262.15837521209676,
          262.37384404646707,
          263.331483310335,
          263.331483310335,
          263.52301116310866,
          264.52853239016997,
          265.3425257644577,
          265.98893226756854,
          266.1325781571487,
          266.1325781571487,
          266.25228306513225,
          268.71820416959224,
          271.6868858875829,
          273.2191087097716,
          273.2191087097716,
          273.67398736010887,
          273.6979283417055,
          273.6979283417055,
          274.6795085871702,
          274.6795085871702,
          274.72739055036357,
          274.72739055036357,
          274.72739055036357,
          275.0625642927173,
          275.3737970534744,
          277.09754772843667,
          278.77341644020566,
          279.778937667267,
          281.76603913979295,
          282.795501348451,
          283.7291996307222,
          284.66289791299346,
          284.75866183938024,
          285.1656585265241,
          285.18959950812086,
          285.2614224529109,
          285.28536343450764,
          286.02753386400525,
          286.12329779039214,
          287.2964058886304,
          289.0919795083827,
          289.11592048997943,
          289.11592048997943,
          290.28902858821766,
          290.4087334962012,
          291.07908098090866,
          291.29454981527897,
          291.29454981527897,
          292.6352447846941,
          292.75494969267766,
          293.5689430669654,
          293.80835288293235,
          294.2632315332696,
          294.311113496463,
          294.311113496463,
          294.59840527562335,
          294.6702282204135,
          295.3166347235243,
          295.3166347235243,
          295.8672773002485,
          296.75309361932625,
          296.8249165641164,
          297.27979521445366,
          297.8304377911777,
          298.21349349672494,
          299.8175392637037,
          300.17665398765416,
          300.32029987723433,
          300.89488343555513,
          301.3497620858924,
          301.7088768098429,
          303.12139472404806,
          303.12139472404806,
          303.48050944799854,
          304.1269159511095,
          304.36632576707643,
          304.36632576707643,
          305.89854858926515,
          307.90959104338776,
          308.9629942336426,
          309.8727515343171,
          312.93719717869453,
          314.82853472483373,
          315.25947239357424,
          317.5338656452607,
          317.62962957164746,
          320.21525558409087,
          320.3349604920744,
          320.78983914241167,
          321.6995964430862,
          322.2981209830036,
          322.68117668855086,
          322.77694061493764,
          322.8727045413244,
          323.35152417325844,
          324.9555699402372,
          325.9132092041051,
          325.9132092041051,
          326.4877927624259,
          326.4877927624259,
          326.4877927624259,
          328.25942540058156,
          329.5282974252067,
          329.5282974252067,
          329.76770724117364,
          330.77322846823495,
          333.40673644387186,
          333.93343803899916,
          334.24467079975625,
          335.6332477323648,
          336.04024441950867,
          336.04024441950867,
          336.5908869962327,
          338.9371031927092,
          339.1525720270795,
          339.4638047878366,
          339.82291951178706,
          340.82844073884837,
          341.4748472419592,
          342.4803684690206,
          342.4803684690206,
          343.60559460406546,
          344.2041191439829,
          344.8505256470937,
          344.8505256470937,
          345.2575223342376,
          345.9996927637353,
          346.55033534045936,
          347.02915497239326,
          347.3643287147471,
          347.5079746043273,
          348.7289646657589,
          349.59084000324003,
          352.3679938684571,
          352.6313446660208,
          352.774990555601,
          352.79893153719763,
          353.22986920593826,
          355.16908871527085,
          355.2648526416576,
          355.7676132551883,
          355.9830820895586,
          358.8799408627591,
          360.31639975856103,
          360.31639975856103,
          362.1359143599101,
          362.7583798814243,
          362.90202577100445,
          363.11749460537476,
          363.6202552189054,
          365.487651783448,
          366.1819402497522,
          367.57051718236073,
          367.7141630719409,
          368.04933681429463,
          369.36609080211315,
          369.72520552606363,
          370.7067857715282,
          372.6460052808608,
          373.4360576735519,
          375.4471001276745,
          375.90197877801177,
          376.2371525203656,
          376.2371525203656,
          376.5005033179293,
          376.57232626271934,
          376.57232626271934,
          376.73991313389627,
          377.0272049130566,
          378.1763720296982,
          380.0677095758374,
          380.1155915390308,
          380.2831784102077,
          380.83382098693176,
          381.19293571088224,
          381.3365816004624,
          381.7675192692029,
          382.0548110483634,
          383.77856172332565,
          385.1671386559342,
          385.4783714166913,
          385.4783714166913,
          385.5023123982879,
          385.66989926946485,
          385.6938402510615,
          385.88536810383516,
          386.50783362534935,
          386.50783362534935,
          387.56123681560405,
          388.7582858954389,
          388.7582858954389,
          389.50045632493664,
          389.57227926972666,
          389.7398661409036,
          390.266567736031,
          390.266567736031,
          390.76932834956165,
          391.03267914712535,
          392.13396430057344,
          392.2776101901536,
          392.7803708036844,
          392.82825276687777,
          393.23524945402164,
          393.4746592699886,
          393.7380100675523,
          394.59988540503343,
          394.6477673682268,
          396.2278721536088,
          397.13762945428357,
          400.106311172274,
          400.6090717858049,
          400.65695374899815,
          401.3751831968991,
          401.5427700680759,
          403.529871540602,
          403.5777535037953,
          404.60721571245335,
          406.4746122769959,
          406.6182581665762,
          407.3604285960737,
          407.8871301912011,
          411.0952217251588,
          411.23886761473887,
          411.717687246673,
          414.2075493327295,
          414.59060503827664,
          415.4524803757579,
          415.5243033205479,
          418.7563358361024,
          418.7563358361024,
          418.9239227072792,
          419.21121448643953,
          419.69003411837343,
          419.90550295274375,
          423.4966501922486,
          424.35852552972983,
          425.3401057751944,
          425.9865122783053,
          427.0877974317534,
          427.82996786125113,
          427.9257317876379,
          429.21854479385956,
          430.5113578000812,
          431.30141019277244,
          431.7562888431096,
          431.82811178789984,
          431.89993473268987,
          432.7139281069776,
          433.09698381252474,
          433.14486577571824,
          433.5039804996686,
          433.52792148126537,
          434.19826896597283,
          436.16142945690217,
          436.35295730967573,
          436.3768982912725,
          436.78389497841636,
          437.31059657354376,
          438.5315866349754,
          439.3216390276664,
          440.614452033888,
          443.1282551015415,
          443.1282551015415,
          443.3197829543151,
          445.92934994835514,
          446.40816958028927,
          446.93487117541645,
          447.19822197298026,
          447.7967465128977,
          447.7967465128977,
          448.2037432000416,
          449.4247332614732,
          449.6880840590368,
          449.78384798542356,
          451.4836576787893,
          451.4836576787893,
          451.55548062357934,
          451.8906543659332,
          452.4412969426571,
          452.92011657459125,
          452.944057556188,
          453.015880500978,
          460.1024110536007,
          461.8501027101597,
          461.92192565495,
          464.43572872260324,
          464.53149264899,
          465.6806597656316,
          466.23130234235555,
          466.23130234235555,
          468.0986989068981,
          469.3436299499265,
          469.46333485791,
          469.6788036922801,
          469.75062663707035,
          470.1097413610207,
          470.5167380481646,
          471.7377281095962,
          472.33625264951365,
          472.3601936311104,
          472.3601936311104,
          473.17418700539815,
          473.26995093178493,
          474.06000332447616,
          474.2515311772497,
          474.32335412203975,
          474.3472951036365,
          474.3472951036365,
          474.3472951036365,
          474.4430590300233,
          474.53882295641006,
          474.5627639380068,
          475.5682851650681,
          477.53144565599746,
          479.42278320213654,
          480.2367765764243,
          480.2367765764243,
          480.95500602432526,
          481.0268289691153,
          481.3380617298724,
          482.1281141225634,
          482.1281141225634,
          483.0857533864314,
          484.5461532638301,
          486.6050776811462,
          486.6050776811462,
          488.30488737451174,
          488.30488737451174,
          488.5682381720753,
          489.57375939913663,
          489.57375939913663,
          490.1244019758608,
          490.4835166998114,
          490.6511035709882,
          491.89603461401657,
          492.4466771907405,
          493.3324935098185,
          493.3324935098185,
          493.6437262705756,
          493.78737216015566,
          494.09860492091275,
          494.2901327736863,
          495.55900479831143,
          495.8941785406653,
          496.15752933822887,
          496.540585043776,
          496.540585043776,
          496.540585043776,
          498.5995094610921,
          499.2698569457996,
          500.1317322832808,
          503.6031746148021,
          504.3692860258964,
          504.3692860258964,
          504.3932270074931,
          507.24220381750024,
          509.5884200139767,
          512.269809952807,
          512.4852787871773,
          512.7725705663377,
          513.7302098302057,
          515.2863736339909,
          515.597606394748,
          515.6454883579415,
          516.2918948610525,
          517.2255931433235,
          517.8719996464345,
          518.8775208734958,
          520.0266879901374,
          521.5589108123261,
          523.4741893400619,
          524.1445368247696,
          524.3360646775432,
          524.4797105671232,
          524.5515335119135,
          525.6288776837648,
          527.7835660274677,
          530.225546150331,
          530.225546150331,
          530.225546150331,
          532.4759984204206,
          536.3065554758923,
          536.6177882366494,
          537.1444898317768,
          537.2641947397603,
          537.8866602612745,
          538.2457749852249,
          538.7724765803523,
          538.8921814883358,
          539.0118863963194,
          540.8792829608619,
          541.5256894639726,
          541.8608632063265,
          541.8608632063265,
          541.9087451695198,
          542.5790926542275,
          542.5790926542275,
          543.4649089733052,
          545.9787120409587,
          546.0744759673455,
          546.1223579305388,
          546.6490595256662,
          547.5109348631474,
          547.6545807527275,
          547.7982266423078,
          548.3009872558384,
          550.2641477467678,
          553.1370655383714,
          553.7116490966923,
          554.142586765433,
          555.2199309372843,
          555.6508686060249,
          555.9142194035885,
          556.1296882379588,
          556.8479176858598,
          557.5182651705672,
          558.3083175632585,
          558.6195503240156,
          559.0983699559495,
          559.7926584222537,
          559.8405403854472,
          560.0560092198175,
          560.1278321646075,
          560.1278321646075,
          562.1867565819236,
          564.2696219808363,
          565.658198913445,
          565.658198913445,
          566.9749529012634,
          567.2861856620204,
          567.8128872571478,
          568.1001790363082,
          570.5421591591714,
          570.805509956735,
          571.3561525334592,
          571.3561525334592,
          572.1462049261502,
          572.553201613294,
          574.2769522882563,
          574.947299772964,
          575.7612931472518,
          576.2161717975889,
          577.0301651718767,
          577.0541061534734,
          578.2272142517115,
          578.4666240676786,
          579.7594370739002,
          580.2143157242376,
          580.2861386690277,
          582.3929450495373,
          582.3929450495373,
          582.5126499575206,
          582.5126499575206,
          583.6618170741622,
          585.1222169515609,
          585.2179808779476,
          585.4095087307212,
          586.5586758473628,
          588.5936592830822,
          589.2640067677896,
          590.3413509396412,
          590.3413509396412,
          590.8680525347686,
          591.9932786698132,
          591.9932786698132,
          592.6396851729241,
          594.3634358478864,
          594.6746686086435,
          595.0816652957874,
          595.2492521669644,
          596.3744783020093,
          597.6912322898277,
          598.0982289769715,
          598.5770486089054,
          599.2473960936129,
          600.5402090998348,
          600.5402090998348,
          600.6359730262216,
          601.0429697133654,
          601.5457303268961,
          601.5696713084928,
          603.1737170754716,
          604.1074153577429,
          604.3707661553065,
          604.56229400808,
          605.1847595295942,
          605.3284054191745,
          607.2676249285071,
          607.2915659101038,
          608.8716706954858,
          610.0447787937242,
          611.170004928769,
          612.678286769361,
          614.4020374443232,
          615.2399718002077,
          616.4609618616394,
          617.4186011255072,
          618.4480633341652,
          619.4057025980333,
          620.1957549907243,
          620.3154598987078,
          620.5069877514813,
          622.3025613712337,
          622.3025613712337,
          623.5953743774555,
          625.5345938867881,
          625.5345938867881,
          627.9286920464579,
          628.3596297151985,
          629.269387015873,
          629.9397345005807,
          630.3467311877246,
          630.3467311877246,
          633.6027046848756,
          635.8770979365618,
          636.0446848077388,
          636.0925667709321,
          636.4516814948827,
          637.529025666734,
          638.9415435809392,
          640.4019434583379,
          641.575051556576,
          642.0538711885101,
          643.2748612499418,
          643.7057989186824,
          644.0649136426327,
          644.4000873849866,
          644.4719103297766,
          645.0943758512908,
          645.1661987960808,
          645.645018428015,
          647.0575363422201,
          648.182762477265,
          648.3742903300385,
          648.5418772012154,
          648.6376411276021,
          652.4442572014773,
          653.7849521708924,
          655.2214110666944,
          656.3466372017392,
          657.8070370791377,
          658.5013255454421,
          659.770197570067,
          660.1293122940176,
          660.2490172020009,
          662.9782891040247,
          662.9782891040247,
          663.6725775703289,
          664.9175086133573,
          665.2526823557109,
          666.1145576931922,
          666.1863806379822,
          666.6891412515129,
          666.8088461594964,
          667.4073706994138,
          667.4791936442041,
          667.790426404961,
          668.2453050552983,
          668.2692460368951,
          668.5565378160554,
          668.8438295952158,
          669.1071803927796,
          669.2029443191664,
          669.5620590431167,
          671.7167473868196,
          671.8603932763999,
          672.0519211291735,
          672.7701505770744,
          673.4404980617819,
          673.8714357305225,
          674.3023733992632,
          674.3023733992632,
          674.4460192888432,
          674.6854291048103,
          676.6725305773361,
          677.6780518043977,
          677.965343583558,
          680.0482089824707,
          680.0482089824707,
          680.1200319272609,
          681.0058482463387,
          681.5564908230629,
          682.7535399028977,
          682.8971857924778,
          682.8971857924778,
          684.5969954858435,
          686.4883330319826,
          687.0868575719,
          687.4220313142539,
          687.7572050566077,
          691.2525883697258,
          692.5454013759474,
          692.5454013759474,
          693.1918078790584,
          693.4312176950252,
          693.455158676622,
          693.694568492589,
          693.8621553637659,
          694.2212700877162,
          694.2691520509097,
          696.0168437074688,
          696.4477813762094,
          697.3335976952872,
          697.6208894744475,
          697.8602992904146,
          699.8474007629404,
          699.9431646893272,
          700.9486859163885,
          701.6669153642895,
          702.1696759778201,
          702.672436591351,
          703.8934266527826,
          704.3961872663133,
          705.6411183093414,
          705.6890002725349,
          706.646639536403,
          707.6282197818675,
          709.3519704568298,
          710.2377867759076,
          710.3096097206978,
          710.3574916838911,
          712.512180027594,
          713.0149406411247,
          714.4992815001201,
          714.4992815001201,
          715.7442125431483,
          716.7497337702098,
          717.2046124205469,
          717.2285534021437,
          717.4679632181108,
          719.0720089850895,
          719.4790056722334,
          720.6521137704715,
          724.195379046783,
          724.6023757339269,
          724.6023757339269,
          724.7939035867005,
          725.1769592922476,
          726.4458313168727,
          728.5286967157854,
          728.6723426053657,
          729.9651556115873,
          730.467916225118,
          730.467916225118,
          731.7607292313396,
          733.8435946302525,
          733.891476593446,
          734.4421191701699,
          734.4421191701699,
          734.8969978205073,
          736.2137518083257,
          736.429220642696,
          737.0756271458067,
          737.5305057961441,
          737.5305057961441,
          737.7459746305144,
          737.7459746305144,
          737.9135615016912,
          738.0572073912715,
          738.6078499679954,
          738.6078499679954,
          739.7330761030403,
          741.0019481276654,
          741.265298925229,
          742.2468791706938,
          742.6299348762409,
          743.3242233425451,
          743.4439282505286,
          745.407088741458,
          747.6336000299509,
          748.0405967170948,
          748.2081835882716,
          750.7219866559251,
          752.230268496517,
          752.8527340180312,
          753.1639667787883,
          754.7680125457671,
          756.1087075151822,
          757.0424057974535,
          757.1860516870336,
          757.784576226951,
          758.1915729140949,
          758.2633958588851,
          758.3112778220784,
          758.502805674852,
          759.8913826074606,
          761.3517824848591,
          761.99818898797,
          762.07001193276,
          762.5967135278875,
          764.4880510740268,
          765.8766280066352,
          766.3075656753758,
          766.6666803993262,
          767.1933819944536,
          767.1933819944536,
          767.6722016263875,
          768.8213687430291,
          768.8931916878191,
          770.8324111971517,
          771.1197029763123,
          771.5506406450527,
          772.5561618721142,
          772.5561618721142,
          773.2265093568217,
          773.585624080772,
          773.8250338967391,
          774.7587321790104,
          774.7587321790104,
          774.9981419949775,
          775.6684894796849,
          775.8600173324585,
          776.2909550011991,
          778.9484039584327,
          781.2467381917156,
          784.2154199097063,
          784.4787707072701,
          784.6702985600436,
          784.7181805232369,
          785.8912886214753,
          787.6389802780343,
          788.8599703394659,
          789.1472621186263,
          790.2246062904776,
          790.2246062904776,
          790.5118980696382,
          791.708947149473,
          791.708947149473,
          792.4511175789708,
          793.0975240820815,
          793.5763437140154,
          794.2945731619163,
          794.7494518122537,
          797.4547827326805,
          797.6223696038576,
          799.178533407643,
          799.657353039577,
          801.2853397881524,
          802.6020937759708,
          802.8893855551312,
          804.014611690176,
          804.5891952484969,
          805.3792476411879,
          806.5284147578295,
          807.1748212609402,
          807.9648736536312,
          809.4013325494332,
          810.8138504636386,
          811.0293192980087,
          811.5320799115393,
          811.9390765986832,
          811.9630175802799,
          812.1545454330535,
          812.6812470281809,
          817.5173253107141,
          818.5228465377754,
          818.5228465377754,
          818.714374390549,
          818.9298432249193,
          819.2410759856764,
          820.1987152495444,
          820.1987152495444,
          820.4381250655113,
          821.180295495009,
          821.4675872741693,
          822.2815806484571,
          823.6701575810655,
          824.2686821209832,
          827.2613048205703,
          828.5780588083887,
          828.6259407715822,
          828.8414096059525,
          829.5356980722568,
          831.3552126736058,
          831.4509765999926,
          832.6480256798275,
          832.8874354957945,
          835.4251795450446,
          836.1194680113488,
          836.4546417537026,
          837.1010482568136,
          837.771395741521,
          837.9150416311013,
          837.9629235942946,
          837.9629235942946,
          838.6332710790023,
          839.0402677661461,
          839.3993824900965,
          841.0752512018655,
          842.0328904657333,
          842.2962412632971,
          842.6553559872475,
          844.4988115701933,
          845.9113294843985,
          847.1802015090236,
          849.9573553742407,
          850.1249422454175,
          850.2207061718043,
          850.8192307117217,
          850.8671126749152,
          850.8671126749152,
          851.2022864172691,
          851.9923388099601,
          852.7823912026511,
          853.0696829818114,
          853.2133288713917,
          854.9610205279507,
          855.0567844543375,
          855.2961942703043,
          856.4453613869459,
          856.5171843317362,
          858.8634005282127,
          859.5337480129201,
          859.5337480129201,
          859.940744700064,
          860.3238004056111,
          862.406665804524,
          863.0770132892314,
          865.8302261728518,
          866.2132818783989,
          866.2132818783989,
          867.0033342710901,
          867.0990981974769,
          867.3385080134437,
          867.8652096085711,
          868.2482653141185,
          868.6552620012624,
          870.3071897314344,
          871.0972421241256,
          871.6718256824463,
          872.0548813879934,
          872.8928157438779,
          873.5392222469889,
          874.3771566028731,
          874.3771566028731,
          874.6883893636302,
          874.6883893636302,
          875.2869139035479,
          875.2869139035479,
          875.3347958667412,
          875.6220876459015,
          876.1727302226257,
          876.7233727993496,
          878.3274185663286,
          878.3274185663286,
          878.5428874006989,
          878.854120161456,
          878.9498840878427,
          879.787818443727,
          881.8706838426399,
          882.8043821249112,
          883.929608259956,
          883.9535492415528,
          884.0493131679395,
          884.8872475238238,
          885.8209458060951,
          887.185581757107,
          887.185581757107,
          888.1192800393783,
          888.1192800393783,
          888.6699226161022,
          891.3513125549325,
          892.5004796715741,
          895.373397463178,
          895.5888662975483,
          895.5888662975483,
          897.5999087516709,
          898.3899611443619,
          898.3899611443619,
          899.1321315738596,
          899.1321315738596,
          899.1321315738596,
          899.4673053162132,
          900.2334167273077,
          900.9037642120152,
          901.5741116967229,
          902.1486952550435,
          902.2684001630271,
          902.8908656845413,
          903.2739213900884,
          903.2739213900884,
          905.0934359914374,
          905.3328458074045,
          905.5243736601781,
          906.2904850712725,
          907.1523604087536,
          907.5114751327042,
          909.1634028628762,
          910.7195666666616,
          911.4377961145626,
          912.8263730471713,
          913.6882483846523,
          914.2867729245697,
          914.8374155012939,
          915.0050023724707,
          915.1247072804542,
          916.9921038449968,
          917.0639267897868,
          920.0086675261807,
          920.224136360551,
          921.97182801711,
          922.4027656858507,
          922.8337033545911,
          923.2646410233317,
          923.4561688761053,
          923.4561688761053,
          923.6716377104756,
          924.2941032319898,
          925.6826801645984,
          925.946030962162,
          927.621899673931,
          928.6274209009923,
          929.3695913304898,
          929.3695913304898,
          929.4174732936833,
          930.4229945207446,
          930.9257551342753,
          931.0933420054521,
          931.5721616373862,
          931.9073353797401,
          932.1467451957069,
          933.4634991835253,
          933.9423188154594,
          934.2535515762165,
          934.4450794289901,
          934.6366072817636,
          934.6366072817636,
          934.852076116134,
          935.3069547664711,
          935.7378924352117,
          937.9644037237047,
          938.5150463004288,
          938.5389872820253,
          938.5389872820253,
          938.5629282636221,
          938.6586921900089,
          939.4726855642966,
          939.4726855642966,
          940.5021477729547,
          942.2019574663204,
          942.8004820062379,
          943.2793016381718,
          943.2793016381718,
          943.5187114541388,
          943.7341802885092,
          943.7820622517024,
          944.4763507180066,
          944.763642497167,
          944.7875834787637,
          945.481871945068,
          946.2240423745657,
          946.367688264146,
          946.4873931721295,
          947.1337996752402,
          950.0545994300376,
          950.6052420067615,
          950.8207108411318,
          951.6107632338228,
          957.8593594305612,
          958.0748282649315,
          958.3142380808986,
          958.8169986944292,
          959.7506969767005,
          959.7506969767005,
          959.7985789398938,
          961.0195690013254,
          961.9532672835967,
          962.2166180811603,
          962.2166180811603,
          962.3123820075471,
          962.8630245842712,
          964.3473654432667,
          964.7543621304105,
          966.0471751366322,
          966.454171823776,
          966.7175226213396,
          966.7175226213396,
          968.2018634803351,
          968.3215683883186,
          970.5720206584081,
          970.8114304743751,
          970.8114304743751,
          972.0324205358068,
          973.5885843395922,
          974.1152859347196,
          974.5462236034602,
          975.3123350145545,
          975.8629775912786,
          976.8445578367432,
          977.897961026998,
          980.1484132970877,
          981.153934524149,
          981.2736394321325,
          982.1594557512103,
          983.2128589414651,
          983.5959146470123,
          983.8832064261726,
          983.9550293709626,
          984.7929637268471,
          985.0563145244109,
          985.1041964876042,
          985.128137469201,
          985.4154292483613,
          985.4154292483613,
          985.4154292483613,
          986.0618357514722,
          986.87582912576,
          987.594058573661,
          987.8334683896278,
          987.8334683896278,
          989.245986303833,
          991.0415599235855,
          991.9034352610665,
          993.5793039728355,
          996.1409890036823,
          996.5719266724229,
          996.5719266724229,
          1000.9052443414253,
          1001.5037688813427,
          1001.5277098629394,
          1001.5277098629394,
          1001.719237715713,
          1002.1022934212601,
          1002.2459393108404,
          1005.2625029920243,
          1005.4300898632014,
          1006.2680242190859,
          1007.1298995565669,
          1008.2072437284185,
          1009.7634075322037,
          1010.3619320721211,
          1010.3619320721211,
          1013.7136694956591,
          1014.3840169803666,
          1014.3840169803666,
          1014.4318989435601,
          1015.0304234834775,
          1015.0304234834775,
          1015.3416562442346,
          1015.3416562442346,
          1016.490823360876,
          1017.9751642198714,
          1023.0267113367747,
          1024.1519374718196,
          1024.6546980853502,
          1024.6546980853502,
          1024.9419898645108,
          1024.989871827704,
          1025.2532226252677,
          1025.2532226252677,
          1025.9714520731686,
          1025.9714520731686,
          1026.0432750179589,
          1027.6473207849376,
          1028.5091961224189,
          1028.9401337911593,
          1029.035897717546,
          1029.4189534230934,
          1031.5497007851995,
          1031.9566974723434,
          1032.2439892515038,
          1034.039562871256,
          1034.8056742823505,
          1035.0929660615109,
          1037.6546510923577,
          1038.4686444666454,
          1038.7798772274025,
          1039.45022471211,
          1039.8572213992538,
          1040.719096736735,
          1040.8148606631219,
          1041.91614581657,
          1043.4004866755654,
          1043.7596013995158,
          1044.2144800498531,
          1044.9087685161574,
          1044.9566504793506,
          1045.8424667984286,
          1047.4943945286007,
          1047.4943945286007,
          1047.638040418181,
          1047.8535092525512,
          1048.7632665532258,
          1049.3617910931432,
          1049.5293779643202,
          1050.5348991913816,
          1050.8700729337352,
          1050.8700729337352,
          1053.4556989461787,
          1053.7669317069358,
          1054.2696923204664,
          1054.6527480260136,
          1055.107626676351,
          1055.6582692530749,
          1056.6637904801364,
          1057.1186691304736,
          1058.6269509710655,
          1058.914242750226,
          1059.6324721981268,
          1060.1352328116577,
          1060.8534622595587,
          1060.8534622595587,
          1061.3562228730893,
          1061.85898348662,
          1061.9786883946033,
          1062.0744523209903,
          1062.5293309713275,
          1063.6545571063723,
          1065.186779928561,
          1065.5458946525116,
          1066.4317109715894,
          1066.7908256955398,
          1067.796346922601,
          1067.963933793778,
          1068.7061042232758,
          1068.7061042232758,
          1068.8976320760494,
          1069.3525107263865,
          1069.8313303583207,
          1071.0523204197523,
          1073.0873038554716,
          1073.2309497450517,
          1073.5900644690023,
          1074.4279988248866,
          1076.0799265550588,
          1078.2346148987617,
          1078.2346148987617,
          1079.3119590706133,
          1079.3119590706133,
          1079.886542628934,
          1080.748417966415,
          1080.916004837592,
          1081.6821162486863,
          1082.2088178438137,
          1082.4721686413775,
          1084.9859717090308,
          1085.201440543401,
          1085.5126733041582,
          1086.5660764944128,
          1087.0688371079436,
          1087.427951831894,
          1089.582640175597,
          1090.133282752321,
          1090.8036302370285,
          1090.9472761266088,
          1090.9472761266088,
          1090.995158089802,
          1091.2585088873657,
          1093.3174333046818,
          1093.3174333046818,
          1093.6047250838421,
          1093.628666065439,
          1093.7244299918257,
          1095.0651249612408,
          1095.0651249612408,
          1095.9748822619154,
          1096.0467052067056,
          1096.166410114689,
          1096.166410114689,
          1096.8367575993966,
          1097.2676952681372,
          1098.2732164951985,
          1099.015386924696,
          1099.661793427807,
          1099.9251442253708,
          1100.6433736732715,
          1101.2179572315924,
          1101.6010129371396,
          1101.8643637347034,
          1102.4868292562173,
          1102.9417079065547,
          1105.4794519558047,
          1106.5328551460595,
          1107.6341402995076,
          1108.1129599314415,
          1109.669123735227,
          1109.669123735227,
          1109.8606515880006,
          1110.7225269254818,
          1114.28973318339,
          1116.0853068031422,
          1116.1331887663357,
          1116.1571297479322,
          1116.97112312222,
          1117.617529625331,
          1117.6414706069277,
          1119.8200999322273,
          1119.8200999322273,
          1121.112912938449,
          1122.4775488894606,
          1126.9305714664467,
          1127.864269748718,
          1129.133141773343,
          1129.1810237365364,
          1129.2767876629232,
          1129.30072864452,
          1131.2878301170458,
          1134.855036374954,
          1134.9508003013407,
          1135.2859740436945,
          1137.632190240171,
          1137.7279541665578,
          1139.7629376022771,
          1140.5769309765649,
          1142.4443275411074,
          1143.9765503632962,
          1145.1257174799375,
          1146.2988255781759,
          1146.8973501180933,
          1147.471933676414,
          1148.3338090138952,
          1148.7647466826359,
          1149.2914482777633,
          1149.3632712225533,
          1149.3632712225533,
          1153.9599396891194,
          1155.2288117137443,
          1157.5989688918175,
          1159.4903064379569,
          1161.621053800063,
          1161.6449947816598,
          1162.7941618983011,
          1162.9138668062847,
          1163.440568401412,
          1163.440568401412,
          1164.3263847204898,
          1165.9304304874688,
          1166.5768369905795,
          1166.9359517145301,
          1167.0556566225134,
          1168.0132958863815,
          1169.0188171134428,
          1169.3300498741999,
          1169.3300498741999,
          1169.9764563773108,
          1171.9396168682401,
          1172.2987315921905,
          1172.5381414081576,
          1172.897256132108,
          1172.9451380953014,
          1173.064843003285,
          1173.8309544143792,
          1174.1900691383298,
          1174.4773609174902,
          1174.5491838622802,
          1176.6559902427896,
          1176.7517541691764,
          1177.8769803042212,
          1178.4276228809454,
          1178.4276228809454,
          1182.8806454579312,
          1183.0961142923015,
          1183.0961142923015,
          1184.4607502433134,
          1184.8198649672638,
          1184.8198649672638,
          1184.891687912054,
          1184.891687912054,
          1185.298684599198,
          1186.0408550286954,
          1186.9984942925635,
          1187.908251593238,
          1188.3631302435754,
          1190.3502317161012,
          1191.3078709799693,
          1191.8585135566932,
          1192.1697463174503,
          1192.1697463174503,
          1193.5822642316555,
          1195.8327165017452,
          1197.8916409190613,
          1200.0942112259577,
          1200.8842636186487,
          1201.410965213776,
          1202.9671290175613,
          1203.2065388335284,
          1205.0260534348774,
          1205.1696993244577,
          1205.3133452140378,
          1205.863987790762,
          1208.7369055823658,
          1209.3833120854767,
          1210.388833312538,
          1213.7405707360758,
          1214.051803496833,
          1214.123626441623,
          1214.8179149079272,
          1215.0573247238942,
          1215.224911595071,
          1217.5711277915475,
          1219.5821702456703,
          1221.2819799390359,
          1221.3059209206326,
          1221.3059209206326,
          1222.383265092484,
          1222.622674908451,
          1223.173317485175,
          1223.3169633747552,
          1224.6337173625736,
          1225.1125369945075,
          1226.6208188350997,
          1227.769985951741,
          1228.1291006756917,
          1228.488215399642,
          1228.7755071788024,
          1229.062798957963,
          1229.3022087739298,
          1232.5103003078875,
          1232.5103003078875,
          1234.4016378540266,
          1234.8325755227672,
          1235.000162393944,
          1235.2874541731046,
          1237.4421425168075,
          1237.6576113511776,
          1238.7828374862224,
          1239.0940702469795,
          1239.9080636212673,
          1240.339001290008,
          1241.1769356458924,
          1244.935669756574,
          1246.0369549100221,
          1246.5636565051495,
          1247.545236750614,
          1248.0719383457415,
          1248.1677022721283,
          1248.3352891433053,
          1249.3168693887699,
          1250.011157855074,
          1250.011157855074,
          1250.0590398182676,
          1251.7349085300364,
          1251.9743183460034,
          1252.9080166282747,
          1253.4826001865954,
          1254.559944358447,
          1255.1105869351709,
          1257.0019244813102,
          1257.8637998187912,
          1259.6833144201403,
          1260.4015438680412,
          1260.593071720815,
          1260.9043044815721,
          1265.4770319665415,
          1265.5488549113315,
          1265.5488549113315,
          1266.219202396039,
          1266.9613728255367,
          1267.895071107808,
          1271.86927405286,
          1272.0847428872303,
          1272.970559206308,
          1274.718250862867,
          1274.7421918444638,
          1276.2504736850558,
          1276.2504736850558,
          1276.5856474274096,
          1277.184171967327,
          1278.548807918339,
          1279.6261520901903,
          1280.2725585933013,
          1281.2062568755725,
          1281.2780798203626,
          1281.7568994522965,
          1282.7624206793578,
          1283.7918828880158,
          1284.3185844831432,
          1284.5819352807068,
          1284.7016401886904,
          1286.2578039924758,
          1287.598498961891,
          1288.9631349129027,
          1288.9631349129027,
          1289.2025447288697,
          1289.2025447288697,
          1289.2025447288697,
          1289.3701316000465,
          1289.4419545448368,
          1290.3995938087046,
          1293.5837443610656,
          1294.038623011403,
          1294.6132065697236,
          1295.4511409256081,
          1295.5229638703981,
          1296.2172523367024,
          1299.7126356498204,
          1299.7126356498204,
          1300.0956913553675,
          1300.7660388400752,
          1302.3940255886507,
          1302.6334354046176,
          1303.6868385948724,
          1304.2614221531933,
          1305.4345302514314,
          1306.8709891472333,
          1307.7807464479079,
          1308.738385711776,
          1308.7862676749692,
          1309.5044971228701,
          1309.8157298836272,
          1310.9888379818656,
          1311.1564248530424,
          1313.957519699856,
          1313.9814606814527,
          1314.843336018934,
          1315.1306277980943,
          1315.1306277980943,
          1315.8249162643986,
          1317.1177292706204,
          1317.5965489025543,
          1318.578129148019,
          1318.578129148019,
          1319.0330077983563,
          1323.6775582281157,
          1325.6646597006418,
          1326.6462399461063,
          1326.6462399461063,
          1326.7420038724931,
          1327.6757021547644,
          1328.968515160986,
          1330.1176822776276,
          1332.1766066949438,
          1333.2778918483918,
          1334.2115901306631,
          1334.2834130754532,
          1334.4749409282267,
          1334.6425277994038,
          1334.6425277994038,
          1335.6001670632716,
          1336.7972161431067,
          1337.946383259748,
          1339.23919626597,
          1341.6811763888331,
          1341.8248222784132,
          1341.84876326001,
          1342.1839370023638,
          1342.1839370023638,
          1343.0697533214416,
          1344.0992155300996,
          1344.8892679227906,
          1345.7750842418686,
          1345.9426711130454,
          1347.5467168800242,
          1347.6664217880077,
          1347.810067677588,
          1347.8579496407813,
          1348.7916479230526,
          1349.6056412973403,
          1351.0181592115455,
          1351.4251558986894,
          1353.029201665668,
          1353.029201665668,
          1357.889220929798,
          1358.607450377699,
          1361.2888403165293,
          1361.4324862061094,
          1361.4324862061094,
          1363.9702302553594,
          1364.3532859609065,
          1368.4232528323455,
          1370.0751805625175,
          1370.4582362680649,
          1370.5540001944516,
          1373.7142097652159,
          1374.9351998266475,
          1376.7307734463998,
          1377.664471728671,
          1377.664471728671,
          1377.8559995814446,
          1378.0235864526214,
          1378.0235864526214,
          1378.0235864526214,
          1379.1488125876663,
          1379.7712781091805,
          1384.5594744285202,
          1385.8044054715485,
          1385.8044054715485,
          1386.4508119746595,
          1387.0014545513834,
          1387.0014545513834,
          1392.771231116188,
          1395.5005030182115,
          1396.5539062084663,
          1396.5539062084663,
          1401.7490992149499,
          1402.4673286628508,
          1403.4489089083154,
          1403.4489089083154,
          1404.5741350433602,
          1407.4231118533673,
          1416.0179242465822,
          1417.3107372528038,
          1420.2075960260045,
          1420.542769768358,
          1422.0510516089503,
          1422.2904614249173,
          1422.3622843697071,
          1422.3622843697071,
          1422.6974581120612,
          1423.3678055967684,
          1425.9055496460187,
          1430.5261590941814,
          1432.2977917323374,
          1438.211214186722,
          1439.791318972104,
          1439.9110238800872,
          1443.526112101189,
          1444.2443415490898,
          1446.8299675615335,
          1449.6550033899439,
          1450.1577640034743,
          1450.1577640034743,
          1453.0785637582717,
          1453.581324371802,
          1457.6752322248376,
          1458.0822289119815,
          1458.2498157831587,
          1460.8833237587955,
          1469.8372508759608,
          1472.039821182857,
          1472.039821182857,
          1479.8445811833808,
          1482.1668563982603,
          1485.303124987428,
          1485.8298265825551,
          1487.5775182391144,
          1502.851864497808,
          1504.3362053568035,
          1515.1575290385113,
          1516.2109322287656,
          1518.0783287933082,
          1522.7947021678578,
          1525.404269161898,
          1530.814931002752,
          1531.3176916162824,
          1531.9401571377966,
          1532.5865636409076,
          1534.2384913710798,
          1540.678615420592,
          1540.678615420592,
          1541.85172351883,
          1543.7191200833727,
          1545.5625756663185,
          1547.741204991618,
          1550.901414562382,
          1553.463099593229,
          1555.3065551761747,
          1566.1039378762857,
          1566.3912296554463,
          1568.9768556678896,
          1577.1886123555573,
          1581.5219300245594,
          1585.0412543192742,
          1586.0467755463355,
          1586.5974181230595,
          1593.8515355468594,
          1595.072525608291,
          1596.1498697801426,
          1597.8736204551046,
          1606.89937051706,
          1616.140589413386,
          1630.3615324818247,
          1630.3615324818247,
          1632.4683388623343,
          1636.538305733773,
          1642.020790519417,
          1649.1552030352332,
          1657.7739564100448,
          1682.1458756754837,
          1689.2324062281064,
          1690.0224586207978,
          1735.5342646361214,
          1735.5342646361214,
          1811.9778188743803,
          1816.5266053777532,
          1829.2632075871966,
          1895.795195444422,
          2093.6195263779423
         ],
         "yaxis": "y"
        }
       ],
       "layout": {
        "legend": {
         "tracegroupgap": 0
        },
        "template": {
         "data": {
          "bar": [
           {
            "error_x": {
             "color": "#2a3f5f"
            },
            "error_y": {
             "color": "#2a3f5f"
            },
            "marker": {
             "line": {
              "color": "#E5ECF6",
              "width": 0.5
             },
             "pattern": {
              "fillmode": "overlay",
              "size": 10,
              "solidity": 0.2
             }
            },
            "type": "bar"
           }
          ],
          "barpolar": [
           {
            "marker": {
             "line": {
              "color": "#E5ECF6",
              "width": 0.5
             },
             "pattern": {
              "fillmode": "overlay",
              "size": 10,
              "solidity": 0.2
             }
            },
            "type": "barpolar"
           }
          ],
          "carpet": [
           {
            "aaxis": {
             "endlinecolor": "#2a3f5f",
             "gridcolor": "white",
             "linecolor": "white",
             "minorgridcolor": "white",
             "startlinecolor": "#2a3f5f"
            },
            "baxis": {
             "endlinecolor": "#2a3f5f",
             "gridcolor": "white",
             "linecolor": "white",
             "minorgridcolor": "white",
             "startlinecolor": "#2a3f5f"
            },
            "type": "carpet"
           }
          ],
          "choropleth": [
           {
            "colorbar": {
             "outlinewidth": 0,
             "ticks": ""
            },
            "type": "choropleth"
           }
          ],
          "contour": [
           {
            "colorbar": {
             "outlinewidth": 0,
             "ticks": ""
            },
            "colorscale": [
             [
              0,
              "#0d0887"
             ],
             [
              0.1111111111111111,
              "#46039f"
             ],
             [
              0.2222222222222222,
              "#7201a8"
             ],
             [
              0.3333333333333333,
              "#9c179e"
             ],
             [
              0.4444444444444444,
              "#bd3786"
             ],
             [
              0.5555555555555556,
              "#d8576b"
             ],
             [
              0.6666666666666666,
              "#ed7953"
             ],
             [
              0.7777777777777778,
              "#fb9f3a"
             ],
             [
              0.8888888888888888,
              "#fdca26"
             ],
             [
              1,
              "#f0f921"
             ]
            ],
            "type": "contour"
           }
          ],
          "contourcarpet": [
           {
            "colorbar": {
             "outlinewidth": 0,
             "ticks": ""
            },
            "type": "contourcarpet"
           }
          ],
          "heatmap": [
           {
            "colorbar": {
             "outlinewidth": 0,
             "ticks": ""
            },
            "colorscale": [
             [
              0,
              "#0d0887"
             ],
             [
              0.1111111111111111,
              "#46039f"
             ],
             [
              0.2222222222222222,
              "#7201a8"
             ],
             [
              0.3333333333333333,
              "#9c179e"
             ],
             [
              0.4444444444444444,
              "#bd3786"
             ],
             [
              0.5555555555555556,
              "#d8576b"
             ],
             [
              0.6666666666666666,
              "#ed7953"
             ],
             [
              0.7777777777777778,
              "#fb9f3a"
             ],
             [
              0.8888888888888888,
              "#fdca26"
             ],
             [
              1,
              "#f0f921"
             ]
            ],
            "type": "heatmap"
           }
          ],
          "heatmapgl": [
           {
            "colorbar": {
             "outlinewidth": 0,
             "ticks": ""
            },
            "colorscale": [
             [
              0,
              "#0d0887"
             ],
             [
              0.1111111111111111,
              "#46039f"
             ],
             [
              0.2222222222222222,
              "#7201a8"
             ],
             [
              0.3333333333333333,
              "#9c179e"
             ],
             [
              0.4444444444444444,
              "#bd3786"
             ],
             [
              0.5555555555555556,
              "#d8576b"
             ],
             [
              0.6666666666666666,
              "#ed7953"
             ],
             [
              0.7777777777777778,
              "#fb9f3a"
             ],
             [
              0.8888888888888888,
              "#fdca26"
             ],
             [
              1,
              "#f0f921"
             ]
            ],
            "type": "heatmapgl"
           }
          ],
          "histogram": [
           {
            "marker": {
             "pattern": {
              "fillmode": "overlay",
              "size": 10,
              "solidity": 0.2
             }
            },
            "type": "histogram"
           }
          ],
          "histogram2d": [
           {
            "colorbar": {
             "outlinewidth": 0,
             "ticks": ""
            },
            "colorscale": [
             [
              0,
              "#0d0887"
             ],
             [
              0.1111111111111111,
              "#46039f"
             ],
             [
              0.2222222222222222,
              "#7201a8"
             ],
             [
              0.3333333333333333,
              "#9c179e"
             ],
             [
              0.4444444444444444,
              "#bd3786"
             ],
             [
              0.5555555555555556,
              "#d8576b"
             ],
             [
              0.6666666666666666,
              "#ed7953"
             ],
             [
              0.7777777777777778,
              "#fb9f3a"
             ],
             [
              0.8888888888888888,
              "#fdca26"
             ],
             [
              1,
              "#f0f921"
             ]
            ],
            "type": "histogram2d"
           }
          ],
          "histogram2dcontour": [
           {
            "colorbar": {
             "outlinewidth": 0,
             "ticks": ""
            },
            "colorscale": [
             [
              0,
              "#0d0887"
             ],
             [
              0.1111111111111111,
              "#46039f"
             ],
             [
              0.2222222222222222,
              "#7201a8"
             ],
             [
              0.3333333333333333,
              "#9c179e"
             ],
             [
              0.4444444444444444,
              "#bd3786"
             ],
             [
              0.5555555555555556,
              "#d8576b"
             ],
             [
              0.6666666666666666,
              "#ed7953"
             ],
             [
              0.7777777777777778,
              "#fb9f3a"
             ],
             [
              0.8888888888888888,
              "#fdca26"
             ],
             [
              1,
              "#f0f921"
             ]
            ],
            "type": "histogram2dcontour"
           }
          ],
          "mesh3d": [
           {
            "colorbar": {
             "outlinewidth": 0,
             "ticks": ""
            },
            "type": "mesh3d"
           }
          ],
          "parcoords": [
           {
            "line": {
             "colorbar": {
              "outlinewidth": 0,
              "ticks": ""
             }
            },
            "type": "parcoords"
           }
          ],
          "pie": [
           {
            "automargin": true,
            "type": "pie"
           }
          ],
          "scatter": [
           {
            "fillpattern": {
             "fillmode": "overlay",
             "size": 10,
             "solidity": 0.2
            },
            "type": "scatter"
           }
          ],
          "scatter3d": [
           {
            "line": {
             "colorbar": {
              "outlinewidth": 0,
              "ticks": ""
             }
            },
            "marker": {
             "colorbar": {
              "outlinewidth": 0,
              "ticks": ""
             }
            },
            "type": "scatter3d"
           }
          ],
          "scattercarpet": [
           {
            "marker": {
             "colorbar": {
              "outlinewidth": 0,
              "ticks": ""
             }
            },
            "type": "scattercarpet"
           }
          ],
          "scattergeo": [
           {
            "marker": {
             "colorbar": {
              "outlinewidth": 0,
              "ticks": ""
             }
            },
            "type": "scattergeo"
           }
          ],
          "scattergl": [
           {
            "marker": {
             "colorbar": {
              "outlinewidth": 0,
              "ticks": ""
             }
            },
            "type": "scattergl"
           }
          ],
          "scattermapbox": [
           {
            "marker": {
             "colorbar": {
              "outlinewidth": 0,
              "ticks": ""
             }
            },
            "type": "scattermapbox"
           }
          ],
          "scatterpolar": [
           {
            "marker": {
             "colorbar": {
              "outlinewidth": 0,
              "ticks": ""
             }
            },
            "type": "scatterpolar"
           }
          ],
          "scatterpolargl": [
           {
            "marker": {
             "colorbar": {
              "outlinewidth": 0,
              "ticks": ""
             }
            },
            "type": "scatterpolargl"
           }
          ],
          "scatterternary": [
           {
            "marker": {
             "colorbar": {
              "outlinewidth": 0,
              "ticks": ""
             }
            },
            "type": "scatterternary"
           }
          ],
          "surface": [
           {
            "colorbar": {
             "outlinewidth": 0,
             "ticks": ""
            },
            "colorscale": [
             [
              0,
              "#0d0887"
             ],
             [
              0.1111111111111111,
              "#46039f"
             ],
             [
              0.2222222222222222,
              "#7201a8"
             ],
             [
              0.3333333333333333,
              "#9c179e"
             ],
             [
              0.4444444444444444,
              "#bd3786"
             ],
             [
              0.5555555555555556,
              "#d8576b"
             ],
             [
              0.6666666666666666,
              "#ed7953"
             ],
             [
              0.7777777777777778,
              "#fb9f3a"
             ],
             [
              0.8888888888888888,
              "#fdca26"
             ],
             [
              1,
              "#f0f921"
             ]
            ],
            "type": "surface"
           }
          ],
          "table": [
           {
            "cells": {
             "fill": {
              "color": "#EBF0F8"
             },
             "line": {
              "color": "white"
             }
            },
            "header": {
             "fill": {
              "color": "#C8D4E3"
             },
             "line": {
              "color": "white"
             }
            },
            "type": "table"
           }
          ]
         },
         "layout": {
          "annotationdefaults": {
           "arrowcolor": "#2a3f5f",
           "arrowhead": 0,
           "arrowwidth": 1
          },
          "autotypenumbers": "strict",
          "coloraxis": {
           "colorbar": {
            "outlinewidth": 0,
            "ticks": ""
           }
          },
          "colorscale": {
           "diverging": [
            [
             0,
             "#8e0152"
            ],
            [
             0.1,
             "#c51b7d"
            ],
            [
             0.2,
             "#de77ae"
            ],
            [
             0.3,
             "#f1b6da"
            ],
            [
             0.4,
             "#fde0ef"
            ],
            [
             0.5,
             "#f7f7f7"
            ],
            [
             0.6,
             "#e6f5d0"
            ],
            [
             0.7,
             "#b8e186"
            ],
            [
             0.8,
             "#7fbc41"
            ],
            [
             0.9,
             "#4d9221"
            ],
            [
             1,
             "#276419"
            ]
           ],
           "sequential": [
            [
             0,
             "#0d0887"
            ],
            [
             0.1111111111111111,
             "#46039f"
            ],
            [
             0.2222222222222222,
             "#7201a8"
            ],
            [
             0.3333333333333333,
             "#9c179e"
            ],
            [
             0.4444444444444444,
             "#bd3786"
            ],
            [
             0.5555555555555556,
             "#d8576b"
            ],
            [
             0.6666666666666666,
             "#ed7953"
            ],
            [
             0.7777777777777778,
             "#fb9f3a"
            ],
            [
             0.8888888888888888,
             "#fdca26"
            ],
            [
             1,
             "#f0f921"
            ]
           ],
           "sequentialminus": [
            [
             0,
             "#0d0887"
            ],
            [
             0.1111111111111111,
             "#46039f"
            ],
            [
             0.2222222222222222,
             "#7201a8"
            ],
            [
             0.3333333333333333,
             "#9c179e"
            ],
            [
             0.4444444444444444,
             "#bd3786"
            ],
            [
             0.5555555555555556,
             "#d8576b"
            ],
            [
             0.6666666666666666,
             "#ed7953"
            ],
            [
             0.7777777777777778,
             "#fb9f3a"
            ],
            [
             0.8888888888888888,
             "#fdca26"
            ],
            [
             1,
             "#f0f921"
            ]
           ]
          },
          "colorway": [
           "#636efa",
           "#EF553B",
           "#00cc96",
           "#ab63fa",
           "#FFA15A",
           "#19d3f3",
           "#FF6692",
           "#B6E880",
           "#FF97FF",
           "#FECB52"
          ],
          "font": {
           "color": "#2a3f5f"
          },
          "geo": {
           "bgcolor": "white",
           "lakecolor": "white",
           "landcolor": "#E5ECF6",
           "showlakes": true,
           "showland": true,
           "subunitcolor": "white"
          },
          "hoverlabel": {
           "align": "left"
          },
          "hovermode": "closest",
          "mapbox": {
           "style": "light"
          },
          "paper_bgcolor": "white",
          "plot_bgcolor": "#E5ECF6",
          "polar": {
           "angularaxis": {
            "gridcolor": "white",
            "linecolor": "white",
            "ticks": ""
           },
           "bgcolor": "#E5ECF6",
           "radialaxis": {
            "gridcolor": "white",
            "linecolor": "white",
            "ticks": ""
           }
          },
          "scene": {
           "xaxis": {
            "backgroundcolor": "#E5ECF6",
            "gridcolor": "white",
            "gridwidth": 2,
            "linecolor": "white",
            "showbackground": true,
            "ticks": "",
            "zerolinecolor": "white"
           },
           "yaxis": {
            "backgroundcolor": "#E5ECF6",
            "gridcolor": "white",
            "gridwidth": 2,
            "linecolor": "white",
            "showbackground": true,
            "ticks": "",
            "zerolinecolor": "white"
           },
           "zaxis": {
            "backgroundcolor": "#E5ECF6",
            "gridcolor": "white",
            "gridwidth": 2,
            "linecolor": "white",
            "showbackground": true,
            "ticks": "",
            "zerolinecolor": "white"
           }
          },
          "shapedefaults": {
           "line": {
            "color": "#2a3f5f"
           }
          },
          "ternary": {
           "aaxis": {
            "gridcolor": "white",
            "linecolor": "white",
            "ticks": ""
           },
           "baxis": {
            "gridcolor": "white",
            "linecolor": "white",
            "ticks": ""
           },
           "bgcolor": "#E5ECF6",
           "caxis": {
            "gridcolor": "white",
            "linecolor": "white",
            "ticks": ""
           }
          },
          "title": {
           "x": 0.05
          },
          "xaxis": {
           "automargin": true,
           "gridcolor": "white",
           "linecolor": "white",
           "ticks": "",
           "title": {
            "standoff": 15
           },
           "zerolinecolor": "white",
           "zerolinewidth": 2
          },
          "yaxis": {
           "automargin": true,
           "gridcolor": "white",
           "linecolor": "white",
           "ticks": "",
           "title": {
            "standoff": 15
           },
           "zerolinecolor": "white",
           "zerolinewidth": 2
          }
         }
        },
        "title": {
         "text": "Correlation entre les revenues et les dépenses totales"
        },
        "xaxis": {
         "anchor": "y",
         "domain": [
          0,
          1
         ],
         "title": {
          "text": "Income"
         }
        },
        "yaxis": {
         "anchor": "x",
         "domain": [
          0,
          1
         ],
         "title": {
          "text": "Total_Amount_Spent"
         }
        }
       }
      }
     },
     "metadata": {},
     "output_type": "display_data"
    }
   ],
   "source": [
    "fig = px.scatter(data, x=\"Income\", y=\"Total_Amount_Spent\", title=\"Correlation entre les revenues et les dépenses totales\", trendline=\"ols\")\n",
    "fig.show()"
   ]
  },
  {
   "cell_type": "markdown",
   "metadata": {},
   "source": [
    "Il semble avoir une relation entre les revenus et les dépenses totales "
   ]
  },
  {
   "cell_type": "markdown",
   "metadata": {},
   "source": [
    "#### Conclusion\n",
    "\n",
    "- les clients âgés entre 41 et 70 ans dépensent le plus et sont plus succeptibles d'accepter les campagnes marketing\n",
    "\n",
    "- les clients dépensent plus dans les magasins physiques qu'en ligne\n",
    "\n",
    "- les personnes sans enfants ou avec peu d'enfants dépensent plus que celles avec enfants\n",
    "\n",
    "- le niveau d'éducation ne semble pas avoir beaucoup d'impact."
   ]
  }
 ],
 "metadata": {
  "kernelspec": {
   "display_name": "Python 3",
   "language": "python",
   "name": "python3"
  },
  "language_info": {
   "codemirror_mode": {
    "name": "ipython",
    "version": 3
   },
   "file_extension": ".py",
   "mimetype": "text/x-python",
   "name": "python",
   "nbconvert_exporter": "python",
   "pygments_lexer": "ipython3",
   "version": "3.12.5"
  }
 },
 "nbformat": 4,
 "nbformat_minor": 2
}
